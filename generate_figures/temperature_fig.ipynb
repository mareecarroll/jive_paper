{
 "cells": [
  {
   "cell_type": "markdown",
   "metadata": {},
   "source": [
    "# Generate temperature figures\n",
    "In this notebook we\n",
    "- Produce the Black summer MSE/TWMSE plot\n",
    "- Calculate confidence intervals\n",
    "- Evaluate the NT temperature forecasts. We don't show this figure in the paper, but we discuss the results."
   ]
  },
  {
   "cell_type": "code",
   "execution_count": 34,
   "metadata": {},
   "outputs": [],
   "source": [
    "import numpy as np\n",
    "import pandas as pd\n",
    "import xarray as xr\n",
    "\n",
    "from scores.continuous import mse\n",
    "from scores.processing import broadcast_and_match_nan\n",
    "from scores.stats.statistical_tests import diebold_mariano\n",
    "\n",
    "from plotly.subplots import make_subplots\n",
    "import plotly.graph_objects as go\n",
    "import plotly.express as px\n",
    "\n",
    "from threshold_weighed_score import threshold_weighted_squared_error"
   ]
  },
  {
   "cell_type": "markdown",
   "metadata": {},
   "source": [
    "## First - analyse performance for Black Summer"
   ]
  },
  {
   "cell_type": "markdown",
   "metadata": {},
   "source": [
    "### Get data for Black summer"
   ]
  },
  {
   "cell_type": "code",
   "execution_count": 35,
   "metadata": {},
   "outputs": [],
   "source": [
    "# Black summer data\n",
    "\n",
    "official_bs = xr.open_dataarray(\"../data/temperature/Official_MaxT_00_20191201-20200229.nc\")\n",
    "# Note that the 18Z PtOCF was the automated guidance available to meteorologists for the\n",
    "# afternoon (00Z) official forecast issue during the 2019-2020 summer\n",
    "autofcst_bs = xr.open_dataarray(\"../data/temperature/PtOCF_MaxT_12_20191201-20200229.nc\")\n",
    "obs_bs = xr.open_dataarray(\"../data/temperature/obs_MaxT_20191201-20200229.nc\")\n",
    "\n",
    "# Match missing data between datasets\n",
    "official_bs, autofcst_bs, obs_bs = broadcast_and_match_nan(official_bs, autofcst_bs, obs_bs)"
   ]
  },
  {
   "cell_type": "code",
   "execution_count": 36,
   "metadata": {},
   "outputs": [
    {
     "data": {
      "text/html": [
       "<div><svg style=\"position: absolute; width: 0; height: 0; overflow: hidden\">\n",
       "<defs>\n",
       "<symbol id=\"icon-database\" viewBox=\"0 0 32 32\">\n",
       "<path d=\"M16 0c-8.837 0-16 2.239-16 5v4c0 2.761 7.163 5 16 5s16-2.239 16-5v-4c0-2.761-7.163-5-16-5z\"></path>\n",
       "<path d=\"M16 17c-8.837 0-16-2.239-16-5v6c0 2.761 7.163 5 16 5s16-2.239 16-5v-6c0 2.761-7.163 5-16 5z\"></path>\n",
       "<path d=\"M16 26c-8.837 0-16-2.239-16-5v6c0 2.761 7.163 5 16 5s16-2.239 16-5v-6c0 2.761-7.163 5-16 5z\"></path>\n",
       "</symbol>\n",
       "<symbol id=\"icon-file-text2\" viewBox=\"0 0 32 32\">\n",
       "<path d=\"M28.681 7.159c-0.694-0.947-1.662-2.053-2.724-3.116s-2.169-2.030-3.116-2.724c-1.612-1.182-2.393-1.319-2.841-1.319h-15.5c-1.378 0-2.5 1.121-2.5 2.5v27c0 1.378 1.122 2.5 2.5 2.5h23c1.378 0 2.5-1.122 2.5-2.5v-19.5c0-0.448-0.137-1.23-1.319-2.841zM24.543 5.457c0.959 0.959 1.712 1.825 2.268 2.543h-4.811v-4.811c0.718 0.556 1.584 1.309 2.543 2.268zM28 29.5c0 0.271-0.229 0.5-0.5 0.5h-23c-0.271 0-0.5-0.229-0.5-0.5v-27c0-0.271 0.229-0.5 0.5-0.5 0 0 15.499-0 15.5 0v7c0 0.552 0.448 1 1 1h7v19.5z\"></path>\n",
       "<path d=\"M23 26h-14c-0.552 0-1-0.448-1-1s0.448-1 1-1h14c0.552 0 1 0.448 1 1s-0.448 1-1 1z\"></path>\n",
       "<path d=\"M23 22h-14c-0.552 0-1-0.448-1-1s0.448-1 1-1h14c0.552 0 1 0.448 1 1s-0.448 1-1 1z\"></path>\n",
       "<path d=\"M23 18h-14c-0.552 0-1-0.448-1-1s0.448-1 1-1h14c0.552 0 1 0.448 1 1s-0.448 1-1 1z\"></path>\n",
       "</symbol>\n",
       "</defs>\n",
       "</svg>\n",
       "<style>/* CSS stylesheet for displaying xarray objects in jupyterlab.\n",
       " *\n",
       " */\n",
       "\n",
       ":root {\n",
       "  --xr-font-color0: var(--jp-content-font-color0, rgba(0, 0, 0, 1));\n",
       "  --xr-font-color2: var(--jp-content-font-color2, rgba(0, 0, 0, 0.54));\n",
       "  --xr-font-color3: var(--jp-content-font-color3, rgba(0, 0, 0, 0.38));\n",
       "  --xr-border-color: var(--jp-border-color2, #e0e0e0);\n",
       "  --xr-disabled-color: var(--jp-layout-color3, #bdbdbd);\n",
       "  --xr-background-color: var(--jp-layout-color0, white);\n",
       "  --xr-background-color-row-even: var(--jp-layout-color1, white);\n",
       "  --xr-background-color-row-odd: var(--jp-layout-color2, #eeeeee);\n",
       "}\n",
       "\n",
       "html[theme=dark],\n",
       "body[data-theme=dark],\n",
       "body.vscode-dark {\n",
       "  --xr-font-color0: rgba(255, 255, 255, 1);\n",
       "  --xr-font-color2: rgba(255, 255, 255, 0.54);\n",
       "  --xr-font-color3: rgba(255, 255, 255, 0.38);\n",
       "  --xr-border-color: #1F1F1F;\n",
       "  --xr-disabled-color: #515151;\n",
       "  --xr-background-color: #111111;\n",
       "  --xr-background-color-row-even: #111111;\n",
       "  --xr-background-color-row-odd: #313131;\n",
       "}\n",
       "\n",
       ".xr-wrap {\n",
       "  display: block !important;\n",
       "  min-width: 300px;\n",
       "  max-width: 700px;\n",
       "}\n",
       "\n",
       ".xr-text-repr-fallback {\n",
       "  /* fallback to plain text repr when CSS is not injected (untrusted notebook) */\n",
       "  display: none;\n",
       "}\n",
       "\n",
       ".xr-header {\n",
       "  padding-top: 6px;\n",
       "  padding-bottom: 6px;\n",
       "  margin-bottom: 4px;\n",
       "  border-bottom: solid 1px var(--xr-border-color);\n",
       "}\n",
       "\n",
       ".xr-header > div,\n",
       ".xr-header > ul {\n",
       "  display: inline;\n",
       "  margin-top: 0;\n",
       "  margin-bottom: 0;\n",
       "}\n",
       "\n",
       ".xr-obj-type,\n",
       ".xr-array-name {\n",
       "  margin-left: 2px;\n",
       "  margin-right: 10px;\n",
       "}\n",
       "\n",
       ".xr-obj-type {\n",
       "  color: var(--xr-font-color2);\n",
       "}\n",
       "\n",
       ".xr-sections {\n",
       "  padding-left: 0 !important;\n",
       "  display: grid;\n",
       "  grid-template-columns: 150px auto auto 1fr 20px 20px;\n",
       "}\n",
       "\n",
       ".xr-section-item {\n",
       "  display: contents;\n",
       "}\n",
       "\n",
       ".xr-section-item input {\n",
       "  display: none;\n",
       "}\n",
       "\n",
       ".xr-section-item input + label {\n",
       "  color: var(--xr-disabled-color);\n",
       "}\n",
       "\n",
       ".xr-section-item input:enabled + label {\n",
       "  cursor: pointer;\n",
       "  color: var(--xr-font-color2);\n",
       "}\n",
       "\n",
       ".xr-section-item input:enabled + label:hover {\n",
       "  color: var(--xr-font-color0);\n",
       "}\n",
       "\n",
       ".xr-section-summary {\n",
       "  grid-column: 1;\n",
       "  color: var(--xr-font-color2);\n",
       "  font-weight: 500;\n",
       "}\n",
       "\n",
       ".xr-section-summary > span {\n",
       "  display: inline-block;\n",
       "  padding-left: 0.5em;\n",
       "}\n",
       "\n",
       ".xr-section-summary-in:disabled + label {\n",
       "  color: var(--xr-font-color2);\n",
       "}\n",
       "\n",
       ".xr-section-summary-in + label:before {\n",
       "  display: inline-block;\n",
       "  content: '►';\n",
       "  font-size: 11px;\n",
       "  width: 15px;\n",
       "  text-align: center;\n",
       "}\n",
       "\n",
       ".xr-section-summary-in:disabled + label:before {\n",
       "  color: var(--xr-disabled-color);\n",
       "}\n",
       "\n",
       ".xr-section-summary-in:checked + label:before {\n",
       "  content: '▼';\n",
       "}\n",
       "\n",
       ".xr-section-summary-in:checked + label > span {\n",
       "  display: none;\n",
       "}\n",
       "\n",
       ".xr-section-summary,\n",
       ".xr-section-inline-details {\n",
       "  padding-top: 4px;\n",
       "  padding-bottom: 4px;\n",
       "}\n",
       "\n",
       ".xr-section-inline-details {\n",
       "  grid-column: 2 / -1;\n",
       "}\n",
       "\n",
       ".xr-section-details {\n",
       "  display: none;\n",
       "  grid-column: 1 / -1;\n",
       "  margin-bottom: 5px;\n",
       "}\n",
       "\n",
       ".xr-section-summary-in:checked ~ .xr-section-details {\n",
       "  display: contents;\n",
       "}\n",
       "\n",
       ".xr-array-wrap {\n",
       "  grid-column: 1 / -1;\n",
       "  display: grid;\n",
       "  grid-template-columns: 20px auto;\n",
       "}\n",
       "\n",
       ".xr-array-wrap > label {\n",
       "  grid-column: 1;\n",
       "  vertical-align: top;\n",
       "}\n",
       "\n",
       ".xr-preview {\n",
       "  color: var(--xr-font-color3);\n",
       "}\n",
       "\n",
       ".xr-array-preview,\n",
       ".xr-array-data {\n",
       "  padding: 0 5px !important;\n",
       "  grid-column: 2;\n",
       "}\n",
       "\n",
       ".xr-array-data,\n",
       ".xr-array-in:checked ~ .xr-array-preview {\n",
       "  display: none;\n",
       "}\n",
       "\n",
       ".xr-array-in:checked ~ .xr-array-data,\n",
       ".xr-array-preview {\n",
       "  display: inline-block;\n",
       "}\n",
       "\n",
       ".xr-dim-list {\n",
       "  display: inline-block !important;\n",
       "  list-style: none;\n",
       "  padding: 0 !important;\n",
       "  margin: 0;\n",
       "}\n",
       "\n",
       ".xr-dim-list li {\n",
       "  display: inline-block;\n",
       "  padding: 0;\n",
       "  margin: 0;\n",
       "}\n",
       "\n",
       ".xr-dim-list:before {\n",
       "  content: '(';\n",
       "}\n",
       "\n",
       ".xr-dim-list:after {\n",
       "  content: ')';\n",
       "}\n",
       "\n",
       ".xr-dim-list li:not(:last-child):after {\n",
       "  content: ',';\n",
       "  padding-right: 5px;\n",
       "}\n",
       "\n",
       ".xr-has-index {\n",
       "  font-weight: bold;\n",
       "}\n",
       "\n",
       ".xr-var-list,\n",
       ".xr-var-item {\n",
       "  display: contents;\n",
       "}\n",
       "\n",
       ".xr-var-item > div,\n",
       ".xr-var-item label,\n",
       ".xr-var-item > .xr-var-name span {\n",
       "  background-color: var(--xr-background-color-row-even);\n",
       "  margin-bottom: 0;\n",
       "}\n",
       "\n",
       ".xr-var-item > .xr-var-name:hover span {\n",
       "  padding-right: 5px;\n",
       "}\n",
       "\n",
       ".xr-var-list > li:nth-child(odd) > div,\n",
       ".xr-var-list > li:nth-child(odd) > label,\n",
       ".xr-var-list > li:nth-child(odd) > .xr-var-name span {\n",
       "  background-color: var(--xr-background-color-row-odd);\n",
       "}\n",
       "\n",
       ".xr-var-name {\n",
       "  grid-column: 1;\n",
       "}\n",
       "\n",
       ".xr-var-dims {\n",
       "  grid-column: 2;\n",
       "}\n",
       "\n",
       ".xr-var-dtype {\n",
       "  grid-column: 3;\n",
       "  text-align: right;\n",
       "  color: var(--xr-font-color2);\n",
       "}\n",
       "\n",
       ".xr-var-preview {\n",
       "  grid-column: 4;\n",
       "}\n",
       "\n",
       ".xr-index-preview {\n",
       "  grid-column: 2 / 5;\n",
       "  color: var(--xr-font-color2);\n",
       "}\n",
       "\n",
       ".xr-var-name,\n",
       ".xr-var-dims,\n",
       ".xr-var-dtype,\n",
       ".xr-preview,\n",
       ".xr-attrs dt {\n",
       "  white-space: nowrap;\n",
       "  overflow: hidden;\n",
       "  text-overflow: ellipsis;\n",
       "  padding-right: 10px;\n",
       "}\n",
       "\n",
       ".xr-var-name:hover,\n",
       ".xr-var-dims:hover,\n",
       ".xr-var-dtype:hover,\n",
       ".xr-attrs dt:hover {\n",
       "  overflow: visible;\n",
       "  width: auto;\n",
       "  z-index: 1;\n",
       "}\n",
       "\n",
       ".xr-var-attrs,\n",
       ".xr-var-data,\n",
       ".xr-index-data {\n",
       "  display: none;\n",
       "  background-color: var(--xr-background-color) !important;\n",
       "  padding-bottom: 5px !important;\n",
       "}\n",
       "\n",
       ".xr-var-attrs-in:checked ~ .xr-var-attrs,\n",
       ".xr-var-data-in:checked ~ .xr-var-data,\n",
       ".xr-index-data-in:checked ~ .xr-index-data {\n",
       "  display: block;\n",
       "}\n",
       "\n",
       ".xr-var-data > table {\n",
       "  float: right;\n",
       "}\n",
       "\n",
       ".xr-var-name span,\n",
       ".xr-var-data,\n",
       ".xr-index-name div,\n",
       ".xr-index-data,\n",
       ".xr-attrs {\n",
       "  padding-left: 25px !important;\n",
       "}\n",
       "\n",
       ".xr-attrs,\n",
       ".xr-var-attrs,\n",
       ".xr-var-data,\n",
       ".xr-index-data {\n",
       "  grid-column: 1 / -1;\n",
       "}\n",
       "\n",
       "dl.xr-attrs {\n",
       "  padding: 0;\n",
       "  margin: 0;\n",
       "  display: grid;\n",
       "  grid-template-columns: 125px auto;\n",
       "}\n",
       "\n",
       ".xr-attrs dt,\n",
       ".xr-attrs dd {\n",
       "  padding: 0;\n",
       "  margin: 0;\n",
       "  float: left;\n",
       "  padding-right: 10px;\n",
       "  width: auto;\n",
       "}\n",
       "\n",
       ".xr-attrs dt {\n",
       "  font-weight: normal;\n",
       "  grid-column: 1;\n",
       "}\n",
       "\n",
       ".xr-attrs dt:hover span {\n",
       "  display: inline-block;\n",
       "  background: var(--xr-background-color);\n",
       "  padding-right: 10px;\n",
       "}\n",
       "\n",
       ".xr-attrs dd {\n",
       "  grid-column: 2;\n",
       "  white-space: pre-wrap;\n",
       "  word-break: break-all;\n",
       "}\n",
       "\n",
       ".xr-icon-database,\n",
       ".xr-icon-file-text2,\n",
       ".xr-no-icon {\n",
       "  display: inline-block;\n",
       "  vertical-align: middle;\n",
       "  width: 1em;\n",
       "  height: 1.5em !important;\n",
       "  stroke-width: 0;\n",
       "  stroke: currentColor;\n",
       "  fill: currentColor;\n",
       "}\n",
       "</style><pre class='xr-text-repr-fallback'>&lt;xarray.DataArray &#x27;value&#x27; (valid_15z_date: 91, station_number: 527, lead_day: 7)&gt;\n",
       "array([[[40.79999924, 40.40000153, 39.        , ..., 37.70000076,\n",
       "         38.5       , 38.        ],\n",
       "        [39.09999847, 39.29999924, 38.90000153, ..., 37.40000153,\n",
       "         37.40000153, 38.        ],\n",
       "        [35.79999924, 35.90000153, 36.        , ..., 34.90000153,\n",
       "         35.        , 35.09999847],\n",
       "        ...,\n",
       "        [35.        , 35.        , 34.79999924, ..., 34.90000153,\n",
       "         34.90000153, 35.        ],\n",
       "        [36.70000076, 36.09999847, 36.09999847, ..., 35.20000076,\n",
       "         34.20000076, 33.5       ],\n",
       "        [        nan,         nan,         nan, ...,         nan,\n",
       "                 nan,         nan]],\n",
       "\n",
       "       [[41.09999847, 39.        , 38.79999924, ..., 38.90000153,\n",
       "         38.40000153, 37.5       ],\n",
       "        [38.        , 37.90000153, 37.79999924, ..., 38.09999847,\n",
       "         37.90000153, 37.09999847],\n",
       "        [35.40000153, 35.5       , 35.70000076, ..., 35.20000076,\n",
       "         34.79999924, 34.90000153],\n",
       "...\n",
       "        [33.29999924, 33.40000153, 32.5       , ..., 34.        ,\n",
       "         34.09999847, 34.        ],\n",
       "        [        nan,         nan,         nan, ...,         nan,\n",
       "                 nan,         nan],\n",
       "        [30.39999962, 31.10000038, 30.5       , ..., 29.5       ,\n",
       "         28.39999962, 28.79999924]],\n",
       "\n",
       "       [[30.        , 28.5       , 29.70000076, ..., 32.40000153,\n",
       "         31.89999962, 33.09999847],\n",
       "        [29.20000076, 29.79999924, 30.        , ..., 31.        ,\n",
       "         30.79999924, 31.70000076],\n",
       "        [29.5       , 29.79999924, 30.20000076, ..., 30.70000076,\n",
       "         29.60000038, 31.        ],\n",
       "        ...,\n",
       "        [33.29999924, 33.29999924, 33.5       , ..., 33.90000153,\n",
       "         34.09999847, 34.09999847],\n",
       "        [        nan,         nan,         nan, ...,         nan,\n",
       "                 nan,         nan],\n",
       "        [30.        , 29.39999962, 29.29999924, ..., 28.5       ,\n",
       "         29.70000076, 27.89999962]]])\n",
       "Coordinates:\n",
       "  * valid_15z_date  (valid_15z_date) datetime64[ns] 2019-12-01 ... 2020-02-29\n",
       "  * station_number  (station_number) int64 1006 1019 1020 ... 505050 541150\n",
       "  * lead_day        (lead_day) int64 1 2 3 4 5 6 7\n",
       "Attributes:\n",
       "    parameter:    MaxT\n",
       "    unit:         C\n",
       "    source_id:    Op_Official\n",
       "    valid_start:  2019-11-30 19:00:00\n",
       "    valid_end:    2019-12-31 13:00:00\n",
       "    base_hour:    0</pre><div class='xr-wrap' style='display:none'><div class='xr-header'><div class='xr-obj-type'>xarray.DataArray</div><div class='xr-array-name'>'value'</div><ul class='xr-dim-list'><li><span class='xr-has-index'>valid_15z_date</span>: 91</li><li><span class='xr-has-index'>station_number</span>: 527</li><li><span class='xr-has-index'>lead_day</span>: 7</li></ul></div><ul class='xr-sections'><li class='xr-section-item'><div class='xr-array-wrap'><input id='section-a3967f1d-6dd8-4a43-993b-8a2a7672d605' class='xr-array-in' type='checkbox' checked><label for='section-a3967f1d-6dd8-4a43-993b-8a2a7672d605' title='Show/hide data repr'><svg class='icon xr-icon-database'><use xlink:href='#icon-database'></use></svg></label><div class='xr-array-preview xr-preview'><span>40.8 40.4 39.0 39.7 37.7 38.5 38.0 ... 29.4 29.3 29.0 28.5 29.7 27.9</span></div><div class='xr-array-data'><pre>array([[[40.79999924, 40.40000153, 39.        , ..., 37.70000076,\n",
       "         38.5       , 38.        ],\n",
       "        [39.09999847, 39.29999924, 38.90000153, ..., 37.40000153,\n",
       "         37.40000153, 38.        ],\n",
       "        [35.79999924, 35.90000153, 36.        , ..., 34.90000153,\n",
       "         35.        , 35.09999847],\n",
       "        ...,\n",
       "        [35.        , 35.        , 34.79999924, ..., 34.90000153,\n",
       "         34.90000153, 35.        ],\n",
       "        [36.70000076, 36.09999847, 36.09999847, ..., 35.20000076,\n",
       "         34.20000076, 33.5       ],\n",
       "        [        nan,         nan,         nan, ...,         nan,\n",
       "                 nan,         nan]],\n",
       "\n",
       "       [[41.09999847, 39.        , 38.79999924, ..., 38.90000153,\n",
       "         38.40000153, 37.5       ],\n",
       "        [38.        , 37.90000153, 37.79999924, ..., 38.09999847,\n",
       "         37.90000153, 37.09999847],\n",
       "        [35.40000153, 35.5       , 35.70000076, ..., 35.20000076,\n",
       "         34.79999924, 34.90000153],\n",
       "...\n",
       "        [33.29999924, 33.40000153, 32.5       , ..., 34.        ,\n",
       "         34.09999847, 34.        ],\n",
       "        [        nan,         nan,         nan, ...,         nan,\n",
       "                 nan,         nan],\n",
       "        [30.39999962, 31.10000038, 30.5       , ..., 29.5       ,\n",
       "         28.39999962, 28.79999924]],\n",
       "\n",
       "       [[30.        , 28.5       , 29.70000076, ..., 32.40000153,\n",
       "         31.89999962, 33.09999847],\n",
       "        [29.20000076, 29.79999924, 30.        , ..., 31.        ,\n",
       "         30.79999924, 31.70000076],\n",
       "        [29.5       , 29.79999924, 30.20000076, ..., 30.70000076,\n",
       "         29.60000038, 31.        ],\n",
       "        ...,\n",
       "        [33.29999924, 33.29999924, 33.5       , ..., 33.90000153,\n",
       "         34.09999847, 34.09999847],\n",
       "        [        nan,         nan,         nan, ...,         nan,\n",
       "                 nan,         nan],\n",
       "        [30.        , 29.39999962, 29.29999924, ..., 28.5       ,\n",
       "         29.70000076, 27.89999962]]])</pre></div></div></li><li class='xr-section-item'><input id='section-2d6b4146-2704-4856-9144-36326579f825' class='xr-section-summary-in' type='checkbox'  checked><label for='section-2d6b4146-2704-4856-9144-36326579f825' class='xr-section-summary' >Coordinates: <span>(3)</span></label><div class='xr-section-inline-details'></div><div class='xr-section-details'><ul class='xr-var-list'><li class='xr-var-item'><div class='xr-var-name'><span class='xr-has-index'>valid_15z_date</span></div><div class='xr-var-dims'>(valid_15z_date)</div><div class='xr-var-dtype'>datetime64[ns]</div><div class='xr-var-preview xr-preview'>2019-12-01 ... 2020-02-29</div><input id='attrs-6cc291d2-7cc2-4c88-af0c-c059f0c4f00d' class='xr-var-attrs-in' type='checkbox' disabled><label for='attrs-6cc291d2-7cc2-4c88-af0c-c059f0c4f00d' title='Show/Hide attributes'><svg class='icon xr-icon-file-text2'><use xlink:href='#icon-file-text2'></use></svg></label><input id='data-669f3b48-1bbb-49be-8a68-c4ce8beb3d0e' class='xr-var-data-in' type='checkbox'><label for='data-669f3b48-1bbb-49be-8a68-c4ce8beb3d0e' title='Show/Hide data repr'><svg class='icon xr-icon-database'><use xlink:href='#icon-database'></use></svg></label><div class='xr-var-attrs'><dl class='xr-attrs'></dl></div><div class='xr-var-data'><pre>array([&#x27;2019-12-01T00:00:00.000000000&#x27;, &#x27;2019-12-02T00:00:00.000000000&#x27;,\n",
       "       &#x27;2019-12-03T00:00:00.000000000&#x27;, &#x27;2019-12-04T00:00:00.000000000&#x27;,\n",
       "       &#x27;2019-12-05T00:00:00.000000000&#x27;, &#x27;2019-12-06T00:00:00.000000000&#x27;,\n",
       "       &#x27;2019-12-07T00:00:00.000000000&#x27;, &#x27;2019-12-08T00:00:00.000000000&#x27;,\n",
       "       &#x27;2019-12-09T00:00:00.000000000&#x27;, &#x27;2019-12-10T00:00:00.000000000&#x27;,\n",
       "       &#x27;2019-12-11T00:00:00.000000000&#x27;, &#x27;2019-12-12T00:00:00.000000000&#x27;,\n",
       "       &#x27;2019-12-13T00:00:00.000000000&#x27;, &#x27;2019-12-14T00:00:00.000000000&#x27;,\n",
       "       &#x27;2019-12-15T00:00:00.000000000&#x27;, &#x27;2019-12-16T00:00:00.000000000&#x27;,\n",
       "       &#x27;2019-12-17T00:00:00.000000000&#x27;, &#x27;2019-12-18T00:00:00.000000000&#x27;,\n",
       "       &#x27;2019-12-19T00:00:00.000000000&#x27;, &#x27;2019-12-20T00:00:00.000000000&#x27;,\n",
       "       &#x27;2019-12-21T00:00:00.000000000&#x27;, &#x27;2019-12-22T00:00:00.000000000&#x27;,\n",
       "       &#x27;2019-12-23T00:00:00.000000000&#x27;, &#x27;2019-12-24T00:00:00.000000000&#x27;,\n",
       "       &#x27;2019-12-25T00:00:00.000000000&#x27;, &#x27;2019-12-26T00:00:00.000000000&#x27;,\n",
       "       &#x27;2019-12-27T00:00:00.000000000&#x27;, &#x27;2019-12-28T00:00:00.000000000&#x27;,\n",
       "       &#x27;2019-12-29T00:00:00.000000000&#x27;, &#x27;2019-12-30T00:00:00.000000000&#x27;,\n",
       "       &#x27;2019-12-31T00:00:00.000000000&#x27;, &#x27;2020-01-01T00:00:00.000000000&#x27;,\n",
       "       &#x27;2020-01-02T00:00:00.000000000&#x27;, &#x27;2020-01-03T00:00:00.000000000&#x27;,\n",
       "       &#x27;2020-01-04T00:00:00.000000000&#x27;, &#x27;2020-01-05T00:00:00.000000000&#x27;,\n",
       "       &#x27;2020-01-06T00:00:00.000000000&#x27;, &#x27;2020-01-07T00:00:00.000000000&#x27;,\n",
       "       &#x27;2020-01-08T00:00:00.000000000&#x27;, &#x27;2020-01-09T00:00:00.000000000&#x27;,\n",
       "       &#x27;2020-01-10T00:00:00.000000000&#x27;, &#x27;2020-01-11T00:00:00.000000000&#x27;,\n",
       "       &#x27;2020-01-12T00:00:00.000000000&#x27;, &#x27;2020-01-13T00:00:00.000000000&#x27;,\n",
       "       &#x27;2020-01-14T00:00:00.000000000&#x27;, &#x27;2020-01-15T00:00:00.000000000&#x27;,\n",
       "       &#x27;2020-01-16T00:00:00.000000000&#x27;, &#x27;2020-01-17T00:00:00.000000000&#x27;,\n",
       "       &#x27;2020-01-18T00:00:00.000000000&#x27;, &#x27;2020-01-19T00:00:00.000000000&#x27;,\n",
       "       &#x27;2020-01-20T00:00:00.000000000&#x27;, &#x27;2020-01-21T00:00:00.000000000&#x27;,\n",
       "       &#x27;2020-01-22T00:00:00.000000000&#x27;, &#x27;2020-01-23T00:00:00.000000000&#x27;,\n",
       "       &#x27;2020-01-24T00:00:00.000000000&#x27;, &#x27;2020-01-25T00:00:00.000000000&#x27;,\n",
       "       &#x27;2020-01-26T00:00:00.000000000&#x27;, &#x27;2020-01-27T00:00:00.000000000&#x27;,\n",
       "       &#x27;2020-01-28T00:00:00.000000000&#x27;, &#x27;2020-01-29T00:00:00.000000000&#x27;,\n",
       "       &#x27;2020-01-30T00:00:00.000000000&#x27;, &#x27;2020-01-31T00:00:00.000000000&#x27;,\n",
       "       &#x27;2020-02-01T00:00:00.000000000&#x27;, &#x27;2020-02-02T00:00:00.000000000&#x27;,\n",
       "       &#x27;2020-02-03T00:00:00.000000000&#x27;, &#x27;2020-02-04T00:00:00.000000000&#x27;,\n",
       "       &#x27;2020-02-05T00:00:00.000000000&#x27;, &#x27;2020-02-06T00:00:00.000000000&#x27;,\n",
       "       &#x27;2020-02-07T00:00:00.000000000&#x27;, &#x27;2020-02-08T00:00:00.000000000&#x27;,\n",
       "       &#x27;2020-02-09T00:00:00.000000000&#x27;, &#x27;2020-02-10T00:00:00.000000000&#x27;,\n",
       "       &#x27;2020-02-11T00:00:00.000000000&#x27;, &#x27;2020-02-12T00:00:00.000000000&#x27;,\n",
       "       &#x27;2020-02-13T00:00:00.000000000&#x27;, &#x27;2020-02-14T00:00:00.000000000&#x27;,\n",
       "       &#x27;2020-02-15T00:00:00.000000000&#x27;, &#x27;2020-02-16T00:00:00.000000000&#x27;,\n",
       "       &#x27;2020-02-17T00:00:00.000000000&#x27;, &#x27;2020-02-18T00:00:00.000000000&#x27;,\n",
       "       &#x27;2020-02-19T00:00:00.000000000&#x27;, &#x27;2020-02-20T00:00:00.000000000&#x27;,\n",
       "       &#x27;2020-02-21T00:00:00.000000000&#x27;, &#x27;2020-02-22T00:00:00.000000000&#x27;,\n",
       "       &#x27;2020-02-23T00:00:00.000000000&#x27;, &#x27;2020-02-24T00:00:00.000000000&#x27;,\n",
       "       &#x27;2020-02-25T00:00:00.000000000&#x27;, &#x27;2020-02-26T00:00:00.000000000&#x27;,\n",
       "       &#x27;2020-02-27T00:00:00.000000000&#x27;, &#x27;2020-02-28T00:00:00.000000000&#x27;,\n",
       "       &#x27;2020-02-29T00:00:00.000000000&#x27;], dtype=&#x27;datetime64[ns]&#x27;)</pre></div></li><li class='xr-var-item'><div class='xr-var-name'><span class='xr-has-index'>station_number</span></div><div class='xr-var-dims'>(station_number)</div><div class='xr-var-dtype'>int64</div><div class='xr-var-preview xr-preview'>1006 1019 1020 ... 505050 541150</div><input id='attrs-65852b0a-c03a-4531-bce0-b3b00bcb54d5' class='xr-var-attrs-in' type='checkbox' disabled><label for='attrs-65852b0a-c03a-4531-bce0-b3b00bcb54d5' title='Show/Hide attributes'><svg class='icon xr-icon-file-text2'><use xlink:href='#icon-file-text2'></use></svg></label><input id='data-cd91b6e9-49b0-4fc4-8f66-95aea68e0710' class='xr-var-data-in' type='checkbox'><label for='data-cd91b6e9-49b0-4fc4-8f66-95aea68e0710' title='Show/Hide data repr'><svg class='icon xr-icon-database'><use xlink:href='#icon-database'></use></svg></label><div class='xr-var-attrs'><dl class='xr-attrs'></dl></div><div class='xr-var-data'><pre>array([  1006,   1019,   1020, ..., 200786, 505050, 541150])</pre></div></li><li class='xr-var-item'><div class='xr-var-name'><span class='xr-has-index'>lead_day</span></div><div class='xr-var-dims'>(lead_day)</div><div class='xr-var-dtype'>int64</div><div class='xr-var-preview xr-preview'>1 2 3 4 5 6 7</div><input id='attrs-b65c2884-f0f8-4e6c-95c8-07e43b0b7bbb' class='xr-var-attrs-in' type='checkbox' disabled><label for='attrs-b65c2884-f0f8-4e6c-95c8-07e43b0b7bbb' title='Show/Hide attributes'><svg class='icon xr-icon-file-text2'><use xlink:href='#icon-file-text2'></use></svg></label><input id='data-5abaa895-3d82-4387-8dcb-b512bc8fafc2' class='xr-var-data-in' type='checkbox'><label for='data-5abaa895-3d82-4387-8dcb-b512bc8fafc2' title='Show/Hide data repr'><svg class='icon xr-icon-database'><use xlink:href='#icon-database'></use></svg></label><div class='xr-var-attrs'><dl class='xr-attrs'></dl></div><div class='xr-var-data'><pre>array([1, 2, 3, 4, 5, 6, 7])</pre></div></li></ul></div></li><li class='xr-section-item'><input id='section-7a202ffa-11bd-48a2-a1f0-9297affd6e72' class='xr-section-summary-in' type='checkbox'  ><label for='section-7a202ffa-11bd-48a2-a1f0-9297affd6e72' class='xr-section-summary' >Indexes: <span>(3)</span></label><div class='xr-section-inline-details'></div><div class='xr-section-details'><ul class='xr-var-list'><li class='xr-var-item'><div class='xr-index-name'><div>valid_15z_date</div></div><div class='xr-index-preview'>PandasIndex</div><div></div><input id='index-7b60d951-3c23-4116-b8ea-1e31b544c144' class='xr-index-data-in' type='checkbox'/><label for='index-7b60d951-3c23-4116-b8ea-1e31b544c144' title='Show/Hide index repr'><svg class='icon xr-icon-database'><use xlink:href='#icon-database'></use></svg></label><div class='xr-index-data'><pre>PandasIndex(DatetimeIndex([&#x27;2019-12-01&#x27;, &#x27;2019-12-02&#x27;, &#x27;2019-12-03&#x27;, &#x27;2019-12-04&#x27;,\n",
       "               &#x27;2019-12-05&#x27;, &#x27;2019-12-06&#x27;, &#x27;2019-12-07&#x27;, &#x27;2019-12-08&#x27;,\n",
       "               &#x27;2019-12-09&#x27;, &#x27;2019-12-10&#x27;, &#x27;2019-12-11&#x27;, &#x27;2019-12-12&#x27;,\n",
       "               &#x27;2019-12-13&#x27;, &#x27;2019-12-14&#x27;, &#x27;2019-12-15&#x27;, &#x27;2019-12-16&#x27;,\n",
       "               &#x27;2019-12-17&#x27;, &#x27;2019-12-18&#x27;, &#x27;2019-12-19&#x27;, &#x27;2019-12-20&#x27;,\n",
       "               &#x27;2019-12-21&#x27;, &#x27;2019-12-22&#x27;, &#x27;2019-12-23&#x27;, &#x27;2019-12-24&#x27;,\n",
       "               &#x27;2019-12-25&#x27;, &#x27;2019-12-26&#x27;, &#x27;2019-12-27&#x27;, &#x27;2019-12-28&#x27;,\n",
       "               &#x27;2019-12-29&#x27;, &#x27;2019-12-30&#x27;, &#x27;2019-12-31&#x27;, &#x27;2020-01-01&#x27;,\n",
       "               &#x27;2020-01-02&#x27;, &#x27;2020-01-03&#x27;, &#x27;2020-01-04&#x27;, &#x27;2020-01-05&#x27;,\n",
       "               &#x27;2020-01-06&#x27;, &#x27;2020-01-07&#x27;, &#x27;2020-01-08&#x27;, &#x27;2020-01-09&#x27;,\n",
       "               &#x27;2020-01-10&#x27;, &#x27;2020-01-11&#x27;, &#x27;2020-01-12&#x27;, &#x27;2020-01-13&#x27;,\n",
       "               &#x27;2020-01-14&#x27;, &#x27;2020-01-15&#x27;, &#x27;2020-01-16&#x27;, &#x27;2020-01-17&#x27;,\n",
       "               &#x27;2020-01-18&#x27;, &#x27;2020-01-19&#x27;, &#x27;2020-01-20&#x27;, &#x27;2020-01-21&#x27;,\n",
       "               &#x27;2020-01-22&#x27;, &#x27;2020-01-23&#x27;, &#x27;2020-01-24&#x27;, &#x27;2020-01-25&#x27;,\n",
       "               &#x27;2020-01-26&#x27;, &#x27;2020-01-27&#x27;, &#x27;2020-01-28&#x27;, &#x27;2020-01-29&#x27;,\n",
       "               &#x27;2020-01-30&#x27;, &#x27;2020-01-31&#x27;, &#x27;2020-02-01&#x27;, &#x27;2020-02-02&#x27;,\n",
       "               &#x27;2020-02-03&#x27;, &#x27;2020-02-04&#x27;, &#x27;2020-02-05&#x27;, &#x27;2020-02-06&#x27;,\n",
       "               &#x27;2020-02-07&#x27;, &#x27;2020-02-08&#x27;, &#x27;2020-02-09&#x27;, &#x27;2020-02-10&#x27;,\n",
       "               &#x27;2020-02-11&#x27;, &#x27;2020-02-12&#x27;, &#x27;2020-02-13&#x27;, &#x27;2020-02-14&#x27;,\n",
       "               &#x27;2020-02-15&#x27;, &#x27;2020-02-16&#x27;, &#x27;2020-02-17&#x27;, &#x27;2020-02-18&#x27;,\n",
       "               &#x27;2020-02-19&#x27;, &#x27;2020-02-20&#x27;, &#x27;2020-02-21&#x27;, &#x27;2020-02-22&#x27;,\n",
       "               &#x27;2020-02-23&#x27;, &#x27;2020-02-24&#x27;, &#x27;2020-02-25&#x27;, &#x27;2020-02-26&#x27;,\n",
       "               &#x27;2020-02-27&#x27;, &#x27;2020-02-28&#x27;, &#x27;2020-02-29&#x27;],\n",
       "              dtype=&#x27;datetime64[ns]&#x27;, name=&#x27;valid_15z_date&#x27;, freq=None))</pre></div></li><li class='xr-var-item'><div class='xr-index-name'><div>station_number</div></div><div class='xr-index-preview'>PandasIndex</div><div></div><input id='index-b74f0d4a-43b7-4795-8004-63616aaa6394' class='xr-index-data-in' type='checkbox'/><label for='index-b74f0d4a-43b7-4795-8004-63616aaa6394' title='Show/Hide index repr'><svg class='icon xr-icon-database'><use xlink:href='#icon-database'></use></svg></label><div class='xr-index-data'><pre>PandasIndex(Int64Index([  1006,   1019,   1020,   2056,   2064,   2079,   3003,   3032,\n",
       "              3080,   3093,\n",
       "            ...\n",
       "             97085,  98017,  99005, 140007, 140008, 140009, 140010, 200786,\n",
       "            505050, 541150],\n",
       "           dtype=&#x27;int64&#x27;, name=&#x27;station_number&#x27;, length=527))</pre></div></li><li class='xr-var-item'><div class='xr-index-name'><div>lead_day</div></div><div class='xr-index-preview'>PandasIndex</div><div></div><input id='index-c4f45fa0-e36a-49df-b7c4-0f67ae53bdb9' class='xr-index-data-in' type='checkbox'/><label for='index-c4f45fa0-e36a-49df-b7c4-0f67ae53bdb9' title='Show/Hide index repr'><svg class='icon xr-icon-database'><use xlink:href='#icon-database'></use></svg></label><div class='xr-index-data'><pre>PandasIndex(Int64Index([1, 2, 3, 4, 5, 6, 7], dtype=&#x27;int64&#x27;, name=&#x27;lead_day&#x27;))</pre></div></li></ul></div></li><li class='xr-section-item'><input id='section-e53809d1-7f14-4aea-8304-498ee4f74842' class='xr-section-summary-in' type='checkbox'  checked><label for='section-e53809d1-7f14-4aea-8304-498ee4f74842' class='xr-section-summary' >Attributes: <span>(6)</span></label><div class='xr-section-inline-details'></div><div class='xr-section-details'><dl class='xr-attrs'><dt><span>parameter :</span></dt><dd>MaxT</dd><dt><span>unit :</span></dt><dd>C</dd><dt><span>source_id :</span></dt><dd>Op_Official</dd><dt><span>valid_start :</span></dt><dd>2019-11-30 19:00:00</dd><dt><span>valid_end :</span></dt><dd>2019-12-31 13:00:00</dd><dt><span>base_hour :</span></dt><dd>0</dd></dl></div></li></ul></div></div>"
      ],
      "text/plain": [
       "<xarray.DataArray 'value' (valid_15z_date: 91, station_number: 527, lead_day: 7)>\n",
       "array([[[40.79999924, 40.40000153, 39.        , ..., 37.70000076,\n",
       "         38.5       , 38.        ],\n",
       "        [39.09999847, 39.29999924, 38.90000153, ..., 37.40000153,\n",
       "         37.40000153, 38.        ],\n",
       "        [35.79999924, 35.90000153, 36.        , ..., 34.90000153,\n",
       "         35.        , 35.09999847],\n",
       "        ...,\n",
       "        [35.        , 35.        , 34.79999924, ..., 34.90000153,\n",
       "         34.90000153, 35.        ],\n",
       "        [36.70000076, 36.09999847, 36.09999847, ..., 35.20000076,\n",
       "         34.20000076, 33.5       ],\n",
       "        [        nan,         nan,         nan, ...,         nan,\n",
       "                 nan,         nan]],\n",
       "\n",
       "       [[41.09999847, 39.        , 38.79999924, ..., 38.90000153,\n",
       "         38.40000153, 37.5       ],\n",
       "        [38.        , 37.90000153, 37.79999924, ..., 38.09999847,\n",
       "         37.90000153, 37.09999847],\n",
       "        [35.40000153, 35.5       , 35.70000076, ..., 35.20000076,\n",
       "         34.79999924, 34.90000153],\n",
       "...\n",
       "        [33.29999924, 33.40000153, 32.5       , ..., 34.        ,\n",
       "         34.09999847, 34.        ],\n",
       "        [        nan,         nan,         nan, ...,         nan,\n",
       "                 nan,         nan],\n",
       "        [30.39999962, 31.10000038, 30.5       , ..., 29.5       ,\n",
       "         28.39999962, 28.79999924]],\n",
       "\n",
       "       [[30.        , 28.5       , 29.70000076, ..., 32.40000153,\n",
       "         31.89999962, 33.09999847],\n",
       "        [29.20000076, 29.79999924, 30.        , ..., 31.        ,\n",
       "         30.79999924, 31.70000076],\n",
       "        [29.5       , 29.79999924, 30.20000076, ..., 30.70000076,\n",
       "         29.60000038, 31.        ],\n",
       "        ...,\n",
       "        [33.29999924, 33.29999924, 33.5       , ..., 33.90000153,\n",
       "         34.09999847, 34.09999847],\n",
       "        [        nan,         nan,         nan, ...,         nan,\n",
       "                 nan,         nan],\n",
       "        [30.        , 29.39999962, 29.29999924, ..., 28.5       ,\n",
       "         29.70000076, 27.89999962]]])\n",
       "Coordinates:\n",
       "  * valid_15z_date  (valid_15z_date) datetime64[ns] 2019-12-01 ... 2020-02-29\n",
       "  * station_number  (station_number) int64 1006 1019 1020 ... 505050 541150\n",
       "  * lead_day        (lead_day) int64 1 2 3 4 5 6 7\n",
       "Attributes:\n",
       "    parameter:    MaxT\n",
       "    unit:         C\n",
       "    source_id:    Op_Official\n",
       "    valid_start:  2019-11-30 19:00:00\n",
       "    valid_end:    2019-12-31 13:00:00\n",
       "    base_hour:    0"
      ]
     },
     "execution_count": 36,
     "metadata": {},
     "output_type": "execute_result"
    }
   ],
   "source": [
    "official_bs"
   ]
  },
  {
   "cell_type": "markdown",
   "metadata": {},
   "source": [
    "### Calculate scores"
   ]
  },
  {
   "cell_type": "code",
   "execution_count": 37,
   "metadata": {},
   "outputs": [],
   "source": [
    "# threshold weighted scores for Black Summer\n",
    "# load thresholds\n",
    "thresholds = pd.read_json(\"../data/climate/max_t_0.97.json\", typ=\"series\").to_xarray()\n",
    "thresholds = thresholds.rename({\"index\": \"station_number\"})\n",
    "\n",
    "# get common stations between thresholds and the forecasts and obs\n",
    "common_stations = set(thresholds.station_number.values).intersection(obs_bs.station_number.values)\n",
    "obs_bs = obs_bs.sel(station_number=list(common_stations))\n",
    "official_bs = official_bs.sel(station_number=list(common_stations))\n",
    "autofcst_bs = autofcst_bs.sel(station_number=list(common_stations))\n",
    "thresholds = thresholds.sel(station_number=list(common_stations))\n",
    "inf_threshold = thresholds * np.inf\n",
    "\n",
    "# Calculate threshold weighted MSE\n",
    "official_bs_tw = threshold_weighted_squared_error(official_bs, obs_bs, interval_where_one = (thresholds, inf_threshold), dims = [\"lead_day\"])\n",
    "autofcst_bs_tw = threshold_weighted_squared_error(autofcst_bs, obs_bs, interval_where_one = (thresholds, inf_threshold), dims = [\"lead_day\"])\n",
    "\n",
    "# Calculate normal MSE\n",
    "autofcst_bs_mse = mse(autofcst_bs, obs_bs, preserve_dims=\"lead_day\")\n",
    "official_bs_mse = mse(official_bs, obs_bs, preserve_dims=\"lead_day\")"
   ]
  },
  {
   "cell_type": "markdown",
   "metadata": {},
   "source": [
    "### Produce plot"
   ]
  },
  {
   "cell_type": "code",
   "execution_count": 38,
   "metadata": {},
   "outputs": [
    {
     "data": {
      "application/vnd.plotly.v1+json": {
       "config": {
        "plotlyServerURL": "https://plot.ly"
       },
       "data": [
        {
         "line": {
          "color": "rgba(230,159,0,1)"
         },
         "name": "Official",
         "showlegend": false,
         "type": "scatter",
         "x": [
          1,
          2,
          3,
          4,
          5,
          6,
          7
         ],
         "xaxis": "x",
         "y": [
          2.4992937114766542,
          2.9764157658960775,
          3.599195713098456,
          4.516217818637472,
          5.6752978399815435,
          7.84505364064971,
          9.72923865586167
         ],
         "yaxis": "y"
        },
        {
         "line": {
          "color": "rgba(86,180,233,1)"
         },
         "name": "Automated",
         "showlegend": false,
         "type": "scatter",
         "x": [
          1,
          2,
          3,
          4,
          5,
          6,
          7
         ],
         "xaxis": "x",
         "y": [
          2.5701252581167924,
          3.0392269911540457,
          3.6677306163767063,
          4.519376510946051,
          5.665517567285149,
          7.935633024188513,
          9.704561584336512
         ],
         "yaxis": "y"
        },
        {
         "line": {
          "color": "rgba(230,159,0,1)"
         },
         "name": "Official",
         "showlegend": false,
         "type": "scatter",
         "x": [
          1,
          2,
          3,
          4,
          5,
          6,
          7
         ],
         "xaxis": "x2",
         "y": [
          0.39973126594849956,
          0.46112061899610557,
          0.55073622004414,
          0.6933133176990739,
          0.8959607374053286,
          1.2328036005151577,
          1.2820498071684567
         ],
         "yaxis": "y2"
        },
        {
         "line": {
          "color": "rgba(86,180,233,1)"
         },
         "name": "Automated",
         "showlegend": false,
         "type": "scatter",
         "x": [
          1,
          2,
          3,
          4,
          5,
          6,
          7
         ],
         "xaxis": "x2",
         "y": [
          0.46215443238365145,
          0.5177495458823125,
          0.6320659111506007,
          0.7150607352797056,
          0.9019558684840133,
          1.3011329871002055,
          1.2775834695704829
         ],
         "yaxis": "y2"
        }
       ],
       "layout": {
        "annotations": [
         {
          "font": {
           "size": 12
          },
          "showarrow": false,
          "text": "<b>(a)</b>",
          "x": 0.225,
          "xanchor": "left",
          "xref": "paper",
          "xshift": -160,
          "y": 1,
          "yanchor": "bottom",
          "yref": "paper"
         },
         {
          "font": {
           "size": 12
          },
          "showarrow": false,
          "text": "<b>(b)</b>",
          "x": 0.775,
          "xanchor": "left",
          "xref": "paper",
          "xshift": -160,
          "y": 1,
          "yanchor": "bottom",
          "yref": "paper"
         },
         {
          "showarrow": false,
          "text": "Lower scores better",
          "x": 4,
          "xref": "x",
          "y": 2.5,
          "yref": "y"
         },
         {
          "showarrow": false,
          "text": "Lower scores better",
          "x": 4,
          "xref": "x2",
          "y": 0.4,
          "yref": "y2"
         }
        ],
        "height": 300,
        "legend": {
         "x": 0.99,
         "xanchor": "right",
         "y": 0.01,
         "yanchor": "bottom"
        },
        "margin": {
         "b": 20,
         "l": 20,
         "r": 20,
         "t": 20
        },
        "template": {
         "data": {
          "bar": [
           {
            "error_x": {
             "color": "#2a3f5f"
            },
            "error_y": {
             "color": "#2a3f5f"
            },
            "marker": {
             "line": {
              "color": "#E5ECF6",
              "width": 0.5
             },
             "pattern": {
              "fillmode": "overlay",
              "size": 10,
              "solidity": 0.2
             }
            },
            "type": "bar"
           }
          ],
          "barpolar": [
           {
            "marker": {
             "line": {
              "color": "#E5ECF6",
              "width": 0.5
             },
             "pattern": {
              "fillmode": "overlay",
              "size": 10,
              "solidity": 0.2
             }
            },
            "type": "barpolar"
           }
          ],
          "carpet": [
           {
            "aaxis": {
             "endlinecolor": "#2a3f5f",
             "gridcolor": "white",
             "linecolor": "white",
             "minorgridcolor": "white",
             "startlinecolor": "#2a3f5f"
            },
            "baxis": {
             "endlinecolor": "#2a3f5f",
             "gridcolor": "white",
             "linecolor": "white",
             "minorgridcolor": "white",
             "startlinecolor": "#2a3f5f"
            },
            "type": "carpet"
           }
          ],
          "choropleth": [
           {
            "colorbar": {
             "outlinewidth": 0,
             "ticks": ""
            },
            "type": "choropleth"
           }
          ],
          "contour": [
           {
            "colorbar": {
             "outlinewidth": 0,
             "ticks": ""
            },
            "colorscale": [
             [
              0,
              "#0d0887"
             ],
             [
              0.1111111111111111,
              "#46039f"
             ],
             [
              0.2222222222222222,
              "#7201a8"
             ],
             [
              0.3333333333333333,
              "#9c179e"
             ],
             [
              0.4444444444444444,
              "#bd3786"
             ],
             [
              0.5555555555555556,
              "#d8576b"
             ],
             [
              0.6666666666666666,
              "#ed7953"
             ],
             [
              0.7777777777777778,
              "#fb9f3a"
             ],
             [
              0.8888888888888888,
              "#fdca26"
             ],
             [
              1,
              "#f0f921"
             ]
            ],
            "type": "contour"
           }
          ],
          "contourcarpet": [
           {
            "colorbar": {
             "outlinewidth": 0,
             "ticks": ""
            },
            "type": "contourcarpet"
           }
          ],
          "heatmap": [
           {
            "colorbar": {
             "outlinewidth": 0,
             "ticks": ""
            },
            "colorscale": [
             [
              0,
              "#0d0887"
             ],
             [
              0.1111111111111111,
              "#46039f"
             ],
             [
              0.2222222222222222,
              "#7201a8"
             ],
             [
              0.3333333333333333,
              "#9c179e"
             ],
             [
              0.4444444444444444,
              "#bd3786"
             ],
             [
              0.5555555555555556,
              "#d8576b"
             ],
             [
              0.6666666666666666,
              "#ed7953"
             ],
             [
              0.7777777777777778,
              "#fb9f3a"
             ],
             [
              0.8888888888888888,
              "#fdca26"
             ],
             [
              1,
              "#f0f921"
             ]
            ],
            "type": "heatmap"
           }
          ],
          "heatmapgl": [
           {
            "colorbar": {
             "outlinewidth": 0,
             "ticks": ""
            },
            "colorscale": [
             [
              0,
              "#0d0887"
             ],
             [
              0.1111111111111111,
              "#46039f"
             ],
             [
              0.2222222222222222,
              "#7201a8"
             ],
             [
              0.3333333333333333,
              "#9c179e"
             ],
             [
              0.4444444444444444,
              "#bd3786"
             ],
             [
              0.5555555555555556,
              "#d8576b"
             ],
             [
              0.6666666666666666,
              "#ed7953"
             ],
             [
              0.7777777777777778,
              "#fb9f3a"
             ],
             [
              0.8888888888888888,
              "#fdca26"
             ],
             [
              1,
              "#f0f921"
             ]
            ],
            "type": "heatmapgl"
           }
          ],
          "histogram": [
           {
            "marker": {
             "pattern": {
              "fillmode": "overlay",
              "size": 10,
              "solidity": 0.2
             }
            },
            "type": "histogram"
           }
          ],
          "histogram2d": [
           {
            "colorbar": {
             "outlinewidth": 0,
             "ticks": ""
            },
            "colorscale": [
             [
              0,
              "#0d0887"
             ],
             [
              0.1111111111111111,
              "#46039f"
             ],
             [
              0.2222222222222222,
              "#7201a8"
             ],
             [
              0.3333333333333333,
              "#9c179e"
             ],
             [
              0.4444444444444444,
              "#bd3786"
             ],
             [
              0.5555555555555556,
              "#d8576b"
             ],
             [
              0.6666666666666666,
              "#ed7953"
             ],
             [
              0.7777777777777778,
              "#fb9f3a"
             ],
             [
              0.8888888888888888,
              "#fdca26"
             ],
             [
              1,
              "#f0f921"
             ]
            ],
            "type": "histogram2d"
           }
          ],
          "histogram2dcontour": [
           {
            "colorbar": {
             "outlinewidth": 0,
             "ticks": ""
            },
            "colorscale": [
             [
              0,
              "#0d0887"
             ],
             [
              0.1111111111111111,
              "#46039f"
             ],
             [
              0.2222222222222222,
              "#7201a8"
             ],
             [
              0.3333333333333333,
              "#9c179e"
             ],
             [
              0.4444444444444444,
              "#bd3786"
             ],
             [
              0.5555555555555556,
              "#d8576b"
             ],
             [
              0.6666666666666666,
              "#ed7953"
             ],
             [
              0.7777777777777778,
              "#fb9f3a"
             ],
             [
              0.8888888888888888,
              "#fdca26"
             ],
             [
              1,
              "#f0f921"
             ]
            ],
            "type": "histogram2dcontour"
           }
          ],
          "mesh3d": [
           {
            "colorbar": {
             "outlinewidth": 0,
             "ticks": ""
            },
            "type": "mesh3d"
           }
          ],
          "parcoords": [
           {
            "line": {
             "colorbar": {
              "outlinewidth": 0,
              "ticks": ""
             }
            },
            "type": "parcoords"
           }
          ],
          "pie": [
           {
            "automargin": true,
            "type": "pie"
           }
          ],
          "scatter": [
           {
            "fillpattern": {
             "fillmode": "overlay",
             "size": 10,
             "solidity": 0.2
            },
            "type": "scatter"
           }
          ],
          "scatter3d": [
           {
            "line": {
             "colorbar": {
              "outlinewidth": 0,
              "ticks": ""
             }
            },
            "marker": {
             "colorbar": {
              "outlinewidth": 0,
              "ticks": ""
             }
            },
            "type": "scatter3d"
           }
          ],
          "scattercarpet": [
           {
            "marker": {
             "colorbar": {
              "outlinewidth": 0,
              "ticks": ""
             }
            },
            "type": "scattercarpet"
           }
          ],
          "scattergeo": [
           {
            "marker": {
             "colorbar": {
              "outlinewidth": 0,
              "ticks": ""
             }
            },
            "type": "scattergeo"
           }
          ],
          "scattergl": [
           {
            "marker": {
             "colorbar": {
              "outlinewidth": 0,
              "ticks": ""
             }
            },
            "type": "scattergl"
           }
          ],
          "scattermapbox": [
           {
            "marker": {
             "colorbar": {
              "outlinewidth": 0,
              "ticks": ""
             }
            },
            "type": "scattermapbox"
           }
          ],
          "scatterpolar": [
           {
            "marker": {
             "colorbar": {
              "outlinewidth": 0,
              "ticks": ""
             }
            },
            "type": "scatterpolar"
           }
          ],
          "scatterpolargl": [
           {
            "marker": {
             "colorbar": {
              "outlinewidth": 0,
              "ticks": ""
             }
            },
            "type": "scatterpolargl"
           }
          ],
          "scatterternary": [
           {
            "marker": {
             "colorbar": {
              "outlinewidth": 0,
              "ticks": ""
             }
            },
            "type": "scatterternary"
           }
          ],
          "surface": [
           {
            "colorbar": {
             "outlinewidth": 0,
             "ticks": ""
            },
            "colorscale": [
             [
              0,
              "#0d0887"
             ],
             [
              0.1111111111111111,
              "#46039f"
             ],
             [
              0.2222222222222222,
              "#7201a8"
             ],
             [
              0.3333333333333333,
              "#9c179e"
             ],
             [
              0.4444444444444444,
              "#bd3786"
             ],
             [
              0.5555555555555556,
              "#d8576b"
             ],
             [
              0.6666666666666666,
              "#ed7953"
             ],
             [
              0.7777777777777778,
              "#fb9f3a"
             ],
             [
              0.8888888888888888,
              "#fdca26"
             ],
             [
              1,
              "#f0f921"
             ]
            ],
            "type": "surface"
           }
          ],
          "table": [
           {
            "cells": {
             "fill": {
              "color": "#EBF0F8"
             },
             "line": {
              "color": "white"
             }
            },
            "header": {
             "fill": {
              "color": "#C8D4E3"
             },
             "line": {
              "color": "white"
             }
            },
            "type": "table"
           }
          ]
         },
         "layout": {
          "annotationdefaults": {
           "arrowcolor": "#2a3f5f",
           "arrowhead": 0,
           "arrowwidth": 1
          },
          "autotypenumbers": "strict",
          "coloraxis": {
           "colorbar": {
            "outlinewidth": 0,
            "ticks": ""
           }
          },
          "colorscale": {
           "diverging": [
            [
             0,
             "#8e0152"
            ],
            [
             0.1,
             "#c51b7d"
            ],
            [
             0.2,
             "#de77ae"
            ],
            [
             0.3,
             "#f1b6da"
            ],
            [
             0.4,
             "#fde0ef"
            ],
            [
             0.5,
             "#f7f7f7"
            ],
            [
             0.6,
             "#e6f5d0"
            ],
            [
             0.7,
             "#b8e186"
            ],
            [
             0.8,
             "#7fbc41"
            ],
            [
             0.9,
             "#4d9221"
            ],
            [
             1,
             "#276419"
            ]
           ],
           "sequential": [
            [
             0,
             "#0d0887"
            ],
            [
             0.1111111111111111,
             "#46039f"
            ],
            [
             0.2222222222222222,
             "#7201a8"
            ],
            [
             0.3333333333333333,
             "#9c179e"
            ],
            [
             0.4444444444444444,
             "#bd3786"
            ],
            [
             0.5555555555555556,
             "#d8576b"
            ],
            [
             0.6666666666666666,
             "#ed7953"
            ],
            [
             0.7777777777777778,
             "#fb9f3a"
            ],
            [
             0.8888888888888888,
             "#fdca26"
            ],
            [
             1,
             "#f0f921"
            ]
           ],
           "sequentialminus": [
            [
             0,
             "#0d0887"
            ],
            [
             0.1111111111111111,
             "#46039f"
            ],
            [
             0.2222222222222222,
             "#7201a8"
            ],
            [
             0.3333333333333333,
             "#9c179e"
            ],
            [
             0.4444444444444444,
             "#bd3786"
            ],
            [
             0.5555555555555556,
             "#d8576b"
            ],
            [
             0.6666666666666666,
             "#ed7953"
            ],
            [
             0.7777777777777778,
             "#fb9f3a"
            ],
            [
             0.8888888888888888,
             "#fdca26"
            ],
            [
             1,
             "#f0f921"
            ]
           ]
          },
          "colorway": [
           "#636efa",
           "#EF553B",
           "#00cc96",
           "#ab63fa",
           "#FFA15A",
           "#19d3f3",
           "#FF6692",
           "#B6E880",
           "#FF97FF",
           "#FECB52"
          ],
          "font": {
           "color": "#2a3f5f"
          },
          "geo": {
           "bgcolor": "white",
           "lakecolor": "white",
           "landcolor": "#E5ECF6",
           "showlakes": true,
           "showland": true,
           "subunitcolor": "white"
          },
          "hoverlabel": {
           "align": "left"
          },
          "hovermode": "closest",
          "mapbox": {
           "style": "light"
          },
          "paper_bgcolor": "white",
          "plot_bgcolor": "#E5ECF6",
          "polar": {
           "angularaxis": {
            "gridcolor": "white",
            "linecolor": "white",
            "ticks": ""
           },
           "bgcolor": "#E5ECF6",
           "radialaxis": {
            "gridcolor": "white",
            "linecolor": "white",
            "ticks": ""
           }
          },
          "scene": {
           "xaxis": {
            "backgroundcolor": "#E5ECF6",
            "gridcolor": "white",
            "gridwidth": 2,
            "linecolor": "white",
            "showbackground": true,
            "ticks": "",
            "zerolinecolor": "white"
           },
           "yaxis": {
            "backgroundcolor": "#E5ECF6",
            "gridcolor": "white",
            "gridwidth": 2,
            "linecolor": "white",
            "showbackground": true,
            "ticks": "",
            "zerolinecolor": "white"
           },
           "zaxis": {
            "backgroundcolor": "#E5ECF6",
            "gridcolor": "white",
            "gridwidth": 2,
            "linecolor": "white",
            "showbackground": true,
            "ticks": "",
            "zerolinecolor": "white"
           }
          },
          "shapedefaults": {
           "line": {
            "color": "#2a3f5f"
           }
          },
          "ternary": {
           "aaxis": {
            "gridcolor": "white",
            "linecolor": "white",
            "ticks": ""
           },
           "baxis": {
            "gridcolor": "white",
            "linecolor": "white",
            "ticks": ""
           },
           "bgcolor": "#E5ECF6",
           "caxis": {
            "gridcolor": "white",
            "linecolor": "white",
            "ticks": ""
           }
          },
          "title": {
           "x": 0.05
          },
          "xaxis": {
           "automargin": true,
           "gridcolor": "white",
           "linecolor": "white",
           "ticks": "",
           "title": {
            "standoff": 15
           },
           "zerolinecolor": "white",
           "zerolinewidth": 2
          },
          "yaxis": {
           "automargin": true,
           "gridcolor": "white",
           "linecolor": "white",
           "ticks": "",
           "title": {
            "standoff": 15
           },
           "zerolinecolor": "white",
           "zerolinewidth": 2
          }
         }
        },
        "width": 800,
        "xaxis": {
         "anchor": "y",
         "domain": [
          0,
          0.45
         ],
         "dtick": 1,
         "tick0": 0,
         "tickmode": "linear",
         "title": {
          "text": "Lead day"
         }
        },
        "xaxis2": {
         "anchor": "y2",
         "domain": [
          0.55,
          1
         ],
         "dtick": 1,
         "tick0": 0,
         "tickmode": "linear",
         "title": {
          "text": "Lead day"
         }
        },
        "yaxis": {
         "anchor": "x",
         "domain": [
          0,
          1
         ],
         "title": {
          "text": "MSE (°C<sup>2</sup>)"
         }
        },
        "yaxis2": {
         "anchor": "x2",
         "domain": [
          0,
          1
         ],
         "title": {
          "text": "Threshold weighted MSE (°C<sup>2</sup>)"
         }
        }
       }
      },
      "text/html": [
       "<div>                            <div id=\"fe86eb5e-72c2-4ea8-98a2-1efd166cfda9\" class=\"plotly-graph-div\" style=\"height:300px; width:800px;\"></div>            <script type=\"text/javascript\">                require([\"plotly\"], function(Plotly) {                    window.PLOTLYENV=window.PLOTLYENV || {};                                    if (document.getElementById(\"fe86eb5e-72c2-4ea8-98a2-1efd166cfda9\")) {                    Plotly.newPlot(                        \"fe86eb5e-72c2-4ea8-98a2-1efd166cfda9\",                        [{\"line\":{\"color\":\"rgba(230,159,0,1)\"},\"name\":\"Official\",\"showlegend\":false,\"x\":[1,2,3,4,5,6,7],\"y\":[2.4992937114766542,2.9764157658960775,3.599195713098456,4.516217818637472,5.6752978399815435,7.84505364064971,9.72923865586167],\"type\":\"scatter\",\"xaxis\":\"x\",\"yaxis\":\"y\"},{\"line\":{\"color\":\"rgba(86,180,233,1)\"},\"name\":\"Automated\",\"showlegend\":false,\"x\":[1,2,3,4,5,6,7],\"y\":[2.5701252581167924,3.0392269911540457,3.6677306163767063,4.519376510946051,5.665517567285149,7.935633024188513,9.704561584336512],\"type\":\"scatter\",\"xaxis\":\"x\",\"yaxis\":\"y\"},{\"line\":{\"color\":\"rgba(230,159,0,1)\"},\"name\":\"Official\",\"showlegend\":false,\"x\":[1,2,3,4,5,6,7],\"y\":[0.39973126594849956,0.46112061899610557,0.55073622004414,0.6933133176990739,0.8959607374053286,1.2328036005151577,1.2820498071684567],\"type\":\"scatter\",\"xaxis\":\"x2\",\"yaxis\":\"y2\"},{\"line\":{\"color\":\"rgba(86,180,233,1)\"},\"name\":\"Automated\",\"showlegend\":false,\"x\":[1,2,3,4,5,6,7],\"y\":[0.46215443238365145,0.5177495458823125,0.6320659111506007,0.7150607352797056,0.9019558684840133,1.3011329871002055,1.2775834695704829],\"type\":\"scatter\",\"xaxis\":\"x2\",\"yaxis\":\"y2\"}],                        {\"template\":{\"data\":{\"histogram2dcontour\":[{\"type\":\"histogram2dcontour\",\"colorbar\":{\"outlinewidth\":0,\"ticks\":\"\"},\"colorscale\":[[0.0,\"#0d0887\"],[0.1111111111111111,\"#46039f\"],[0.2222222222222222,\"#7201a8\"],[0.3333333333333333,\"#9c179e\"],[0.4444444444444444,\"#bd3786\"],[0.5555555555555556,\"#d8576b\"],[0.6666666666666666,\"#ed7953\"],[0.7777777777777778,\"#fb9f3a\"],[0.8888888888888888,\"#fdca26\"],[1.0,\"#f0f921\"]]}],\"choropleth\":[{\"type\":\"choropleth\",\"colorbar\":{\"outlinewidth\":0,\"ticks\":\"\"}}],\"histogram2d\":[{\"type\":\"histogram2d\",\"colorbar\":{\"outlinewidth\":0,\"ticks\":\"\"},\"colorscale\":[[0.0,\"#0d0887\"],[0.1111111111111111,\"#46039f\"],[0.2222222222222222,\"#7201a8\"],[0.3333333333333333,\"#9c179e\"],[0.4444444444444444,\"#bd3786\"],[0.5555555555555556,\"#d8576b\"],[0.6666666666666666,\"#ed7953\"],[0.7777777777777778,\"#fb9f3a\"],[0.8888888888888888,\"#fdca26\"],[1.0,\"#f0f921\"]]}],\"heatmap\":[{\"type\":\"heatmap\",\"colorbar\":{\"outlinewidth\":0,\"ticks\":\"\"},\"colorscale\":[[0.0,\"#0d0887\"],[0.1111111111111111,\"#46039f\"],[0.2222222222222222,\"#7201a8\"],[0.3333333333333333,\"#9c179e\"],[0.4444444444444444,\"#bd3786\"],[0.5555555555555556,\"#d8576b\"],[0.6666666666666666,\"#ed7953\"],[0.7777777777777778,\"#fb9f3a\"],[0.8888888888888888,\"#fdca26\"],[1.0,\"#f0f921\"]]}],\"heatmapgl\":[{\"type\":\"heatmapgl\",\"colorbar\":{\"outlinewidth\":0,\"ticks\":\"\"},\"colorscale\":[[0.0,\"#0d0887\"],[0.1111111111111111,\"#46039f\"],[0.2222222222222222,\"#7201a8\"],[0.3333333333333333,\"#9c179e\"],[0.4444444444444444,\"#bd3786\"],[0.5555555555555556,\"#d8576b\"],[0.6666666666666666,\"#ed7953\"],[0.7777777777777778,\"#fb9f3a\"],[0.8888888888888888,\"#fdca26\"],[1.0,\"#f0f921\"]]}],\"contourcarpet\":[{\"type\":\"contourcarpet\",\"colorbar\":{\"outlinewidth\":0,\"ticks\":\"\"}}],\"contour\":[{\"type\":\"contour\",\"colorbar\":{\"outlinewidth\":0,\"ticks\":\"\"},\"colorscale\":[[0.0,\"#0d0887\"],[0.1111111111111111,\"#46039f\"],[0.2222222222222222,\"#7201a8\"],[0.3333333333333333,\"#9c179e\"],[0.4444444444444444,\"#bd3786\"],[0.5555555555555556,\"#d8576b\"],[0.6666666666666666,\"#ed7953\"],[0.7777777777777778,\"#fb9f3a\"],[0.8888888888888888,\"#fdca26\"],[1.0,\"#f0f921\"]]}],\"surface\":[{\"type\":\"surface\",\"colorbar\":{\"outlinewidth\":0,\"ticks\":\"\"},\"colorscale\":[[0.0,\"#0d0887\"],[0.1111111111111111,\"#46039f\"],[0.2222222222222222,\"#7201a8\"],[0.3333333333333333,\"#9c179e\"],[0.4444444444444444,\"#bd3786\"],[0.5555555555555556,\"#d8576b\"],[0.6666666666666666,\"#ed7953\"],[0.7777777777777778,\"#fb9f3a\"],[0.8888888888888888,\"#fdca26\"],[1.0,\"#f0f921\"]]}],\"mesh3d\":[{\"type\":\"mesh3d\",\"colorbar\":{\"outlinewidth\":0,\"ticks\":\"\"}}],\"scatter\":[{\"fillpattern\":{\"fillmode\":\"overlay\",\"size\":10,\"solidity\":0.2},\"type\":\"scatter\"}],\"parcoords\":[{\"type\":\"parcoords\",\"line\":{\"colorbar\":{\"outlinewidth\":0,\"ticks\":\"\"}}}],\"scatterpolargl\":[{\"type\":\"scatterpolargl\",\"marker\":{\"colorbar\":{\"outlinewidth\":0,\"ticks\":\"\"}}}],\"bar\":[{\"error_x\":{\"color\":\"#2a3f5f\"},\"error_y\":{\"color\":\"#2a3f5f\"},\"marker\":{\"line\":{\"color\":\"#E5ECF6\",\"width\":0.5},\"pattern\":{\"fillmode\":\"overlay\",\"size\":10,\"solidity\":0.2}},\"type\":\"bar\"}],\"scattergeo\":[{\"type\":\"scattergeo\",\"marker\":{\"colorbar\":{\"outlinewidth\":0,\"ticks\":\"\"}}}],\"scatterpolar\":[{\"type\":\"scatterpolar\",\"marker\":{\"colorbar\":{\"outlinewidth\":0,\"ticks\":\"\"}}}],\"histogram\":[{\"marker\":{\"pattern\":{\"fillmode\":\"overlay\",\"size\":10,\"solidity\":0.2}},\"type\":\"histogram\"}],\"scattergl\":[{\"type\":\"scattergl\",\"marker\":{\"colorbar\":{\"outlinewidth\":0,\"ticks\":\"\"}}}],\"scatter3d\":[{\"type\":\"scatter3d\",\"line\":{\"colorbar\":{\"outlinewidth\":0,\"ticks\":\"\"}},\"marker\":{\"colorbar\":{\"outlinewidth\":0,\"ticks\":\"\"}}}],\"scattermapbox\":[{\"type\":\"scattermapbox\",\"marker\":{\"colorbar\":{\"outlinewidth\":0,\"ticks\":\"\"}}}],\"scatterternary\":[{\"type\":\"scatterternary\",\"marker\":{\"colorbar\":{\"outlinewidth\":0,\"ticks\":\"\"}}}],\"scattercarpet\":[{\"type\":\"scattercarpet\",\"marker\":{\"colorbar\":{\"outlinewidth\":0,\"ticks\":\"\"}}}],\"carpet\":[{\"aaxis\":{\"endlinecolor\":\"#2a3f5f\",\"gridcolor\":\"white\",\"linecolor\":\"white\",\"minorgridcolor\":\"white\",\"startlinecolor\":\"#2a3f5f\"},\"baxis\":{\"endlinecolor\":\"#2a3f5f\",\"gridcolor\":\"white\",\"linecolor\":\"white\",\"minorgridcolor\":\"white\",\"startlinecolor\":\"#2a3f5f\"},\"type\":\"carpet\"}],\"table\":[{\"cells\":{\"fill\":{\"color\":\"#EBF0F8\"},\"line\":{\"color\":\"white\"}},\"header\":{\"fill\":{\"color\":\"#C8D4E3\"},\"line\":{\"color\":\"white\"}},\"type\":\"table\"}],\"barpolar\":[{\"marker\":{\"line\":{\"color\":\"#E5ECF6\",\"width\":0.5},\"pattern\":{\"fillmode\":\"overlay\",\"size\":10,\"solidity\":0.2}},\"type\":\"barpolar\"}],\"pie\":[{\"automargin\":true,\"type\":\"pie\"}]},\"layout\":{\"autotypenumbers\":\"strict\",\"colorway\":[\"#636efa\",\"#EF553B\",\"#00cc96\",\"#ab63fa\",\"#FFA15A\",\"#19d3f3\",\"#FF6692\",\"#B6E880\",\"#FF97FF\",\"#FECB52\"],\"font\":{\"color\":\"#2a3f5f\"},\"hovermode\":\"closest\",\"hoverlabel\":{\"align\":\"left\"},\"paper_bgcolor\":\"white\",\"plot_bgcolor\":\"#E5ECF6\",\"polar\":{\"bgcolor\":\"#E5ECF6\",\"angularaxis\":{\"gridcolor\":\"white\",\"linecolor\":\"white\",\"ticks\":\"\"},\"radialaxis\":{\"gridcolor\":\"white\",\"linecolor\":\"white\",\"ticks\":\"\"}},\"ternary\":{\"bgcolor\":\"#E5ECF6\",\"aaxis\":{\"gridcolor\":\"white\",\"linecolor\":\"white\",\"ticks\":\"\"},\"baxis\":{\"gridcolor\":\"white\",\"linecolor\":\"white\",\"ticks\":\"\"},\"caxis\":{\"gridcolor\":\"white\",\"linecolor\":\"white\",\"ticks\":\"\"}},\"coloraxis\":{\"colorbar\":{\"outlinewidth\":0,\"ticks\":\"\"}},\"colorscale\":{\"sequential\":[[0.0,\"#0d0887\"],[0.1111111111111111,\"#46039f\"],[0.2222222222222222,\"#7201a8\"],[0.3333333333333333,\"#9c179e\"],[0.4444444444444444,\"#bd3786\"],[0.5555555555555556,\"#d8576b\"],[0.6666666666666666,\"#ed7953\"],[0.7777777777777778,\"#fb9f3a\"],[0.8888888888888888,\"#fdca26\"],[1.0,\"#f0f921\"]],\"sequentialminus\":[[0.0,\"#0d0887\"],[0.1111111111111111,\"#46039f\"],[0.2222222222222222,\"#7201a8\"],[0.3333333333333333,\"#9c179e\"],[0.4444444444444444,\"#bd3786\"],[0.5555555555555556,\"#d8576b\"],[0.6666666666666666,\"#ed7953\"],[0.7777777777777778,\"#fb9f3a\"],[0.8888888888888888,\"#fdca26\"],[1.0,\"#f0f921\"]],\"diverging\":[[0,\"#8e0152\"],[0.1,\"#c51b7d\"],[0.2,\"#de77ae\"],[0.3,\"#f1b6da\"],[0.4,\"#fde0ef\"],[0.5,\"#f7f7f7\"],[0.6,\"#e6f5d0\"],[0.7,\"#b8e186\"],[0.8,\"#7fbc41\"],[0.9,\"#4d9221\"],[1,\"#276419\"]]},\"xaxis\":{\"gridcolor\":\"white\",\"linecolor\":\"white\",\"ticks\":\"\",\"title\":{\"standoff\":15},\"zerolinecolor\":\"white\",\"automargin\":true,\"zerolinewidth\":2},\"yaxis\":{\"gridcolor\":\"white\",\"linecolor\":\"white\",\"ticks\":\"\",\"title\":{\"standoff\":15},\"zerolinecolor\":\"white\",\"automargin\":true,\"zerolinewidth\":2},\"scene\":{\"xaxis\":{\"backgroundcolor\":\"#E5ECF6\",\"gridcolor\":\"white\",\"linecolor\":\"white\",\"showbackground\":true,\"ticks\":\"\",\"zerolinecolor\":\"white\",\"gridwidth\":2},\"yaxis\":{\"backgroundcolor\":\"#E5ECF6\",\"gridcolor\":\"white\",\"linecolor\":\"white\",\"showbackground\":true,\"ticks\":\"\",\"zerolinecolor\":\"white\",\"gridwidth\":2},\"zaxis\":{\"backgroundcolor\":\"#E5ECF6\",\"gridcolor\":\"white\",\"linecolor\":\"white\",\"showbackground\":true,\"ticks\":\"\",\"zerolinecolor\":\"white\",\"gridwidth\":2}},\"shapedefaults\":{\"line\":{\"color\":\"#2a3f5f\"}},\"annotationdefaults\":{\"arrowcolor\":\"#2a3f5f\",\"arrowhead\":0,\"arrowwidth\":1},\"geo\":{\"bgcolor\":\"white\",\"landcolor\":\"#E5ECF6\",\"subunitcolor\":\"white\",\"showland\":true,\"showlakes\":true,\"lakecolor\":\"white\"},\"title\":{\"x\":0.05},\"mapbox\":{\"style\":\"light\"}}},\"xaxis\":{\"anchor\":\"y\",\"domain\":[0.0,0.45],\"title\":{\"text\":\"Lead day\"},\"tickmode\":\"linear\",\"tick0\":0,\"dtick\":1},\"yaxis\":{\"anchor\":\"x\",\"domain\":[0.0,1.0],\"title\":{\"text\":\"MSE (\\u00b0C\\u003csup\\u003e2\\u003c\\u002fsup\\u003e)\"}},\"xaxis2\":{\"anchor\":\"y2\",\"domain\":[0.55,1.0],\"title\":{\"text\":\"Lead day\"},\"tickmode\":\"linear\",\"tick0\":0,\"dtick\":1},\"yaxis2\":{\"anchor\":\"x2\",\"domain\":[0.0,1.0],\"title\":{\"text\":\"Threshold weighted MSE (\\u00b0C\\u003csup\\u003e2\\u003c\\u002fsup\\u003e)\"}},\"annotations\":[{\"font\":{\"size\":12},\"showarrow\":false,\"text\":\"\\u003cb\\u003e(a)\\u003c\\u002fb\\u003e\",\"x\":0.225,\"xanchor\":\"left\",\"xref\":\"paper\",\"xshift\":-160,\"y\":1.0,\"yanchor\":\"bottom\",\"yref\":\"paper\"},{\"font\":{\"size\":12},\"showarrow\":false,\"text\":\"\\u003cb\\u003e(b)\\u003c\\u002fb\\u003e\",\"x\":0.775,\"xanchor\":\"left\",\"xref\":\"paper\",\"xshift\":-160,\"y\":1.0,\"yanchor\":\"bottom\",\"yref\":\"paper\"},{\"showarrow\":false,\"text\":\"Lower scores better\",\"x\":4,\"xref\":\"x\",\"y\":2.5,\"yref\":\"y\"},{\"showarrow\":false,\"text\":\"Lower scores better\",\"x\":4,\"xref\":\"x2\",\"y\":0.4,\"yref\":\"y2\"}],\"legend\":{\"x\":0.99,\"y\":0.01,\"yanchor\":\"bottom\",\"xanchor\":\"right\"},\"height\":300,\"width\":800,\"margin\":{\"b\":20,\"l\":20,\"r\":20,\"t\":20}},                        {\"responsive\": true}                    ).then(function(){\n",
       "                            \n",
       "var gd = document.getElementById('fe86eb5e-72c2-4ea8-98a2-1efd166cfda9');\n",
       "var x = new MutationObserver(function (mutations, observer) {{\n",
       "        var display = window.getComputedStyle(gd).display;\n",
       "        if (!display || display === 'none') {{\n",
       "            console.log([gd, 'removed!']);\n",
       "            Plotly.purge(gd);\n",
       "            observer.disconnect();\n",
       "        }}\n",
       "}});\n",
       "\n",
       "// Listen for the removal of the full notebook cells\n",
       "var notebookContainer = gd.closest('#notebook-container');\n",
       "if (notebookContainer) {{\n",
       "    x.observe(notebookContainer, {childList: true});\n",
       "}}\n",
       "\n",
       "// Listen for the clearing of the current output cell\n",
       "var outputEl = gd.closest('.output');\n",
       "if (outputEl) {{\n",
       "    x.observe(outputEl, {childList: true});\n",
       "}}\n",
       "\n",
       "                        })                };                });            </script>        </div>"
      ]
     },
     "metadata": {},
     "output_type": "display_data"
    }
   ],
   "source": [
    "official_line_colour = 'rgba(230,159,0,1)'\n",
    "autofcst_line_colour = 'rgba(86,180,233,1)'\n",
    "figure = make_subplots(rows=1, cols=2, subplot_titles=(\"<b>(a)</b>\", \"<b>(b)</b>\",))\n",
    "figure.update_annotations(font_size=12, xshift=-160, xanchor=\"left\")\n",
    "\n",
    "# Left - black summer MSE\n",
    "figure.add_trace(\n",
    "    go.Scatter(\n",
    "        x=official_bs_mse.lead_day,\n",
    "        y=official_bs_mse.values,\n",
    "        line=dict(color=official_line_colour),\n",
    "        name=\"Official\",\n",
    "        showlegend=False\n",
    "    ), row=1, col=1\n",
    ")\n",
    "figure.add_trace(\n",
    "    go.Scatter(\n",
    "        x=autofcst_bs_mse.lead_day,\n",
    "        y=autofcst_bs_mse.values,\n",
    "        line=dict(color=autofcst_line_colour),\n",
    "        name=\"Automated\",\n",
    "        showlegend=False\n",
    "    ), row=1, col=1\n",
    ")\n",
    "\n",
    "# right - black summer TW MSE\n",
    "figure.add_trace(\n",
    "    go.Scatter(\n",
    "        x=official_bs_tw.lead_day,\n",
    "        y=official_bs_tw.values,\n",
    "        line=dict(color=official_line_colour),\n",
    "        name=\"Official\",\n",
    "        showlegend=False\n",
    "    ), row=1, col=2\n",
    ")\n",
    "figure.add_trace(\n",
    "    go.Scatter(\n",
    "        x=autofcst_bs_tw.lead_day,\n",
    "        y=autofcst_bs_tw.values,\n",
    "        line=dict(color=autofcst_line_colour),\n",
    "        name=\"Automated\",\n",
    "        showlegend=False\n",
    "    ), row=1, col=2\n",
    ")\n",
    "\n",
    "figure.update_layout(\n",
    "    legend=dict(x=0.01,y=0.99),\n",
    "    height=300,\n",
    "    width=800,\n",
    "    margin=go.layout.Margin(\n",
    "        l=20, #left margin\n",
    "        r=20, #right margin\n",
    "        b=20, #bottom margin\n",
    "        t=20, #top margin\n",
    "    ),\n",
    ")\n",
    "figure.update_xaxes(title_text=\"Lead day\", row=1, col=1, tickmode=\"linear\", tick0=0, dtick=1)\n",
    "figure.update_xaxes(title_text=\"Lead day\", row=1, col=2, tickmode=\"linear\", tick0=0, dtick=1)\n",
    "figure.update_yaxes(title_text=\"MSE (°C<sup>2</sup>)\", row=1, col=1)\n",
    "figure.update_yaxes(title_text=\"Threshold weighted MSE (°C<sup>2</sup>)\", row=1, col=2)\n",
    "\n",
    "figure.add_annotation(x=4, y=2.5, text=\"Lower scores better\", showarrow=False, row=1, col=1)\n",
    "figure.add_annotation(x=4, y=0.4, text=\"Lower scores better\", showarrow=False, row=1, col=2)\n",
    "\n",
    "\n",
    "figure.update_layout(legend=dict(\n",
    "    yanchor=\"bottom\",\n",
    "    y=0.01,\n",
    "    xanchor=\"right\",\n",
    "    x=0.99\n",
    "))"
   ]
  },
  {
   "cell_type": "code",
   "execution_count": 39,
   "metadata": {},
   "outputs": [],
   "source": [
    "figure.write_image(\"../figures/results/temperature.svg\")"
   ]
  },
  {
   "cell_type": "markdown",
   "metadata": {},
   "source": [
    "### Generate map of stations"
   ]
  },
  {
   "cell_type": "code",
   "execution_count": 40,
   "metadata": {},
   "outputs": [
    {
     "data": {
      "application/vnd.plotly.v1+json": {
       "config": {
        "plotlyServerURL": "https://plot.ly"
       },
       "data": [
        {
         "geo": "geo",
         "hovertemplate": "LATITUDE=%{lat}<br>LONGITUDE=%{lon}<extra></extra>",
         "lat": [
          -15.51,
          -14.2964,
          -14.09,
          -15.7814,
          -16.638,
          -18.2337,
          -17.9475,
          -17.3706,
          -17.5768,
          -18.1814,
          -17.8964,
          -16.7671,
          -19.7419,
          -20.3725,
          -20.7097,
          -20.7594,
          -21.1756,
          -22.2406,
          -21.1906,
          -21.6689,
          -20.874,
          -24.8878,
          -23.0314,
          -25.8925,
          -26.6136,
          -23.4213,
          -23.1726,
          -28.1156,
          -29.2039,
          -30.2761,
          -28.8047,
          -31.9275,
          -30.3381,
          -31.6669,
          -32.1011,
          -31.4628,
          -32.0069,
          -31.9414,
          -31.956,
          -31.9192,
          -32.0072,
          -32.2433,
          -30.8392,
          -31.8112,
          -34.3728,
          -33.5372,
          -32.7103,
          -33.6825,
          -34.2508,
          -33.6818,
          -33.9486,
          -34.0281,
          -33.83,
          -33.6294,
          -33.9306,
          -34.5714,
          -33.3567,
          -34.5683,
          -32.5219,
          -33.3608,
          -34.9469,
          -34.9411,
          -31.6219,
          -33.1129,
          -33.8878,
          -33.1006,
          -33.6856,
          -32.6722,
          -31.6797,
          -30.8453,
          -32.2028,
          -32.2147,
          -30.7847,
          -33.5547,
          -32.9869,
          -28.8789,
          -28.6133,
          -27.8386,
          -31.2353,
          -26.1317,
          -25.0341,
          -21.7125,
          -12.4239,
          -12.249,
          -12.3895,
          -12.605,
          -12.4322,
          -11.4021,
          -12.6592,
          -11.3081,
          -12.2403,
          -13.0544,
          -12.635,
          -14.7236,
          -14.4728,
          -11.1629,
          -11.5485,
          -12.3272,
          -12.6099,
          -11.65,
          -12.0932,
          -12.0569,
          -12.2741,
          -11.9971,
          -13.9746,
          -16.2637,
          -13.6715,
          -15.7426,
          -16.4423,
          -16.0755,
          -15.4397,
          -16.403,
          -18.3324,
          -13.8345,
          -13.3275,
          -14.5229,
          -14.2494,
          -15.7441,
          -14.9408,
          -15.1853,
          -12.7934,
          -12.9141,
          -13.0889,
          -19.6423,
          -23.7951,
          -22.9494,
          -25.1896,
          -22.4518,
          -23.2656,
          -20.1823,
          -31.1558,
          -29.0347,
          -30.4869,
          -26.2635,
          -30.7051,
          -27.5553,
          -30.5963,
          -28.0997,
          -29.6587,
          -32.1297,
          -33.043,
          -31.4492,
          -33.7081,
          -33.0539,
          -34.3749,
          -34.5993,
          -32.8427,
          -32.1803,
          -32.5073,
          -34.2524,
          -32.6845,
          -34.675,
          -32.5707,
          -33.8226,
          -33.7676,
          -34.748,
          -35.1121,
          -35.2795,
          -33.9703,
          -35.7549,
          -35.7114,
          -35.7916,
          -34.9257,
          -34.7977,
          -34.9524,
          -34.7343,
          -34.7111,
          -34.9211,
          -34.5106,
          -34.4761,
          -34.9784,
          -35.5695,
          -34.7253,
          -35.1586,
          -35.3294,
          -35.1712,
          -35.5194,
          -34.439,
          -34.1983,
          -35.2836,
          -35.065,
          -36.1058,
          -35.3778,
          -37.7473,
          -37.2906,
          -36.9655,
          -36.9813,
          -36.6539,
          -37.1776,
          -12.6778,
          -10.5844,
          -13.7606,
          -12.6167,
          -15.9999,
          -12.785,
          -15.4818,
          -16.664,
          -20.6672,
          -17.6872,
          -17.7483,
          -20.6778,
          -20.6664,
          -18.7569,
          -20.8192,
          -18.3039,
          -20.7001,
          -16.8736,
          -15.4461,
          -17.0704,
          -14.9672,
          -17.6053,
          -19.2483,
          -18.5203,
          -19.2774,
          -17.6905,
          -19.4082,
          -19.3048,
          -19.6169,
          -21.1706,
          -20.3658,
          -21.1172,
          -22.4703,
          -23.161,
          -20.4925,
          -23.1364,
          -19.4569,
          -19.4168,
          -22.7433,
          -21.2894,
          -20.0153,
          -19.783,
          -22.0644,
          -22.7756,
          -24.4617,
          -23.6015,
          -23.9424,
          -23.5694,
          -23.4397,
          -24.4303,
          -19.9225,
          -21.8125,
          -21.84,
          -22.3617,
          -25.8975,
          -25.6167,
          -23.3753,
          -24.4935,
          -23.8553,
          -24.9069,
          -23.5322,
          -23.8697,
          -27.6297,
          -27.0314,
          -27.5436,
          -26.1831,
          -25.5132,
          -27.5716,
          -26.9586,
          -25.322,
          -25.9713,
          -26.6644,
          -28.1681,
          -27.939,
          -27.3917,
          -26.599,
          -26.3911,
          -27.4808,
          -26.5737,
          -27.5327,
          -27.2633,
          -27.0481,
          -27.2169,
          -27.9707,
          -26.6442,
          -28.6217,
          -27.4034,
          -27.1605,
          -28.2061,
          -27.5425,
          -26.6569,
          -26.5477,
          -28.0478,
          -26.4139,
          -27.4008,
          -27.9867,
          -31.5194,
          -29.4448,
          -31.0863,
          -30.8522,
          -29.7614,
          -30.0692,
          -32.0012,
          -33.3392,
          -31.484,
          -31.5388,
          -30.0362,
          -30.1006,
          -31.7267,
          -32.8833,
          -32.8261,
          -33.9382,
          -33.0682,
          -31.9861,
          -30.9776,
          -31.0824,
          -30.0372,
          -29.4898,
          -30.3154,
          -30.9537,
          -31.0742,
          -29.7752,
          -30.5273,
          -29.678,
          -29.4325,
          -29.6224,
          -29.7583,
          -28.8353,
          -28.8824,
          -29.183,
          -28.8305,
          -28.6399,
          -31.0711,
          -30.3189,
          -31.8895,
          -32.9184,
          -32.7939,
          -32.6296,
          -32.7914,
          -32.1852,
          -32.0335,
          -33.2814,
          -33.2894,
          -31.7416,
          -33.0887,
          -33.4351,
          -32.7023,
          -32.6976,
          -32.7244,
          -32.5628,
          -33.4119,
          -33.6185,
          -33.3768,
          -33.4346,
          -31.333,
          -33.1281,
          -32.2206,
          -33.3627,
          -33.8382,
          -33.8551,
          -33.9465,
          -34.0039,
          -33.9829,
          -33.6908,
          -33.8607,
          -33.9176,
          -33.9057,
          -33.8405,
          -33.8152,
          -34.1407,
          -33.8338,
          -33.6004,
          -33.8969,
          -33.7195,
          -33.851,
          -34.9469,
          -35.0936,
          -34.039,
          -34.3691,
          -34.5253,
          -34.5639,
          -34.6532,
          -34.4734,
          -34.0615,
          -34.3335,
          -34.081,
          -35.1103,
          -35.4253,
          -37.2622,
          -35.3635,
          -36.6722,
          -36.9077,
          -35.9004,
          -36.2939,
          -37.0016,
          -34.8085,
          -35.4184,
          -35.5293,
          -35.3088,
          -36.4917,
          -36.4069,
          -35.1583,
          -36.069,
          -35.9371,
          -36.2304,
          -34.2493,
          -34.4277,
          -34.6222,
          -34.705,
          -35.5575,
          -35.1327,
          -34.5412,
          -34.2487,
          -34.2358,
          -35.1201,
          -35.7151,
          -35.3766,
          -36.3093,
          -36.6722,
          -37.1169,
          -37.0222,
          -36.6699,
          -37.2281,
          -37.295,
          -37.072,
          -36.335,
          -36.2846,
          -36.4379,
          -36.7411,
          -36.0294,
          -36.4288,
          -36.1048,
          -36.4205,
          -36.2137,
          -37.145,
          -37.0491,
          -36.8708,
          -36.9772,
          -37.1017,
          -37.5679,
          -37.5976,
          -37.22,
          -37.3416,
          -37.6924,
          -37.6922,
          -38.1156,
          -39.1297,
          -38.6297,
          -38.5647,
          -37.8818,
          -38.2094,
          -37.8384,
          -37.7481,
          -38.8051,
          -38.1321,
          -38.1016,
          -37.7276,
          -37.7408,
          -37.98,
          -37.871,
          -37.864,
          -37.8748,
          -37.6654,
          -37.8255,
          -38.3065,
          -38.3646,
          -38.148,
          -38.4612,
          -37.9483,
          -37.7239,
          -37.8565,
          -38.0288,
          -38.0958,
          -37.9075,
          -37.0194,
          -36.8886,
          -37.3807,
          -37.2091,
          -37.5127,
          -37.7067,
          -38.8557,
          -38.2332,
          -38.3148,
          -37.6486,
          -38.3906,
          -38.0737,
          -38.4583,
          -37.5831,
          -38.2869,
          -37.9222,
          -40.9964,
          -41.1701,
          -41.1708,
          -41.4194,
          -41.1492,
          -41.389,
          -40.8347,
          -41.0547,
          -41.7256,
          -41.5476,
          -40.6764,
          -41.6428,
          -40.9928,
          -41.9953,
          -41.3381,
          -40.7292,
          -42.6621,
          -42.8339,
          -42.8897,
          -43.6578,
          -42.895,
          -43.2397,
          -43.2006,
          -42.4543,
          -43.4886,
          -42.6867,
          -42.9844,
          -42.9017,
          -43.0639,
          -42.7097,
          -42.4842,
          -42.2753,
          -41.8997,
          -42.1986,
          -43.0609,
          -42.155,
          -42.9831,
          -43.0425,
          -41.8444,
          -39.8804,
          -40.0911,
          -27.5433,
          -28.0437,
          -27.6932,
          -25.9351,
          -11.0047,
          -22.4936,
          -27.5517
         ],
         "legendgroup": "",
         "lon": [
          128.1503,
          126.6453,
          126.3867,
          128.71,
          128.4516,
          127.6666,
          122.2352,
          123.6611,
          123.8297,
          125.5619,
          122.3122,
          123.981,
          120.8433,
          118.6317,
          116.7742,
          117.1583,
          119.7497,
          114.0967,
          115.9797,
          115.1092,
          115.4066,
          113.67,
          115.0414,
          113.5772,
          118.5372,
          119.8023,
          117.7493,
          117.8425,
          116.0247,
          116.6714,
          114.6989,
          115.9764,
          115.5394,
          116.0189,
          115.8794,
          115.8642,
          115.5022,
          116.0506,
          115.7619,
          115.8728,
          116.1369,
          115.6839,
          115.2283,
          116.0227,
          115.1358,
          115.0189,
          116.0594,
          121.8275,
          116.145,
          115.4026,
          116.1311,
          115.1042,
          121.8925,
          115.3383,
          120.1283,
          117.0106,
          115.6447,
          116.3367,
          115.7119,
          116.1717,
          116.7222,
          117.8158,
          117.2217,
          118.84,
          119.1092,
          118.4647,
          117.6064,
          116.6706,
          128.8958,
          128.1092,
          127.5297,
          121.7547,
          121.4533,
          120.6997,
          121.6239,
          121.3186,
          122.4236,
          120.7031,
          119.3564,
          126.5839,
          128.301,
          122.2281,
          130.8925,
          131.0449,
          130.6306,
          131.2988,
          130.4428,
          130.4217,
          132.894,
          131.7651,
          131.8785,
          131.0252,
          130.3725,
          134.7456,
          132.2612,
          132.4813,
          132.9266,
          133.0069,
          131.0474,
          133.3797,
          134.8919,
          134.2339,
          136.8201,
          135.5726,
          136.463,
          133.3782,
          134.3415,
          136.8192,
          136.076,
          136.3041,
          130.5731,
          131.0145,
          130.6361,
          131.1872,
          133.0861,
          132.3826,
          129.5282,
          131.9181,
          130.8091,
          130.1169,
          130.8542,
          131.8663,
          131.8478,
          134.1833,
          133.889,
          136.1442,
          130.9737,
          133.6377,
          129.3844,
          130.0148,
          136.8054,
          134.7222,
          136.8739,
          132.1771,
          134.5786,
          135.4456,
          138.4219,
          140.1956,
          138.0684,
          133.6976,
          135.4519,
          130.8976,
          136.5026,
          137.5206,
          135.3741,
          135.8784,
          135.1515,
          133.6343,
          137.7169,
          135.7135,
          137.3689,
          135.3362,
          139.5645,
          138.5933,
          138.2182,
          137.5276,
          137.7395,
          136.9392,
          137.6628,
          136.5959,
          137.5231,
          137.2496,
          138.5832,
          138.6281,
          138.5196,
          138.4653,
          138.6222,
          138.6216,
          138.6763,
          139.0056,
          138.7088,
          138.2864,
          138.9278,
          138.5057,
          138.5019,
          138.6783,
          138.8177,
          140.5978,
          140.6766,
          138.8934,
          139.2273,
          140.3273,
          140.5378,
          140.7739,
          140.8254,
          139.7164,
          140.727,
          140.5212,
          139.8054,
          141.9208,
          142.29,
          143.1183,
          142.0869,
          144.0754,
          143.3047,
          141.7483,
          139.1837,
          141.7214,
          141.0733,
          139.5356,
          139.4875,
          140.505,
          138.7056,
          144.2333,
          143.5306,
          143.1137,
          145.7458,
          145.1861,
          145.4293,
          145.3106,
          145.9972,
          146.7661,
          146.3861,
          147.0586,
          146.1126,
          146.762,
          146.2438,
          147.3758,
          149.1794,
          148.9536,
          149.2169,
          150.1786,
          150.7901,
          148.555,
          150.7506,
          147.4833,
          146.5362,
          150.6578,
          149.3008,
          148.2138,
          146.5,
          148.0758,
          147.6217,
          148.6264,
          148.8074,
          147.525,
          148.1756,
          144.2828,
          145.4306,
          138.1214,
          139.9267,
          140.8925,
          143.0836,
          139.3472,
          151.6156,
          150.4775,
          150.5709,
          151.2628,
          152.323,
          151.2771,
          151.2214,
          152.7111,
          153.4661,
          152.3375,
          152.6414,
          152.7152,
          153.0071,
          152.9619,
          152.8817,
          152.8609,
          152.4606,
          153.5053,
          153.4283,
          153.1292,
          153.0912,
          153.0403,
          153.0389,
          151.8398,
          153.3333,
          153.2419,
          153.2664,
          153.0922,
          152.9898,
          152.9383,
          151.9533,
          151.7413,
          151.2633,
          152.1003,
          151.9134,
          150.1819,
          148.771,
          148.5957,
          146.2558,
          141.8114,
          143.815,
          143.385,
          142.0567,
          141.7008,
          143.0743,
          143.1135,
          141.0067,
          141.4694,
          143.4,
          145.8294,
          145.7964,
          145.9521,
          145.3338,
          144.9313,
          144.3092,
          145.8801,
          147.1962,
          147.2133,
          147.9489,
          148.3798,
          146.9296,
          148.1223,
          149.8471,
          149.8302,
          150.2494,
          150.8362,
          151.082,
          151.6158,
          151.694,
          153.3632,
          152.9605,
          153.0297,
          153.5585,
          153.0618,
          153.3964,
          153.2601,
          153.6358,
          152.7717,
          153.1162,
          152.512,
          151.7985,
          151.8364,
          151.5919,
          151.3369,
          150.1737,
          150.8264,
          151.5766,
          151.2107,
          150.7937,
          151.4636,
          151.3614,
          151.4881,
          151.1564,
          150.229,
          149.6149,
          149.654,
          150.2741,
          149.1263,
          150.135,
          149.2699,
          148.2428,
          148.5753,
          147.9205,
          148.654,
          151.2254,
          151.1731,
          151.2111,
          151.2502,
          151.2253,
          151.205,
          150.9837,
          151.1134,
          151.2643,
          151.2986,
          151.1185,
          151.0718,
          150.7761,
          150.7281,
          150.6783,
          150.8567,
          150.5353,
          150.8049,
          150.689,
          150.9291,
          150.4217,
          150.7924,
          150.8609,
          150.9118,
          150.7735,
          150.267,
          150.9009,
          150.0826,
          149.7835,
          150.0504,
          150.4828,
          149.8191,
          149.8989,
          150.1437,
          148.9725,
          149.2336,
          149.7311,
          149.0937,
          148.7721,
          149.2004,
          148.2859,
          148.4055,
          147.4575,
          146.9509,
          148.3779,
          148.1405,
          148.2475,
          147.5117,
          146.4326,
          146.514,
          144.9458,
          147.2512,
          144.8345,
          146.0695,
          142.0867,
          142.004,
          142.3569,
          143.5416,
          141.6486,
          142.2991,
          141.8031,
          141.2657,
          142.1733,
          143.2005,
          142.6039,
          142.7402,
          145.0638,
          143.3341,
          145.2673,
          144.3274,
          146.0305,
          145.3949,
          146.5094,
          146.3056,
          147.5395,
          146.4394,
          147.3347,
          147.2755,
          147.1342,
          147.6008,
          149.9158,
          149.7289,
          148.2626,
          149.0227,
          148.0908,
          148.4667,
          147.1323,
          146.4246,
          145.8107,
          146.7479,
          147.5669,
          146.4746,
          146.2747,
          147.1428,
          146.1936,
          145.9865,
          147.1398,
          144.9066,
          145.0972,
          145.0962,
          145.2561,
          144.9639,
          145.3497,
          144.8322,
          144.9816,
          144.8016,
          145.1785,
          145.1152,
          145.3101,
          144.9269,
          145.4092,
          144.7565,
          144.4783,
          144.5361,
          144.1303,
          144.5203,
          145.1859,
          144.9654,
          145.8423,
          143.7911,
          142.9378,
          143.513,
          143.7924,
          141.4705,
          142.0636,
          142.2347,
          142.7744,
          144.0883,
          141.334,
          142.4525,
          141.2614,
          145.7311,
          146.4289,
          147.4883,
          147.1219,
          145.1517,
          146.3173,
          145.0847,
          146.7874,
          147.0794,
          147.2156,
          144.6922,
          147.9664,
          148.3467,
          148.2794,
          148.2792,
          148.125,
          148.0179,
          147.5033,
          147.3278,
          146.2711,
          147.2358,
          148.0025,
          146.7683,
          147.4612,
          147.1444,
          147.4258,
          147.0756,
          147.7894,
          147.3567,
          146.8983,
          146.7106,
          146.2758,
          146.6694,
          145.17,
          146.704,
          145.2908,
          145.5025,
          146.2722,
          145.5417,
          143.8857,
          148.0024,
          153.2394,
          153.1871,
          152.9935,
          152.9647,
          136.7586,
          118.4715,
          151.7845
         ],
         "marker": {
          "color": "red",
          "size": 4,
          "symbol": "circle"
         },
         "mode": "markers",
         "name": "",
         "showlegend": false,
         "type": "scattergeo"
        }
       ],
       "layout": {
        "geo": {
         "center": {},
         "domain": {
          "x": [
           0,
           1
          ],
          "y": [
           0,
           1
          ]
         },
         "lataxis": {
          "dtick": 5,
          "gridcolor": "gray",
          "gridwidth": 0.5,
          "range": [
           -45,
           -10
          ],
          "showgrid": true
         },
         "lonaxis": {
          "dtick": 5,
          "gridcolor": "gray",
          "gridwidth": 0.5,
          "range": [
           110,
           155
          ],
          "showgrid": true
         },
         "oceancolor": "rgb(144, 195, 245)",
         "resolution": 50,
         "showcoastlines": true,
         "showcountries": true,
         "showframe": true,
         "showland": true,
         "showocean": true
        },
        "height": 350,
        "legend": {
         "tracegroupgap": 0
        },
        "margin": {
         "b": 0,
         "l": 0,
         "r": 0,
         "t": 40
        },
        "template": {
         "data": {
          "bar": [
           {
            "error_x": {
             "color": "#2a3f5f"
            },
            "error_y": {
             "color": "#2a3f5f"
            },
            "marker": {
             "line": {
              "color": "#E5ECF6",
              "width": 0.5
             },
             "pattern": {
              "fillmode": "overlay",
              "size": 10,
              "solidity": 0.2
             }
            },
            "type": "bar"
           }
          ],
          "barpolar": [
           {
            "marker": {
             "line": {
              "color": "#E5ECF6",
              "width": 0.5
             },
             "pattern": {
              "fillmode": "overlay",
              "size": 10,
              "solidity": 0.2
             }
            },
            "type": "barpolar"
           }
          ],
          "carpet": [
           {
            "aaxis": {
             "endlinecolor": "#2a3f5f",
             "gridcolor": "white",
             "linecolor": "white",
             "minorgridcolor": "white",
             "startlinecolor": "#2a3f5f"
            },
            "baxis": {
             "endlinecolor": "#2a3f5f",
             "gridcolor": "white",
             "linecolor": "white",
             "minorgridcolor": "white",
             "startlinecolor": "#2a3f5f"
            },
            "type": "carpet"
           }
          ],
          "choropleth": [
           {
            "colorbar": {
             "outlinewidth": 0,
             "ticks": ""
            },
            "type": "choropleth"
           }
          ],
          "contour": [
           {
            "colorbar": {
             "outlinewidth": 0,
             "ticks": ""
            },
            "colorscale": [
             [
              0,
              "#0d0887"
             ],
             [
              0.1111111111111111,
              "#46039f"
             ],
             [
              0.2222222222222222,
              "#7201a8"
             ],
             [
              0.3333333333333333,
              "#9c179e"
             ],
             [
              0.4444444444444444,
              "#bd3786"
             ],
             [
              0.5555555555555556,
              "#d8576b"
             ],
             [
              0.6666666666666666,
              "#ed7953"
             ],
             [
              0.7777777777777778,
              "#fb9f3a"
             ],
             [
              0.8888888888888888,
              "#fdca26"
             ],
             [
              1,
              "#f0f921"
             ]
            ],
            "type": "contour"
           }
          ],
          "contourcarpet": [
           {
            "colorbar": {
             "outlinewidth": 0,
             "ticks": ""
            },
            "type": "contourcarpet"
           }
          ],
          "heatmap": [
           {
            "colorbar": {
             "outlinewidth": 0,
             "ticks": ""
            },
            "colorscale": [
             [
              0,
              "#0d0887"
             ],
             [
              0.1111111111111111,
              "#46039f"
             ],
             [
              0.2222222222222222,
              "#7201a8"
             ],
             [
              0.3333333333333333,
              "#9c179e"
             ],
             [
              0.4444444444444444,
              "#bd3786"
             ],
             [
              0.5555555555555556,
              "#d8576b"
             ],
             [
              0.6666666666666666,
              "#ed7953"
             ],
             [
              0.7777777777777778,
              "#fb9f3a"
             ],
             [
              0.8888888888888888,
              "#fdca26"
             ],
             [
              1,
              "#f0f921"
             ]
            ],
            "type": "heatmap"
           }
          ],
          "heatmapgl": [
           {
            "colorbar": {
             "outlinewidth": 0,
             "ticks": ""
            },
            "colorscale": [
             [
              0,
              "#0d0887"
             ],
             [
              0.1111111111111111,
              "#46039f"
             ],
             [
              0.2222222222222222,
              "#7201a8"
             ],
             [
              0.3333333333333333,
              "#9c179e"
             ],
             [
              0.4444444444444444,
              "#bd3786"
             ],
             [
              0.5555555555555556,
              "#d8576b"
             ],
             [
              0.6666666666666666,
              "#ed7953"
             ],
             [
              0.7777777777777778,
              "#fb9f3a"
             ],
             [
              0.8888888888888888,
              "#fdca26"
             ],
             [
              1,
              "#f0f921"
             ]
            ],
            "type": "heatmapgl"
           }
          ],
          "histogram": [
           {
            "marker": {
             "pattern": {
              "fillmode": "overlay",
              "size": 10,
              "solidity": 0.2
             }
            },
            "type": "histogram"
           }
          ],
          "histogram2d": [
           {
            "colorbar": {
             "outlinewidth": 0,
             "ticks": ""
            },
            "colorscale": [
             [
              0,
              "#0d0887"
             ],
             [
              0.1111111111111111,
              "#46039f"
             ],
             [
              0.2222222222222222,
              "#7201a8"
             ],
             [
              0.3333333333333333,
              "#9c179e"
             ],
             [
              0.4444444444444444,
              "#bd3786"
             ],
             [
              0.5555555555555556,
              "#d8576b"
             ],
             [
              0.6666666666666666,
              "#ed7953"
             ],
             [
              0.7777777777777778,
              "#fb9f3a"
             ],
             [
              0.8888888888888888,
              "#fdca26"
             ],
             [
              1,
              "#f0f921"
             ]
            ],
            "type": "histogram2d"
           }
          ],
          "histogram2dcontour": [
           {
            "colorbar": {
             "outlinewidth": 0,
             "ticks": ""
            },
            "colorscale": [
             [
              0,
              "#0d0887"
             ],
             [
              0.1111111111111111,
              "#46039f"
             ],
             [
              0.2222222222222222,
              "#7201a8"
             ],
             [
              0.3333333333333333,
              "#9c179e"
             ],
             [
              0.4444444444444444,
              "#bd3786"
             ],
             [
              0.5555555555555556,
              "#d8576b"
             ],
             [
              0.6666666666666666,
              "#ed7953"
             ],
             [
              0.7777777777777778,
              "#fb9f3a"
             ],
             [
              0.8888888888888888,
              "#fdca26"
             ],
             [
              1,
              "#f0f921"
             ]
            ],
            "type": "histogram2dcontour"
           }
          ],
          "mesh3d": [
           {
            "colorbar": {
             "outlinewidth": 0,
             "ticks": ""
            },
            "type": "mesh3d"
           }
          ],
          "parcoords": [
           {
            "line": {
             "colorbar": {
              "outlinewidth": 0,
              "ticks": ""
             }
            },
            "type": "parcoords"
           }
          ],
          "pie": [
           {
            "automargin": true,
            "type": "pie"
           }
          ],
          "scatter": [
           {
            "fillpattern": {
             "fillmode": "overlay",
             "size": 10,
             "solidity": 0.2
            },
            "type": "scatter"
           }
          ],
          "scatter3d": [
           {
            "line": {
             "colorbar": {
              "outlinewidth": 0,
              "ticks": ""
             }
            },
            "marker": {
             "colorbar": {
              "outlinewidth": 0,
              "ticks": ""
             }
            },
            "type": "scatter3d"
           }
          ],
          "scattercarpet": [
           {
            "marker": {
             "colorbar": {
              "outlinewidth": 0,
              "ticks": ""
             }
            },
            "type": "scattercarpet"
           }
          ],
          "scattergeo": [
           {
            "marker": {
             "colorbar": {
              "outlinewidth": 0,
              "ticks": ""
             }
            },
            "type": "scattergeo"
           }
          ],
          "scattergl": [
           {
            "marker": {
             "colorbar": {
              "outlinewidth": 0,
              "ticks": ""
             }
            },
            "type": "scattergl"
           }
          ],
          "scattermapbox": [
           {
            "marker": {
             "colorbar": {
              "outlinewidth": 0,
              "ticks": ""
             }
            },
            "type": "scattermapbox"
           }
          ],
          "scatterpolar": [
           {
            "marker": {
             "colorbar": {
              "outlinewidth": 0,
              "ticks": ""
             }
            },
            "type": "scatterpolar"
           }
          ],
          "scatterpolargl": [
           {
            "marker": {
             "colorbar": {
              "outlinewidth": 0,
              "ticks": ""
             }
            },
            "type": "scatterpolargl"
           }
          ],
          "scatterternary": [
           {
            "marker": {
             "colorbar": {
              "outlinewidth": 0,
              "ticks": ""
             }
            },
            "type": "scatterternary"
           }
          ],
          "surface": [
           {
            "colorbar": {
             "outlinewidth": 0,
             "ticks": ""
            },
            "colorscale": [
             [
              0,
              "#0d0887"
             ],
             [
              0.1111111111111111,
              "#46039f"
             ],
             [
              0.2222222222222222,
              "#7201a8"
             ],
             [
              0.3333333333333333,
              "#9c179e"
             ],
             [
              0.4444444444444444,
              "#bd3786"
             ],
             [
              0.5555555555555556,
              "#d8576b"
             ],
             [
              0.6666666666666666,
              "#ed7953"
             ],
             [
              0.7777777777777778,
              "#fb9f3a"
             ],
             [
              0.8888888888888888,
              "#fdca26"
             ],
             [
              1,
              "#f0f921"
             ]
            ],
            "type": "surface"
           }
          ],
          "table": [
           {
            "cells": {
             "fill": {
              "color": "#EBF0F8"
             },
             "line": {
              "color": "white"
             }
            },
            "header": {
             "fill": {
              "color": "#C8D4E3"
             },
             "line": {
              "color": "white"
             }
            },
            "type": "table"
           }
          ]
         },
         "layout": {
          "annotationdefaults": {
           "arrowcolor": "#2a3f5f",
           "arrowhead": 0,
           "arrowwidth": 1
          },
          "autotypenumbers": "strict",
          "coloraxis": {
           "colorbar": {
            "outlinewidth": 0,
            "ticks": ""
           }
          },
          "colorscale": {
           "diverging": [
            [
             0,
             "#8e0152"
            ],
            [
             0.1,
             "#c51b7d"
            ],
            [
             0.2,
             "#de77ae"
            ],
            [
             0.3,
             "#f1b6da"
            ],
            [
             0.4,
             "#fde0ef"
            ],
            [
             0.5,
             "#f7f7f7"
            ],
            [
             0.6,
             "#e6f5d0"
            ],
            [
             0.7,
             "#b8e186"
            ],
            [
             0.8,
             "#7fbc41"
            ],
            [
             0.9,
             "#4d9221"
            ],
            [
             1,
             "#276419"
            ]
           ],
           "sequential": [
            [
             0,
             "#0d0887"
            ],
            [
             0.1111111111111111,
             "#46039f"
            ],
            [
             0.2222222222222222,
             "#7201a8"
            ],
            [
             0.3333333333333333,
             "#9c179e"
            ],
            [
             0.4444444444444444,
             "#bd3786"
            ],
            [
             0.5555555555555556,
             "#d8576b"
            ],
            [
             0.6666666666666666,
             "#ed7953"
            ],
            [
             0.7777777777777778,
             "#fb9f3a"
            ],
            [
             0.8888888888888888,
             "#fdca26"
            ],
            [
             1,
             "#f0f921"
            ]
           ],
           "sequentialminus": [
            [
             0,
             "#0d0887"
            ],
            [
             0.1111111111111111,
             "#46039f"
            ],
            [
             0.2222222222222222,
             "#7201a8"
            ],
            [
             0.3333333333333333,
             "#9c179e"
            ],
            [
             0.4444444444444444,
             "#bd3786"
            ],
            [
             0.5555555555555556,
             "#d8576b"
            ],
            [
             0.6666666666666666,
             "#ed7953"
            ],
            [
             0.7777777777777778,
             "#fb9f3a"
            ],
            [
             0.8888888888888888,
             "#fdca26"
            ],
            [
             1,
             "#f0f921"
            ]
           ]
          },
          "colorway": [
           "#636efa",
           "#EF553B",
           "#00cc96",
           "#ab63fa",
           "#FFA15A",
           "#19d3f3",
           "#FF6692",
           "#B6E880",
           "#FF97FF",
           "#FECB52"
          ],
          "font": {
           "color": "#2a3f5f"
          },
          "geo": {
           "bgcolor": "white",
           "lakecolor": "white",
           "landcolor": "#E5ECF6",
           "showlakes": true,
           "showland": true,
           "subunitcolor": "white"
          },
          "hoverlabel": {
           "align": "left"
          },
          "hovermode": "closest",
          "mapbox": {
           "style": "light"
          },
          "paper_bgcolor": "white",
          "plot_bgcolor": "#E5ECF6",
          "polar": {
           "angularaxis": {
            "gridcolor": "white",
            "linecolor": "white",
            "ticks": ""
           },
           "bgcolor": "#E5ECF6",
           "radialaxis": {
            "gridcolor": "white",
            "linecolor": "white",
            "ticks": ""
           }
          },
          "scene": {
           "xaxis": {
            "backgroundcolor": "#E5ECF6",
            "gridcolor": "white",
            "gridwidth": 2,
            "linecolor": "white",
            "showbackground": true,
            "ticks": "",
            "zerolinecolor": "white"
           },
           "yaxis": {
            "backgroundcolor": "#E5ECF6",
            "gridcolor": "white",
            "gridwidth": 2,
            "linecolor": "white",
            "showbackground": true,
            "ticks": "",
            "zerolinecolor": "white"
           },
           "zaxis": {
            "backgroundcolor": "#E5ECF6",
            "gridcolor": "white",
            "gridwidth": 2,
            "linecolor": "white",
            "showbackground": true,
            "ticks": "",
            "zerolinecolor": "white"
           }
          },
          "shapedefaults": {
           "line": {
            "color": "#2a3f5f"
           }
          },
          "ternary": {
           "aaxis": {
            "gridcolor": "white",
            "linecolor": "white",
            "ticks": ""
           },
           "baxis": {
            "gridcolor": "white",
            "linecolor": "white",
            "ticks": ""
           },
           "bgcolor": "#E5ECF6",
           "caxis": {
            "gridcolor": "white",
            "linecolor": "white",
            "ticks": ""
           }
          },
          "title": {
           "x": 0.05
          },
          "xaxis": {
           "automargin": true,
           "gridcolor": "white",
           "linecolor": "white",
           "ticks": "",
           "title": {
            "standoff": 15
           },
           "zerolinecolor": "white",
           "zerolinewidth": 2
          },
          "yaxis": {
           "automargin": true,
           "gridcolor": "white",
           "linecolor": "white",
           "ticks": "",
           "title": {
            "standoff": 15
           },
           "zerolinecolor": "white",
           "zerolinewidth": 2
          }
         }
        },
        "title": {
         "text": "d)"
        },
        "width": 400
       }
      },
      "text/html": [
       "<div>                            <div id=\"46bace7d-26fc-4116-ab0b-9f6fe3518d98\" class=\"plotly-graph-div\" style=\"height:350px; width:400px;\"></div>            <script type=\"text/javascript\">                require([\"plotly\"], function(Plotly) {                    window.PLOTLYENV=window.PLOTLYENV || {};                                    if (document.getElementById(\"46bace7d-26fc-4116-ab0b-9f6fe3518d98\")) {                    Plotly.newPlot(                        \"46bace7d-26fc-4116-ab0b-9f6fe3518d98\",                        [{\"geo\":\"geo\",\"hovertemplate\":\"LATITUDE=%{lat}\\u003cbr\\u003eLONGITUDE=%{lon}\\u003cextra\\u003e\\u003c\\u002fextra\\u003e\",\"lat\":[-15.51,-14.2964,-14.09,-15.7814,-16.638,-18.2337,-17.9475,-17.3706,-17.5768,-18.1814,-17.8964,-16.7671,-19.7419,-20.3725,-20.7097,-20.7594,-21.1756,-22.2406,-21.1906,-21.6689,-20.874,-24.8878,-23.0314,-25.8925,-26.6136,-23.4213,-23.1726,-28.1156,-29.2039,-30.2761,-28.8047,-31.9275,-30.3381,-31.6669,-32.1011,-31.4628,-32.0069,-31.9414,-31.956,-31.9192,-32.0072,-32.2433,-30.8392,-31.8112,-34.3728,-33.5372,-32.7103,-33.6825,-34.2508,-33.6818,-33.9486,-34.0281,-33.83,-33.6294,-33.9306,-34.5714,-33.3567,-34.5683,-32.5219,-33.3608,-34.9469,-34.9411,-31.6219,-33.1129,-33.8878,-33.1006,-33.6856,-32.6722,-31.6797,-30.8453,-32.2028,-32.2147,-30.7847,-33.5547,-32.9869,-28.8789,-28.6133,-27.8386,-31.2353,-26.1317,-25.0341,-21.7125,-12.4239,-12.249,-12.3895,-12.605,-12.4322,-11.4021,-12.6592,-11.3081,-12.2403,-13.0544,-12.635,-14.7236,-14.4728,-11.1629,-11.5485,-12.3272,-12.6099,-11.65,-12.0932,-12.0569,-12.2741,-11.9971,-13.9746,-16.2637,-13.6715,-15.7426,-16.4423,-16.0755,-15.4397,-16.403,-18.3324,-13.8345,-13.3275,-14.5229,-14.2494,-15.7441,-14.9408,-15.1853,-12.7934,-12.9141,-13.0889,-19.6423,-23.7951,-22.9494,-25.1896,-22.4518,-23.2656,-20.1823,-31.1558,-29.0347,-30.4869,-26.2635,-30.7051,-27.5553,-30.5963,-28.0997,-29.6587,-32.1297,-33.043,-31.4492,-33.7081,-33.0539,-34.3749,-34.5993,-32.8427,-32.1803,-32.5073,-34.2524,-32.6845,-34.675,-32.5707,-33.8226,-33.7676,-34.748,-35.1121,-35.2795,-33.9703,-35.7549,-35.7114,-35.7916,-34.9257,-34.7977,-34.9524,-34.7343,-34.7111,-34.9211,-34.5106,-34.4761,-34.9784,-35.5695,-34.7253,-35.1586,-35.3294,-35.1712,-35.5194,-34.439,-34.1983,-35.2836,-35.065,-36.1058,-35.3778,-37.7473,-37.2906,-36.9655,-36.9813,-36.6539,-37.1776,-12.6778,-10.5844,-13.7606,-12.6167,-15.9999,-12.785,-15.4818,-16.664,-20.6672,-17.6872,-17.7483,-20.6778,-20.6664,-18.7569,-20.8192,-18.3039,-20.7001,-16.8736,-15.4461,-17.0704,-14.9672,-17.6053,-19.2483,-18.5203,-19.2774,-17.6905,-19.4082,-19.3048,-19.6169,-21.1706,-20.3658,-21.1172,-22.4703,-23.161,-20.4925,-23.1364,-19.4569,-19.4168,-22.7433,-21.2894,-20.0153,-19.783,-22.0644,-22.7756,-24.4617,-23.6015,-23.9424,-23.5694,-23.4397,-24.4303,-19.9225,-21.8125,-21.84,-22.3617,-25.8975,-25.6167,-23.3753,-24.4935,-23.8553,-24.9069,-23.5322,-23.8697,-27.6297,-27.0314,-27.5436,-26.1831,-25.5132,-27.5716,-26.9586,-25.322,-25.9713,-26.6644,-28.1681,-27.939,-27.3917,-26.599,-26.3911,-27.4808,-26.5737,-27.5327,-27.2633,-27.0481,-27.2169,-27.9707,-26.6442,-28.6217,-27.4034,-27.1605,-28.2061,-27.5425,-26.6569,-26.5477,-28.0478,-26.4139,-27.4008,-27.9867,-31.5194,-29.4448,-31.0863,-30.8522,-29.7614,-30.0692,-32.0012,-33.3392,-31.484,-31.5388,-30.0362,-30.1006,-31.7267,-32.8833,-32.8261,-33.9382,-33.0682,-31.9861,-30.9776,-31.0824,-30.0372,-29.4898,-30.3154,-30.9537,-31.0742,-29.7752,-30.5273,-29.678,-29.4325,-29.6224,-29.7583,-28.8353,-28.8824,-29.183,-28.8305,-28.6399,-31.0711,-30.3189,-31.8895,-32.9184,-32.7939,-32.6296,-32.7914,-32.1852,-32.0335,-33.2814,-33.2894,-31.7416,-33.0887,-33.4351,-32.7023,-32.6976,-32.7244,-32.5628,-33.4119,-33.6185,-33.3768,-33.4346,-31.333,-33.1281,-32.2206,-33.3627,-33.8382,-33.8551,-33.9465,-34.0039,-33.9829,-33.6908,-33.8607,-33.9176,-33.9057,-33.8405,-33.8152,-34.1407,-33.8338,-33.6004,-33.8969,-33.7195,-33.851,-34.9469,-35.0936,-34.039,-34.3691,-34.5253,-34.5639,-34.6532,-34.4734,-34.0615,-34.3335,-34.081,-35.1103,-35.4253,-37.2622,-35.3635,-36.6722,-36.9077,-35.9004,-36.2939,-37.0016,-34.8085,-35.4184,-35.5293,-35.3088,-36.4917,-36.4069,-35.1583,-36.069,-35.9371,-36.2304,-34.2493,-34.4277,-34.6222,-34.705,-35.5575,-35.1327,-34.5412,-34.2487,-34.2358,-35.1201,-35.7151,-35.3766,-36.3093,-36.6722,-37.1169,-37.0222,-36.6699,-37.2281,-37.295,-37.072,-36.335,-36.2846,-36.4379,-36.7411,-36.0294,-36.4288,-36.1048,-36.4205,-36.2137,-37.145,-37.0491,-36.8708,-36.9772,-37.1017,-37.5679,-37.5976,-37.22,-37.3416,-37.6924,-37.6922,-38.1156,-39.1297,-38.6297,-38.5647,-37.8818,-38.2094,-37.8384,-37.7481,-38.8051,-38.1321,-38.1016,-37.7276,-37.7408,-37.98,-37.871,-37.864,-37.8748,-37.6654,-37.8255,-38.3065,-38.3646,-38.148,-38.4612,-37.9483,-37.7239,-37.8565,-38.0288,-38.0958,-37.9075,-37.0194,-36.8886,-37.3807,-37.2091,-37.5127,-37.7067,-38.8557,-38.2332,-38.3148,-37.6486,-38.3906,-38.0737,-38.4583,-37.5831,-38.2869,-37.9222,-40.9964,-41.1701,-41.1708,-41.4194,-41.1492,-41.389,-40.8347,-41.0547,-41.7256,-41.5476,-40.6764,-41.6428,-40.9928,-41.9953,-41.3381,-40.7292,-42.6621,-42.8339,-42.8897,-43.6578,-42.895,-43.2397,-43.2006,-42.4543,-43.4886,-42.6867,-42.9844,-42.9017,-43.0639,-42.7097,-42.4842,-42.2753,-41.8997,-42.1986,-43.0609,-42.155,-42.9831,-43.0425,-41.8444,-39.8804,-40.0911,-27.5433,-28.0437,-27.6932,-25.9351,-11.0047,-22.4936,-27.5517],\"legendgroup\":\"\",\"lon\":[128.1503,126.6453,126.3867,128.71,128.4516,127.6666,122.2352,123.6611,123.8297,125.5619,122.3122,123.981,120.8433,118.6317,116.7742,117.1583,119.7497,114.0967,115.9797,115.1092,115.4066,113.67,115.0414,113.5772,118.5372,119.8023,117.7493,117.8425,116.0247,116.6714,114.6989,115.9764,115.5394,116.0189,115.8794,115.8642,115.5022,116.0506,115.7619,115.8728,116.1369,115.6839,115.2283,116.0227,115.1358,115.0189,116.0594,121.8275,116.145,115.4026,116.1311,115.1042,121.8925,115.3383,120.1283,117.0106,115.6447,116.3367,115.7119,116.1717,116.7222,117.8158,117.2217,118.84,119.1092,118.4647,117.6064,116.6706,128.8958,128.1092,127.5297,121.7547,121.4533,120.6997,121.6239,121.3186,122.4236,120.7031,119.3564,126.5839,128.301,122.2281,130.8925,131.0449,130.6306,131.2988,130.4428,130.4217,132.894,131.7651,131.8785,131.0252,130.3725,134.7456,132.2612,132.4813,132.9266,133.0069,131.0474,133.3797,134.8919,134.2339,136.8201,135.5726,136.463,133.3782,134.3415,136.8192,136.076,136.3041,130.5731,131.0145,130.6361,131.1872,133.0861,132.3826,129.5282,131.9181,130.8091,130.1169,130.8542,131.8663,131.8478,134.1833,133.889,136.1442,130.9737,133.6377,129.3844,130.0148,136.8054,134.7222,136.8739,132.1771,134.5786,135.4456,138.4219,140.1956,138.0684,133.6976,135.4519,130.8976,136.5026,137.5206,135.3741,135.8784,135.1515,133.6343,137.7169,135.7135,137.3689,135.3362,139.5645,138.5933,138.2182,137.5276,137.7395,136.9392,137.6628,136.5959,137.5231,137.2496,138.5832,138.6281,138.5196,138.4653,138.6222,138.6216,138.6763,139.0056,138.7088,138.2864,138.9278,138.5057,138.5019,138.6783,138.8177,140.5978,140.6766,138.8934,139.2273,140.3273,140.5378,140.7739,140.8254,139.7164,140.727,140.5212,139.8054,141.9208,142.29,143.1183,142.0869,144.0754,143.3047,141.7483,139.1837,141.7214,141.0733,139.5356,139.4875,140.505,138.7056,144.2333,143.5306,143.1137,145.7458,145.1861,145.4293,145.3106,145.9972,146.7661,146.3861,147.0586,146.1126,146.762,146.2438,147.3758,149.1794,148.9536,149.2169,150.1786,150.7901,148.555,150.7506,147.4833,146.5362,150.6578,149.3008,148.2138,146.5,148.0758,147.6217,148.6264,148.8074,147.525,148.1756,144.2828,145.4306,138.1214,139.9267,140.8925,143.0836,139.3472,151.6156,150.4775,150.5709,151.2628,152.323,151.2771,151.2214,152.7111,153.4661,152.3375,152.6414,152.7152,153.0071,152.9619,152.8817,152.8609,152.4606,153.5053,153.4283,153.1292,153.0912,153.0403,153.0389,151.8398,153.3333,153.2419,153.2664,153.0922,152.9898,152.9383,151.9533,151.7413,151.2633,152.1003,151.9134,150.1819,148.771,148.5957,146.2558,141.8114,143.815,143.385,142.0567,141.7008,143.0743,143.1135,141.0067,141.4694,143.4,145.8294,145.7964,145.9521,145.3338,144.9313,144.3092,145.8801,147.1962,147.2133,147.9489,148.3798,146.9296,148.1223,149.8471,149.8302,150.2494,150.8362,151.082,151.6158,151.694,153.3632,152.9605,153.0297,153.5585,153.0618,153.3964,153.2601,153.6358,152.7717,153.1162,152.512,151.7985,151.8364,151.5919,151.3369,150.1737,150.8264,151.5766,151.2107,150.7937,151.4636,151.3614,151.4881,151.1564,150.229,149.6149,149.654,150.2741,149.1263,150.135,149.2699,148.2428,148.5753,147.9205,148.654,151.2254,151.1731,151.2111,151.2502,151.2253,151.205,150.9837,151.1134,151.2643,151.2986,151.1185,151.0718,150.7761,150.7281,150.6783,150.8567,150.5353,150.8049,150.689,150.9291,150.4217,150.7924,150.8609,150.9118,150.7735,150.267,150.9009,150.0826,149.7835,150.0504,150.4828,149.8191,149.8989,150.1437,148.9725,149.2336,149.7311,149.0937,148.7721,149.2004,148.2859,148.4055,147.4575,146.9509,148.3779,148.1405,148.2475,147.5117,146.4326,146.514,144.9458,147.2512,144.8345,146.0695,142.0867,142.004,142.3569,143.5416,141.6486,142.2991,141.8031,141.2657,142.1733,143.2005,142.6039,142.7402,145.0638,143.3341,145.2673,144.3274,146.0305,145.3949,146.5094,146.3056,147.5395,146.4394,147.3347,147.2755,147.1342,147.6008,149.9158,149.7289,148.2626,149.0227,148.0908,148.4667,147.1323,146.4246,145.8107,146.7479,147.5669,146.4746,146.2747,147.1428,146.1936,145.9865,147.1398,144.9066,145.0972,145.0962,145.2561,144.9639,145.3497,144.8322,144.9816,144.8016,145.1785,145.1152,145.3101,144.9269,145.4092,144.7565,144.4783,144.5361,144.1303,144.5203,145.1859,144.9654,145.8423,143.7911,142.9378,143.513,143.7924,141.4705,142.0636,142.2347,142.7744,144.0883,141.334,142.4525,141.2614,145.7311,146.4289,147.4883,147.1219,145.1517,146.3173,145.0847,146.7874,147.0794,147.2156,144.6922,147.9664,148.3467,148.2794,148.2792,148.125,148.0179,147.5033,147.3278,146.2711,147.2358,148.0025,146.7683,147.4612,147.1444,147.4258,147.0756,147.7894,147.3567,146.8983,146.7106,146.2758,146.6694,145.17,146.704,145.2908,145.5025,146.2722,145.5417,143.8857,148.0024,153.2394,153.1871,152.9935,152.9647,136.7586,118.4715,151.7845],\"marker\":{\"color\":\"red\",\"symbol\":\"circle\",\"size\":4},\"mode\":\"markers\",\"name\":\"\",\"showlegend\":false,\"type\":\"scattergeo\"}],                        {\"template\":{\"data\":{\"histogram2dcontour\":[{\"type\":\"histogram2dcontour\",\"colorbar\":{\"outlinewidth\":0,\"ticks\":\"\"},\"colorscale\":[[0.0,\"#0d0887\"],[0.1111111111111111,\"#46039f\"],[0.2222222222222222,\"#7201a8\"],[0.3333333333333333,\"#9c179e\"],[0.4444444444444444,\"#bd3786\"],[0.5555555555555556,\"#d8576b\"],[0.6666666666666666,\"#ed7953\"],[0.7777777777777778,\"#fb9f3a\"],[0.8888888888888888,\"#fdca26\"],[1.0,\"#f0f921\"]]}],\"choropleth\":[{\"type\":\"choropleth\",\"colorbar\":{\"outlinewidth\":0,\"ticks\":\"\"}}],\"histogram2d\":[{\"type\":\"histogram2d\",\"colorbar\":{\"outlinewidth\":0,\"ticks\":\"\"},\"colorscale\":[[0.0,\"#0d0887\"],[0.1111111111111111,\"#46039f\"],[0.2222222222222222,\"#7201a8\"],[0.3333333333333333,\"#9c179e\"],[0.4444444444444444,\"#bd3786\"],[0.5555555555555556,\"#d8576b\"],[0.6666666666666666,\"#ed7953\"],[0.7777777777777778,\"#fb9f3a\"],[0.8888888888888888,\"#fdca26\"],[1.0,\"#f0f921\"]]}],\"heatmap\":[{\"type\":\"heatmap\",\"colorbar\":{\"outlinewidth\":0,\"ticks\":\"\"},\"colorscale\":[[0.0,\"#0d0887\"],[0.1111111111111111,\"#46039f\"],[0.2222222222222222,\"#7201a8\"],[0.3333333333333333,\"#9c179e\"],[0.4444444444444444,\"#bd3786\"],[0.5555555555555556,\"#d8576b\"],[0.6666666666666666,\"#ed7953\"],[0.7777777777777778,\"#fb9f3a\"],[0.8888888888888888,\"#fdca26\"],[1.0,\"#f0f921\"]]}],\"heatmapgl\":[{\"type\":\"heatmapgl\",\"colorbar\":{\"outlinewidth\":0,\"ticks\":\"\"},\"colorscale\":[[0.0,\"#0d0887\"],[0.1111111111111111,\"#46039f\"],[0.2222222222222222,\"#7201a8\"],[0.3333333333333333,\"#9c179e\"],[0.4444444444444444,\"#bd3786\"],[0.5555555555555556,\"#d8576b\"],[0.6666666666666666,\"#ed7953\"],[0.7777777777777778,\"#fb9f3a\"],[0.8888888888888888,\"#fdca26\"],[1.0,\"#f0f921\"]]}],\"contourcarpet\":[{\"type\":\"contourcarpet\",\"colorbar\":{\"outlinewidth\":0,\"ticks\":\"\"}}],\"contour\":[{\"type\":\"contour\",\"colorbar\":{\"outlinewidth\":0,\"ticks\":\"\"},\"colorscale\":[[0.0,\"#0d0887\"],[0.1111111111111111,\"#46039f\"],[0.2222222222222222,\"#7201a8\"],[0.3333333333333333,\"#9c179e\"],[0.4444444444444444,\"#bd3786\"],[0.5555555555555556,\"#d8576b\"],[0.6666666666666666,\"#ed7953\"],[0.7777777777777778,\"#fb9f3a\"],[0.8888888888888888,\"#fdca26\"],[1.0,\"#f0f921\"]]}],\"surface\":[{\"type\":\"surface\",\"colorbar\":{\"outlinewidth\":0,\"ticks\":\"\"},\"colorscale\":[[0.0,\"#0d0887\"],[0.1111111111111111,\"#46039f\"],[0.2222222222222222,\"#7201a8\"],[0.3333333333333333,\"#9c179e\"],[0.4444444444444444,\"#bd3786\"],[0.5555555555555556,\"#d8576b\"],[0.6666666666666666,\"#ed7953\"],[0.7777777777777778,\"#fb9f3a\"],[0.8888888888888888,\"#fdca26\"],[1.0,\"#f0f921\"]]}],\"mesh3d\":[{\"type\":\"mesh3d\",\"colorbar\":{\"outlinewidth\":0,\"ticks\":\"\"}}],\"scatter\":[{\"fillpattern\":{\"fillmode\":\"overlay\",\"size\":10,\"solidity\":0.2},\"type\":\"scatter\"}],\"parcoords\":[{\"type\":\"parcoords\",\"line\":{\"colorbar\":{\"outlinewidth\":0,\"ticks\":\"\"}}}],\"scatterpolargl\":[{\"type\":\"scatterpolargl\",\"marker\":{\"colorbar\":{\"outlinewidth\":0,\"ticks\":\"\"}}}],\"bar\":[{\"error_x\":{\"color\":\"#2a3f5f\"},\"error_y\":{\"color\":\"#2a3f5f\"},\"marker\":{\"line\":{\"color\":\"#E5ECF6\",\"width\":0.5},\"pattern\":{\"fillmode\":\"overlay\",\"size\":10,\"solidity\":0.2}},\"type\":\"bar\"}],\"scattergeo\":[{\"type\":\"scattergeo\",\"marker\":{\"colorbar\":{\"outlinewidth\":0,\"ticks\":\"\"}}}],\"scatterpolar\":[{\"type\":\"scatterpolar\",\"marker\":{\"colorbar\":{\"outlinewidth\":0,\"ticks\":\"\"}}}],\"histogram\":[{\"marker\":{\"pattern\":{\"fillmode\":\"overlay\",\"size\":10,\"solidity\":0.2}},\"type\":\"histogram\"}],\"scattergl\":[{\"type\":\"scattergl\",\"marker\":{\"colorbar\":{\"outlinewidth\":0,\"ticks\":\"\"}}}],\"scatter3d\":[{\"type\":\"scatter3d\",\"line\":{\"colorbar\":{\"outlinewidth\":0,\"ticks\":\"\"}},\"marker\":{\"colorbar\":{\"outlinewidth\":0,\"ticks\":\"\"}}}],\"scattermapbox\":[{\"type\":\"scattermapbox\",\"marker\":{\"colorbar\":{\"outlinewidth\":0,\"ticks\":\"\"}}}],\"scatterternary\":[{\"type\":\"scatterternary\",\"marker\":{\"colorbar\":{\"outlinewidth\":0,\"ticks\":\"\"}}}],\"scattercarpet\":[{\"type\":\"scattercarpet\",\"marker\":{\"colorbar\":{\"outlinewidth\":0,\"ticks\":\"\"}}}],\"carpet\":[{\"aaxis\":{\"endlinecolor\":\"#2a3f5f\",\"gridcolor\":\"white\",\"linecolor\":\"white\",\"minorgridcolor\":\"white\",\"startlinecolor\":\"#2a3f5f\"},\"baxis\":{\"endlinecolor\":\"#2a3f5f\",\"gridcolor\":\"white\",\"linecolor\":\"white\",\"minorgridcolor\":\"white\",\"startlinecolor\":\"#2a3f5f\"},\"type\":\"carpet\"}],\"table\":[{\"cells\":{\"fill\":{\"color\":\"#EBF0F8\"},\"line\":{\"color\":\"white\"}},\"header\":{\"fill\":{\"color\":\"#C8D4E3\"},\"line\":{\"color\":\"white\"}},\"type\":\"table\"}],\"barpolar\":[{\"marker\":{\"line\":{\"color\":\"#E5ECF6\",\"width\":0.5},\"pattern\":{\"fillmode\":\"overlay\",\"size\":10,\"solidity\":0.2}},\"type\":\"barpolar\"}],\"pie\":[{\"automargin\":true,\"type\":\"pie\"}]},\"layout\":{\"autotypenumbers\":\"strict\",\"colorway\":[\"#636efa\",\"#EF553B\",\"#00cc96\",\"#ab63fa\",\"#FFA15A\",\"#19d3f3\",\"#FF6692\",\"#B6E880\",\"#FF97FF\",\"#FECB52\"],\"font\":{\"color\":\"#2a3f5f\"},\"hovermode\":\"closest\",\"hoverlabel\":{\"align\":\"left\"},\"paper_bgcolor\":\"white\",\"plot_bgcolor\":\"#E5ECF6\",\"polar\":{\"bgcolor\":\"#E5ECF6\",\"angularaxis\":{\"gridcolor\":\"white\",\"linecolor\":\"white\",\"ticks\":\"\"},\"radialaxis\":{\"gridcolor\":\"white\",\"linecolor\":\"white\",\"ticks\":\"\"}},\"ternary\":{\"bgcolor\":\"#E5ECF6\",\"aaxis\":{\"gridcolor\":\"white\",\"linecolor\":\"white\",\"ticks\":\"\"},\"baxis\":{\"gridcolor\":\"white\",\"linecolor\":\"white\",\"ticks\":\"\"},\"caxis\":{\"gridcolor\":\"white\",\"linecolor\":\"white\",\"ticks\":\"\"}},\"coloraxis\":{\"colorbar\":{\"outlinewidth\":0,\"ticks\":\"\"}},\"colorscale\":{\"sequential\":[[0.0,\"#0d0887\"],[0.1111111111111111,\"#46039f\"],[0.2222222222222222,\"#7201a8\"],[0.3333333333333333,\"#9c179e\"],[0.4444444444444444,\"#bd3786\"],[0.5555555555555556,\"#d8576b\"],[0.6666666666666666,\"#ed7953\"],[0.7777777777777778,\"#fb9f3a\"],[0.8888888888888888,\"#fdca26\"],[1.0,\"#f0f921\"]],\"sequentialminus\":[[0.0,\"#0d0887\"],[0.1111111111111111,\"#46039f\"],[0.2222222222222222,\"#7201a8\"],[0.3333333333333333,\"#9c179e\"],[0.4444444444444444,\"#bd3786\"],[0.5555555555555556,\"#d8576b\"],[0.6666666666666666,\"#ed7953\"],[0.7777777777777778,\"#fb9f3a\"],[0.8888888888888888,\"#fdca26\"],[1.0,\"#f0f921\"]],\"diverging\":[[0,\"#8e0152\"],[0.1,\"#c51b7d\"],[0.2,\"#de77ae\"],[0.3,\"#f1b6da\"],[0.4,\"#fde0ef\"],[0.5,\"#f7f7f7\"],[0.6,\"#e6f5d0\"],[0.7,\"#b8e186\"],[0.8,\"#7fbc41\"],[0.9,\"#4d9221\"],[1,\"#276419\"]]},\"xaxis\":{\"gridcolor\":\"white\",\"linecolor\":\"white\",\"ticks\":\"\",\"title\":{\"standoff\":15},\"zerolinecolor\":\"white\",\"automargin\":true,\"zerolinewidth\":2},\"yaxis\":{\"gridcolor\":\"white\",\"linecolor\":\"white\",\"ticks\":\"\",\"title\":{\"standoff\":15},\"zerolinecolor\":\"white\",\"automargin\":true,\"zerolinewidth\":2},\"scene\":{\"xaxis\":{\"backgroundcolor\":\"#E5ECF6\",\"gridcolor\":\"white\",\"linecolor\":\"white\",\"showbackground\":true,\"ticks\":\"\",\"zerolinecolor\":\"white\",\"gridwidth\":2},\"yaxis\":{\"backgroundcolor\":\"#E5ECF6\",\"gridcolor\":\"white\",\"linecolor\":\"white\",\"showbackground\":true,\"ticks\":\"\",\"zerolinecolor\":\"white\",\"gridwidth\":2},\"zaxis\":{\"backgroundcolor\":\"#E5ECF6\",\"gridcolor\":\"white\",\"linecolor\":\"white\",\"showbackground\":true,\"ticks\":\"\",\"zerolinecolor\":\"white\",\"gridwidth\":2}},\"shapedefaults\":{\"line\":{\"color\":\"#2a3f5f\"}},\"annotationdefaults\":{\"arrowcolor\":\"#2a3f5f\",\"arrowhead\":0,\"arrowwidth\":1},\"geo\":{\"bgcolor\":\"white\",\"landcolor\":\"#E5ECF6\",\"subunitcolor\":\"white\",\"showland\":true,\"showlakes\":true,\"lakecolor\":\"white\"},\"title\":{\"x\":0.05},\"mapbox\":{\"style\":\"light\"}}},\"geo\":{\"domain\":{\"x\":[0.0,1.0],\"y\":[0.0,1.0]},\"center\":{},\"lonaxis\":{\"range\":[110,155],\"showgrid\":true,\"gridcolor\":\"gray\",\"gridwidth\":0.5,\"dtick\":5},\"lataxis\":{\"range\":[-45,-10],\"showgrid\":true,\"gridcolor\":\"gray\",\"gridwidth\":0.5,\"dtick\":5},\"resolution\":50,\"showcoastlines\":true,\"showland\":true,\"showocean\":true,\"oceancolor\":\"rgb(144, 195, 245)\",\"showcountries\":true,\"showframe\":true},\"legend\":{\"tracegroupgap\":0},\"margin\":{\"b\":0,\"l\":0,\"r\":0,\"t\":40},\"title\":{\"text\":\"d)\"},\"height\":350,\"width\":400},                        {\"responsive\": true}                    ).then(function(){\n",
       "                            \n",
       "var gd = document.getElementById('46bace7d-26fc-4116-ab0b-9f6fe3518d98');\n",
       "var x = new MutationObserver(function (mutations, observer) {{\n",
       "        var display = window.getComputedStyle(gd).display;\n",
       "        if (!display || display === 'none') {{\n",
       "            console.log([gd, 'removed!']);\n",
       "            Plotly.purge(gd);\n",
       "            observer.disconnect();\n",
       "        }}\n",
       "}});\n",
       "\n",
       "// Listen for the removal of the full notebook cells\n",
       "var notebookContainer = gd.closest('#notebook-container');\n",
       "if (notebookContainer) {{\n",
       "    x.observe(notebookContainer, {childList: true});\n",
       "}}\n",
       "\n",
       "// Listen for the clearing of the current output cell\n",
       "var outputEl = gd.closest('.output');\n",
       "if (outputEl) {{\n",
       "    x.observe(outputEl, {childList: true});\n",
       "}}\n",
       "\n",
       "                        })                };                });            </script>        </div>"
      ]
     },
     "metadata": {},
     "output_type": "display_data"
    }
   ],
   "source": [
    "df = pd.read_csv(\"../data/aws_metadata/station_data.csv\")\n",
    "df = df[df[\"station_number\"].isin(official_bs.station_number.values)]\n",
    "\n",
    "\n",
    "fig = px.scatter_geo(df , lat='LATITUDE', lon='LONGITUDE', color_discrete_sequence=[\"red\"])\n",
    "\n",
    "fig.update_geos(\n",
    "    resolution=50,\n",
    "    lonaxis_range=[110, 155],  \n",
    "    lataxis_range=[-45, -10], \n",
    "    showcoastlines=True,\n",
    "    showland=True,\n",
    "    showocean=True,\n",
    "    oceancolor=\"rgb(144, 195, 245)\",\n",
    "    showcountries=True,\n",
    "    showframe=True,\n",
    "    lonaxis=dict(\n",
    "        showgrid=True,\n",
    "        gridcolor='gray',\n",
    "        gridwidth=0.5,\n",
    "        dtick=5\n",
    "    ),\n",
    "    lataxis=dict(\n",
    "        showgrid=True,\n",
    "        gridcolor='gray',\n",
    "        gridwidth=0.5,\n",
    "        dtick=5\n",
    "    )\n",
    ")\n",
    "\n",
    "fig.update_traces(marker={'size': 4})\n",
    "fig.update_layout(\n",
    "    title=\"d)\",\n",
    "    height=350,\n",
    "    width=400,\n",
    "    margin=go.layout.Margin(\n",
    "        l=0, #left margin\n",
    "        r=0, #right margin\n",
    "        b=0, #bottom margin\n",
    "        t=40, #top margin\n",
    "    ),\n",
    ")\n",
    "fig.show()"
   ]
  },
  {
   "cell_type": "code",
   "execution_count": 41,
   "metadata": {},
   "outputs": [],
   "source": [
    "fig.write_image(\"../figures/station_maps/d_aus_temperature.svg\")"
   ]
  },
  {
   "cell_type": "markdown",
   "metadata": {},
   "source": [
    "### Confidence intervals"
   ]
  },
  {
   "cell_type": "code",
   "execution_count": 42,
   "metadata": {},
   "outputs": [
    {
     "data": {
      "text/html": [
       "<div><svg style=\"position: absolute; width: 0; height: 0; overflow: hidden\">\n",
       "<defs>\n",
       "<symbol id=\"icon-database\" viewBox=\"0 0 32 32\">\n",
       "<path d=\"M16 0c-8.837 0-16 2.239-16 5v4c0 2.761 7.163 5 16 5s16-2.239 16-5v-4c0-2.761-7.163-5-16-5z\"></path>\n",
       "<path d=\"M16 17c-8.837 0-16-2.239-16-5v6c0 2.761 7.163 5 16 5s16-2.239 16-5v-6c0 2.761-7.163 5-16 5z\"></path>\n",
       "<path d=\"M16 26c-8.837 0-16-2.239-16-5v6c0 2.761 7.163 5 16 5s16-2.239 16-5v-6c0 2.761-7.163 5-16 5z\"></path>\n",
       "</symbol>\n",
       "<symbol id=\"icon-file-text2\" viewBox=\"0 0 32 32\">\n",
       "<path d=\"M28.681 7.159c-0.694-0.947-1.662-2.053-2.724-3.116s-2.169-2.030-3.116-2.724c-1.612-1.182-2.393-1.319-2.841-1.319h-15.5c-1.378 0-2.5 1.121-2.5 2.5v27c0 1.378 1.122 2.5 2.5 2.5h23c1.378 0 2.5-1.122 2.5-2.5v-19.5c0-0.448-0.137-1.23-1.319-2.841zM24.543 5.457c0.959 0.959 1.712 1.825 2.268 2.543h-4.811v-4.811c0.718 0.556 1.584 1.309 2.543 2.268zM28 29.5c0 0.271-0.229 0.5-0.5 0.5h-23c-0.271 0-0.5-0.229-0.5-0.5v-27c0-0.271 0.229-0.5 0.5-0.5 0 0 15.499-0 15.5 0v7c0 0.552 0.448 1 1 1h7v19.5z\"></path>\n",
       "<path d=\"M23 26h-14c-0.552 0-1-0.448-1-1s0.448-1 1-1h14c0.552 0 1 0.448 1 1s-0.448 1-1 1z\"></path>\n",
       "<path d=\"M23 22h-14c-0.552 0-1-0.448-1-1s0.448-1 1-1h14c0.552 0 1 0.448 1 1s-0.448 1-1 1z\"></path>\n",
       "<path d=\"M23 18h-14c-0.552 0-1-0.448-1-1s0.448-1 1-1h14c0.552 0 1 0.448 1 1s-0.448 1-1 1z\"></path>\n",
       "</symbol>\n",
       "</defs>\n",
       "</svg>\n",
       "<style>/* CSS stylesheet for displaying xarray objects in jupyterlab.\n",
       " *\n",
       " */\n",
       "\n",
       ":root {\n",
       "  --xr-font-color0: var(--jp-content-font-color0, rgba(0, 0, 0, 1));\n",
       "  --xr-font-color2: var(--jp-content-font-color2, rgba(0, 0, 0, 0.54));\n",
       "  --xr-font-color3: var(--jp-content-font-color3, rgba(0, 0, 0, 0.38));\n",
       "  --xr-border-color: var(--jp-border-color2, #e0e0e0);\n",
       "  --xr-disabled-color: var(--jp-layout-color3, #bdbdbd);\n",
       "  --xr-background-color: var(--jp-layout-color0, white);\n",
       "  --xr-background-color-row-even: var(--jp-layout-color1, white);\n",
       "  --xr-background-color-row-odd: var(--jp-layout-color2, #eeeeee);\n",
       "}\n",
       "\n",
       "html[theme=dark],\n",
       "body[data-theme=dark],\n",
       "body.vscode-dark {\n",
       "  --xr-font-color0: rgba(255, 255, 255, 1);\n",
       "  --xr-font-color2: rgba(255, 255, 255, 0.54);\n",
       "  --xr-font-color3: rgba(255, 255, 255, 0.38);\n",
       "  --xr-border-color: #1F1F1F;\n",
       "  --xr-disabled-color: #515151;\n",
       "  --xr-background-color: #111111;\n",
       "  --xr-background-color-row-even: #111111;\n",
       "  --xr-background-color-row-odd: #313131;\n",
       "}\n",
       "\n",
       ".xr-wrap {\n",
       "  display: block !important;\n",
       "  min-width: 300px;\n",
       "  max-width: 700px;\n",
       "}\n",
       "\n",
       ".xr-text-repr-fallback {\n",
       "  /* fallback to plain text repr when CSS is not injected (untrusted notebook) */\n",
       "  display: none;\n",
       "}\n",
       "\n",
       ".xr-header {\n",
       "  padding-top: 6px;\n",
       "  padding-bottom: 6px;\n",
       "  margin-bottom: 4px;\n",
       "  border-bottom: solid 1px var(--xr-border-color);\n",
       "}\n",
       "\n",
       ".xr-header > div,\n",
       ".xr-header > ul {\n",
       "  display: inline;\n",
       "  margin-top: 0;\n",
       "  margin-bottom: 0;\n",
       "}\n",
       "\n",
       ".xr-obj-type,\n",
       ".xr-array-name {\n",
       "  margin-left: 2px;\n",
       "  margin-right: 10px;\n",
       "}\n",
       "\n",
       ".xr-obj-type {\n",
       "  color: var(--xr-font-color2);\n",
       "}\n",
       "\n",
       ".xr-sections {\n",
       "  padding-left: 0 !important;\n",
       "  display: grid;\n",
       "  grid-template-columns: 150px auto auto 1fr 20px 20px;\n",
       "}\n",
       "\n",
       ".xr-section-item {\n",
       "  display: contents;\n",
       "}\n",
       "\n",
       ".xr-section-item input {\n",
       "  display: none;\n",
       "}\n",
       "\n",
       ".xr-section-item input + label {\n",
       "  color: var(--xr-disabled-color);\n",
       "}\n",
       "\n",
       ".xr-section-item input:enabled + label {\n",
       "  cursor: pointer;\n",
       "  color: var(--xr-font-color2);\n",
       "}\n",
       "\n",
       ".xr-section-item input:enabled + label:hover {\n",
       "  color: var(--xr-font-color0);\n",
       "}\n",
       "\n",
       ".xr-section-summary {\n",
       "  grid-column: 1;\n",
       "  color: var(--xr-font-color2);\n",
       "  font-weight: 500;\n",
       "}\n",
       "\n",
       ".xr-section-summary > span {\n",
       "  display: inline-block;\n",
       "  padding-left: 0.5em;\n",
       "}\n",
       "\n",
       ".xr-section-summary-in:disabled + label {\n",
       "  color: var(--xr-font-color2);\n",
       "}\n",
       "\n",
       ".xr-section-summary-in + label:before {\n",
       "  display: inline-block;\n",
       "  content: '►';\n",
       "  font-size: 11px;\n",
       "  width: 15px;\n",
       "  text-align: center;\n",
       "}\n",
       "\n",
       ".xr-section-summary-in:disabled + label:before {\n",
       "  color: var(--xr-disabled-color);\n",
       "}\n",
       "\n",
       ".xr-section-summary-in:checked + label:before {\n",
       "  content: '▼';\n",
       "}\n",
       "\n",
       ".xr-section-summary-in:checked + label > span {\n",
       "  display: none;\n",
       "}\n",
       "\n",
       ".xr-section-summary,\n",
       ".xr-section-inline-details {\n",
       "  padding-top: 4px;\n",
       "  padding-bottom: 4px;\n",
       "}\n",
       "\n",
       ".xr-section-inline-details {\n",
       "  grid-column: 2 / -1;\n",
       "}\n",
       "\n",
       ".xr-section-details {\n",
       "  display: none;\n",
       "  grid-column: 1 / -1;\n",
       "  margin-bottom: 5px;\n",
       "}\n",
       "\n",
       ".xr-section-summary-in:checked ~ .xr-section-details {\n",
       "  display: contents;\n",
       "}\n",
       "\n",
       ".xr-array-wrap {\n",
       "  grid-column: 1 / -1;\n",
       "  display: grid;\n",
       "  grid-template-columns: 20px auto;\n",
       "}\n",
       "\n",
       ".xr-array-wrap > label {\n",
       "  grid-column: 1;\n",
       "  vertical-align: top;\n",
       "}\n",
       "\n",
       ".xr-preview {\n",
       "  color: var(--xr-font-color3);\n",
       "}\n",
       "\n",
       ".xr-array-preview,\n",
       ".xr-array-data {\n",
       "  padding: 0 5px !important;\n",
       "  grid-column: 2;\n",
       "}\n",
       "\n",
       ".xr-array-data,\n",
       ".xr-array-in:checked ~ .xr-array-preview {\n",
       "  display: none;\n",
       "}\n",
       "\n",
       ".xr-array-in:checked ~ .xr-array-data,\n",
       ".xr-array-preview {\n",
       "  display: inline-block;\n",
       "}\n",
       "\n",
       ".xr-dim-list {\n",
       "  display: inline-block !important;\n",
       "  list-style: none;\n",
       "  padding: 0 !important;\n",
       "  margin: 0;\n",
       "}\n",
       "\n",
       ".xr-dim-list li {\n",
       "  display: inline-block;\n",
       "  padding: 0;\n",
       "  margin: 0;\n",
       "}\n",
       "\n",
       ".xr-dim-list:before {\n",
       "  content: '(';\n",
       "}\n",
       "\n",
       ".xr-dim-list:after {\n",
       "  content: ')';\n",
       "}\n",
       "\n",
       ".xr-dim-list li:not(:last-child):after {\n",
       "  content: ',';\n",
       "  padding-right: 5px;\n",
       "}\n",
       "\n",
       ".xr-has-index {\n",
       "  font-weight: bold;\n",
       "}\n",
       "\n",
       ".xr-var-list,\n",
       ".xr-var-item {\n",
       "  display: contents;\n",
       "}\n",
       "\n",
       ".xr-var-item > div,\n",
       ".xr-var-item label,\n",
       ".xr-var-item > .xr-var-name span {\n",
       "  background-color: var(--xr-background-color-row-even);\n",
       "  margin-bottom: 0;\n",
       "}\n",
       "\n",
       ".xr-var-item > .xr-var-name:hover span {\n",
       "  padding-right: 5px;\n",
       "}\n",
       "\n",
       ".xr-var-list > li:nth-child(odd) > div,\n",
       ".xr-var-list > li:nth-child(odd) > label,\n",
       ".xr-var-list > li:nth-child(odd) > .xr-var-name span {\n",
       "  background-color: var(--xr-background-color-row-odd);\n",
       "}\n",
       "\n",
       ".xr-var-name {\n",
       "  grid-column: 1;\n",
       "}\n",
       "\n",
       ".xr-var-dims {\n",
       "  grid-column: 2;\n",
       "}\n",
       "\n",
       ".xr-var-dtype {\n",
       "  grid-column: 3;\n",
       "  text-align: right;\n",
       "  color: var(--xr-font-color2);\n",
       "}\n",
       "\n",
       ".xr-var-preview {\n",
       "  grid-column: 4;\n",
       "}\n",
       "\n",
       ".xr-index-preview {\n",
       "  grid-column: 2 / 5;\n",
       "  color: var(--xr-font-color2);\n",
       "}\n",
       "\n",
       ".xr-var-name,\n",
       ".xr-var-dims,\n",
       ".xr-var-dtype,\n",
       ".xr-preview,\n",
       ".xr-attrs dt {\n",
       "  white-space: nowrap;\n",
       "  overflow: hidden;\n",
       "  text-overflow: ellipsis;\n",
       "  padding-right: 10px;\n",
       "}\n",
       "\n",
       ".xr-var-name:hover,\n",
       ".xr-var-dims:hover,\n",
       ".xr-var-dtype:hover,\n",
       ".xr-attrs dt:hover {\n",
       "  overflow: visible;\n",
       "  width: auto;\n",
       "  z-index: 1;\n",
       "}\n",
       "\n",
       ".xr-var-attrs,\n",
       ".xr-var-data,\n",
       ".xr-index-data {\n",
       "  display: none;\n",
       "  background-color: var(--xr-background-color) !important;\n",
       "  padding-bottom: 5px !important;\n",
       "}\n",
       "\n",
       ".xr-var-attrs-in:checked ~ .xr-var-attrs,\n",
       ".xr-var-data-in:checked ~ .xr-var-data,\n",
       ".xr-index-data-in:checked ~ .xr-index-data {\n",
       "  display: block;\n",
       "}\n",
       "\n",
       ".xr-var-data > table {\n",
       "  float: right;\n",
       "}\n",
       "\n",
       ".xr-var-name span,\n",
       ".xr-var-data,\n",
       ".xr-index-name div,\n",
       ".xr-index-data,\n",
       ".xr-attrs {\n",
       "  padding-left: 25px !important;\n",
       "}\n",
       "\n",
       ".xr-attrs,\n",
       ".xr-var-attrs,\n",
       ".xr-var-data,\n",
       ".xr-index-data {\n",
       "  grid-column: 1 / -1;\n",
       "}\n",
       "\n",
       "dl.xr-attrs {\n",
       "  padding: 0;\n",
       "  margin: 0;\n",
       "  display: grid;\n",
       "  grid-template-columns: 125px auto;\n",
       "}\n",
       "\n",
       ".xr-attrs dt,\n",
       ".xr-attrs dd {\n",
       "  padding: 0;\n",
       "  margin: 0;\n",
       "  float: left;\n",
       "  padding-right: 10px;\n",
       "  width: auto;\n",
       "}\n",
       "\n",
       ".xr-attrs dt {\n",
       "  font-weight: normal;\n",
       "  grid-column: 1;\n",
       "}\n",
       "\n",
       ".xr-attrs dt:hover span {\n",
       "  display: inline-block;\n",
       "  background: var(--xr-background-color);\n",
       "  padding-right: 10px;\n",
       "}\n",
       "\n",
       ".xr-attrs dd {\n",
       "  grid-column: 2;\n",
       "  white-space: pre-wrap;\n",
       "  word-break: break-all;\n",
       "}\n",
       "\n",
       ".xr-icon-database,\n",
       ".xr-icon-file-text2,\n",
       ".xr-no-icon {\n",
       "  display: inline-block;\n",
       "  vertical-align: middle;\n",
       "  width: 1em;\n",
       "  height: 1.5em !important;\n",
       "  stroke-width: 0;\n",
       "  stroke: currentColor;\n",
       "  fill: currentColor;\n",
       "}\n",
       "</style><pre class='xr-text-repr-fallback'>&lt;xarray.Dataset&gt;\n",
       "Dimensions:          (lead_day: 7)\n",
       "Coordinates:\n",
       "  * lead_day         (lead_day) int64 1 2 3 4 5 6 7\n",
       "Data variables:\n",
       "    mean             (lead_day) float64 0.07002 0.06043 ... 0.09111 -0.02496\n",
       "    dm_test_stat     (lead_day) float64 1.762 1.423 1.383 ... 0.5641 -0.712\n",
       "    timeseries_len   (lead_day) int64 91 91 91 91 91 91 91\n",
       "    confidence_gt_0  (lead_day) float64 0.961 0.9226 0.9167 ... 0.7137 0.2382\n",
       "    ci_upper         (lead_day) float64 0.1479 0.1437 0.1684 ... 0.4076 0.04375\n",
       "    ci_lower         (lead_day) float64 -0.007872 -0.02283 ... -0.2254 -0.09368</pre><div class='xr-wrap' style='display:none'><div class='xr-header'><div class='xr-obj-type'>xarray.Dataset</div></div><ul class='xr-sections'><li class='xr-section-item'><input id='section-bf78ad49-b13d-491d-a64b-c642d7446cbe' class='xr-section-summary-in' type='checkbox' disabled ><label for='section-bf78ad49-b13d-491d-a64b-c642d7446cbe' class='xr-section-summary'  title='Expand/collapse section'>Dimensions:</label><div class='xr-section-inline-details'><ul class='xr-dim-list'><li><span class='xr-has-index'>lead_day</span>: 7</li></ul></div><div class='xr-section-details'></div></li><li class='xr-section-item'><input id='section-f374df26-09be-4692-9ecd-9127cc50f07e' class='xr-section-summary-in' type='checkbox'  checked><label for='section-f374df26-09be-4692-9ecd-9127cc50f07e' class='xr-section-summary' >Coordinates: <span>(1)</span></label><div class='xr-section-inline-details'></div><div class='xr-section-details'><ul class='xr-var-list'><li class='xr-var-item'><div class='xr-var-name'><span class='xr-has-index'>lead_day</span></div><div class='xr-var-dims'>(lead_day)</div><div class='xr-var-dtype'>int64</div><div class='xr-var-preview xr-preview'>1 2 3 4 5 6 7</div><input id='attrs-1517443d-52a2-498f-b708-4a58e20eac0c' class='xr-var-attrs-in' type='checkbox' disabled><label for='attrs-1517443d-52a2-498f-b708-4a58e20eac0c' title='Show/Hide attributes'><svg class='icon xr-icon-file-text2'><use xlink:href='#icon-file-text2'></use></svg></label><input id='data-fcc4c45a-2df6-4cba-8ebb-0442aa06db1a' class='xr-var-data-in' type='checkbox'><label for='data-fcc4c45a-2df6-4cba-8ebb-0442aa06db1a' title='Show/Hide data repr'><svg class='icon xr-icon-database'><use xlink:href='#icon-database'></use></svg></label><div class='xr-var-attrs'><dl class='xr-attrs'></dl></div><div class='xr-var-data'><pre>array([1, 2, 3, 4, 5, 6, 7])</pre></div></li></ul></div></li><li class='xr-section-item'><input id='section-2156a86d-3390-409c-a9df-5f8d98d1deda' class='xr-section-summary-in' type='checkbox'  checked><label for='section-2156a86d-3390-409c-a9df-5f8d98d1deda' class='xr-section-summary' >Data variables: <span>(6)</span></label><div class='xr-section-inline-details'></div><div class='xr-section-details'><ul class='xr-var-list'><li class='xr-var-item'><div class='xr-var-name'><span>mean</span></div><div class='xr-var-dims'>(lead_day)</div><div class='xr-var-dtype'>float64</div><div class='xr-var-preview xr-preview'>0.07002 0.06043 ... -0.02496</div><input id='attrs-3b7693be-9959-4f45-b238-65268f9812ea' class='xr-var-attrs-in' type='checkbox' disabled><label for='attrs-3b7693be-9959-4f45-b238-65268f9812ea' title='Show/Hide attributes'><svg class='icon xr-icon-file-text2'><use xlink:href='#icon-file-text2'></use></svg></label><input id='data-41bd88aa-008c-45d3-854d-f5bb8de4fb36' class='xr-var-data-in' type='checkbox'><label for='data-41bd88aa-008c-45d3-854d-f5bb8de4fb36' title='Show/Hide data repr'><svg class='icon xr-icon-database'><use xlink:href='#icon-database'></use></svg></label><div class='xr-var-attrs'><dl class='xr-attrs'></dl></div><div class='xr-var-data'><pre>array([ 0.07001534,  0.06042699,  0.06966308,  0.00525063, -0.00878111,\n",
       "        0.09110615, -0.02496331])</pre></div></li><li class='xr-var-item'><div class='xr-var-name'><span>dm_test_stat</span></div><div class='xr-var-dims'>(lead_day)</div><div class='xr-var-dtype'>float64</div><div class='xr-var-preview xr-preview'>1.762 1.423 1.383 ... 0.5641 -0.712</div><input id='attrs-279e1d59-411d-43e5-98fc-17368b5a44ce' class='xr-var-attrs-in' type='checkbox' disabled><label for='attrs-279e1d59-411d-43e5-98fc-17368b5a44ce' title='Show/Hide attributes'><svg class='icon xr-icon-file-text2'><use xlink:href='#icon-file-text2'></use></svg></label><input id='data-14610872-182f-4ef8-b588-d9728fbf82dc' class='xr-var-data-in' type='checkbox'><label for='data-14610872-182f-4ef8-b588-d9728fbf82dc' title='Show/Hide data repr'><svg class='icon xr-icon-database'><use xlink:href='#icon-database'></use></svg></label><div class='xr-var-attrs'><dl class='xr-attrs'></dl></div><div class='xr-var-data'><pre>array([ 1.7618808 ,  1.42253424,  1.383098  ,  0.11821858, -0.15993347,\n",
       "        0.56410768, -0.71203611])</pre></div></li><li class='xr-var-item'><div class='xr-var-name'><span>timeseries_len</span></div><div class='xr-var-dims'>(lead_day)</div><div class='xr-var-dtype'>int64</div><div class='xr-var-preview xr-preview'>91 91 91 91 91 91 91</div><input id='attrs-98a23b91-0d93-4f84-b47f-29e64db12a14' class='xr-var-attrs-in' type='checkbox' disabled><label for='attrs-98a23b91-0d93-4f84-b47f-29e64db12a14' title='Show/Hide attributes'><svg class='icon xr-icon-file-text2'><use xlink:href='#icon-file-text2'></use></svg></label><input id='data-f06647f6-d938-4949-962d-acd37f3cdf94' class='xr-var-data-in' type='checkbox'><label for='data-f06647f6-d938-4949-962d-acd37f3cdf94' title='Show/Hide data repr'><svg class='icon xr-icon-database'><use xlink:href='#icon-database'></use></svg></label><div class='xr-var-attrs'><dl class='xr-attrs'></dl></div><div class='xr-var-data'><pre>array([91, 91, 91, 91, 91, 91, 91])</pre></div></li><li class='xr-var-item'><div class='xr-var-name'><span>confidence_gt_0</span></div><div class='xr-var-dims'>(lead_day)</div><div class='xr-var-dtype'>float64</div><div class='xr-var-preview xr-preview'>0.961 0.9226 ... 0.7137 0.2382</div><input id='attrs-a3b2d6d7-1efa-411e-8c46-c7e092e8ba72' class='xr-var-attrs-in' type='checkbox' disabled><label for='attrs-a3b2d6d7-1efa-411e-8c46-c7e092e8ba72' title='Show/Hide attributes'><svg class='icon xr-icon-file-text2'><use xlink:href='#icon-file-text2'></use></svg></label><input id='data-78dafb28-67d6-458d-bff2-e9f7bc63ad85' class='xr-var-data-in' type='checkbox'><label for='data-78dafb28-67d6-458d-bff2-e9f7bc63ad85' title='Show/Hide data repr'><svg class='icon xr-icon-database'><use xlink:href='#icon-database'></use></svg></label><div class='xr-var-attrs'><dl class='xr-attrs'></dl></div><div class='xr-var-data'><pre>array([0.96095528, 0.92256439, 0.91668259, 0.54705277, 0.43646674,\n",
       "       0.71365957, 0.23822121])</pre></div></li><li class='xr-var-item'><div class='xr-var-name'><span>ci_upper</span></div><div class='xr-var-dims'>(lead_day)</div><div class='xr-var-dtype'>float64</div><div class='xr-var-preview xr-preview'>0.1479 0.1437 ... 0.4076 0.04375</div><input id='attrs-f8380151-4780-48ef-b96e-e62793101bd1' class='xr-var-attrs-in' type='checkbox' disabled><label for='attrs-f8380151-4780-48ef-b96e-e62793101bd1' title='Show/Hide attributes'><svg class='icon xr-icon-file-text2'><use xlink:href='#icon-file-text2'></use></svg></label><input id='data-c15a4081-8107-4af8-8ea7-c4e94222dfb7' class='xr-var-data-in' type='checkbox'><label for='data-c15a4081-8107-4af8-8ea7-c4e94222dfb7' title='Show/Hide data repr'><svg class='icon xr-icon-database'><use xlink:href='#icon-database'></use></svg></label><div class='xr-var-attrs'><dl class='xr-attrs'></dl></div><div class='xr-var-data'><pre>array([0.1479023 , 0.14368314, 0.16838142, 0.09230155, 0.09883031,\n",
       "       0.40764992, 0.04375117])</pre></div></li><li class='xr-var-item'><div class='xr-var-name'><span>ci_lower</span></div><div class='xr-var-dims'>(lead_day)</div><div class='xr-var-dtype'>float64</div><div class='xr-var-preview xr-preview'>-0.007872 -0.02283 ... -0.09368</div><input id='attrs-17a0ccba-5df3-4531-87ec-6d7680340d33' class='xr-var-attrs-in' type='checkbox' disabled><label for='attrs-17a0ccba-5df3-4531-87ec-6d7680340d33' title='Show/Hide attributes'><svg class='icon xr-icon-file-text2'><use xlink:href='#icon-file-text2'></use></svg></label><input id='data-c26e1b1c-42f2-4c0e-b3e5-79217acf50a9' class='xr-var-data-in' type='checkbox'><label for='data-c26e1b1c-42f2-4c0e-b3e5-79217acf50a9' title='Show/Hide data repr'><svg class='icon xr-icon-database'><use xlink:href='#icon-database'></use></svg></label><div class='xr-var-attrs'><dl class='xr-attrs'></dl></div><div class='xr-var-data'><pre>array([-0.00787162, -0.02282916, -0.02905525, -0.0818003 , -0.11639254,\n",
       "       -0.22543762, -0.09367779])</pre></div></li></ul></div></li><li class='xr-section-item'><input id='section-dfbb90cd-f7dc-4716-b33b-26c50d5fa346' class='xr-section-summary-in' type='checkbox'  ><label for='section-dfbb90cd-f7dc-4716-b33b-26c50d5fa346' class='xr-section-summary' >Indexes: <span>(1)</span></label><div class='xr-section-inline-details'></div><div class='xr-section-details'><ul class='xr-var-list'><li class='xr-var-item'><div class='xr-index-name'><div>lead_day</div></div><div class='xr-index-preview'>PandasIndex</div><div></div><input id='index-609f73d9-e8e8-4353-ac6b-82019e6bd876' class='xr-index-data-in' type='checkbox'/><label for='index-609f73d9-e8e8-4353-ac6b-82019e6bd876' title='Show/Hide index repr'><svg class='icon xr-icon-database'><use xlink:href='#icon-database'></use></svg></label><div class='xr-index-data'><pre>PandasIndex(Int64Index([1, 2, 3, 4, 5, 6, 7], dtype=&#x27;int64&#x27;, name=&#x27;lead_day&#x27;))</pre></div></li></ul></div></li><li class='xr-section-item'><input id='section-815fdbf4-a383-4d3b-a786-fd59fe9410dd' class='xr-section-summary-in' type='checkbox' disabled ><label for='section-815fdbf4-a383-4d3b-a786-fd59fe9410dd' class='xr-section-summary'  title='Expand/collapse section'>Attributes: <span>(0)</span></label><div class='xr-section-inline-details'></div><div class='xr-section-details'><dl class='xr-attrs'></dl></div></li></ul></div></div>"
      ],
      "text/plain": [
       "<xarray.Dataset>\n",
       "Dimensions:          (lead_day: 7)\n",
       "Coordinates:\n",
       "  * lead_day         (lead_day) int64 1 2 3 4 5 6 7\n",
       "Data variables:\n",
       "    mean             (lead_day) float64 0.07002 0.06043 ... 0.09111 -0.02496\n",
       "    dm_test_stat     (lead_day) float64 1.762 1.423 1.383 ... 0.5641 -0.712\n",
       "    timeseries_len   (lead_day) int64 91 91 91 91 91 91 91\n",
       "    confidence_gt_0  (lead_day) float64 0.961 0.9226 0.9167 ... 0.7137 0.2382\n",
       "    ci_upper         (lead_day) float64 0.1479 0.1437 0.1684 ... 0.4076 0.04375\n",
       "    ci_lower         (lead_day) float64 -0.007872 -0.02283 ... -0.2254 -0.09368"
      ]
     },
     "execution_count": 42,
     "metadata": {},
     "output_type": "execute_result"
    }
   ],
   "source": [
    "# Black Summer\n",
    "autofcst_bs_mse = mse(autofcst_bs, obs_bs, preserve_dims=[\"lead_day\", \"valid_15z_date\"])\n",
    "official_bs_mse = mse(official_bs, obs_bs, preserve_dims=[\"lead_day\", \"valid_15z_date\"])\n",
    "# Difference between Official and the hindcast\n",
    "diff= autofcst_bs_mse - official_bs_mse\n",
    "diff = diff.assign_coords(h=(\"lead_day\", [2, 3, 4, 5, 6, 7, 8]))\n",
    "dm_result = diebold_mariano(diff, \"lead_day\", \"h\")\n",
    "dm_result"
   ]
  },
  {
   "cell_type": "code",
   "execution_count": 43,
   "metadata": {},
   "outputs": [
    {
     "data": {
      "text/html": [
       "<div><svg style=\"position: absolute; width: 0; height: 0; overflow: hidden\">\n",
       "<defs>\n",
       "<symbol id=\"icon-database\" viewBox=\"0 0 32 32\">\n",
       "<path d=\"M16 0c-8.837 0-16 2.239-16 5v4c0 2.761 7.163 5 16 5s16-2.239 16-5v-4c0-2.761-7.163-5-16-5z\"></path>\n",
       "<path d=\"M16 17c-8.837 0-16-2.239-16-5v6c0 2.761 7.163 5 16 5s16-2.239 16-5v-6c0 2.761-7.163 5-16 5z\"></path>\n",
       "<path d=\"M16 26c-8.837 0-16-2.239-16-5v6c0 2.761 7.163 5 16 5s16-2.239 16-5v-6c0 2.761-7.163 5-16 5z\"></path>\n",
       "</symbol>\n",
       "<symbol id=\"icon-file-text2\" viewBox=\"0 0 32 32\">\n",
       "<path d=\"M28.681 7.159c-0.694-0.947-1.662-2.053-2.724-3.116s-2.169-2.030-3.116-2.724c-1.612-1.182-2.393-1.319-2.841-1.319h-15.5c-1.378 0-2.5 1.121-2.5 2.5v27c0 1.378 1.122 2.5 2.5 2.5h23c1.378 0 2.5-1.122 2.5-2.5v-19.5c0-0.448-0.137-1.23-1.319-2.841zM24.543 5.457c0.959 0.959 1.712 1.825 2.268 2.543h-4.811v-4.811c0.718 0.556 1.584 1.309 2.543 2.268zM28 29.5c0 0.271-0.229 0.5-0.5 0.5h-23c-0.271 0-0.5-0.229-0.5-0.5v-27c0-0.271 0.229-0.5 0.5-0.5 0 0 15.499-0 15.5 0v7c0 0.552 0.448 1 1 1h7v19.5z\"></path>\n",
       "<path d=\"M23 26h-14c-0.552 0-1-0.448-1-1s0.448-1 1-1h14c0.552 0 1 0.448 1 1s-0.448 1-1 1z\"></path>\n",
       "<path d=\"M23 22h-14c-0.552 0-1-0.448-1-1s0.448-1 1-1h14c0.552 0 1 0.448 1 1s-0.448 1-1 1z\"></path>\n",
       "<path d=\"M23 18h-14c-0.552 0-1-0.448-1-1s0.448-1 1-1h14c0.552 0 1 0.448 1 1s-0.448 1-1 1z\"></path>\n",
       "</symbol>\n",
       "</defs>\n",
       "</svg>\n",
       "<style>/* CSS stylesheet for displaying xarray objects in jupyterlab.\n",
       " *\n",
       " */\n",
       "\n",
       ":root {\n",
       "  --xr-font-color0: var(--jp-content-font-color0, rgba(0, 0, 0, 1));\n",
       "  --xr-font-color2: var(--jp-content-font-color2, rgba(0, 0, 0, 0.54));\n",
       "  --xr-font-color3: var(--jp-content-font-color3, rgba(0, 0, 0, 0.38));\n",
       "  --xr-border-color: var(--jp-border-color2, #e0e0e0);\n",
       "  --xr-disabled-color: var(--jp-layout-color3, #bdbdbd);\n",
       "  --xr-background-color: var(--jp-layout-color0, white);\n",
       "  --xr-background-color-row-even: var(--jp-layout-color1, white);\n",
       "  --xr-background-color-row-odd: var(--jp-layout-color2, #eeeeee);\n",
       "}\n",
       "\n",
       "html[theme=dark],\n",
       "body[data-theme=dark],\n",
       "body.vscode-dark {\n",
       "  --xr-font-color0: rgba(255, 255, 255, 1);\n",
       "  --xr-font-color2: rgba(255, 255, 255, 0.54);\n",
       "  --xr-font-color3: rgba(255, 255, 255, 0.38);\n",
       "  --xr-border-color: #1F1F1F;\n",
       "  --xr-disabled-color: #515151;\n",
       "  --xr-background-color: #111111;\n",
       "  --xr-background-color-row-even: #111111;\n",
       "  --xr-background-color-row-odd: #313131;\n",
       "}\n",
       "\n",
       ".xr-wrap {\n",
       "  display: block !important;\n",
       "  min-width: 300px;\n",
       "  max-width: 700px;\n",
       "}\n",
       "\n",
       ".xr-text-repr-fallback {\n",
       "  /* fallback to plain text repr when CSS is not injected (untrusted notebook) */\n",
       "  display: none;\n",
       "}\n",
       "\n",
       ".xr-header {\n",
       "  padding-top: 6px;\n",
       "  padding-bottom: 6px;\n",
       "  margin-bottom: 4px;\n",
       "  border-bottom: solid 1px var(--xr-border-color);\n",
       "}\n",
       "\n",
       ".xr-header > div,\n",
       ".xr-header > ul {\n",
       "  display: inline;\n",
       "  margin-top: 0;\n",
       "  margin-bottom: 0;\n",
       "}\n",
       "\n",
       ".xr-obj-type,\n",
       ".xr-array-name {\n",
       "  margin-left: 2px;\n",
       "  margin-right: 10px;\n",
       "}\n",
       "\n",
       ".xr-obj-type {\n",
       "  color: var(--xr-font-color2);\n",
       "}\n",
       "\n",
       ".xr-sections {\n",
       "  padding-left: 0 !important;\n",
       "  display: grid;\n",
       "  grid-template-columns: 150px auto auto 1fr 20px 20px;\n",
       "}\n",
       "\n",
       ".xr-section-item {\n",
       "  display: contents;\n",
       "}\n",
       "\n",
       ".xr-section-item input {\n",
       "  display: none;\n",
       "}\n",
       "\n",
       ".xr-section-item input + label {\n",
       "  color: var(--xr-disabled-color);\n",
       "}\n",
       "\n",
       ".xr-section-item input:enabled + label {\n",
       "  cursor: pointer;\n",
       "  color: var(--xr-font-color2);\n",
       "}\n",
       "\n",
       ".xr-section-item input:enabled + label:hover {\n",
       "  color: var(--xr-font-color0);\n",
       "}\n",
       "\n",
       ".xr-section-summary {\n",
       "  grid-column: 1;\n",
       "  color: var(--xr-font-color2);\n",
       "  font-weight: 500;\n",
       "}\n",
       "\n",
       ".xr-section-summary > span {\n",
       "  display: inline-block;\n",
       "  padding-left: 0.5em;\n",
       "}\n",
       "\n",
       ".xr-section-summary-in:disabled + label {\n",
       "  color: var(--xr-font-color2);\n",
       "}\n",
       "\n",
       ".xr-section-summary-in + label:before {\n",
       "  display: inline-block;\n",
       "  content: '►';\n",
       "  font-size: 11px;\n",
       "  width: 15px;\n",
       "  text-align: center;\n",
       "}\n",
       "\n",
       ".xr-section-summary-in:disabled + label:before {\n",
       "  color: var(--xr-disabled-color);\n",
       "}\n",
       "\n",
       ".xr-section-summary-in:checked + label:before {\n",
       "  content: '▼';\n",
       "}\n",
       "\n",
       ".xr-section-summary-in:checked + label > span {\n",
       "  display: none;\n",
       "}\n",
       "\n",
       ".xr-section-summary,\n",
       ".xr-section-inline-details {\n",
       "  padding-top: 4px;\n",
       "  padding-bottom: 4px;\n",
       "}\n",
       "\n",
       ".xr-section-inline-details {\n",
       "  grid-column: 2 / -1;\n",
       "}\n",
       "\n",
       ".xr-section-details {\n",
       "  display: none;\n",
       "  grid-column: 1 / -1;\n",
       "  margin-bottom: 5px;\n",
       "}\n",
       "\n",
       ".xr-section-summary-in:checked ~ .xr-section-details {\n",
       "  display: contents;\n",
       "}\n",
       "\n",
       ".xr-array-wrap {\n",
       "  grid-column: 1 / -1;\n",
       "  display: grid;\n",
       "  grid-template-columns: 20px auto;\n",
       "}\n",
       "\n",
       ".xr-array-wrap > label {\n",
       "  grid-column: 1;\n",
       "  vertical-align: top;\n",
       "}\n",
       "\n",
       ".xr-preview {\n",
       "  color: var(--xr-font-color3);\n",
       "}\n",
       "\n",
       ".xr-array-preview,\n",
       ".xr-array-data {\n",
       "  padding: 0 5px !important;\n",
       "  grid-column: 2;\n",
       "}\n",
       "\n",
       ".xr-array-data,\n",
       ".xr-array-in:checked ~ .xr-array-preview {\n",
       "  display: none;\n",
       "}\n",
       "\n",
       ".xr-array-in:checked ~ .xr-array-data,\n",
       ".xr-array-preview {\n",
       "  display: inline-block;\n",
       "}\n",
       "\n",
       ".xr-dim-list {\n",
       "  display: inline-block !important;\n",
       "  list-style: none;\n",
       "  padding: 0 !important;\n",
       "  margin: 0;\n",
       "}\n",
       "\n",
       ".xr-dim-list li {\n",
       "  display: inline-block;\n",
       "  padding: 0;\n",
       "  margin: 0;\n",
       "}\n",
       "\n",
       ".xr-dim-list:before {\n",
       "  content: '(';\n",
       "}\n",
       "\n",
       ".xr-dim-list:after {\n",
       "  content: ')';\n",
       "}\n",
       "\n",
       ".xr-dim-list li:not(:last-child):after {\n",
       "  content: ',';\n",
       "  padding-right: 5px;\n",
       "}\n",
       "\n",
       ".xr-has-index {\n",
       "  font-weight: bold;\n",
       "}\n",
       "\n",
       ".xr-var-list,\n",
       ".xr-var-item {\n",
       "  display: contents;\n",
       "}\n",
       "\n",
       ".xr-var-item > div,\n",
       ".xr-var-item label,\n",
       ".xr-var-item > .xr-var-name span {\n",
       "  background-color: var(--xr-background-color-row-even);\n",
       "  margin-bottom: 0;\n",
       "}\n",
       "\n",
       ".xr-var-item > .xr-var-name:hover span {\n",
       "  padding-right: 5px;\n",
       "}\n",
       "\n",
       ".xr-var-list > li:nth-child(odd) > div,\n",
       ".xr-var-list > li:nth-child(odd) > label,\n",
       ".xr-var-list > li:nth-child(odd) > .xr-var-name span {\n",
       "  background-color: var(--xr-background-color-row-odd);\n",
       "}\n",
       "\n",
       ".xr-var-name {\n",
       "  grid-column: 1;\n",
       "}\n",
       "\n",
       ".xr-var-dims {\n",
       "  grid-column: 2;\n",
       "}\n",
       "\n",
       ".xr-var-dtype {\n",
       "  grid-column: 3;\n",
       "  text-align: right;\n",
       "  color: var(--xr-font-color2);\n",
       "}\n",
       "\n",
       ".xr-var-preview {\n",
       "  grid-column: 4;\n",
       "}\n",
       "\n",
       ".xr-index-preview {\n",
       "  grid-column: 2 / 5;\n",
       "  color: var(--xr-font-color2);\n",
       "}\n",
       "\n",
       ".xr-var-name,\n",
       ".xr-var-dims,\n",
       ".xr-var-dtype,\n",
       ".xr-preview,\n",
       ".xr-attrs dt {\n",
       "  white-space: nowrap;\n",
       "  overflow: hidden;\n",
       "  text-overflow: ellipsis;\n",
       "  padding-right: 10px;\n",
       "}\n",
       "\n",
       ".xr-var-name:hover,\n",
       ".xr-var-dims:hover,\n",
       ".xr-var-dtype:hover,\n",
       ".xr-attrs dt:hover {\n",
       "  overflow: visible;\n",
       "  width: auto;\n",
       "  z-index: 1;\n",
       "}\n",
       "\n",
       ".xr-var-attrs,\n",
       ".xr-var-data,\n",
       ".xr-index-data {\n",
       "  display: none;\n",
       "  background-color: var(--xr-background-color) !important;\n",
       "  padding-bottom: 5px !important;\n",
       "}\n",
       "\n",
       ".xr-var-attrs-in:checked ~ .xr-var-attrs,\n",
       ".xr-var-data-in:checked ~ .xr-var-data,\n",
       ".xr-index-data-in:checked ~ .xr-index-data {\n",
       "  display: block;\n",
       "}\n",
       "\n",
       ".xr-var-data > table {\n",
       "  float: right;\n",
       "}\n",
       "\n",
       ".xr-var-name span,\n",
       ".xr-var-data,\n",
       ".xr-index-name div,\n",
       ".xr-index-data,\n",
       ".xr-attrs {\n",
       "  padding-left: 25px !important;\n",
       "}\n",
       "\n",
       ".xr-attrs,\n",
       ".xr-var-attrs,\n",
       ".xr-var-data,\n",
       ".xr-index-data {\n",
       "  grid-column: 1 / -1;\n",
       "}\n",
       "\n",
       "dl.xr-attrs {\n",
       "  padding: 0;\n",
       "  margin: 0;\n",
       "  display: grid;\n",
       "  grid-template-columns: 125px auto;\n",
       "}\n",
       "\n",
       ".xr-attrs dt,\n",
       ".xr-attrs dd {\n",
       "  padding: 0;\n",
       "  margin: 0;\n",
       "  float: left;\n",
       "  padding-right: 10px;\n",
       "  width: auto;\n",
       "}\n",
       "\n",
       ".xr-attrs dt {\n",
       "  font-weight: normal;\n",
       "  grid-column: 1;\n",
       "}\n",
       "\n",
       ".xr-attrs dt:hover span {\n",
       "  display: inline-block;\n",
       "  background: var(--xr-background-color);\n",
       "  padding-right: 10px;\n",
       "}\n",
       "\n",
       ".xr-attrs dd {\n",
       "  grid-column: 2;\n",
       "  white-space: pre-wrap;\n",
       "  word-break: break-all;\n",
       "}\n",
       "\n",
       ".xr-icon-database,\n",
       ".xr-icon-file-text2,\n",
       ".xr-no-icon {\n",
       "  display: inline-block;\n",
       "  vertical-align: middle;\n",
       "  width: 1em;\n",
       "  height: 1.5em !important;\n",
       "  stroke-width: 0;\n",
       "  stroke: currentColor;\n",
       "  fill: currentColor;\n",
       "}\n",
       "</style><pre class='xr-text-repr-fallback'>&lt;xarray.Dataset&gt;\n",
       "Dimensions:          (lead_day: 7)\n",
       "Coordinates:\n",
       "  * lead_day         (lead_day) int64 1 2 3 4 5 6 7\n",
       "Data variables:\n",
       "    mean             (lead_day) float64 0.06137 0.05551 ... 0.06739 -0.004441\n",
       "    dm_test_stat     (lead_day) float64 1.991 2.04 2.236 ... 1.084 -0.3778\n",
       "    timeseries_len   (lead_day) int64 91 91 91 91 91 91 91\n",
       "    confidence_gt_0  (lead_day) float64 0.9767 0.9793 0.9873 ... 0.8608 0.3528\n",
       "    ci_upper         (lead_day) float64 0.1218 0.1088 0.1533 ... 0.1893 0.0186\n",
       "    ci_lower         (lead_day) float64 0.0009431 0.002187 ... -0.05448 -0.02748</pre><div class='xr-wrap' style='display:none'><div class='xr-header'><div class='xr-obj-type'>xarray.Dataset</div></div><ul class='xr-sections'><li class='xr-section-item'><input id='section-87164c71-a70f-4768-ad2a-7bcbc58f7952' class='xr-section-summary-in' type='checkbox' disabled ><label for='section-87164c71-a70f-4768-ad2a-7bcbc58f7952' class='xr-section-summary'  title='Expand/collapse section'>Dimensions:</label><div class='xr-section-inline-details'><ul class='xr-dim-list'><li><span class='xr-has-index'>lead_day</span>: 7</li></ul></div><div class='xr-section-details'></div></li><li class='xr-section-item'><input id='section-e19e38eb-cefa-4c76-8d06-674673ad1287' class='xr-section-summary-in' type='checkbox'  checked><label for='section-e19e38eb-cefa-4c76-8d06-674673ad1287' class='xr-section-summary' >Coordinates: <span>(1)</span></label><div class='xr-section-inline-details'></div><div class='xr-section-details'><ul class='xr-var-list'><li class='xr-var-item'><div class='xr-var-name'><span class='xr-has-index'>lead_day</span></div><div class='xr-var-dims'>(lead_day)</div><div class='xr-var-dtype'>int64</div><div class='xr-var-preview xr-preview'>1 2 3 4 5 6 7</div><input id='attrs-d9b5281f-1c55-495c-b0fa-14a780450100' class='xr-var-attrs-in' type='checkbox' disabled><label for='attrs-d9b5281f-1c55-495c-b0fa-14a780450100' title='Show/Hide attributes'><svg class='icon xr-icon-file-text2'><use xlink:href='#icon-file-text2'></use></svg></label><input id='data-b824e333-9cb7-44ac-9945-585a7b17a0fa' class='xr-var-data-in' type='checkbox'><label for='data-b824e333-9cb7-44ac-9945-585a7b17a0fa' title='Show/Hide data repr'><svg class='icon xr-icon-database'><use xlink:href='#icon-database'></use></svg></label><div class='xr-var-attrs'><dl class='xr-attrs'></dl></div><div class='xr-var-data'><pre>array([1, 2, 3, 4, 5, 6, 7])</pre></div></li></ul></div></li><li class='xr-section-item'><input id='section-bb70771d-f0c6-45a0-91d0-2120dc52ea92' class='xr-section-summary-in' type='checkbox'  checked><label for='section-bb70771d-f0c6-45a0-91d0-2120dc52ea92' class='xr-section-summary' >Data variables: <span>(6)</span></label><div class='xr-section-inline-details'></div><div class='xr-section-details'><ul class='xr-var-list'><li class='xr-var-item'><div class='xr-var-name'><span>mean</span></div><div class='xr-var-dims'>(lead_day)</div><div class='xr-var-dtype'>float64</div><div class='xr-var-preview xr-preview'>0.06137 0.05551 ... -0.004441</div><input id='attrs-48decd67-f73e-4631-817f-7a9df7199578' class='xr-var-attrs-in' type='checkbox' disabled><label for='attrs-48decd67-f73e-4631-817f-7a9df7199578' title='Show/Hide attributes'><svg class='icon xr-icon-file-text2'><use xlink:href='#icon-file-text2'></use></svg></label><input id='data-d0817997-bf0b-4196-9cdc-1a662f004673' class='xr-var-data-in' type='checkbox'><label for='data-d0817997-bf0b-4196-9cdc-1a662f004673' title='Show/Hide data repr'><svg class='icon xr-icon-database'><use xlink:href='#icon-database'></use></svg></label><div class='xr-var-attrs'><dl class='xr-attrs'></dl></div><div class='xr-var-data'><pre>array([ 0.06136901,  0.05551202,  0.08169472,  0.02340832,  0.00677271,\n",
       "        0.06739369, -0.00444104])</pre></div></li><li class='xr-var-item'><div class='xr-var-name'><span>dm_test_stat</span></div><div class='xr-var-dims'>(lead_day)</div><div class='xr-var-dtype'>float64</div><div class='xr-var-preview xr-preview'>1.991 2.04 2.236 ... 1.084 -0.3778</div><input id='attrs-25b76473-74c1-4545-944b-036e06fa43c8' class='xr-var-attrs-in' type='checkbox' disabled><label for='attrs-25b76473-74c1-4545-944b-036e06fa43c8' title='Show/Hide attributes'><svg class='icon xr-icon-file-text2'><use xlink:href='#icon-file-text2'></use></svg></label><input id='data-1e4ae0e6-3606-4252-a00f-ac88c5810024' class='xr-var-data-in' type='checkbox'><label for='data-1e4ae0e6-3606-4252-a00f-ac88c5810024' title='Show/Hide data repr'><svg class='icon xr-icon-database'><use xlink:href='#icon-database'></use></svg></label><div class='xr-var-attrs'><dl class='xr-attrs'></dl></div><div class='xr-var-data'><pre>array([ 1.99055368,  2.0403376 ,  2.2357577 ,  0.879414  ,  0.15224158,\n",
       "        1.08379416, -0.37775281])</pre></div></li><li class='xr-var-item'><div class='xr-var-name'><span>timeseries_len</span></div><div class='xr-var-dims'>(lead_day)</div><div class='xr-var-dtype'>int64</div><div class='xr-var-preview xr-preview'>91 91 91 91 91 91 91</div><input id='attrs-c4fa7453-5996-42a8-8b5a-0f05724d80e4' class='xr-var-attrs-in' type='checkbox' disabled><label for='attrs-c4fa7453-5996-42a8-8b5a-0f05724d80e4' title='Show/Hide attributes'><svg class='icon xr-icon-file-text2'><use xlink:href='#icon-file-text2'></use></svg></label><input id='data-eb949fc9-be8b-4559-ac9b-029559dc851a' class='xr-var-data-in' type='checkbox'><label for='data-eb949fc9-be8b-4559-ac9b-029559dc851a' title='Show/Hide data repr'><svg class='icon xr-icon-database'><use xlink:href='#icon-database'></use></svg></label><div class='xr-var-attrs'><dl class='xr-attrs'></dl></div><div class='xr-var-data'><pre>array([91, 91, 91, 91, 91, 91, 91])</pre></div></li><li class='xr-var-item'><div class='xr-var-name'><span>confidence_gt_0</span></div><div class='xr-var-dims'>(lead_day)</div><div class='xr-var-dtype'>float64</div><div class='xr-var-preview xr-preview'>0.9767 0.9793 ... 0.8608 0.3528</div><input id='attrs-648de890-401f-4758-b063-98cb6fb06185' class='xr-var-attrs-in' type='checkbox' disabled><label for='attrs-648de890-401f-4758-b063-98cb6fb06185' title='Show/Hide attributes'><svg class='icon xr-icon-file-text2'><use xlink:href='#icon-file-text2'></use></svg></label><input id='data-e330aa87-4d34-45a4-ac30-873025be2a56' class='xr-var-data-in' type='checkbox'><label for='data-e330aa87-4d34-45a4-ac30-873025be2a56' title='Show/Hide data repr'><svg class='icon xr-icon-database'><use xlink:href='#icon-database'></use></svg></label><div class='xr-var-attrs'><dl class='xr-attrs'></dl></div><div class='xr-var-data'><pre>array([0.97673501, 0.97934164, 0.98731618, 0.81041158, 0.5605018 ,\n",
       "       0.86077196, 0.35280712])</pre></div></li><li class='xr-var-item'><div class='xr-var-name'><span>ci_upper</span></div><div class='xr-var-dims'>(lead_day)</div><div class='xr-var-dtype'>float64</div><div class='xr-var-preview xr-preview'>0.1218 0.1088 ... 0.1893 0.0186</div><input id='attrs-ae07f90e-10d6-4b90-903f-06ef7361c944' class='xr-var-attrs-in' type='checkbox' disabled><label for='attrs-ae07f90e-10d6-4b90-903f-06ef7361c944' title='Show/Hide attributes'><svg class='icon xr-icon-file-text2'><use xlink:href='#icon-file-text2'></use></svg></label><input id='data-2fd10e46-cb04-4942-8423-a3c5c3a0e171' class='xr-var-data-in' type='checkbox'><label for='data-2fd10e46-cb04-4942-8423-a3c5c3a0e171' title='Show/Hide data repr'><svg class='icon xr-icon-database'><use xlink:href='#icon-database'></use></svg></label><div class='xr-var-attrs'><dl class='xr-attrs'></dl></div><div class='xr-var-data'><pre>array([0.12179493, 0.10883729, 0.15331191, 0.07557882, 0.09396488,\n",
       "       0.18927033, 0.01860121])</pre></div></li><li class='xr-var-item'><div class='xr-var-name'><span>ci_lower</span></div><div class='xr-var-dims'>(lead_day)</div><div class='xr-var-dtype'>float64</div><div class='xr-var-preview xr-preview'>0.0009431 0.002187 ... -0.02748</div><input id='attrs-5bf9d6ed-abf9-4c0d-8a44-470ea9bdce6b' class='xr-var-attrs-in' type='checkbox' disabled><label for='attrs-5bf9d6ed-abf9-4c0d-8a44-470ea9bdce6b' title='Show/Hide attributes'><svg class='icon xr-icon-file-text2'><use xlink:href='#icon-file-text2'></use></svg></label><input id='data-dfec6908-172d-4147-a489-dd40431848ee' class='xr-var-data-in' type='checkbox'><label for='data-dfec6908-172d-4147-a489-dd40431848ee' title='Show/Hide data repr'><svg class='icon xr-icon-database'><use xlink:href='#icon-database'></use></svg></label><div class='xr-var-attrs'><dl class='xr-attrs'></dl></div><div class='xr-var-data'><pre>array([ 0.00094308,  0.00218675,  0.01007752, -0.02876218, -0.08041946,\n",
       "       -0.05448296, -0.02748328])</pre></div></li></ul></div></li><li class='xr-section-item'><input id='section-da454712-a558-411f-bc04-35e7b364e486' class='xr-section-summary-in' type='checkbox'  ><label for='section-da454712-a558-411f-bc04-35e7b364e486' class='xr-section-summary' >Indexes: <span>(1)</span></label><div class='xr-section-inline-details'></div><div class='xr-section-details'><ul class='xr-var-list'><li class='xr-var-item'><div class='xr-index-name'><div>lead_day</div></div><div class='xr-index-preview'>PandasIndex</div><div></div><input id='index-c8f4666e-a352-4861-8b86-3c54492c4cd1' class='xr-index-data-in' type='checkbox'/><label for='index-c8f4666e-a352-4861-8b86-3c54492c4cd1' title='Show/Hide index repr'><svg class='icon xr-icon-database'><use xlink:href='#icon-database'></use></svg></label><div class='xr-index-data'><pre>PandasIndex(Int64Index([1, 2, 3, 4, 5, 6, 7], dtype=&#x27;int64&#x27;, name=&#x27;lead_day&#x27;))</pre></div></li></ul></div></li><li class='xr-section-item'><input id='section-092e5aae-2b82-48b2-b0d0-908d923193bf' class='xr-section-summary-in' type='checkbox' disabled ><label for='section-092e5aae-2b82-48b2-b0d0-908d923193bf' class='xr-section-summary'  title='Expand/collapse section'>Attributes: <span>(0)</span></label><div class='xr-section-inline-details'></div><div class='xr-section-details'><dl class='xr-attrs'></dl></div></li></ul></div></div>"
      ],
      "text/plain": [
       "<xarray.Dataset>\n",
       "Dimensions:          (lead_day: 7)\n",
       "Coordinates:\n",
       "  * lead_day         (lead_day) int64 1 2 3 4 5 6 7\n",
       "Data variables:\n",
       "    mean             (lead_day) float64 0.06137 0.05551 ... 0.06739 -0.004441\n",
       "    dm_test_stat     (lead_day) float64 1.991 2.04 2.236 ... 1.084 -0.3778\n",
       "    timeseries_len   (lead_day) int64 91 91 91 91 91 91 91\n",
       "    confidence_gt_0  (lead_day) float64 0.9767 0.9793 0.9873 ... 0.8608 0.3528\n",
       "    ci_upper         (lead_day) float64 0.1218 0.1088 0.1533 ... 0.1893 0.0186\n",
       "    ci_lower         (lead_day) float64 0.0009431 0.002187 ... -0.05448 -0.02748"
      ]
     },
     "execution_count": 43,
     "metadata": {},
     "output_type": "execute_result"
    }
   ],
   "source": [
    "# Black Summer TW\n",
    "official_bs_tw = threshold_weighted_squared_error(official_bs, obs_bs, interval_where_one = (thresholds, inf_threshold), dims = [\"lead_day\", \"valid_15z_date\"])\n",
    "autofcst_bs_tw = threshold_weighted_squared_error(autofcst_bs, obs_bs, interval_where_one = (thresholds, inf_threshold), dims = [\"lead_day\", \"valid_15z_date\"])\n",
    "# Difference between Official and the hindcast\n",
    "diff= autofcst_bs_tw - official_bs_tw\n",
    "diff = diff.assign_coords(h=(\"lead_day\", [2, 3, 4, 5, 6, 7, 8]))\n",
    "dm_result = diebold_mariano(diff, \"lead_day\", \"h\")\n",
    "dm_result"
   ]
  },
  {
   "cell_type": "markdown",
   "metadata": {},
   "source": [
    "# NT example"
   ]
  },
  {
   "cell_type": "code",
   "execution_count": 44,
   "metadata": {},
   "outputs": [],
   "source": [
    "# NT 2016 data\n",
    "\n",
    "official_nt_2016 = xr.open_dataarray(\"../data/temperature/Official_MaxT_00_20160501-20260930_NT.nc\")\n",
    "# Note that the 18Z PtOCF was the automated guidance available to meteorologists for the\n",
    "# afternoon (00Z) official forecast issue during 2016\n",
    "autofcst_nt_2016 = xr.open_dataarray(\"../data/temperature/PtOCF_MaxT_12_20160501-20260930_NT.nc\")\n",
    "obs_nt_2016 = xr.open_dataarray(\"../data/temperature/obs_MaxT_20160501-20160930_NT.nc\")\n",
    "\n",
    "# Match missing data between datasets\n",
    "official_nt_2016, autofcst_nt_2016, obs_nt_2016 = broadcast_and_match_nan(official_nt_2016, autofcst_nt_2016, obs_nt_2016)\n",
    "\n",
    "# Produce sample climatological forecast\n",
    "nt_2016_clim_fcst = obs_nt_2016.mean(\"valid_15z_date\") * (obs_nt_2016 * 0 + 1)\n",
    "\n",
    "# NT 2020 data\n",
    "\n",
    "official_nt_2020 = xr.open_dataarray(\"../data/temperature/Official_MaxT_00_20200501-20200930_NT.nc\")\n",
    "# Note that the 12Z AutoFcst was the automated guidance available to meteorologists for the\n",
    "# afternoon (00Z) official forecast issue during the 2020 dry season\n",
    "autofcst_nt_2020 = xr.open_dataarray(\"../data/temperature/AutoFcst_MaxT_12_20200501-20200930_NT.nc\")\n",
    "obs_nt_2020 = xr.open_dataarray(\"../data/temperature/obs_MaxT_20200501-20200930_NT.nc\")\n",
    "\n",
    "# Match missing data between datasets\n",
    "official_nt_2020, autofcst_nt_2020, obs_nt_2020 = broadcast_and_match_nan(official_nt_2020, autofcst_nt_2020, obs_nt_2020)\n",
    "\n",
    "# Produce sample climatological forecast\n",
    "nt_2020_clim_fcst = obs_nt_2020.mean(\"valid_15z_date\") * (obs_nt_2020 * 0 + 1)"
   ]
  },
  {
   "cell_type": "code",
   "execution_count": 45,
   "metadata": {},
   "outputs": [],
   "source": [
    "# 2016 NT MSE\n",
    "autofcst_2016_mse = mse(autofcst_nt_2016, obs_nt_2016, preserve_dims=\"lead_day\")\n",
    "official_2016_mse = mse(official_nt_2016, obs_nt_2016, preserve_dims=\"lead_day\")\n",
    "clim_2016_mse = mse(nt_2016_clim_fcst, obs_nt_2016, preserve_dims=\"lead_day\")\n",
    "autofcst_2016_ss = 1 - (autofcst_2016_mse /clim_2016_mse)\n",
    "official_2016_ss = 1 - (official_2016_mse /clim_2016_mse)\n",
    "\n",
    "# 2020 NT MSE\n",
    "autofcst_2020_mse = mse(autofcst_nt_2020, obs_nt_2020, preserve_dims=\"lead_day\")\n",
    "official_2020_mse = mse(official_nt_2020, obs_nt_2020, preserve_dims=\"lead_day\")\n",
    "clim_2020_mse = mse(nt_2016_clim_fcst, obs_nt_2016, preserve_dims=\"lead_day\")\n",
    "autofcst_2020_ss = 1 - (autofcst_2020_mse /clim_2020_mse)\n",
    "official_2020_ss = 1 - (official_2020_mse /clim_2020_mse)"
   ]
  },
  {
   "cell_type": "code",
   "execution_count": 46,
   "metadata": {},
   "outputs": [
    {
     "data": {
      "application/vnd.plotly.v1+json": {
       "config": {
        "plotlyServerURL": "https://plot.ly"
       },
       "data": [
        {
         "line": {
          "color": "rgba(230,159,0,1)"
         },
         "name": "Official",
         "type": "scatter",
         "x": [
          1,
          2,
          3,
          4,
          5,
          6,
          7
         ],
         "xaxis": "x",
         "y": [
          0.720313422088952,
          0.6920338491225317,
          0.6532790418841622,
          0.6097985312957475,
          0.5614585680202504,
          0.5096050690719134,
          0.4227821083514245
         ],
         "yaxis": "y"
        },
        {
         "line": {
          "color": "rgba(86,180,233,1)"
         },
         "name": "Automated",
         "type": "scatter",
         "x": [
          1,
          2,
          3,
          4,
          5,
          6,
          7
         ],
         "xaxis": "x",
         "y": [
          0.7716254971857138,
          0.7470380218912193,
          0.70538528515993,
          0.6441702490252494,
          0.5896685201195659,
          0.5269813618287895,
          0.4168131727519434
         ],
         "yaxis": "y"
        },
        {
         "line": {
          "color": "rgba(230,159,0,1)"
         },
         "name": "Official",
         "showlegend": false,
         "type": "scatter",
         "x": [
          1,
          2,
          3,
          4,
          5,
          6,
          7
         ],
         "xaxis": "x2",
         "y": [
          0.9130240243215281,
          0.9055088209407063,
          0.8885957290914746,
          0.8708090375592044,
          0.8499419531279515,
          0.8133563716201202,
          0.750237833007678
         ],
         "yaxis": "y2"
        },
        {
         "line": {
          "color": "rgba(86,180,233,1)"
         },
         "name": "Automated",
         "showlegend": false,
         "type": "scatter",
         "x": [
          1,
          2,
          3,
          4,
          5,
          6,
          7
         ],
         "xaxis": "x2",
         "y": [
          0.9151696022682179,
          0.9060411456442165,
          0.8883852935692045,
          0.8705415391891371,
          0.8500712805808865,
          0.817355500106687,
          0.7579178897491197
         ],
         "yaxis": "y2"
        }
       ],
       "layout": {
        "annotations": [
         {
          "font": {
           "size": 12
          },
          "showarrow": false,
          "text": "<b>(a)</b>",
          "x": 0.225,
          "xanchor": "left",
          "xref": "paper",
          "xshift": -160,
          "y": 1,
          "yanchor": "bottom",
          "yref": "paper"
         },
         {
          "font": {
           "size": 12
          },
          "showarrow": false,
          "text": "<b>(b)</b>",
          "x": 0.775,
          "xanchor": "left",
          "xref": "paper",
          "xshift": -160,
          "y": 1,
          "yanchor": "bottom",
          "yref": "paper"
         }
        ],
        "height": 300,
        "legend": {
         "x": 0.99,
         "xanchor": "right",
         "y": 0.99,
         "yanchor": "top"
        },
        "margin": {
         "b": 20,
         "l": 20,
         "r": 20,
         "t": 20
        },
        "template": {
         "data": {
          "bar": [
           {
            "error_x": {
             "color": "#2a3f5f"
            },
            "error_y": {
             "color": "#2a3f5f"
            },
            "marker": {
             "line": {
              "color": "#E5ECF6",
              "width": 0.5
             },
             "pattern": {
              "fillmode": "overlay",
              "size": 10,
              "solidity": 0.2
             }
            },
            "type": "bar"
           }
          ],
          "barpolar": [
           {
            "marker": {
             "line": {
              "color": "#E5ECF6",
              "width": 0.5
             },
             "pattern": {
              "fillmode": "overlay",
              "size": 10,
              "solidity": 0.2
             }
            },
            "type": "barpolar"
           }
          ],
          "carpet": [
           {
            "aaxis": {
             "endlinecolor": "#2a3f5f",
             "gridcolor": "white",
             "linecolor": "white",
             "minorgridcolor": "white",
             "startlinecolor": "#2a3f5f"
            },
            "baxis": {
             "endlinecolor": "#2a3f5f",
             "gridcolor": "white",
             "linecolor": "white",
             "minorgridcolor": "white",
             "startlinecolor": "#2a3f5f"
            },
            "type": "carpet"
           }
          ],
          "choropleth": [
           {
            "colorbar": {
             "outlinewidth": 0,
             "ticks": ""
            },
            "type": "choropleth"
           }
          ],
          "contour": [
           {
            "colorbar": {
             "outlinewidth": 0,
             "ticks": ""
            },
            "colorscale": [
             [
              0,
              "#0d0887"
             ],
             [
              0.1111111111111111,
              "#46039f"
             ],
             [
              0.2222222222222222,
              "#7201a8"
             ],
             [
              0.3333333333333333,
              "#9c179e"
             ],
             [
              0.4444444444444444,
              "#bd3786"
             ],
             [
              0.5555555555555556,
              "#d8576b"
             ],
             [
              0.6666666666666666,
              "#ed7953"
             ],
             [
              0.7777777777777778,
              "#fb9f3a"
             ],
             [
              0.8888888888888888,
              "#fdca26"
             ],
             [
              1,
              "#f0f921"
             ]
            ],
            "type": "contour"
           }
          ],
          "contourcarpet": [
           {
            "colorbar": {
             "outlinewidth": 0,
             "ticks": ""
            },
            "type": "contourcarpet"
           }
          ],
          "heatmap": [
           {
            "colorbar": {
             "outlinewidth": 0,
             "ticks": ""
            },
            "colorscale": [
             [
              0,
              "#0d0887"
             ],
             [
              0.1111111111111111,
              "#46039f"
             ],
             [
              0.2222222222222222,
              "#7201a8"
             ],
             [
              0.3333333333333333,
              "#9c179e"
             ],
             [
              0.4444444444444444,
              "#bd3786"
             ],
             [
              0.5555555555555556,
              "#d8576b"
             ],
             [
              0.6666666666666666,
              "#ed7953"
             ],
             [
              0.7777777777777778,
              "#fb9f3a"
             ],
             [
              0.8888888888888888,
              "#fdca26"
             ],
             [
              1,
              "#f0f921"
             ]
            ],
            "type": "heatmap"
           }
          ],
          "heatmapgl": [
           {
            "colorbar": {
             "outlinewidth": 0,
             "ticks": ""
            },
            "colorscale": [
             [
              0,
              "#0d0887"
             ],
             [
              0.1111111111111111,
              "#46039f"
             ],
             [
              0.2222222222222222,
              "#7201a8"
             ],
             [
              0.3333333333333333,
              "#9c179e"
             ],
             [
              0.4444444444444444,
              "#bd3786"
             ],
             [
              0.5555555555555556,
              "#d8576b"
             ],
             [
              0.6666666666666666,
              "#ed7953"
             ],
             [
              0.7777777777777778,
              "#fb9f3a"
             ],
             [
              0.8888888888888888,
              "#fdca26"
             ],
             [
              1,
              "#f0f921"
             ]
            ],
            "type": "heatmapgl"
           }
          ],
          "histogram": [
           {
            "marker": {
             "pattern": {
              "fillmode": "overlay",
              "size": 10,
              "solidity": 0.2
             }
            },
            "type": "histogram"
           }
          ],
          "histogram2d": [
           {
            "colorbar": {
             "outlinewidth": 0,
             "ticks": ""
            },
            "colorscale": [
             [
              0,
              "#0d0887"
             ],
             [
              0.1111111111111111,
              "#46039f"
             ],
             [
              0.2222222222222222,
              "#7201a8"
             ],
             [
              0.3333333333333333,
              "#9c179e"
             ],
             [
              0.4444444444444444,
              "#bd3786"
             ],
             [
              0.5555555555555556,
              "#d8576b"
             ],
             [
              0.6666666666666666,
              "#ed7953"
             ],
             [
              0.7777777777777778,
              "#fb9f3a"
             ],
             [
              0.8888888888888888,
              "#fdca26"
             ],
             [
              1,
              "#f0f921"
             ]
            ],
            "type": "histogram2d"
           }
          ],
          "histogram2dcontour": [
           {
            "colorbar": {
             "outlinewidth": 0,
             "ticks": ""
            },
            "colorscale": [
             [
              0,
              "#0d0887"
             ],
             [
              0.1111111111111111,
              "#46039f"
             ],
             [
              0.2222222222222222,
              "#7201a8"
             ],
             [
              0.3333333333333333,
              "#9c179e"
             ],
             [
              0.4444444444444444,
              "#bd3786"
             ],
             [
              0.5555555555555556,
              "#d8576b"
             ],
             [
              0.6666666666666666,
              "#ed7953"
             ],
             [
              0.7777777777777778,
              "#fb9f3a"
             ],
             [
              0.8888888888888888,
              "#fdca26"
             ],
             [
              1,
              "#f0f921"
             ]
            ],
            "type": "histogram2dcontour"
           }
          ],
          "mesh3d": [
           {
            "colorbar": {
             "outlinewidth": 0,
             "ticks": ""
            },
            "type": "mesh3d"
           }
          ],
          "parcoords": [
           {
            "line": {
             "colorbar": {
              "outlinewidth": 0,
              "ticks": ""
             }
            },
            "type": "parcoords"
           }
          ],
          "pie": [
           {
            "automargin": true,
            "type": "pie"
           }
          ],
          "scatter": [
           {
            "fillpattern": {
             "fillmode": "overlay",
             "size": 10,
             "solidity": 0.2
            },
            "type": "scatter"
           }
          ],
          "scatter3d": [
           {
            "line": {
             "colorbar": {
              "outlinewidth": 0,
              "ticks": ""
             }
            },
            "marker": {
             "colorbar": {
              "outlinewidth": 0,
              "ticks": ""
             }
            },
            "type": "scatter3d"
           }
          ],
          "scattercarpet": [
           {
            "marker": {
             "colorbar": {
              "outlinewidth": 0,
              "ticks": ""
             }
            },
            "type": "scattercarpet"
           }
          ],
          "scattergeo": [
           {
            "marker": {
             "colorbar": {
              "outlinewidth": 0,
              "ticks": ""
             }
            },
            "type": "scattergeo"
           }
          ],
          "scattergl": [
           {
            "marker": {
             "colorbar": {
              "outlinewidth": 0,
              "ticks": ""
             }
            },
            "type": "scattergl"
           }
          ],
          "scattermapbox": [
           {
            "marker": {
             "colorbar": {
              "outlinewidth": 0,
              "ticks": ""
             }
            },
            "type": "scattermapbox"
           }
          ],
          "scatterpolar": [
           {
            "marker": {
             "colorbar": {
              "outlinewidth": 0,
              "ticks": ""
             }
            },
            "type": "scatterpolar"
           }
          ],
          "scatterpolargl": [
           {
            "marker": {
             "colorbar": {
              "outlinewidth": 0,
              "ticks": ""
             }
            },
            "type": "scatterpolargl"
           }
          ],
          "scatterternary": [
           {
            "marker": {
             "colorbar": {
              "outlinewidth": 0,
              "ticks": ""
             }
            },
            "type": "scatterternary"
           }
          ],
          "surface": [
           {
            "colorbar": {
             "outlinewidth": 0,
             "ticks": ""
            },
            "colorscale": [
             [
              0,
              "#0d0887"
             ],
             [
              0.1111111111111111,
              "#46039f"
             ],
             [
              0.2222222222222222,
              "#7201a8"
             ],
             [
              0.3333333333333333,
              "#9c179e"
             ],
             [
              0.4444444444444444,
              "#bd3786"
             ],
             [
              0.5555555555555556,
              "#d8576b"
             ],
             [
              0.6666666666666666,
              "#ed7953"
             ],
             [
              0.7777777777777778,
              "#fb9f3a"
             ],
             [
              0.8888888888888888,
              "#fdca26"
             ],
             [
              1,
              "#f0f921"
             ]
            ],
            "type": "surface"
           }
          ],
          "table": [
           {
            "cells": {
             "fill": {
              "color": "#EBF0F8"
             },
             "line": {
              "color": "white"
             }
            },
            "header": {
             "fill": {
              "color": "#C8D4E3"
             },
             "line": {
              "color": "white"
             }
            },
            "type": "table"
           }
          ]
         },
         "layout": {
          "annotationdefaults": {
           "arrowcolor": "#2a3f5f",
           "arrowhead": 0,
           "arrowwidth": 1
          },
          "autotypenumbers": "strict",
          "coloraxis": {
           "colorbar": {
            "outlinewidth": 0,
            "ticks": ""
           }
          },
          "colorscale": {
           "diverging": [
            [
             0,
             "#8e0152"
            ],
            [
             0.1,
             "#c51b7d"
            ],
            [
             0.2,
             "#de77ae"
            ],
            [
             0.3,
             "#f1b6da"
            ],
            [
             0.4,
             "#fde0ef"
            ],
            [
             0.5,
             "#f7f7f7"
            ],
            [
             0.6,
             "#e6f5d0"
            ],
            [
             0.7,
             "#b8e186"
            ],
            [
             0.8,
             "#7fbc41"
            ],
            [
             0.9,
             "#4d9221"
            ],
            [
             1,
             "#276419"
            ]
           ],
           "sequential": [
            [
             0,
             "#0d0887"
            ],
            [
             0.1111111111111111,
             "#46039f"
            ],
            [
             0.2222222222222222,
             "#7201a8"
            ],
            [
             0.3333333333333333,
             "#9c179e"
            ],
            [
             0.4444444444444444,
             "#bd3786"
            ],
            [
             0.5555555555555556,
             "#d8576b"
            ],
            [
             0.6666666666666666,
             "#ed7953"
            ],
            [
             0.7777777777777778,
             "#fb9f3a"
            ],
            [
             0.8888888888888888,
             "#fdca26"
            ],
            [
             1,
             "#f0f921"
            ]
           ],
           "sequentialminus": [
            [
             0,
             "#0d0887"
            ],
            [
             0.1111111111111111,
             "#46039f"
            ],
            [
             0.2222222222222222,
             "#7201a8"
            ],
            [
             0.3333333333333333,
             "#9c179e"
            ],
            [
             0.4444444444444444,
             "#bd3786"
            ],
            [
             0.5555555555555556,
             "#d8576b"
            ],
            [
             0.6666666666666666,
             "#ed7953"
            ],
            [
             0.7777777777777778,
             "#fb9f3a"
            ],
            [
             0.8888888888888888,
             "#fdca26"
            ],
            [
             1,
             "#f0f921"
            ]
           ]
          },
          "colorway": [
           "#636efa",
           "#EF553B",
           "#00cc96",
           "#ab63fa",
           "#FFA15A",
           "#19d3f3",
           "#FF6692",
           "#B6E880",
           "#FF97FF",
           "#FECB52"
          ],
          "font": {
           "color": "#2a3f5f"
          },
          "geo": {
           "bgcolor": "white",
           "lakecolor": "white",
           "landcolor": "#E5ECF6",
           "showlakes": true,
           "showland": true,
           "subunitcolor": "white"
          },
          "hoverlabel": {
           "align": "left"
          },
          "hovermode": "closest",
          "mapbox": {
           "style": "light"
          },
          "paper_bgcolor": "white",
          "plot_bgcolor": "#E5ECF6",
          "polar": {
           "angularaxis": {
            "gridcolor": "white",
            "linecolor": "white",
            "ticks": ""
           },
           "bgcolor": "#E5ECF6",
           "radialaxis": {
            "gridcolor": "white",
            "linecolor": "white",
            "ticks": ""
           }
          },
          "scene": {
           "xaxis": {
            "backgroundcolor": "#E5ECF6",
            "gridcolor": "white",
            "gridwidth": 2,
            "linecolor": "white",
            "showbackground": true,
            "ticks": "",
            "zerolinecolor": "white"
           },
           "yaxis": {
            "backgroundcolor": "#E5ECF6",
            "gridcolor": "white",
            "gridwidth": 2,
            "linecolor": "white",
            "showbackground": true,
            "ticks": "",
            "zerolinecolor": "white"
           },
           "zaxis": {
            "backgroundcolor": "#E5ECF6",
            "gridcolor": "white",
            "gridwidth": 2,
            "linecolor": "white",
            "showbackground": true,
            "ticks": "",
            "zerolinecolor": "white"
           }
          },
          "shapedefaults": {
           "line": {
            "color": "#2a3f5f"
           }
          },
          "ternary": {
           "aaxis": {
            "gridcolor": "white",
            "linecolor": "white",
            "ticks": ""
           },
           "baxis": {
            "gridcolor": "white",
            "linecolor": "white",
            "ticks": ""
           },
           "bgcolor": "#E5ECF6",
           "caxis": {
            "gridcolor": "white",
            "linecolor": "white",
            "ticks": ""
           }
          },
          "title": {
           "x": 0.05
          },
          "xaxis": {
           "automargin": true,
           "gridcolor": "white",
           "linecolor": "white",
           "ticks": "",
           "title": {
            "standoff": 15
           },
           "zerolinecolor": "white",
           "zerolinewidth": 2
          },
          "yaxis": {
           "automargin": true,
           "gridcolor": "white",
           "linecolor": "white",
           "ticks": "",
           "title": {
            "standoff": 15
           },
           "zerolinecolor": "white",
           "zerolinewidth": 2
          }
         }
        },
        "width": 800,
        "xaxis": {
         "anchor": "y",
         "domain": [
          0,
          0.45
         ],
         "dtick": 1,
         "tick0": 0,
         "tickmode": "linear",
         "title": {
          "text": "Lead day"
         }
        },
        "xaxis2": {
         "anchor": "y2",
         "domain": [
          0.55,
          1
         ],
         "dtick": 1,
         "tick0": 0,
         "tickmode": "linear",
         "title": {
          "text": "Lead day"
         }
        },
        "yaxis": {
         "anchor": "x",
         "domain": [
          0,
          1
         ],
         "title": {
          "text": "MSE skill score"
         }
        },
        "yaxis2": {
         "anchor": "x2",
         "domain": [
          0,
          1
         ],
         "title": {
          "text": "MSE skill score"
         }
        }
       }
      },
      "text/html": [
       "<div>                            <div id=\"ee9a14b4-4452-473a-8f87-30811784c313\" class=\"plotly-graph-div\" style=\"height:300px; width:800px;\"></div>            <script type=\"text/javascript\">                require([\"plotly\"], function(Plotly) {                    window.PLOTLYENV=window.PLOTLYENV || {};                                    if (document.getElementById(\"ee9a14b4-4452-473a-8f87-30811784c313\")) {                    Plotly.newPlot(                        \"ee9a14b4-4452-473a-8f87-30811784c313\",                        [{\"line\":{\"color\":\"rgba(230,159,0,1)\"},\"name\":\"Official\",\"x\":[1,2,3,4,5,6,7],\"y\":[0.720313422088952,0.6920338491225317,0.6532790418841622,0.6097985312957475,0.5614585680202504,0.5096050690719134,0.4227821083514245],\"type\":\"scatter\",\"xaxis\":\"x\",\"yaxis\":\"y\"},{\"line\":{\"color\":\"rgba(86,180,233,1)\"},\"name\":\"Automated\",\"x\":[1,2,3,4,5,6,7],\"y\":[0.7716254971857138,0.7470380218912193,0.70538528515993,0.6441702490252494,0.5896685201195659,0.5269813618287895,0.4168131727519434],\"type\":\"scatter\",\"xaxis\":\"x\",\"yaxis\":\"y\"},{\"line\":{\"color\":\"rgba(230,159,0,1)\"},\"name\":\"Official\",\"showlegend\":false,\"x\":[1,2,3,4,5,6,7],\"y\":[0.9130240243215281,0.9055088209407063,0.8885957290914746,0.8708090375592044,0.8499419531279515,0.8133563716201202,0.750237833007678],\"type\":\"scatter\",\"xaxis\":\"x2\",\"yaxis\":\"y2\"},{\"line\":{\"color\":\"rgba(86,180,233,1)\"},\"name\":\"Automated\",\"showlegend\":false,\"x\":[1,2,3,4,5,6,7],\"y\":[0.9151696022682179,0.9060411456442165,0.8883852935692045,0.8705415391891371,0.8500712805808865,0.817355500106687,0.7579178897491197],\"type\":\"scatter\",\"xaxis\":\"x2\",\"yaxis\":\"y2\"}],                        {\"template\":{\"data\":{\"histogram2dcontour\":[{\"type\":\"histogram2dcontour\",\"colorbar\":{\"outlinewidth\":0,\"ticks\":\"\"},\"colorscale\":[[0.0,\"#0d0887\"],[0.1111111111111111,\"#46039f\"],[0.2222222222222222,\"#7201a8\"],[0.3333333333333333,\"#9c179e\"],[0.4444444444444444,\"#bd3786\"],[0.5555555555555556,\"#d8576b\"],[0.6666666666666666,\"#ed7953\"],[0.7777777777777778,\"#fb9f3a\"],[0.8888888888888888,\"#fdca26\"],[1.0,\"#f0f921\"]]}],\"choropleth\":[{\"type\":\"choropleth\",\"colorbar\":{\"outlinewidth\":0,\"ticks\":\"\"}}],\"histogram2d\":[{\"type\":\"histogram2d\",\"colorbar\":{\"outlinewidth\":0,\"ticks\":\"\"},\"colorscale\":[[0.0,\"#0d0887\"],[0.1111111111111111,\"#46039f\"],[0.2222222222222222,\"#7201a8\"],[0.3333333333333333,\"#9c179e\"],[0.4444444444444444,\"#bd3786\"],[0.5555555555555556,\"#d8576b\"],[0.6666666666666666,\"#ed7953\"],[0.7777777777777778,\"#fb9f3a\"],[0.8888888888888888,\"#fdca26\"],[1.0,\"#f0f921\"]]}],\"heatmap\":[{\"type\":\"heatmap\",\"colorbar\":{\"outlinewidth\":0,\"ticks\":\"\"},\"colorscale\":[[0.0,\"#0d0887\"],[0.1111111111111111,\"#46039f\"],[0.2222222222222222,\"#7201a8\"],[0.3333333333333333,\"#9c179e\"],[0.4444444444444444,\"#bd3786\"],[0.5555555555555556,\"#d8576b\"],[0.6666666666666666,\"#ed7953\"],[0.7777777777777778,\"#fb9f3a\"],[0.8888888888888888,\"#fdca26\"],[1.0,\"#f0f921\"]]}],\"heatmapgl\":[{\"type\":\"heatmapgl\",\"colorbar\":{\"outlinewidth\":0,\"ticks\":\"\"},\"colorscale\":[[0.0,\"#0d0887\"],[0.1111111111111111,\"#46039f\"],[0.2222222222222222,\"#7201a8\"],[0.3333333333333333,\"#9c179e\"],[0.4444444444444444,\"#bd3786\"],[0.5555555555555556,\"#d8576b\"],[0.6666666666666666,\"#ed7953\"],[0.7777777777777778,\"#fb9f3a\"],[0.8888888888888888,\"#fdca26\"],[1.0,\"#f0f921\"]]}],\"contourcarpet\":[{\"type\":\"contourcarpet\",\"colorbar\":{\"outlinewidth\":0,\"ticks\":\"\"}}],\"contour\":[{\"type\":\"contour\",\"colorbar\":{\"outlinewidth\":0,\"ticks\":\"\"},\"colorscale\":[[0.0,\"#0d0887\"],[0.1111111111111111,\"#46039f\"],[0.2222222222222222,\"#7201a8\"],[0.3333333333333333,\"#9c179e\"],[0.4444444444444444,\"#bd3786\"],[0.5555555555555556,\"#d8576b\"],[0.6666666666666666,\"#ed7953\"],[0.7777777777777778,\"#fb9f3a\"],[0.8888888888888888,\"#fdca26\"],[1.0,\"#f0f921\"]]}],\"surface\":[{\"type\":\"surface\",\"colorbar\":{\"outlinewidth\":0,\"ticks\":\"\"},\"colorscale\":[[0.0,\"#0d0887\"],[0.1111111111111111,\"#46039f\"],[0.2222222222222222,\"#7201a8\"],[0.3333333333333333,\"#9c179e\"],[0.4444444444444444,\"#bd3786\"],[0.5555555555555556,\"#d8576b\"],[0.6666666666666666,\"#ed7953\"],[0.7777777777777778,\"#fb9f3a\"],[0.8888888888888888,\"#fdca26\"],[1.0,\"#f0f921\"]]}],\"mesh3d\":[{\"type\":\"mesh3d\",\"colorbar\":{\"outlinewidth\":0,\"ticks\":\"\"}}],\"scatter\":[{\"fillpattern\":{\"fillmode\":\"overlay\",\"size\":10,\"solidity\":0.2},\"type\":\"scatter\"}],\"parcoords\":[{\"type\":\"parcoords\",\"line\":{\"colorbar\":{\"outlinewidth\":0,\"ticks\":\"\"}}}],\"scatterpolargl\":[{\"type\":\"scatterpolargl\",\"marker\":{\"colorbar\":{\"outlinewidth\":0,\"ticks\":\"\"}}}],\"bar\":[{\"error_x\":{\"color\":\"#2a3f5f\"},\"error_y\":{\"color\":\"#2a3f5f\"},\"marker\":{\"line\":{\"color\":\"#E5ECF6\",\"width\":0.5},\"pattern\":{\"fillmode\":\"overlay\",\"size\":10,\"solidity\":0.2}},\"type\":\"bar\"}],\"scattergeo\":[{\"type\":\"scattergeo\",\"marker\":{\"colorbar\":{\"outlinewidth\":0,\"ticks\":\"\"}}}],\"scatterpolar\":[{\"type\":\"scatterpolar\",\"marker\":{\"colorbar\":{\"outlinewidth\":0,\"ticks\":\"\"}}}],\"histogram\":[{\"marker\":{\"pattern\":{\"fillmode\":\"overlay\",\"size\":10,\"solidity\":0.2}},\"type\":\"histogram\"}],\"scattergl\":[{\"type\":\"scattergl\",\"marker\":{\"colorbar\":{\"outlinewidth\":0,\"ticks\":\"\"}}}],\"scatter3d\":[{\"type\":\"scatter3d\",\"line\":{\"colorbar\":{\"outlinewidth\":0,\"ticks\":\"\"}},\"marker\":{\"colorbar\":{\"outlinewidth\":0,\"ticks\":\"\"}}}],\"scattermapbox\":[{\"type\":\"scattermapbox\",\"marker\":{\"colorbar\":{\"outlinewidth\":0,\"ticks\":\"\"}}}],\"scatterternary\":[{\"type\":\"scatterternary\",\"marker\":{\"colorbar\":{\"outlinewidth\":0,\"ticks\":\"\"}}}],\"scattercarpet\":[{\"type\":\"scattercarpet\",\"marker\":{\"colorbar\":{\"outlinewidth\":0,\"ticks\":\"\"}}}],\"carpet\":[{\"aaxis\":{\"endlinecolor\":\"#2a3f5f\",\"gridcolor\":\"white\",\"linecolor\":\"white\",\"minorgridcolor\":\"white\",\"startlinecolor\":\"#2a3f5f\"},\"baxis\":{\"endlinecolor\":\"#2a3f5f\",\"gridcolor\":\"white\",\"linecolor\":\"white\",\"minorgridcolor\":\"white\",\"startlinecolor\":\"#2a3f5f\"},\"type\":\"carpet\"}],\"table\":[{\"cells\":{\"fill\":{\"color\":\"#EBF0F8\"},\"line\":{\"color\":\"white\"}},\"header\":{\"fill\":{\"color\":\"#C8D4E3\"},\"line\":{\"color\":\"white\"}},\"type\":\"table\"}],\"barpolar\":[{\"marker\":{\"line\":{\"color\":\"#E5ECF6\",\"width\":0.5},\"pattern\":{\"fillmode\":\"overlay\",\"size\":10,\"solidity\":0.2}},\"type\":\"barpolar\"}],\"pie\":[{\"automargin\":true,\"type\":\"pie\"}]},\"layout\":{\"autotypenumbers\":\"strict\",\"colorway\":[\"#636efa\",\"#EF553B\",\"#00cc96\",\"#ab63fa\",\"#FFA15A\",\"#19d3f3\",\"#FF6692\",\"#B6E880\",\"#FF97FF\",\"#FECB52\"],\"font\":{\"color\":\"#2a3f5f\"},\"hovermode\":\"closest\",\"hoverlabel\":{\"align\":\"left\"},\"paper_bgcolor\":\"white\",\"plot_bgcolor\":\"#E5ECF6\",\"polar\":{\"bgcolor\":\"#E5ECF6\",\"angularaxis\":{\"gridcolor\":\"white\",\"linecolor\":\"white\",\"ticks\":\"\"},\"radialaxis\":{\"gridcolor\":\"white\",\"linecolor\":\"white\",\"ticks\":\"\"}},\"ternary\":{\"bgcolor\":\"#E5ECF6\",\"aaxis\":{\"gridcolor\":\"white\",\"linecolor\":\"white\",\"ticks\":\"\"},\"baxis\":{\"gridcolor\":\"white\",\"linecolor\":\"white\",\"ticks\":\"\"},\"caxis\":{\"gridcolor\":\"white\",\"linecolor\":\"white\",\"ticks\":\"\"}},\"coloraxis\":{\"colorbar\":{\"outlinewidth\":0,\"ticks\":\"\"}},\"colorscale\":{\"sequential\":[[0.0,\"#0d0887\"],[0.1111111111111111,\"#46039f\"],[0.2222222222222222,\"#7201a8\"],[0.3333333333333333,\"#9c179e\"],[0.4444444444444444,\"#bd3786\"],[0.5555555555555556,\"#d8576b\"],[0.6666666666666666,\"#ed7953\"],[0.7777777777777778,\"#fb9f3a\"],[0.8888888888888888,\"#fdca26\"],[1.0,\"#f0f921\"]],\"sequentialminus\":[[0.0,\"#0d0887\"],[0.1111111111111111,\"#46039f\"],[0.2222222222222222,\"#7201a8\"],[0.3333333333333333,\"#9c179e\"],[0.4444444444444444,\"#bd3786\"],[0.5555555555555556,\"#d8576b\"],[0.6666666666666666,\"#ed7953\"],[0.7777777777777778,\"#fb9f3a\"],[0.8888888888888888,\"#fdca26\"],[1.0,\"#f0f921\"]],\"diverging\":[[0,\"#8e0152\"],[0.1,\"#c51b7d\"],[0.2,\"#de77ae\"],[0.3,\"#f1b6da\"],[0.4,\"#fde0ef\"],[0.5,\"#f7f7f7\"],[0.6,\"#e6f5d0\"],[0.7,\"#b8e186\"],[0.8,\"#7fbc41\"],[0.9,\"#4d9221\"],[1,\"#276419\"]]},\"xaxis\":{\"gridcolor\":\"white\",\"linecolor\":\"white\",\"ticks\":\"\",\"title\":{\"standoff\":15},\"zerolinecolor\":\"white\",\"automargin\":true,\"zerolinewidth\":2},\"yaxis\":{\"gridcolor\":\"white\",\"linecolor\":\"white\",\"ticks\":\"\",\"title\":{\"standoff\":15},\"zerolinecolor\":\"white\",\"automargin\":true,\"zerolinewidth\":2},\"scene\":{\"xaxis\":{\"backgroundcolor\":\"#E5ECF6\",\"gridcolor\":\"white\",\"linecolor\":\"white\",\"showbackground\":true,\"ticks\":\"\",\"zerolinecolor\":\"white\",\"gridwidth\":2},\"yaxis\":{\"backgroundcolor\":\"#E5ECF6\",\"gridcolor\":\"white\",\"linecolor\":\"white\",\"showbackground\":true,\"ticks\":\"\",\"zerolinecolor\":\"white\",\"gridwidth\":2},\"zaxis\":{\"backgroundcolor\":\"#E5ECF6\",\"gridcolor\":\"white\",\"linecolor\":\"white\",\"showbackground\":true,\"ticks\":\"\",\"zerolinecolor\":\"white\",\"gridwidth\":2}},\"shapedefaults\":{\"line\":{\"color\":\"#2a3f5f\"}},\"annotationdefaults\":{\"arrowcolor\":\"#2a3f5f\",\"arrowhead\":0,\"arrowwidth\":1},\"geo\":{\"bgcolor\":\"white\",\"landcolor\":\"#E5ECF6\",\"subunitcolor\":\"white\",\"showland\":true,\"showlakes\":true,\"lakecolor\":\"white\"},\"title\":{\"x\":0.05},\"mapbox\":{\"style\":\"light\"}}},\"xaxis\":{\"anchor\":\"y\",\"domain\":[0.0,0.45],\"title\":{\"text\":\"Lead day\"},\"tickmode\":\"linear\",\"tick0\":0,\"dtick\":1},\"yaxis\":{\"anchor\":\"x\",\"domain\":[0.0,1.0],\"title\":{\"text\":\"MSE skill score\"}},\"xaxis2\":{\"anchor\":\"y2\",\"domain\":[0.55,1.0],\"title\":{\"text\":\"Lead day\"},\"tickmode\":\"linear\",\"tick0\":0,\"dtick\":1},\"yaxis2\":{\"anchor\":\"x2\",\"domain\":[0.0,1.0],\"title\":{\"text\":\"MSE skill score\"}},\"annotations\":[{\"font\":{\"size\":12},\"showarrow\":false,\"text\":\"\\u003cb\\u003e(a)\\u003c\\u002fb\\u003e\",\"x\":0.225,\"xanchor\":\"left\",\"xref\":\"paper\",\"y\":1.0,\"yanchor\":\"bottom\",\"yref\":\"paper\",\"xshift\":-160},{\"font\":{\"size\":12},\"showarrow\":false,\"text\":\"\\u003cb\\u003e(b)\\u003c\\u002fb\\u003e\",\"x\":0.775,\"xanchor\":\"left\",\"xref\":\"paper\",\"y\":1.0,\"yanchor\":\"bottom\",\"yref\":\"paper\",\"xshift\":-160}],\"legend\":{\"x\":0.99,\"y\":0.99,\"yanchor\":\"top\",\"xanchor\":\"right\"},\"height\":300,\"width\":800,\"margin\":{\"b\":20,\"l\":20,\"r\":20,\"t\":20}},                        {\"responsive\": true}                    ).then(function(){\n",
       "                            \n",
       "var gd = document.getElementById('ee9a14b4-4452-473a-8f87-30811784c313');\n",
       "var x = new MutationObserver(function (mutations, observer) {{\n",
       "        var display = window.getComputedStyle(gd).display;\n",
       "        if (!display || display === 'none') {{\n",
       "            console.log([gd, 'removed!']);\n",
       "            Plotly.purge(gd);\n",
       "            observer.disconnect();\n",
       "        }}\n",
       "}});\n",
       "\n",
       "// Listen for the removal of the full notebook cells\n",
       "var notebookContainer = gd.closest('#notebook-container');\n",
       "if (notebookContainer) {{\n",
       "    x.observe(notebookContainer, {childList: true});\n",
       "}}\n",
       "\n",
       "// Listen for the clearing of the current output cell\n",
       "var outputEl = gd.closest('.output');\n",
       "if (outputEl) {{\n",
       "    x.observe(outputEl, {childList: true});\n",
       "}}\n",
       "\n",
       "                        })                };                });            </script>        </div>"
      ]
     },
     "metadata": {},
     "output_type": "display_data"
    }
   ],
   "source": [
    "official_line_colour = 'rgba(230,159,0,1)'\n",
    "autofcst_line_colour = 'rgba(86,180,233,1)'\n",
    "figure = make_subplots(rows=1, cols=2, subplot_titles=(\"<b>(a)</b>\", \"<b>(b)</b>\"))\n",
    "figure.update_annotations(font_size=12, xshift=-160, xanchor=\"left\")\n",
    "\n",
    "# Upper left - NT MSE 2016\n",
    "figure.add_trace(\n",
    "    go.Scatter(\n",
    "        x=official_2016_ss.lead_day,\n",
    "        y=official_2016_ss.values,\n",
    "        line=dict(color=official_line_colour),\n",
    "        name=\"Official\"\n",
    "    ), row=1, col=1\n",
    ")\n",
    "figure.add_trace(\n",
    "    go.Scatter(\n",
    "        x=autofcst_2016_ss.lead_day,\n",
    "        y=autofcst_2016_ss.values,\n",
    "        line=dict(color=autofcst_line_colour),\n",
    "        name=\"Automated\"\n",
    "    ), row=1, col=1\n",
    ")\n",
    "\n",
    "# Upper right - NT MSE 2020\n",
    "figure.add_trace(\n",
    "    go.Scatter(\n",
    "        x=official_2020_ss.lead_day,\n",
    "        y=official_2020_ss.values,\n",
    "        line=dict(color=official_line_colour),\n",
    "        name=\"Official\",\n",
    "        showlegend=False\n",
    "    ), row=1, col=2\n",
    ")\n",
    "figure.add_trace(\n",
    "    go.Scatter(\n",
    "        x=autofcst_2020_ss.lead_day,\n",
    "        y=autofcst_2020_ss.values,\n",
    "        line=dict(color=autofcst_line_colour),\n",
    "        name=\"Automated\",\n",
    "        showlegend=False\n",
    "    ), row=1, col=2\n",
    ")\n",
    "\n",
    "\n",
    "figure.update_layout(\n",
    "    legend=dict(x=0.01,y=0.99),\n",
    "    height=300,\n",
    "    width=800,\n",
    "    margin=go.layout.Margin(\n",
    "        l=20, #left margin\n",
    "        r=20, #right margin\n",
    "        b=20, #bottom margin\n",
    "        t=20, #top margin\n",
    "    ),\n",
    ")\n",
    "figure.update_xaxes(title_text=\"Lead day\", row=1, col=1, tickmode=\"linear\", tick0=0, dtick=1)\n",
    "figure.update_xaxes(title_text=\"Lead day\", row=1, col=2, tickmode=\"linear\", tick0=0, dtick=1)\n",
    "figure.update_yaxes(title_text=\"MSE skill score\", row=1, col=1)\n",
    "figure.update_yaxes(title_text=\"MSE skill score\", row=1, col=2)\n",
    "\n",
    "figure.update_layout(legend=dict(\n",
    "    yanchor=\"top\",\n",
    "    y=0.99,\n",
    "    xanchor=\"right\",\n",
    "    x=0.99\n",
    "))"
   ]
  }
 ],
 "metadata": {
  "kernelspec": {
   "display_name": "scoresenv",
   "language": "python",
   "name": "python3"
  },
  "language_info": {
   "codemirror_mode": {
    "name": "ipython",
    "version": 3
   },
   "file_extension": ".py",
   "mimetype": "text/x-python",
   "name": "python",
   "nbconvert_exporter": "python",
   "pygments_lexer": "ipython3",
   "version": "3.11.4"
  },
  "orig_nbformat": 4
 },
 "nbformat": 4,
 "nbformat_minor": 2
}
