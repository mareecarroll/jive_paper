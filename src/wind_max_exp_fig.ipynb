{
 "cells": [
  {
   "cell_type": "markdown",
   "metadata": {},
   "source": [
    "# Wind max-in-hour experiments figures (fig 3)\n",
    "\n",
    "In this notebook we:\n",
    "1. evaluate the wind max-in-hour hindcast experiment and generate figure 3, \n",
    "2. produce a station maps plot, and\n",
    "3. calculate if the difference in errors is statistically significant."
   ]
  },
  {
   "cell_type": "code",
   "execution_count": 13,
   "metadata": {},
   "outputs": [],
   "source": [
    "import numpy as np\n",
    "import pandas as pd\n",
    "import xarray as xr\n",
    "\n",
    "from scores.continuous import mse\n",
    "from scores.processing import broadcast_and_match_nan\n",
    "from scores.stats.statistical_tests import diebold_mariano\n",
    "\n",
    "import plotly.express as px\n",
    "import plotly.graph_objects as go"
   ]
  },
  {
   "cell_type": "markdown",
   "metadata": {},
   "source": [
    "### Get Data for wind max-in-hour experiment"
   ]
  },
  {
   "cell_type": "code",
   "execution_count": 14,
   "metadata": {},
   "outputs": [],
   "source": [
    "official_max_exp = xr.open_dataarray(\n",
    "    \"data/windmax_exp/Official_WindMag_00_20190901-20191130.nc\"\n",
    ")\n",
    "# Note that the 12Z AutoFcst was the automated guidance available to meteorologists for the\n",
    "# afternoon (00Z) official forecast issue.\n",
    "autofcst_max_exp = xr.open_dataarray(\n",
    "    \"data/windmax_exp/FCF_2_0_AutoFcst_WindMag_18_20190901-20191130.nc\"\n",
    ")\n",
    "hindcast_max_exp = xr.open_dataarray(\n",
    "    \"data/windmax_exp/AutoFcstMax_WindMag_12_20190901-20191130.nc\"\n",
    ")\n",
    "obs_max_exp = xr.open_dataarray(\n",
    "    \"data/windmax_exp/obs_WindMagMaxInHour_20190901-20191130.nc\"\n",
    ")\n",
    "\n",
    "# Match missing data between datasets\n",
    "(\n",
    "    official_max_exp,\n",
    "    autofcst_max_exp,\n",
    "    hindcast_max_exp,\n",
    "    obs_max_exp,\n",
    ") = broadcast_and_match_nan(\n",
    "    official_max_exp, autofcst_max_exp, hindcast_max_exp, obs_max_exp\n",
    ")"
   ]
  },
  {
   "cell_type": "markdown",
   "metadata": {},
   "source": [
    "### Calulate MSE"
   ]
  },
  {
   "cell_type": "code",
   "execution_count": 15,
   "metadata": {},
   "outputs": [],
   "source": [
    "official_max_exp_mse = mse(official_max_exp, obs_max_exp, preserve_dims=\"lead_day\")\n",
    "hindcast_max_exp_mse = mse(hindcast_max_exp, obs_max_exp, preserve_dims=\"lead_day\")\n",
    "autofcst_max_exp_mse = mse(autofcst_max_exp, obs_max_exp, preserve_dims=\"lead_day\")"
   ]
  },
  {
   "cell_type": "code",
   "execution_count": 16,
   "metadata": {},
   "outputs": [
    {
     "data": {
      "application/vnd.plotly.v1+json": {
       "config": {
        "plotlyServerURL": "https://plot.ly"
       },
       "data": [
        {
         "line": {
          "color": "rgba(230,159,0,1)"
         },
         "name": "Official",
         "type": "scatter",
         "x": [
          1,
          2,
          3,
          4,
          5,
          6,
          7
         ],
         "y": [
          15.03099657566174,
          16.22203365237196,
          15.94526720737752,
          17.569630094194657,
          19.645718427979862,
          21.661981733711112,
          23.612908116601574
         ]
        },
        {
         "line": {
          "color": "rgba(86,180,233,1)"
         },
         "name": "Existing automated",
         "type": "scatter",
         "x": [
          1,
          2,
          3,
          4,
          5,
          6,
          7
         ],
         "y": [
          15.334975109229735,
          15.990399927522624,
          16.84065595329655,
          18.304338718261903,
          20.131408465058424,
          22.14712634716419,
          23.83132801703787
         ]
        },
        {
         "line": {
          "color": "#009E73"
         },
         "name": "Hindcast experiment",
         "type": "scatter",
         "x": [
          1,
          2,
          3,
          4,
          5,
          6,
          7
         ],
         "y": [
          12.497310793686566,
          13.13955845005805,
          13.961766870935765,
          15.398388449051629,
          17.20498613437082,
          19.302047056070823,
          21.102017539608404
         ]
        }
       ],
       "layout": {
        "height": 400,
        "legend": {
         "x": 0.01,
         "y": 0.99
        },
        "margin": {
         "b": 20,
         "l": 20,
         "r": 20,
         "t": 20
        },
        "template": {
         "data": {
          "bar": [
           {
            "error_x": {
             "color": "#2a3f5f"
            },
            "error_y": {
             "color": "#2a3f5f"
            },
            "marker": {
             "line": {
              "color": "#E5ECF6",
              "width": 0.5
             },
             "pattern": {
              "fillmode": "overlay",
              "size": 10,
              "solidity": 0.2
             }
            },
            "type": "bar"
           }
          ],
          "barpolar": [
           {
            "marker": {
             "line": {
              "color": "#E5ECF6",
              "width": 0.5
             },
             "pattern": {
              "fillmode": "overlay",
              "size": 10,
              "solidity": 0.2
             }
            },
            "type": "barpolar"
           }
          ],
          "carpet": [
           {
            "aaxis": {
             "endlinecolor": "#2a3f5f",
             "gridcolor": "white",
             "linecolor": "white",
             "minorgridcolor": "white",
             "startlinecolor": "#2a3f5f"
            },
            "baxis": {
             "endlinecolor": "#2a3f5f",
             "gridcolor": "white",
             "linecolor": "white",
             "minorgridcolor": "white",
             "startlinecolor": "#2a3f5f"
            },
            "type": "carpet"
           }
          ],
          "choropleth": [
           {
            "colorbar": {
             "outlinewidth": 0,
             "ticks": ""
            },
            "type": "choropleth"
           }
          ],
          "contour": [
           {
            "colorbar": {
             "outlinewidth": 0,
             "ticks": ""
            },
            "colorscale": [
             [
              0,
              "#0d0887"
             ],
             [
              0.1111111111111111,
              "#46039f"
             ],
             [
              0.2222222222222222,
              "#7201a8"
             ],
             [
              0.3333333333333333,
              "#9c179e"
             ],
             [
              0.4444444444444444,
              "#bd3786"
             ],
             [
              0.5555555555555556,
              "#d8576b"
             ],
             [
              0.6666666666666666,
              "#ed7953"
             ],
             [
              0.7777777777777778,
              "#fb9f3a"
             ],
             [
              0.8888888888888888,
              "#fdca26"
             ],
             [
              1,
              "#f0f921"
             ]
            ],
            "type": "contour"
           }
          ],
          "contourcarpet": [
           {
            "colorbar": {
             "outlinewidth": 0,
             "ticks": ""
            },
            "type": "contourcarpet"
           }
          ],
          "heatmap": [
           {
            "colorbar": {
             "outlinewidth": 0,
             "ticks": ""
            },
            "colorscale": [
             [
              0,
              "#0d0887"
             ],
             [
              0.1111111111111111,
              "#46039f"
             ],
             [
              0.2222222222222222,
              "#7201a8"
             ],
             [
              0.3333333333333333,
              "#9c179e"
             ],
             [
              0.4444444444444444,
              "#bd3786"
             ],
             [
              0.5555555555555556,
              "#d8576b"
             ],
             [
              0.6666666666666666,
              "#ed7953"
             ],
             [
              0.7777777777777778,
              "#fb9f3a"
             ],
             [
              0.8888888888888888,
              "#fdca26"
             ],
             [
              1,
              "#f0f921"
             ]
            ],
            "type": "heatmap"
           }
          ],
          "heatmapgl": [
           {
            "colorbar": {
             "outlinewidth": 0,
             "ticks": ""
            },
            "colorscale": [
             [
              0,
              "#0d0887"
             ],
             [
              0.1111111111111111,
              "#46039f"
             ],
             [
              0.2222222222222222,
              "#7201a8"
             ],
             [
              0.3333333333333333,
              "#9c179e"
             ],
             [
              0.4444444444444444,
              "#bd3786"
             ],
             [
              0.5555555555555556,
              "#d8576b"
             ],
             [
              0.6666666666666666,
              "#ed7953"
             ],
             [
              0.7777777777777778,
              "#fb9f3a"
             ],
             [
              0.8888888888888888,
              "#fdca26"
             ],
             [
              1,
              "#f0f921"
             ]
            ],
            "type": "heatmapgl"
           }
          ],
          "histogram": [
           {
            "marker": {
             "pattern": {
              "fillmode": "overlay",
              "size": 10,
              "solidity": 0.2
             }
            },
            "type": "histogram"
           }
          ],
          "histogram2d": [
           {
            "colorbar": {
             "outlinewidth": 0,
             "ticks": ""
            },
            "colorscale": [
             [
              0,
              "#0d0887"
             ],
             [
              0.1111111111111111,
              "#46039f"
             ],
             [
              0.2222222222222222,
              "#7201a8"
             ],
             [
              0.3333333333333333,
              "#9c179e"
             ],
             [
              0.4444444444444444,
              "#bd3786"
             ],
             [
              0.5555555555555556,
              "#d8576b"
             ],
             [
              0.6666666666666666,
              "#ed7953"
             ],
             [
              0.7777777777777778,
              "#fb9f3a"
             ],
             [
              0.8888888888888888,
              "#fdca26"
             ],
             [
              1,
              "#f0f921"
             ]
            ],
            "type": "histogram2d"
           }
          ],
          "histogram2dcontour": [
           {
            "colorbar": {
             "outlinewidth": 0,
             "ticks": ""
            },
            "colorscale": [
             [
              0,
              "#0d0887"
             ],
             [
              0.1111111111111111,
              "#46039f"
             ],
             [
              0.2222222222222222,
              "#7201a8"
             ],
             [
              0.3333333333333333,
              "#9c179e"
             ],
             [
              0.4444444444444444,
              "#bd3786"
             ],
             [
              0.5555555555555556,
              "#d8576b"
             ],
             [
              0.6666666666666666,
              "#ed7953"
             ],
             [
              0.7777777777777778,
              "#fb9f3a"
             ],
             [
              0.8888888888888888,
              "#fdca26"
             ],
             [
              1,
              "#f0f921"
             ]
            ],
            "type": "histogram2dcontour"
           }
          ],
          "mesh3d": [
           {
            "colorbar": {
             "outlinewidth": 0,
             "ticks": ""
            },
            "type": "mesh3d"
           }
          ],
          "parcoords": [
           {
            "line": {
             "colorbar": {
              "outlinewidth": 0,
              "ticks": ""
             }
            },
            "type": "parcoords"
           }
          ],
          "pie": [
           {
            "automargin": true,
            "type": "pie"
           }
          ],
          "scatter": [
           {
            "fillpattern": {
             "fillmode": "overlay",
             "size": 10,
             "solidity": 0.2
            },
            "type": "scatter"
           }
          ],
          "scatter3d": [
           {
            "line": {
             "colorbar": {
              "outlinewidth": 0,
              "ticks": ""
             }
            },
            "marker": {
             "colorbar": {
              "outlinewidth": 0,
              "ticks": ""
             }
            },
            "type": "scatter3d"
           }
          ],
          "scattercarpet": [
           {
            "marker": {
             "colorbar": {
              "outlinewidth": 0,
              "ticks": ""
             }
            },
            "type": "scattercarpet"
           }
          ],
          "scattergeo": [
           {
            "marker": {
             "colorbar": {
              "outlinewidth": 0,
              "ticks": ""
             }
            },
            "type": "scattergeo"
           }
          ],
          "scattergl": [
           {
            "marker": {
             "colorbar": {
              "outlinewidth": 0,
              "ticks": ""
             }
            },
            "type": "scattergl"
           }
          ],
          "scattermapbox": [
           {
            "marker": {
             "colorbar": {
              "outlinewidth": 0,
              "ticks": ""
             }
            },
            "type": "scattermapbox"
           }
          ],
          "scatterpolar": [
           {
            "marker": {
             "colorbar": {
              "outlinewidth": 0,
              "ticks": ""
             }
            },
            "type": "scatterpolar"
           }
          ],
          "scatterpolargl": [
           {
            "marker": {
             "colorbar": {
              "outlinewidth": 0,
              "ticks": ""
             }
            },
            "type": "scatterpolargl"
           }
          ],
          "scatterternary": [
           {
            "marker": {
             "colorbar": {
              "outlinewidth": 0,
              "ticks": ""
             }
            },
            "type": "scatterternary"
           }
          ],
          "surface": [
           {
            "colorbar": {
             "outlinewidth": 0,
             "ticks": ""
            },
            "colorscale": [
             [
              0,
              "#0d0887"
             ],
             [
              0.1111111111111111,
              "#46039f"
             ],
             [
              0.2222222222222222,
              "#7201a8"
             ],
             [
              0.3333333333333333,
              "#9c179e"
             ],
             [
              0.4444444444444444,
              "#bd3786"
             ],
             [
              0.5555555555555556,
              "#d8576b"
             ],
             [
              0.6666666666666666,
              "#ed7953"
             ],
             [
              0.7777777777777778,
              "#fb9f3a"
             ],
             [
              0.8888888888888888,
              "#fdca26"
             ],
             [
              1,
              "#f0f921"
             ]
            ],
            "type": "surface"
           }
          ],
          "table": [
           {
            "cells": {
             "fill": {
              "color": "#EBF0F8"
             },
             "line": {
              "color": "white"
             }
            },
            "header": {
             "fill": {
              "color": "#C8D4E3"
             },
             "line": {
              "color": "white"
             }
            },
            "type": "table"
           }
          ]
         },
         "layout": {
          "annotationdefaults": {
           "arrowcolor": "#2a3f5f",
           "arrowhead": 0,
           "arrowwidth": 1
          },
          "autotypenumbers": "strict",
          "coloraxis": {
           "colorbar": {
            "outlinewidth": 0,
            "ticks": ""
           }
          },
          "colorscale": {
           "diverging": [
            [
             0,
             "#8e0152"
            ],
            [
             0.1,
             "#c51b7d"
            ],
            [
             0.2,
             "#de77ae"
            ],
            [
             0.3,
             "#f1b6da"
            ],
            [
             0.4,
             "#fde0ef"
            ],
            [
             0.5,
             "#f7f7f7"
            ],
            [
             0.6,
             "#e6f5d0"
            ],
            [
             0.7,
             "#b8e186"
            ],
            [
             0.8,
             "#7fbc41"
            ],
            [
             0.9,
             "#4d9221"
            ],
            [
             1,
             "#276419"
            ]
           ],
           "sequential": [
            [
             0,
             "#0d0887"
            ],
            [
             0.1111111111111111,
             "#46039f"
            ],
            [
             0.2222222222222222,
             "#7201a8"
            ],
            [
             0.3333333333333333,
             "#9c179e"
            ],
            [
             0.4444444444444444,
             "#bd3786"
            ],
            [
             0.5555555555555556,
             "#d8576b"
            ],
            [
             0.6666666666666666,
             "#ed7953"
            ],
            [
             0.7777777777777778,
             "#fb9f3a"
            ],
            [
             0.8888888888888888,
             "#fdca26"
            ],
            [
             1,
             "#f0f921"
            ]
           ],
           "sequentialminus": [
            [
             0,
             "#0d0887"
            ],
            [
             0.1111111111111111,
             "#46039f"
            ],
            [
             0.2222222222222222,
             "#7201a8"
            ],
            [
             0.3333333333333333,
             "#9c179e"
            ],
            [
             0.4444444444444444,
             "#bd3786"
            ],
            [
             0.5555555555555556,
             "#d8576b"
            ],
            [
             0.6666666666666666,
             "#ed7953"
            ],
            [
             0.7777777777777778,
             "#fb9f3a"
            ],
            [
             0.8888888888888888,
             "#fdca26"
            ],
            [
             1,
             "#f0f921"
            ]
           ]
          },
          "colorway": [
           "#636efa",
           "#EF553B",
           "#00cc96",
           "#ab63fa",
           "#FFA15A",
           "#19d3f3",
           "#FF6692",
           "#B6E880",
           "#FF97FF",
           "#FECB52"
          ],
          "font": {
           "color": "#2a3f5f"
          },
          "geo": {
           "bgcolor": "white",
           "lakecolor": "white",
           "landcolor": "#E5ECF6",
           "showlakes": true,
           "showland": true,
           "subunitcolor": "white"
          },
          "hoverlabel": {
           "align": "left"
          },
          "hovermode": "closest",
          "mapbox": {
           "style": "light"
          },
          "paper_bgcolor": "white",
          "plot_bgcolor": "#E5ECF6",
          "polar": {
           "angularaxis": {
            "gridcolor": "white",
            "linecolor": "white",
            "ticks": ""
           },
           "bgcolor": "#E5ECF6",
           "radialaxis": {
            "gridcolor": "white",
            "linecolor": "white",
            "ticks": ""
           }
          },
          "scene": {
           "xaxis": {
            "backgroundcolor": "#E5ECF6",
            "gridcolor": "white",
            "gridwidth": 2,
            "linecolor": "white",
            "showbackground": true,
            "ticks": "",
            "zerolinecolor": "white"
           },
           "yaxis": {
            "backgroundcolor": "#E5ECF6",
            "gridcolor": "white",
            "gridwidth": 2,
            "linecolor": "white",
            "showbackground": true,
            "ticks": "",
            "zerolinecolor": "white"
           },
           "zaxis": {
            "backgroundcolor": "#E5ECF6",
            "gridcolor": "white",
            "gridwidth": 2,
            "linecolor": "white",
            "showbackground": true,
            "ticks": "",
            "zerolinecolor": "white"
           }
          },
          "shapedefaults": {
           "line": {
            "color": "#2a3f5f"
           }
          },
          "ternary": {
           "aaxis": {
            "gridcolor": "white",
            "linecolor": "white",
            "ticks": ""
           },
           "baxis": {
            "gridcolor": "white",
            "linecolor": "white",
            "ticks": ""
           },
           "bgcolor": "#E5ECF6",
           "caxis": {
            "gridcolor": "white",
            "linecolor": "white",
            "ticks": ""
           }
          },
          "title": {
           "x": 0.05
          },
          "xaxis": {
           "automargin": true,
           "gridcolor": "white",
           "linecolor": "white",
           "ticks": "",
           "title": {
            "standoff": 15
           },
           "zerolinecolor": "white",
           "zerolinewidth": 2
          },
          "yaxis": {
           "automargin": true,
           "gridcolor": "white",
           "linecolor": "white",
           "ticks": "",
           "title": {
            "standoff": 15
           },
           "zerolinecolor": "white",
           "zerolinewidth": 2
          }
         }
        },
        "width": 400,
        "xaxis": {
         "dtick": 1,
         "tick0": 0,
         "tickmode": "linear",
         "title": {
          "text": "Lead day"
         }
        },
        "yaxis": {
         "title": {
          "text": "MSE (kt<sup>2</sup>)"
         }
        }
       }
      },
      "text/html": [
       "<div>                            <div id=\"345a7a55-4e85-4590-a550-4f7c7b6e1727\" class=\"plotly-graph-div\" style=\"height:400px; width:400px;\"></div>            <script type=\"text/javascript\">                require([\"plotly\"], function(Plotly) {                    window.PLOTLYENV=window.PLOTLYENV || {};                                    if (document.getElementById(\"345a7a55-4e85-4590-a550-4f7c7b6e1727\")) {                    Plotly.newPlot(                        \"345a7a55-4e85-4590-a550-4f7c7b6e1727\",                        [{\"line\":{\"color\":\"rgba(230,159,0,1)\"},\"name\":\"Official\",\"x\":[1,2,3,4,5,6,7],\"y\":[15.03099657566174,16.22203365237196,15.94526720737752,17.569630094194657,19.645718427979862,21.661981733711112,23.612908116601574],\"type\":\"scatter\"},{\"line\":{\"color\":\"rgba(86,180,233,1)\"},\"name\":\"Existing automated\",\"x\":[1,2,3,4,5,6,7],\"y\":[15.334975109229735,15.990399927522624,16.84065595329655,18.304338718261903,20.131408465058424,22.14712634716419,23.83132801703787],\"type\":\"scatter\"},{\"line\":{\"color\":\"#009E73\"},\"name\":\"Hindcast experiment\",\"x\":[1,2,3,4,5,6,7],\"y\":[12.497310793686566,13.13955845005805,13.961766870935765,15.398388449051629,17.20498613437082,19.302047056070823,21.102017539608404],\"type\":\"scatter\"}],                        {\"template\":{\"data\":{\"histogram2dcontour\":[{\"type\":\"histogram2dcontour\",\"colorbar\":{\"outlinewidth\":0,\"ticks\":\"\"},\"colorscale\":[[0.0,\"#0d0887\"],[0.1111111111111111,\"#46039f\"],[0.2222222222222222,\"#7201a8\"],[0.3333333333333333,\"#9c179e\"],[0.4444444444444444,\"#bd3786\"],[0.5555555555555556,\"#d8576b\"],[0.6666666666666666,\"#ed7953\"],[0.7777777777777778,\"#fb9f3a\"],[0.8888888888888888,\"#fdca26\"],[1.0,\"#f0f921\"]]}],\"choropleth\":[{\"type\":\"choropleth\",\"colorbar\":{\"outlinewidth\":0,\"ticks\":\"\"}}],\"histogram2d\":[{\"type\":\"histogram2d\",\"colorbar\":{\"outlinewidth\":0,\"ticks\":\"\"},\"colorscale\":[[0.0,\"#0d0887\"],[0.1111111111111111,\"#46039f\"],[0.2222222222222222,\"#7201a8\"],[0.3333333333333333,\"#9c179e\"],[0.4444444444444444,\"#bd3786\"],[0.5555555555555556,\"#d8576b\"],[0.6666666666666666,\"#ed7953\"],[0.7777777777777778,\"#fb9f3a\"],[0.8888888888888888,\"#fdca26\"],[1.0,\"#f0f921\"]]}],\"heatmap\":[{\"type\":\"heatmap\",\"colorbar\":{\"outlinewidth\":0,\"ticks\":\"\"},\"colorscale\":[[0.0,\"#0d0887\"],[0.1111111111111111,\"#46039f\"],[0.2222222222222222,\"#7201a8\"],[0.3333333333333333,\"#9c179e\"],[0.4444444444444444,\"#bd3786\"],[0.5555555555555556,\"#d8576b\"],[0.6666666666666666,\"#ed7953\"],[0.7777777777777778,\"#fb9f3a\"],[0.8888888888888888,\"#fdca26\"],[1.0,\"#f0f921\"]]}],\"heatmapgl\":[{\"type\":\"heatmapgl\",\"colorbar\":{\"outlinewidth\":0,\"ticks\":\"\"},\"colorscale\":[[0.0,\"#0d0887\"],[0.1111111111111111,\"#46039f\"],[0.2222222222222222,\"#7201a8\"],[0.3333333333333333,\"#9c179e\"],[0.4444444444444444,\"#bd3786\"],[0.5555555555555556,\"#d8576b\"],[0.6666666666666666,\"#ed7953\"],[0.7777777777777778,\"#fb9f3a\"],[0.8888888888888888,\"#fdca26\"],[1.0,\"#f0f921\"]]}],\"contourcarpet\":[{\"type\":\"contourcarpet\",\"colorbar\":{\"outlinewidth\":0,\"ticks\":\"\"}}],\"contour\":[{\"type\":\"contour\",\"colorbar\":{\"outlinewidth\":0,\"ticks\":\"\"},\"colorscale\":[[0.0,\"#0d0887\"],[0.1111111111111111,\"#46039f\"],[0.2222222222222222,\"#7201a8\"],[0.3333333333333333,\"#9c179e\"],[0.4444444444444444,\"#bd3786\"],[0.5555555555555556,\"#d8576b\"],[0.6666666666666666,\"#ed7953\"],[0.7777777777777778,\"#fb9f3a\"],[0.8888888888888888,\"#fdca26\"],[1.0,\"#f0f921\"]]}],\"surface\":[{\"type\":\"surface\",\"colorbar\":{\"outlinewidth\":0,\"ticks\":\"\"},\"colorscale\":[[0.0,\"#0d0887\"],[0.1111111111111111,\"#46039f\"],[0.2222222222222222,\"#7201a8\"],[0.3333333333333333,\"#9c179e\"],[0.4444444444444444,\"#bd3786\"],[0.5555555555555556,\"#d8576b\"],[0.6666666666666666,\"#ed7953\"],[0.7777777777777778,\"#fb9f3a\"],[0.8888888888888888,\"#fdca26\"],[1.0,\"#f0f921\"]]}],\"mesh3d\":[{\"type\":\"mesh3d\",\"colorbar\":{\"outlinewidth\":0,\"ticks\":\"\"}}],\"scatter\":[{\"fillpattern\":{\"fillmode\":\"overlay\",\"size\":10,\"solidity\":0.2},\"type\":\"scatter\"}],\"parcoords\":[{\"type\":\"parcoords\",\"line\":{\"colorbar\":{\"outlinewidth\":0,\"ticks\":\"\"}}}],\"scatterpolargl\":[{\"type\":\"scatterpolargl\",\"marker\":{\"colorbar\":{\"outlinewidth\":0,\"ticks\":\"\"}}}],\"bar\":[{\"error_x\":{\"color\":\"#2a3f5f\"},\"error_y\":{\"color\":\"#2a3f5f\"},\"marker\":{\"line\":{\"color\":\"#E5ECF6\",\"width\":0.5},\"pattern\":{\"fillmode\":\"overlay\",\"size\":10,\"solidity\":0.2}},\"type\":\"bar\"}],\"scattergeo\":[{\"type\":\"scattergeo\",\"marker\":{\"colorbar\":{\"outlinewidth\":0,\"ticks\":\"\"}}}],\"scatterpolar\":[{\"type\":\"scatterpolar\",\"marker\":{\"colorbar\":{\"outlinewidth\":0,\"ticks\":\"\"}}}],\"histogram\":[{\"marker\":{\"pattern\":{\"fillmode\":\"overlay\",\"size\":10,\"solidity\":0.2}},\"type\":\"histogram\"}],\"scattergl\":[{\"type\":\"scattergl\",\"marker\":{\"colorbar\":{\"outlinewidth\":0,\"ticks\":\"\"}}}],\"scatter3d\":[{\"type\":\"scatter3d\",\"line\":{\"colorbar\":{\"outlinewidth\":0,\"ticks\":\"\"}},\"marker\":{\"colorbar\":{\"outlinewidth\":0,\"ticks\":\"\"}}}],\"scattermapbox\":[{\"type\":\"scattermapbox\",\"marker\":{\"colorbar\":{\"outlinewidth\":0,\"ticks\":\"\"}}}],\"scatterternary\":[{\"type\":\"scatterternary\",\"marker\":{\"colorbar\":{\"outlinewidth\":0,\"ticks\":\"\"}}}],\"scattercarpet\":[{\"type\":\"scattercarpet\",\"marker\":{\"colorbar\":{\"outlinewidth\":0,\"ticks\":\"\"}}}],\"carpet\":[{\"aaxis\":{\"endlinecolor\":\"#2a3f5f\",\"gridcolor\":\"white\",\"linecolor\":\"white\",\"minorgridcolor\":\"white\",\"startlinecolor\":\"#2a3f5f\"},\"baxis\":{\"endlinecolor\":\"#2a3f5f\",\"gridcolor\":\"white\",\"linecolor\":\"white\",\"minorgridcolor\":\"white\",\"startlinecolor\":\"#2a3f5f\"},\"type\":\"carpet\"}],\"table\":[{\"cells\":{\"fill\":{\"color\":\"#EBF0F8\"},\"line\":{\"color\":\"white\"}},\"header\":{\"fill\":{\"color\":\"#C8D4E3\"},\"line\":{\"color\":\"white\"}},\"type\":\"table\"}],\"barpolar\":[{\"marker\":{\"line\":{\"color\":\"#E5ECF6\",\"width\":0.5},\"pattern\":{\"fillmode\":\"overlay\",\"size\":10,\"solidity\":0.2}},\"type\":\"barpolar\"}],\"pie\":[{\"automargin\":true,\"type\":\"pie\"}]},\"layout\":{\"autotypenumbers\":\"strict\",\"colorway\":[\"#636efa\",\"#EF553B\",\"#00cc96\",\"#ab63fa\",\"#FFA15A\",\"#19d3f3\",\"#FF6692\",\"#B6E880\",\"#FF97FF\",\"#FECB52\"],\"font\":{\"color\":\"#2a3f5f\"},\"hovermode\":\"closest\",\"hoverlabel\":{\"align\":\"left\"},\"paper_bgcolor\":\"white\",\"plot_bgcolor\":\"#E5ECF6\",\"polar\":{\"bgcolor\":\"#E5ECF6\",\"angularaxis\":{\"gridcolor\":\"white\",\"linecolor\":\"white\",\"ticks\":\"\"},\"radialaxis\":{\"gridcolor\":\"white\",\"linecolor\":\"white\",\"ticks\":\"\"}},\"ternary\":{\"bgcolor\":\"#E5ECF6\",\"aaxis\":{\"gridcolor\":\"white\",\"linecolor\":\"white\",\"ticks\":\"\"},\"baxis\":{\"gridcolor\":\"white\",\"linecolor\":\"white\",\"ticks\":\"\"},\"caxis\":{\"gridcolor\":\"white\",\"linecolor\":\"white\",\"ticks\":\"\"}},\"coloraxis\":{\"colorbar\":{\"outlinewidth\":0,\"ticks\":\"\"}},\"colorscale\":{\"sequential\":[[0.0,\"#0d0887\"],[0.1111111111111111,\"#46039f\"],[0.2222222222222222,\"#7201a8\"],[0.3333333333333333,\"#9c179e\"],[0.4444444444444444,\"#bd3786\"],[0.5555555555555556,\"#d8576b\"],[0.6666666666666666,\"#ed7953\"],[0.7777777777777778,\"#fb9f3a\"],[0.8888888888888888,\"#fdca26\"],[1.0,\"#f0f921\"]],\"sequentialminus\":[[0.0,\"#0d0887\"],[0.1111111111111111,\"#46039f\"],[0.2222222222222222,\"#7201a8\"],[0.3333333333333333,\"#9c179e\"],[0.4444444444444444,\"#bd3786\"],[0.5555555555555556,\"#d8576b\"],[0.6666666666666666,\"#ed7953\"],[0.7777777777777778,\"#fb9f3a\"],[0.8888888888888888,\"#fdca26\"],[1.0,\"#f0f921\"]],\"diverging\":[[0,\"#8e0152\"],[0.1,\"#c51b7d\"],[0.2,\"#de77ae\"],[0.3,\"#f1b6da\"],[0.4,\"#fde0ef\"],[0.5,\"#f7f7f7\"],[0.6,\"#e6f5d0\"],[0.7,\"#b8e186\"],[0.8,\"#7fbc41\"],[0.9,\"#4d9221\"],[1,\"#276419\"]]},\"xaxis\":{\"gridcolor\":\"white\",\"linecolor\":\"white\",\"ticks\":\"\",\"title\":{\"standoff\":15},\"zerolinecolor\":\"white\",\"automargin\":true,\"zerolinewidth\":2},\"yaxis\":{\"gridcolor\":\"white\",\"linecolor\":\"white\",\"ticks\":\"\",\"title\":{\"standoff\":15},\"zerolinecolor\":\"white\",\"automargin\":true,\"zerolinewidth\":2},\"scene\":{\"xaxis\":{\"backgroundcolor\":\"#E5ECF6\",\"gridcolor\":\"white\",\"linecolor\":\"white\",\"showbackground\":true,\"ticks\":\"\",\"zerolinecolor\":\"white\",\"gridwidth\":2},\"yaxis\":{\"backgroundcolor\":\"#E5ECF6\",\"gridcolor\":\"white\",\"linecolor\":\"white\",\"showbackground\":true,\"ticks\":\"\",\"zerolinecolor\":\"white\",\"gridwidth\":2},\"zaxis\":{\"backgroundcolor\":\"#E5ECF6\",\"gridcolor\":\"white\",\"linecolor\":\"white\",\"showbackground\":true,\"ticks\":\"\",\"zerolinecolor\":\"white\",\"gridwidth\":2}},\"shapedefaults\":{\"line\":{\"color\":\"#2a3f5f\"}},\"annotationdefaults\":{\"arrowcolor\":\"#2a3f5f\",\"arrowhead\":0,\"arrowwidth\":1},\"geo\":{\"bgcolor\":\"white\",\"landcolor\":\"#E5ECF6\",\"subunitcolor\":\"white\",\"showland\":true,\"showlakes\":true,\"lakecolor\":\"white\"},\"title\":{\"x\":0.05},\"mapbox\":{\"style\":\"light\"}}},\"legend\":{\"x\":0.01,\"y\":0.99},\"height\":400,\"width\":400,\"margin\":{\"b\":20,\"l\":20,\"r\":20,\"t\":20},\"yaxis\":{\"title\":{\"text\":\"MSE (kt\\u003csup\\u003e2\\u003c\\u002fsup\\u003e)\"}},\"xaxis\":{\"title\":{\"text\":\"Lead day\"},\"tickmode\":\"linear\",\"tick0\":0,\"dtick\":1}},                        {\"responsive\": true}                    ).then(function(){\n",
       "                            \n",
       "var gd = document.getElementById('345a7a55-4e85-4590-a550-4f7c7b6e1727');\n",
       "var x = new MutationObserver(function (mutations, observer) {{\n",
       "        var display = window.getComputedStyle(gd).display;\n",
       "        if (!display || display === 'none') {{\n",
       "            console.log([gd, 'removed!']);\n",
       "            Plotly.purge(gd);\n",
       "            observer.disconnect();\n",
       "        }}\n",
       "}});\n",
       "\n",
       "// Listen for the removal of the full notebook cells\n",
       "var notebookContainer = gd.closest('#notebook-container');\n",
       "if (notebookContainer) {{\n",
       "    x.observe(notebookContainer, {childList: true});\n",
       "}}\n",
       "\n",
       "// Listen for the clearing of the current output cell\n",
       "var outputEl = gd.closest('.output');\n",
       "if (outputEl) {{\n",
       "    x.observe(outputEl, {childList: true});\n",
       "}}\n",
       "\n",
       "                        })                };                });            </script>        </div>"
      ]
     },
     "metadata": {},
     "output_type": "display_data"
    }
   ],
   "source": [
    "official_line_colour = \"rgba(230,159,0,1)\"\n",
    "autofcst_line_colour = \"rgba(86,180,233,1)\"\n",
    "hindcast_line_colour = \"#009E73\"\n",
    "\n",
    "# Left subfigure. WindMax experiment\n",
    "figure = go.Figure()\n",
    "figure.add_trace(\n",
    "    go.Scatter(\n",
    "        x=official_max_exp_mse.lead_day,\n",
    "        y=official_max_exp_mse.values,\n",
    "        line=dict(color=official_line_colour),\n",
    "        name=\"Official\",\n",
    "    )\n",
    ")\n",
    "figure.add_trace(\n",
    "    go.Scatter(\n",
    "        x=autofcst_max_exp_mse.lead_day,\n",
    "        y=autofcst_max_exp_mse.values,\n",
    "        line=dict(color=autofcst_line_colour),\n",
    "        name=\"Existing automated\",\n",
    "    )\n",
    ")\n",
    "figure.add_trace(\n",
    "    go.Scatter(\n",
    "        x=hindcast_max_exp_mse.lead_day,\n",
    "        y=hindcast_max_exp_mse.values,\n",
    "        line=dict(color=hindcast_line_colour),\n",
    "        name=\"Hindcast experiment\",\n",
    "    )\n",
    ")\n",
    "figure.update_layout(\n",
    "    legend=dict(x=0.01, y=0.99),\n",
    "    height=400,\n",
    "    width=400,\n",
    "    margin=go.layout.Margin(\n",
    "        l=20,  # left margin\n",
    "        r=20,  # right margin\n",
    "        b=20,  # bottom margin\n",
    "        t=20,  # top margin\n",
    "    ),\n",
    ")\n",
    "figure.update_yaxes(title_text=\"MSE (kt<sup>2</sup>)\")\n",
    "figure.update_xaxes(title_text=\"Lead day\", tickmode=\"linear\", tick0=0, dtick=1)"
   ]
  },
  {
   "cell_type": "code",
   "execution_count": 17,
   "metadata": {},
   "outputs": [],
   "source": [
    "figure.write_image(\"results/figures/wind_max_exp.pdf\")"
   ]
  },
  {
   "cell_type": "markdown",
   "metadata": {},
   "source": [
    "### Station map"
   ]
  },
  {
   "cell_type": "code",
   "execution_count": 18,
   "metadata": {},
   "outputs": [
    {
     "data": {
      "application/vnd.plotly.v1+json": {
       "config": {
        "plotlyServerURL": "https://plot.ly"
       },
       "data": [
        {
         "geo": "geo",
         "hovertemplate": "LATITUDE=%{lat}<br>LONGITUDE=%{lon}<extra></extra>",
         "lat": [
          -15.51,
          -13.7542,
          -14.2964,
          -14.09,
          -15.7814,
          -16.638,
          -18.2337,
          -17.9475,
          -17.3706,
          -17.5768,
          -18.1814,
          -17.8964,
          -16.7671,
          -19.7419,
          -20.3725,
          -20.7097,
          -20.7594,
          -20.3583,
          -19.5894,
          -21.1756,
          -22.2406,
          -21.1906,
          -21.6689,
          -21.4609,
          -20.874,
          -24.8878,
          -25.8925,
          -26.6136,
          -23.4213,
          -23.1726,
          -28.1156,
          -28.3009,
          -29.2039,
          -30.2761,
          -28.8047,
          -31.9275,
          -30.3381,
          -31.6669,
          -31.9889,
          -32.1011,
          -31.4628,
          -32.0069,
          -31.9414,
          -31.956,
          -31.9192,
          -32.0072,
          -32.2433,
          -30.8392,
          -31.8112,
          -34.3728,
          -33.5372,
          -32.7103,
          -33.6825,
          -34.2508,
          -33.6818,
          -33.9486,
          -34.0281,
          -33.83,
          -33.6294,
          -33.9306,
          -34.5714,
          -33.3567,
          -34.5683,
          -32.5219,
          -33.3608,
          -34.9469,
          -34.9411,
          -31.6219,
          -33.1129,
          -33.8878,
          -33.1006,
          -33.6856,
          -32.6722,
          -31.6797,
          -30.8453,
          -32.2028,
          -32.2147,
          -30.7847,
          -33.5547,
          -32.9869,
          -28.8789,
          -28.6133,
          -27.8386,
          -31.2353,
          -26.1317,
          -25.0341,
          -21.7125,
          -12.4239,
          -12.249,
          -12.3895,
          -12.605,
          -11.4021,
          -12.6592,
          -12.2403,
          -13.0544,
          -11.0468,
          -12.635,
          -14.7236,
          -11.1629,
          -11.5485,
          -12.3272,
          -12.6099,
          -11.65,
          -12.0932,
          -12.0569,
          -12.2741,
          -11.9971,
          -13.9746,
          -16.2637,
          -13.6715,
          -15.7426,
          -16.4423,
          -16.0755,
          -15.4397,
          -16.403,
          -18.3324,
          -13.8345,
          -13.3275,
          -14.5229,
          -14.2494,
          -15.7441,
          -14.9408,
          -15.1853,
          -12.7934,
          -12.9141,
          -13.0889,
          -19.6423,
          -23.7951,
          -22.9494,
          -25.1896,
          -22.4518,
          -23.2656,
          -20.1823,
          -31.1558,
          -29.0347,
          -30.4869,
          -26.2635,
          -30.7051,
          -27.5553,
          -30.5963,
          -28.0997,
          -29.6587,
          -32.1297,
          -33.043,
          -31.4492,
          -35.3365,
          -33.7081,
          -33.0539,
          -34.5993,
          -32.8427,
          -32.5073,
          -34.2524,
          -32.6845,
          -34.675,
          -32.5707,
          -33.8226,
          -33.7676,
          -34.748,
          -35.1121,
          -35.2795,
          -33.9703,
          -34.0041,
          -35.8426,
          -35.7549,
          -35.7114,
          -35.7916,
          -34.9257,
          -34.7977,
          -34.9524,
          -34.7343,
          -34.7111,
          -34.9211,
          -34.5106,
          -34.4761,
          -34.9784,
          -35.5695,
          -34.7253,
          -35.1586,
          -35.3294,
          -35.1712,
          -35.5194,
          -34.439,
          -34.1983,
          -35.2836,
          -35.065,
          -36.1058,
          -35.3778,
          -37.7473,
          -37.2906,
          -36.9655,
          -36.9813,
          -36.6539,
          -37.1776,
          -12.6778,
          -10.5844,
          -13.7606,
          -12.6167,
          -15.9999,
          -12.785,
          -15.4818,
          -20.6672,
          -17.6872,
          -17.7483,
          -20.6778,
          -20.6664,
          -18.7569,
          -20.8192,
          -18.3039,
          -20.7001,
          -16.8736,
          -16.3842,
          -15.4461,
          -17.0704,
          -14.9672,
          -17.6053,
          -19.2483,
          -18.5203,
          -19.2774,
          -17.6905,
          -19.4082,
          -19.3048,
          -19.6169,
          -21.1706,
          -21.1172,
          -22.4703,
          -23.161,
          -20.4925,
          -23.1364,
          -19.4569,
          -19.4168,
          -22.7433,
          -21.2894,
          -20.0153,
          -19.783,
          -22.0644,
          -22.7756,
          -24.4617,
          -23.6015,
          -23.9424,
          -23.5694,
          -23.4397,
          -24.4303,
          -19.9225,
          -21.8125,
          -21.84,
          -22.3617,
          -25.8975,
          -24.1116,
          -25.6167,
          -23.3753,
          -24.4935,
          -23.8553,
          -24.9069,
          -23.8697,
          -27.6297,
          -27.5436,
          -26.1831,
          -25.5132,
          -27.5716,
          -25.322,
          -28.1681,
          -27.939,
          -27.3917,
          -26.599,
          -26.3911,
          -26.5737,
          -27.5327,
          -27.0481,
          -27.2169,
          -27.9707,
          -26.6442,
          -28.6217,
          -27.4034,
          -27.1605,
          -28.2061,
          -27.5425,
          -26.6569,
          -26.5477,
          -28.0478,
          -26.4139,
          -27.4008,
          -27.9867,
          -31.5194,
          -29.4448,
          -31.0863,
          -30.8522,
          -32.0012,
          -31.484,
          -31.5388,
          -30.0362,
          -32.8833,
          -33.9382,
          -33.0682,
          -31.9861,
          -30.9776,
          -30.0372,
          -29.4898,
          -30.3154,
          -30.9537,
          -31.0742,
          -29.7752,
          -30.5273,
          -29.678,
          -29.4325,
          -29.6224,
          -29.7583,
          -28.8353,
          -28.8824,
          -29.183,
          -28.8305,
          -28.6399,
          -31.0711,
          -30.3189,
          -31.8895,
          -32.9184,
          -32.7939,
          -32.6296,
          -32.7914,
          -32.1852,
          -32.0335,
          -33.2814,
          -33.2894,
          -33.0887,
          -33.4351,
          -32.7023,
          -32.6976,
          -32.7244,
          -32.5628,
          -33.4119,
          -33.6185,
          -33.3768,
          -33.4346,
          -31.333,
          -33.1281,
          -32.2206,
          -33.3627,
          -33.8382,
          -33.8551,
          -33.9465,
          -34.0039,
          -33.9829,
          -33.6908,
          -33.9176,
          -33.9057,
          -33.8405,
          -33.8152,
          -33.8338,
          -33.6004,
          -33.8969,
          -33.7195,
          -33.851,
          -34.9469,
          -35.0936,
          -34.039,
          -34.3691,
          -34.5253,
          -34.5639,
          -34.6532,
          -34.4734,
          -34.0615,
          -34.3335,
          -34.081,
          -36.2519,
          -35.1103,
          -35.4253,
          -37.2622,
          -35.3635,
          -36.6722,
          -36.9077,
          -35.9004,
          -36.2939,
          -37.0016,
          -34.8085,
          -35.4184,
          -35.5293,
          -35.3088,
          -36.4917,
          -36.4069,
          -35.1583,
          -36.069,
          -35.9371,
          -36.2304,
          -34.2493,
          -34.4277,
          -34.6222,
          -34.705,
          -35.5575,
          -35.1327,
          -34.5412,
          -34.2487,
          -34.2358,
          -35.1201,
          -35.7151,
          -35.3766,
          -36.3093,
          -36.6722,
          -37.1169,
          -37.0222,
          -36.6699,
          -37.295,
          -37.072,
          -36.335,
          -36.2846,
          -36.4379,
          -36.7411,
          -36.0294,
          -36.4288,
          -36.1048,
          -36.4205,
          -37.145,
          -37.0491,
          -36.8708,
          -36.9772,
          -37.1017,
          -37.5679,
          -37.5976,
          -37.22,
          -37.6922,
          -38.6297,
          -38.5647,
          -37.8818,
          -38.2094,
          -38.8051,
          -38.1321,
          -38.1016,
          -37.7276,
          -37.7408,
          -37.98,
          -37.871,
          -37.864,
          -37.6654,
          -37.8255,
          -38.3065,
          -38.3646,
          -38.148,
          -38.4612,
          -37.9483,
          -37.7239,
          -37.8565,
          -38.0288,
          -37.9075,
          -37.0194,
          -36.8886,
          -37.3807,
          -37.2091,
          -37.5127,
          -37.7067,
          -38.8557,
          -38.2332,
          -38.3148,
          -37.6486,
          -38.3906,
          -38.0737,
          -38.4583,
          -37.5831,
          -38.4306,
          -38.2869,
          -37.9222,
          -40.9964,
          -41.1701,
          -41.1708,
          -41.4194,
          -41.1492,
          -41.389,
          -40.8347,
          -41.0547,
          -41.7256,
          -41.5476,
          -40.6764,
          -41.6428,
          -40.9928,
          -41.9953,
          -41.3381,
          -40.7292,
          -42.6621,
          -42.8339,
          -42.8897,
          -43.6578,
          -42.895,
          -43.2397,
          -43.2006,
          -42.4543,
          -43.4886,
          -42.6867,
          -42.9844,
          -42.9017,
          -43.0639,
          -42.7097,
          -42.4842,
          -42.2753,
          -41.8997,
          -42.1986,
          -43.0609,
          -42.155,
          -42.9831,
          -43.0425,
          -41.8444,
          -39.8804,
          -40.0911,
          -27.5433,
          -28.0437,
          -27.6932,
          -25.9351,
          -21.6628,
          -11.7628,
          -15.5114,
          -20.5303,
          -11.0047,
          -21.9769,
          -16.7226,
          -22.4936,
          -27.5517
         ],
         "legendgroup": "",
         "lon": [
          128.1503,
          126.1485,
          126.6453,
          126.3867,
          128.71,
          128.4516,
          127.6666,
          122.2352,
          123.6611,
          123.8297,
          125.5619,
          122.3122,
          123.981,
          120.8433,
          118.6317,
          116.7742,
          117.1583,
          116.8431,
          119.1,
          119.7497,
          114.0967,
          115.9797,
          115.1092,
          115.0188,
          115.4066,
          113.67,
          113.5772,
          118.5372,
          119.8023,
          117.7493,
          117.8425,
          113.5937,
          116.0247,
          116.6714,
          114.6989,
          115.9764,
          115.5394,
          116.0189,
          115.8311,
          115.8794,
          115.8642,
          115.5022,
          116.0506,
          115.7619,
          115.8728,
          116.1369,
          115.6839,
          115.2283,
          116.0227,
          115.1358,
          115.0189,
          116.0594,
          121.8275,
          116.145,
          115.4026,
          116.1311,
          115.1042,
          121.8925,
          115.3383,
          120.1283,
          117.0106,
          115.6447,
          116.3367,
          115.7119,
          116.1717,
          116.7222,
          117.8158,
          117.2217,
          118.84,
          119.1092,
          118.4647,
          117.6064,
          116.6706,
          128.8958,
          128.1092,
          127.5297,
          121.7547,
          121.4533,
          120.6997,
          121.6239,
          121.3186,
          122.4236,
          120.7031,
          119.3564,
          126.5839,
          128.301,
          122.2281,
          130.8925,
          131.0449,
          130.6306,
          131.2988,
          130.4217,
          132.894,
          131.8785,
          131.0252,
          132.9791,
          130.3725,
          134.7456,
          132.4813,
          132.9266,
          133.0069,
          131.0474,
          133.3797,
          134.8919,
          134.2339,
          136.8201,
          135.5726,
          136.463,
          133.3782,
          134.3415,
          136.8192,
          136.076,
          136.3041,
          130.5731,
          131.0145,
          130.6361,
          131.1872,
          133.0861,
          132.3826,
          129.5282,
          131.9181,
          130.8091,
          130.1169,
          130.8542,
          131.8663,
          131.8478,
          134.1833,
          133.889,
          136.1442,
          130.9737,
          133.6377,
          129.3844,
          130.0148,
          136.8054,
          134.7222,
          136.8739,
          132.1771,
          134.5786,
          135.4456,
          138.4219,
          140.1956,
          138.0684,
          133.6976,
          135.4519,
          130.8976,
          136.1174,
          136.5026,
          137.5206,
          135.8784,
          135.1515,
          137.7169,
          135.7135,
          137.3689,
          135.3362,
          139.5645,
          138.5933,
          138.2182,
          137.5276,
          137.7395,
          136.9392,
          137.6628,
          137.528,
          138.1327,
          136.5959,
          137.5231,
          137.2496,
          138.5832,
          138.6281,
          138.5196,
          138.4653,
          138.6222,
          138.6216,
          138.6763,
          139.0056,
          138.7088,
          138.2864,
          138.9278,
          138.5057,
          138.5019,
          138.6783,
          138.8177,
          140.5978,
          140.6766,
          138.8934,
          139.2273,
          140.3273,
          140.5378,
          140.7739,
          140.8254,
          139.7164,
          140.727,
          140.5212,
          139.8054,
          141.9208,
          142.29,
          143.1183,
          142.0869,
          144.0754,
          143.3047,
          141.7483,
          141.7214,
          141.0733,
          139.5356,
          139.4875,
          140.505,
          138.7056,
          144.2333,
          143.5306,
          143.1137,
          145.7458,
          145.5592,
          145.1861,
          145.4293,
          145.3106,
          145.9972,
          146.7661,
          146.3861,
          147.0586,
          146.1126,
          146.762,
          146.2438,
          147.3758,
          149.1794,
          149.2169,
          150.1786,
          150.7901,
          148.555,
          150.7506,
          147.4833,
          146.5362,
          150.6578,
          149.3008,
          148.2138,
          146.5,
          148.0758,
          147.6217,
          148.6264,
          148.8074,
          147.525,
          148.1756,
          144.2828,
          145.4306,
          138.1214,
          139.9267,
          140.8925,
          143.0836,
          139.3472,
          152.7161,
          151.6156,
          150.4775,
          150.5709,
          151.2628,
          152.323,
          151.2214,
          152.7111,
          152.3375,
          152.6414,
          152.7152,
          153.0071,
          152.8817,
          153.5053,
          153.4283,
          153.1292,
          153.0912,
          153.0403,
          151.8398,
          153.3333,
          153.2664,
          153.0922,
          152.9898,
          152.9383,
          151.9533,
          151.7413,
          151.2633,
          152.1003,
          151.9134,
          150.1819,
          148.771,
          148.5957,
          146.2558,
          141.8114,
          143.815,
          143.385,
          142.0567,
          141.7008,
          143.0743,
          141.4694,
          145.8294,
          145.7964,
          145.9521,
          144.3092,
          147.1962,
          147.2133,
          147.9489,
          148.3798,
          148.1223,
          149.8471,
          149.8302,
          150.2494,
          150.8362,
          151.082,
          151.6158,
          151.694,
          153.3632,
          152.9605,
          153.0297,
          153.5585,
          153.0618,
          153.3964,
          153.2601,
          153.6358,
          152.7717,
          153.1162,
          152.512,
          151.7985,
          151.8364,
          151.5919,
          151.3369,
          150.1737,
          150.8264,
          151.5766,
          151.2107,
          151.4636,
          151.3614,
          151.4881,
          151.1564,
          150.229,
          149.6149,
          149.654,
          150.2741,
          149.1263,
          150.135,
          149.2699,
          148.2428,
          148.5753,
          147.9205,
          148.654,
          151.2254,
          151.1731,
          151.2111,
          151.2502,
          151.2253,
          150.9837,
          151.1134,
          151.2643,
          151.2986,
          151.0718,
          150.7761,
          150.7281,
          150.6783,
          150.8567,
          150.5353,
          150.8049,
          150.689,
          150.9291,
          150.4217,
          150.7924,
          150.8609,
          150.9118,
          150.7735,
          150.267,
          150.9009,
          150.2275,
          150.0826,
          149.7835,
          150.0504,
          150.4828,
          149.8191,
          149.8989,
          150.1437,
          148.9725,
          149.2336,
          149.7311,
          149.0937,
          148.7721,
          149.2004,
          148.2859,
          148.4055,
          147.4575,
          146.9509,
          148.3779,
          148.1405,
          148.2475,
          147.5117,
          146.4326,
          146.514,
          144.9458,
          147.2512,
          144.8345,
          146.0695,
          142.0867,
          142.004,
          142.3569,
          143.5416,
          141.6486,
          142.2991,
          141.8031,
          141.2657,
          142.1733,
          142.6039,
          142.7402,
          145.0638,
          143.3341,
          145.2673,
          144.3274,
          146.0305,
          145.3949,
          146.5094,
          146.3056,
          146.4394,
          147.3347,
          147.2755,
          147.1342,
          147.6008,
          149.9158,
          149.7289,
          148.2626,
          148.4667,
          145.8107,
          146.7479,
          147.5669,
          146.4746,
          146.1936,
          145.9865,
          147.1398,
          144.9066,
          145.0972,
          145.0962,
          145.2561,
          144.9639,
          144.8322,
          144.9816,
          144.8016,
          145.1785,
          145.1152,
          145.3101,
          144.9269,
          145.4092,
          144.7565,
          144.4783,
          144.1303,
          144.5203,
          145.1859,
          144.9654,
          145.8423,
          143.7911,
          142.9378,
          143.513,
          143.7924,
          141.4705,
          142.0636,
          142.2347,
          142.7744,
          144.0883,
          141.334,
          141.5437,
          142.4525,
          141.2614,
          145.7311,
          146.4289,
          147.4883,
          147.1219,
          145.1517,
          146.3173,
          145.0847,
          146.7874,
          147.0794,
          147.2156,
          144.6922,
          147.9664,
          148.3467,
          148.2794,
          148.2792,
          148.125,
          148.0179,
          147.5033,
          147.3278,
          146.2711,
          147.2358,
          148.0025,
          146.7683,
          147.4612,
          147.1444,
          147.4258,
          147.0756,
          147.7894,
          147.3567,
          146.8983,
          146.7106,
          146.2758,
          146.6694,
          145.17,
          146.704,
          145.2908,
          145.5025,
          146.2722,
          145.5417,
          143.8857,
          148.0024,
          153.2394,
          153.1871,
          152.9935,
          152.9647,
          150.2711,
          130.03,
          123.1556,
          150.3773,
          136.7586,
          152.4707,
          146.1124,
          118.4715,
          151.7845
         ],
         "marker": {
          "color": "red",
          "size": 4,
          "symbol": "circle"
         },
         "mode": "markers",
         "name": "",
         "showlegend": false,
         "type": "scattergeo"
        }
       ],
       "layout": {
        "geo": {
         "center": {},
         "domain": {
          "x": [
           0,
           1
          ],
          "y": [
           0,
           1
          ]
         },
         "lataxis": {
          "dtick": 5,
          "gridcolor": "gray",
          "gridwidth": 0.5,
          "range": [
           -45,
           -10
          ],
          "showgrid": true
         },
         "lonaxis": {
          "dtick": 5,
          "gridcolor": "gray",
          "gridwidth": 0.5,
          "range": [
           110,
           155
          ],
          "showgrid": true
         },
         "oceancolor": "rgb(144, 195, 245)",
         "resolution": 50,
         "showcoastlines": true,
         "showcountries": true,
         "showframe": true,
         "showland": true,
         "showocean": true
        },
        "height": 350,
        "legend": {
         "tracegroupgap": 0
        },
        "margin": {
         "b": 0,
         "l": 0,
         "r": 0,
         "t": 40
        },
        "template": {
         "data": {
          "bar": [
           {
            "error_x": {
             "color": "#2a3f5f"
            },
            "error_y": {
             "color": "#2a3f5f"
            },
            "marker": {
             "line": {
              "color": "#E5ECF6",
              "width": 0.5
             },
             "pattern": {
              "fillmode": "overlay",
              "size": 10,
              "solidity": 0.2
             }
            },
            "type": "bar"
           }
          ],
          "barpolar": [
           {
            "marker": {
             "line": {
              "color": "#E5ECF6",
              "width": 0.5
             },
             "pattern": {
              "fillmode": "overlay",
              "size": 10,
              "solidity": 0.2
             }
            },
            "type": "barpolar"
           }
          ],
          "carpet": [
           {
            "aaxis": {
             "endlinecolor": "#2a3f5f",
             "gridcolor": "white",
             "linecolor": "white",
             "minorgridcolor": "white",
             "startlinecolor": "#2a3f5f"
            },
            "baxis": {
             "endlinecolor": "#2a3f5f",
             "gridcolor": "white",
             "linecolor": "white",
             "minorgridcolor": "white",
             "startlinecolor": "#2a3f5f"
            },
            "type": "carpet"
           }
          ],
          "choropleth": [
           {
            "colorbar": {
             "outlinewidth": 0,
             "ticks": ""
            },
            "type": "choropleth"
           }
          ],
          "contour": [
           {
            "colorbar": {
             "outlinewidth": 0,
             "ticks": ""
            },
            "colorscale": [
             [
              0,
              "#0d0887"
             ],
             [
              0.1111111111111111,
              "#46039f"
             ],
             [
              0.2222222222222222,
              "#7201a8"
             ],
             [
              0.3333333333333333,
              "#9c179e"
             ],
             [
              0.4444444444444444,
              "#bd3786"
             ],
             [
              0.5555555555555556,
              "#d8576b"
             ],
             [
              0.6666666666666666,
              "#ed7953"
             ],
             [
              0.7777777777777778,
              "#fb9f3a"
             ],
             [
              0.8888888888888888,
              "#fdca26"
             ],
             [
              1,
              "#f0f921"
             ]
            ],
            "type": "contour"
           }
          ],
          "contourcarpet": [
           {
            "colorbar": {
             "outlinewidth": 0,
             "ticks": ""
            },
            "type": "contourcarpet"
           }
          ],
          "heatmap": [
           {
            "colorbar": {
             "outlinewidth": 0,
             "ticks": ""
            },
            "colorscale": [
             [
              0,
              "#0d0887"
             ],
             [
              0.1111111111111111,
              "#46039f"
             ],
             [
              0.2222222222222222,
              "#7201a8"
             ],
             [
              0.3333333333333333,
              "#9c179e"
             ],
             [
              0.4444444444444444,
              "#bd3786"
             ],
             [
              0.5555555555555556,
              "#d8576b"
             ],
             [
              0.6666666666666666,
              "#ed7953"
             ],
             [
              0.7777777777777778,
              "#fb9f3a"
             ],
             [
              0.8888888888888888,
              "#fdca26"
             ],
             [
              1,
              "#f0f921"
             ]
            ],
            "type": "heatmap"
           }
          ],
          "heatmapgl": [
           {
            "colorbar": {
             "outlinewidth": 0,
             "ticks": ""
            },
            "colorscale": [
             [
              0,
              "#0d0887"
             ],
             [
              0.1111111111111111,
              "#46039f"
             ],
             [
              0.2222222222222222,
              "#7201a8"
             ],
             [
              0.3333333333333333,
              "#9c179e"
             ],
             [
              0.4444444444444444,
              "#bd3786"
             ],
             [
              0.5555555555555556,
              "#d8576b"
             ],
             [
              0.6666666666666666,
              "#ed7953"
             ],
             [
              0.7777777777777778,
              "#fb9f3a"
             ],
             [
              0.8888888888888888,
              "#fdca26"
             ],
             [
              1,
              "#f0f921"
             ]
            ],
            "type": "heatmapgl"
           }
          ],
          "histogram": [
           {
            "marker": {
             "pattern": {
              "fillmode": "overlay",
              "size": 10,
              "solidity": 0.2
             }
            },
            "type": "histogram"
           }
          ],
          "histogram2d": [
           {
            "colorbar": {
             "outlinewidth": 0,
             "ticks": ""
            },
            "colorscale": [
             [
              0,
              "#0d0887"
             ],
             [
              0.1111111111111111,
              "#46039f"
             ],
             [
              0.2222222222222222,
              "#7201a8"
             ],
             [
              0.3333333333333333,
              "#9c179e"
             ],
             [
              0.4444444444444444,
              "#bd3786"
             ],
             [
              0.5555555555555556,
              "#d8576b"
             ],
             [
              0.6666666666666666,
              "#ed7953"
             ],
             [
              0.7777777777777778,
              "#fb9f3a"
             ],
             [
              0.8888888888888888,
              "#fdca26"
             ],
             [
              1,
              "#f0f921"
             ]
            ],
            "type": "histogram2d"
           }
          ],
          "histogram2dcontour": [
           {
            "colorbar": {
             "outlinewidth": 0,
             "ticks": ""
            },
            "colorscale": [
             [
              0,
              "#0d0887"
             ],
             [
              0.1111111111111111,
              "#46039f"
             ],
             [
              0.2222222222222222,
              "#7201a8"
             ],
             [
              0.3333333333333333,
              "#9c179e"
             ],
             [
              0.4444444444444444,
              "#bd3786"
             ],
             [
              0.5555555555555556,
              "#d8576b"
             ],
             [
              0.6666666666666666,
              "#ed7953"
             ],
             [
              0.7777777777777778,
              "#fb9f3a"
             ],
             [
              0.8888888888888888,
              "#fdca26"
             ],
             [
              1,
              "#f0f921"
             ]
            ],
            "type": "histogram2dcontour"
           }
          ],
          "mesh3d": [
           {
            "colorbar": {
             "outlinewidth": 0,
             "ticks": ""
            },
            "type": "mesh3d"
           }
          ],
          "parcoords": [
           {
            "line": {
             "colorbar": {
              "outlinewidth": 0,
              "ticks": ""
             }
            },
            "type": "parcoords"
           }
          ],
          "pie": [
           {
            "automargin": true,
            "type": "pie"
           }
          ],
          "scatter": [
           {
            "fillpattern": {
             "fillmode": "overlay",
             "size": 10,
             "solidity": 0.2
            },
            "type": "scatter"
           }
          ],
          "scatter3d": [
           {
            "line": {
             "colorbar": {
              "outlinewidth": 0,
              "ticks": ""
             }
            },
            "marker": {
             "colorbar": {
              "outlinewidth": 0,
              "ticks": ""
             }
            },
            "type": "scatter3d"
           }
          ],
          "scattercarpet": [
           {
            "marker": {
             "colorbar": {
              "outlinewidth": 0,
              "ticks": ""
             }
            },
            "type": "scattercarpet"
           }
          ],
          "scattergeo": [
           {
            "marker": {
             "colorbar": {
              "outlinewidth": 0,
              "ticks": ""
             }
            },
            "type": "scattergeo"
           }
          ],
          "scattergl": [
           {
            "marker": {
             "colorbar": {
              "outlinewidth": 0,
              "ticks": ""
             }
            },
            "type": "scattergl"
           }
          ],
          "scattermapbox": [
           {
            "marker": {
             "colorbar": {
              "outlinewidth": 0,
              "ticks": ""
             }
            },
            "type": "scattermapbox"
           }
          ],
          "scatterpolar": [
           {
            "marker": {
             "colorbar": {
              "outlinewidth": 0,
              "ticks": ""
             }
            },
            "type": "scatterpolar"
           }
          ],
          "scatterpolargl": [
           {
            "marker": {
             "colorbar": {
              "outlinewidth": 0,
              "ticks": ""
             }
            },
            "type": "scatterpolargl"
           }
          ],
          "scatterternary": [
           {
            "marker": {
             "colorbar": {
              "outlinewidth": 0,
              "ticks": ""
             }
            },
            "type": "scatterternary"
           }
          ],
          "surface": [
           {
            "colorbar": {
             "outlinewidth": 0,
             "ticks": ""
            },
            "colorscale": [
             [
              0,
              "#0d0887"
             ],
             [
              0.1111111111111111,
              "#46039f"
             ],
             [
              0.2222222222222222,
              "#7201a8"
             ],
             [
              0.3333333333333333,
              "#9c179e"
             ],
             [
              0.4444444444444444,
              "#bd3786"
             ],
             [
              0.5555555555555556,
              "#d8576b"
             ],
             [
              0.6666666666666666,
              "#ed7953"
             ],
             [
              0.7777777777777778,
              "#fb9f3a"
             ],
             [
              0.8888888888888888,
              "#fdca26"
             ],
             [
              1,
              "#f0f921"
             ]
            ],
            "type": "surface"
           }
          ],
          "table": [
           {
            "cells": {
             "fill": {
              "color": "#EBF0F8"
             },
             "line": {
              "color": "white"
             }
            },
            "header": {
             "fill": {
              "color": "#C8D4E3"
             },
             "line": {
              "color": "white"
             }
            },
            "type": "table"
           }
          ]
         },
         "layout": {
          "annotationdefaults": {
           "arrowcolor": "#2a3f5f",
           "arrowhead": 0,
           "arrowwidth": 1
          },
          "autotypenumbers": "strict",
          "coloraxis": {
           "colorbar": {
            "outlinewidth": 0,
            "ticks": ""
           }
          },
          "colorscale": {
           "diverging": [
            [
             0,
             "#8e0152"
            ],
            [
             0.1,
             "#c51b7d"
            ],
            [
             0.2,
             "#de77ae"
            ],
            [
             0.3,
             "#f1b6da"
            ],
            [
             0.4,
             "#fde0ef"
            ],
            [
             0.5,
             "#f7f7f7"
            ],
            [
             0.6,
             "#e6f5d0"
            ],
            [
             0.7,
             "#b8e186"
            ],
            [
             0.8,
             "#7fbc41"
            ],
            [
             0.9,
             "#4d9221"
            ],
            [
             1,
             "#276419"
            ]
           ],
           "sequential": [
            [
             0,
             "#0d0887"
            ],
            [
             0.1111111111111111,
             "#46039f"
            ],
            [
             0.2222222222222222,
             "#7201a8"
            ],
            [
             0.3333333333333333,
             "#9c179e"
            ],
            [
             0.4444444444444444,
             "#bd3786"
            ],
            [
             0.5555555555555556,
             "#d8576b"
            ],
            [
             0.6666666666666666,
             "#ed7953"
            ],
            [
             0.7777777777777778,
             "#fb9f3a"
            ],
            [
             0.8888888888888888,
             "#fdca26"
            ],
            [
             1,
             "#f0f921"
            ]
           ],
           "sequentialminus": [
            [
             0,
             "#0d0887"
            ],
            [
             0.1111111111111111,
             "#46039f"
            ],
            [
             0.2222222222222222,
             "#7201a8"
            ],
            [
             0.3333333333333333,
             "#9c179e"
            ],
            [
             0.4444444444444444,
             "#bd3786"
            ],
            [
             0.5555555555555556,
             "#d8576b"
            ],
            [
             0.6666666666666666,
             "#ed7953"
            ],
            [
             0.7777777777777778,
             "#fb9f3a"
            ],
            [
             0.8888888888888888,
             "#fdca26"
            ],
            [
             1,
             "#f0f921"
            ]
           ]
          },
          "colorway": [
           "#636efa",
           "#EF553B",
           "#00cc96",
           "#ab63fa",
           "#FFA15A",
           "#19d3f3",
           "#FF6692",
           "#B6E880",
           "#FF97FF",
           "#FECB52"
          ],
          "font": {
           "color": "#2a3f5f"
          },
          "geo": {
           "bgcolor": "white",
           "lakecolor": "white",
           "landcolor": "#E5ECF6",
           "showlakes": true,
           "showland": true,
           "subunitcolor": "white"
          },
          "hoverlabel": {
           "align": "left"
          },
          "hovermode": "closest",
          "mapbox": {
           "style": "light"
          },
          "paper_bgcolor": "white",
          "plot_bgcolor": "#E5ECF6",
          "polar": {
           "angularaxis": {
            "gridcolor": "white",
            "linecolor": "white",
            "ticks": ""
           },
           "bgcolor": "#E5ECF6",
           "radialaxis": {
            "gridcolor": "white",
            "linecolor": "white",
            "ticks": ""
           }
          },
          "scene": {
           "xaxis": {
            "backgroundcolor": "#E5ECF6",
            "gridcolor": "white",
            "gridwidth": 2,
            "linecolor": "white",
            "showbackground": true,
            "ticks": "",
            "zerolinecolor": "white"
           },
           "yaxis": {
            "backgroundcolor": "#E5ECF6",
            "gridcolor": "white",
            "gridwidth": 2,
            "linecolor": "white",
            "showbackground": true,
            "ticks": "",
            "zerolinecolor": "white"
           },
           "zaxis": {
            "backgroundcolor": "#E5ECF6",
            "gridcolor": "white",
            "gridwidth": 2,
            "linecolor": "white",
            "showbackground": true,
            "ticks": "",
            "zerolinecolor": "white"
           }
          },
          "shapedefaults": {
           "line": {
            "color": "#2a3f5f"
           }
          },
          "ternary": {
           "aaxis": {
            "gridcolor": "white",
            "linecolor": "white",
            "ticks": ""
           },
           "baxis": {
            "gridcolor": "white",
            "linecolor": "white",
            "ticks": ""
           },
           "bgcolor": "#E5ECF6",
           "caxis": {
            "gridcolor": "white",
            "linecolor": "white",
            "ticks": ""
           }
          },
          "title": {
           "x": 0.05
          },
          "xaxis": {
           "automargin": true,
           "gridcolor": "white",
           "linecolor": "white",
           "ticks": "",
           "title": {
            "standoff": 15
           },
           "zerolinecolor": "white",
           "zerolinewidth": 2
          },
          "yaxis": {
           "automargin": true,
           "gridcolor": "white",
           "linecolor": "white",
           "ticks": "",
           "title": {
            "standoff": 15
           },
           "zerolinecolor": "white",
           "zerolinewidth": 2
          }
         }
        },
        "title": {
         "text": "a)"
        },
        "width": 400
       }
      },
      "text/html": [
       "<div>                            <div id=\"fcab5ddc-df4d-4c1c-910d-d436f2246da8\" class=\"plotly-graph-div\" style=\"height:350px; width:400px;\"></div>            <script type=\"text/javascript\">                require([\"plotly\"], function(Plotly) {                    window.PLOTLYENV=window.PLOTLYENV || {};                                    if (document.getElementById(\"fcab5ddc-df4d-4c1c-910d-d436f2246da8\")) {                    Plotly.newPlot(                        \"fcab5ddc-df4d-4c1c-910d-d436f2246da8\",                        [{\"geo\":\"geo\",\"hovertemplate\":\"LATITUDE=%{lat}\\u003cbr\\u003eLONGITUDE=%{lon}\\u003cextra\\u003e\\u003c\\u002fextra\\u003e\",\"lat\":[-15.51,-13.7542,-14.2964,-14.09,-15.7814,-16.638,-18.2337,-17.9475,-17.3706,-17.5768,-18.1814,-17.8964,-16.7671,-19.7419,-20.3725,-20.7097,-20.7594,-20.3583,-19.5894,-21.1756,-22.2406,-21.1906,-21.6689,-21.4609,-20.874,-24.8878,-25.8925,-26.6136,-23.4213,-23.1726,-28.1156,-28.3009,-29.2039,-30.2761,-28.8047,-31.9275,-30.3381,-31.6669,-31.9889,-32.1011,-31.4628,-32.0069,-31.9414,-31.956,-31.9192,-32.0072,-32.2433,-30.8392,-31.8112,-34.3728,-33.5372,-32.7103,-33.6825,-34.2508,-33.6818,-33.9486,-34.0281,-33.83,-33.6294,-33.9306,-34.5714,-33.3567,-34.5683,-32.5219,-33.3608,-34.9469,-34.9411,-31.6219,-33.1129,-33.8878,-33.1006,-33.6856,-32.6722,-31.6797,-30.8453,-32.2028,-32.2147,-30.7847,-33.5547,-32.9869,-28.8789,-28.6133,-27.8386,-31.2353,-26.1317,-25.0341,-21.7125,-12.4239,-12.249,-12.3895,-12.605,-11.4021,-12.6592,-12.2403,-13.0544,-11.0468,-12.635,-14.7236,-11.1629,-11.5485,-12.3272,-12.6099,-11.65,-12.0932,-12.0569,-12.2741,-11.9971,-13.9746,-16.2637,-13.6715,-15.7426,-16.4423,-16.0755,-15.4397,-16.403,-18.3324,-13.8345,-13.3275,-14.5229,-14.2494,-15.7441,-14.9408,-15.1853,-12.7934,-12.9141,-13.0889,-19.6423,-23.7951,-22.9494,-25.1896,-22.4518,-23.2656,-20.1823,-31.1558,-29.0347,-30.4869,-26.2635,-30.7051,-27.5553,-30.5963,-28.0997,-29.6587,-32.1297,-33.043,-31.4492,-35.3365,-33.7081,-33.0539,-34.5993,-32.8427,-32.5073,-34.2524,-32.6845,-34.675,-32.5707,-33.8226,-33.7676,-34.748,-35.1121,-35.2795,-33.9703,-34.0041,-35.8426,-35.7549,-35.7114,-35.7916,-34.9257,-34.7977,-34.9524,-34.7343,-34.7111,-34.9211,-34.5106,-34.4761,-34.9784,-35.5695,-34.7253,-35.1586,-35.3294,-35.1712,-35.5194,-34.439,-34.1983,-35.2836,-35.065,-36.1058,-35.3778,-37.7473,-37.2906,-36.9655,-36.9813,-36.6539,-37.1776,-12.6778,-10.5844,-13.7606,-12.6167,-15.9999,-12.785,-15.4818,-20.6672,-17.6872,-17.7483,-20.6778,-20.6664,-18.7569,-20.8192,-18.3039,-20.7001,-16.8736,-16.3842,-15.4461,-17.0704,-14.9672,-17.6053,-19.2483,-18.5203,-19.2774,-17.6905,-19.4082,-19.3048,-19.6169,-21.1706,-21.1172,-22.4703,-23.161,-20.4925,-23.1364,-19.4569,-19.4168,-22.7433,-21.2894,-20.0153,-19.783,-22.0644,-22.7756,-24.4617,-23.6015,-23.9424,-23.5694,-23.4397,-24.4303,-19.9225,-21.8125,-21.84,-22.3617,-25.8975,-24.1116,-25.6167,-23.3753,-24.4935,-23.8553,-24.9069,-23.8697,-27.6297,-27.5436,-26.1831,-25.5132,-27.5716,-25.322,-28.1681,-27.939,-27.3917,-26.599,-26.3911,-26.5737,-27.5327,-27.0481,-27.2169,-27.9707,-26.6442,-28.6217,-27.4034,-27.1605,-28.2061,-27.5425,-26.6569,-26.5477,-28.0478,-26.4139,-27.4008,-27.9867,-31.5194,-29.4448,-31.0863,-30.8522,-32.0012,-31.484,-31.5388,-30.0362,-32.8833,-33.9382,-33.0682,-31.9861,-30.9776,-30.0372,-29.4898,-30.3154,-30.9537,-31.0742,-29.7752,-30.5273,-29.678,-29.4325,-29.6224,-29.7583,-28.8353,-28.8824,-29.183,-28.8305,-28.6399,-31.0711,-30.3189,-31.8895,-32.9184,-32.7939,-32.6296,-32.7914,-32.1852,-32.0335,-33.2814,-33.2894,-33.0887,-33.4351,-32.7023,-32.6976,-32.7244,-32.5628,-33.4119,-33.6185,-33.3768,-33.4346,-31.333,-33.1281,-32.2206,-33.3627,-33.8382,-33.8551,-33.9465,-34.0039,-33.9829,-33.6908,-33.9176,-33.9057,-33.8405,-33.8152,-33.8338,-33.6004,-33.8969,-33.7195,-33.851,-34.9469,-35.0936,-34.039,-34.3691,-34.5253,-34.5639,-34.6532,-34.4734,-34.0615,-34.3335,-34.081,-36.2519,-35.1103,-35.4253,-37.2622,-35.3635,-36.6722,-36.9077,-35.9004,-36.2939,-37.0016,-34.8085,-35.4184,-35.5293,-35.3088,-36.4917,-36.4069,-35.1583,-36.069,-35.9371,-36.2304,-34.2493,-34.4277,-34.6222,-34.705,-35.5575,-35.1327,-34.5412,-34.2487,-34.2358,-35.1201,-35.7151,-35.3766,-36.3093,-36.6722,-37.1169,-37.0222,-36.6699,-37.295,-37.072,-36.335,-36.2846,-36.4379,-36.7411,-36.0294,-36.4288,-36.1048,-36.4205,-37.145,-37.0491,-36.8708,-36.9772,-37.1017,-37.5679,-37.5976,-37.22,-37.6922,-38.6297,-38.5647,-37.8818,-38.2094,-38.8051,-38.1321,-38.1016,-37.7276,-37.7408,-37.98,-37.871,-37.864,-37.6654,-37.8255,-38.3065,-38.3646,-38.148,-38.4612,-37.9483,-37.7239,-37.8565,-38.0288,-37.9075,-37.0194,-36.8886,-37.3807,-37.2091,-37.5127,-37.7067,-38.8557,-38.2332,-38.3148,-37.6486,-38.3906,-38.0737,-38.4583,-37.5831,-38.4306,-38.2869,-37.9222,-40.9964,-41.1701,-41.1708,-41.4194,-41.1492,-41.389,-40.8347,-41.0547,-41.7256,-41.5476,-40.6764,-41.6428,-40.9928,-41.9953,-41.3381,-40.7292,-42.6621,-42.8339,-42.8897,-43.6578,-42.895,-43.2397,-43.2006,-42.4543,-43.4886,-42.6867,-42.9844,-42.9017,-43.0639,-42.7097,-42.4842,-42.2753,-41.8997,-42.1986,-43.0609,-42.155,-42.9831,-43.0425,-41.8444,-39.8804,-40.0911,-27.5433,-28.0437,-27.6932,-25.9351,-21.6628,-11.7628,-15.5114,-20.5303,-11.0047,-21.9769,-16.7226,-22.4936,-27.5517],\"legendgroup\":\"\",\"lon\":[128.1503,126.1485,126.6453,126.3867,128.71,128.4516,127.6666,122.2352,123.6611,123.8297,125.5619,122.3122,123.981,120.8433,118.6317,116.7742,117.1583,116.8431,119.1,119.7497,114.0967,115.9797,115.1092,115.0188,115.4066,113.67,113.5772,118.5372,119.8023,117.7493,117.8425,113.5937,116.0247,116.6714,114.6989,115.9764,115.5394,116.0189,115.8311,115.8794,115.8642,115.5022,116.0506,115.7619,115.8728,116.1369,115.6839,115.2283,116.0227,115.1358,115.0189,116.0594,121.8275,116.145,115.4026,116.1311,115.1042,121.8925,115.3383,120.1283,117.0106,115.6447,116.3367,115.7119,116.1717,116.7222,117.8158,117.2217,118.84,119.1092,118.4647,117.6064,116.6706,128.8958,128.1092,127.5297,121.7547,121.4533,120.6997,121.6239,121.3186,122.4236,120.7031,119.3564,126.5839,128.301,122.2281,130.8925,131.0449,130.6306,131.2988,130.4217,132.894,131.8785,131.0252,132.9791,130.3725,134.7456,132.4813,132.9266,133.0069,131.0474,133.3797,134.8919,134.2339,136.8201,135.5726,136.463,133.3782,134.3415,136.8192,136.076,136.3041,130.5731,131.0145,130.6361,131.1872,133.0861,132.3826,129.5282,131.9181,130.8091,130.1169,130.8542,131.8663,131.8478,134.1833,133.889,136.1442,130.9737,133.6377,129.3844,130.0148,136.8054,134.7222,136.8739,132.1771,134.5786,135.4456,138.4219,140.1956,138.0684,133.6976,135.4519,130.8976,136.1174,136.5026,137.5206,135.8784,135.1515,137.7169,135.7135,137.3689,135.3362,139.5645,138.5933,138.2182,137.5276,137.7395,136.9392,137.6628,137.528,138.1327,136.5959,137.5231,137.2496,138.5832,138.6281,138.5196,138.4653,138.6222,138.6216,138.6763,139.0056,138.7088,138.2864,138.9278,138.5057,138.5019,138.6783,138.8177,140.5978,140.6766,138.8934,139.2273,140.3273,140.5378,140.7739,140.8254,139.7164,140.727,140.5212,139.8054,141.9208,142.29,143.1183,142.0869,144.0754,143.3047,141.7483,141.7214,141.0733,139.5356,139.4875,140.505,138.7056,144.2333,143.5306,143.1137,145.7458,145.5592,145.1861,145.4293,145.3106,145.9972,146.7661,146.3861,147.0586,146.1126,146.762,146.2438,147.3758,149.1794,149.2169,150.1786,150.7901,148.555,150.7506,147.4833,146.5362,150.6578,149.3008,148.2138,146.5,148.0758,147.6217,148.6264,148.8074,147.525,148.1756,144.2828,145.4306,138.1214,139.9267,140.8925,143.0836,139.3472,152.7161,151.6156,150.4775,150.5709,151.2628,152.323,151.2214,152.7111,152.3375,152.6414,152.7152,153.0071,152.8817,153.5053,153.4283,153.1292,153.0912,153.0403,151.8398,153.3333,153.2664,153.0922,152.9898,152.9383,151.9533,151.7413,151.2633,152.1003,151.9134,150.1819,148.771,148.5957,146.2558,141.8114,143.815,143.385,142.0567,141.7008,143.0743,141.4694,145.8294,145.7964,145.9521,144.3092,147.1962,147.2133,147.9489,148.3798,148.1223,149.8471,149.8302,150.2494,150.8362,151.082,151.6158,151.694,153.3632,152.9605,153.0297,153.5585,153.0618,153.3964,153.2601,153.6358,152.7717,153.1162,152.512,151.7985,151.8364,151.5919,151.3369,150.1737,150.8264,151.5766,151.2107,151.4636,151.3614,151.4881,151.1564,150.229,149.6149,149.654,150.2741,149.1263,150.135,149.2699,148.2428,148.5753,147.9205,148.654,151.2254,151.1731,151.2111,151.2502,151.2253,150.9837,151.1134,151.2643,151.2986,151.0718,150.7761,150.7281,150.6783,150.8567,150.5353,150.8049,150.689,150.9291,150.4217,150.7924,150.8609,150.9118,150.7735,150.267,150.9009,150.2275,150.0826,149.7835,150.0504,150.4828,149.8191,149.8989,150.1437,148.9725,149.2336,149.7311,149.0937,148.7721,149.2004,148.2859,148.4055,147.4575,146.9509,148.3779,148.1405,148.2475,147.5117,146.4326,146.514,144.9458,147.2512,144.8345,146.0695,142.0867,142.004,142.3569,143.5416,141.6486,142.2991,141.8031,141.2657,142.1733,142.6039,142.7402,145.0638,143.3341,145.2673,144.3274,146.0305,145.3949,146.5094,146.3056,146.4394,147.3347,147.2755,147.1342,147.6008,149.9158,149.7289,148.2626,148.4667,145.8107,146.7479,147.5669,146.4746,146.1936,145.9865,147.1398,144.9066,145.0972,145.0962,145.2561,144.9639,144.8322,144.9816,144.8016,145.1785,145.1152,145.3101,144.9269,145.4092,144.7565,144.4783,144.1303,144.5203,145.1859,144.9654,145.8423,143.7911,142.9378,143.513,143.7924,141.4705,142.0636,142.2347,142.7744,144.0883,141.334,141.5437,142.4525,141.2614,145.7311,146.4289,147.4883,147.1219,145.1517,146.3173,145.0847,146.7874,147.0794,147.2156,144.6922,147.9664,148.3467,148.2794,148.2792,148.125,148.0179,147.5033,147.3278,146.2711,147.2358,148.0025,146.7683,147.4612,147.1444,147.4258,147.0756,147.7894,147.3567,146.8983,146.7106,146.2758,146.6694,145.17,146.704,145.2908,145.5025,146.2722,145.5417,143.8857,148.0024,153.2394,153.1871,152.9935,152.9647,150.2711,130.03,123.1556,150.3773,136.7586,152.4707,146.1124,118.4715,151.7845],\"marker\":{\"color\":\"red\",\"symbol\":\"circle\",\"size\":4},\"mode\":\"markers\",\"name\":\"\",\"showlegend\":false,\"type\":\"scattergeo\"}],                        {\"template\":{\"data\":{\"histogram2dcontour\":[{\"type\":\"histogram2dcontour\",\"colorbar\":{\"outlinewidth\":0,\"ticks\":\"\"},\"colorscale\":[[0.0,\"#0d0887\"],[0.1111111111111111,\"#46039f\"],[0.2222222222222222,\"#7201a8\"],[0.3333333333333333,\"#9c179e\"],[0.4444444444444444,\"#bd3786\"],[0.5555555555555556,\"#d8576b\"],[0.6666666666666666,\"#ed7953\"],[0.7777777777777778,\"#fb9f3a\"],[0.8888888888888888,\"#fdca26\"],[1.0,\"#f0f921\"]]}],\"choropleth\":[{\"type\":\"choropleth\",\"colorbar\":{\"outlinewidth\":0,\"ticks\":\"\"}}],\"histogram2d\":[{\"type\":\"histogram2d\",\"colorbar\":{\"outlinewidth\":0,\"ticks\":\"\"},\"colorscale\":[[0.0,\"#0d0887\"],[0.1111111111111111,\"#46039f\"],[0.2222222222222222,\"#7201a8\"],[0.3333333333333333,\"#9c179e\"],[0.4444444444444444,\"#bd3786\"],[0.5555555555555556,\"#d8576b\"],[0.6666666666666666,\"#ed7953\"],[0.7777777777777778,\"#fb9f3a\"],[0.8888888888888888,\"#fdca26\"],[1.0,\"#f0f921\"]]}],\"heatmap\":[{\"type\":\"heatmap\",\"colorbar\":{\"outlinewidth\":0,\"ticks\":\"\"},\"colorscale\":[[0.0,\"#0d0887\"],[0.1111111111111111,\"#46039f\"],[0.2222222222222222,\"#7201a8\"],[0.3333333333333333,\"#9c179e\"],[0.4444444444444444,\"#bd3786\"],[0.5555555555555556,\"#d8576b\"],[0.6666666666666666,\"#ed7953\"],[0.7777777777777778,\"#fb9f3a\"],[0.8888888888888888,\"#fdca26\"],[1.0,\"#f0f921\"]]}],\"heatmapgl\":[{\"type\":\"heatmapgl\",\"colorbar\":{\"outlinewidth\":0,\"ticks\":\"\"},\"colorscale\":[[0.0,\"#0d0887\"],[0.1111111111111111,\"#46039f\"],[0.2222222222222222,\"#7201a8\"],[0.3333333333333333,\"#9c179e\"],[0.4444444444444444,\"#bd3786\"],[0.5555555555555556,\"#d8576b\"],[0.6666666666666666,\"#ed7953\"],[0.7777777777777778,\"#fb9f3a\"],[0.8888888888888888,\"#fdca26\"],[1.0,\"#f0f921\"]]}],\"contourcarpet\":[{\"type\":\"contourcarpet\",\"colorbar\":{\"outlinewidth\":0,\"ticks\":\"\"}}],\"contour\":[{\"type\":\"contour\",\"colorbar\":{\"outlinewidth\":0,\"ticks\":\"\"},\"colorscale\":[[0.0,\"#0d0887\"],[0.1111111111111111,\"#46039f\"],[0.2222222222222222,\"#7201a8\"],[0.3333333333333333,\"#9c179e\"],[0.4444444444444444,\"#bd3786\"],[0.5555555555555556,\"#d8576b\"],[0.6666666666666666,\"#ed7953\"],[0.7777777777777778,\"#fb9f3a\"],[0.8888888888888888,\"#fdca26\"],[1.0,\"#f0f921\"]]}],\"surface\":[{\"type\":\"surface\",\"colorbar\":{\"outlinewidth\":0,\"ticks\":\"\"},\"colorscale\":[[0.0,\"#0d0887\"],[0.1111111111111111,\"#46039f\"],[0.2222222222222222,\"#7201a8\"],[0.3333333333333333,\"#9c179e\"],[0.4444444444444444,\"#bd3786\"],[0.5555555555555556,\"#d8576b\"],[0.6666666666666666,\"#ed7953\"],[0.7777777777777778,\"#fb9f3a\"],[0.8888888888888888,\"#fdca26\"],[1.0,\"#f0f921\"]]}],\"mesh3d\":[{\"type\":\"mesh3d\",\"colorbar\":{\"outlinewidth\":0,\"ticks\":\"\"}}],\"scatter\":[{\"fillpattern\":{\"fillmode\":\"overlay\",\"size\":10,\"solidity\":0.2},\"type\":\"scatter\"}],\"parcoords\":[{\"type\":\"parcoords\",\"line\":{\"colorbar\":{\"outlinewidth\":0,\"ticks\":\"\"}}}],\"scatterpolargl\":[{\"type\":\"scatterpolargl\",\"marker\":{\"colorbar\":{\"outlinewidth\":0,\"ticks\":\"\"}}}],\"bar\":[{\"error_x\":{\"color\":\"#2a3f5f\"},\"error_y\":{\"color\":\"#2a3f5f\"},\"marker\":{\"line\":{\"color\":\"#E5ECF6\",\"width\":0.5},\"pattern\":{\"fillmode\":\"overlay\",\"size\":10,\"solidity\":0.2}},\"type\":\"bar\"}],\"scattergeo\":[{\"type\":\"scattergeo\",\"marker\":{\"colorbar\":{\"outlinewidth\":0,\"ticks\":\"\"}}}],\"scatterpolar\":[{\"type\":\"scatterpolar\",\"marker\":{\"colorbar\":{\"outlinewidth\":0,\"ticks\":\"\"}}}],\"histogram\":[{\"marker\":{\"pattern\":{\"fillmode\":\"overlay\",\"size\":10,\"solidity\":0.2}},\"type\":\"histogram\"}],\"scattergl\":[{\"type\":\"scattergl\",\"marker\":{\"colorbar\":{\"outlinewidth\":0,\"ticks\":\"\"}}}],\"scatter3d\":[{\"type\":\"scatter3d\",\"line\":{\"colorbar\":{\"outlinewidth\":0,\"ticks\":\"\"}},\"marker\":{\"colorbar\":{\"outlinewidth\":0,\"ticks\":\"\"}}}],\"scattermapbox\":[{\"type\":\"scattermapbox\",\"marker\":{\"colorbar\":{\"outlinewidth\":0,\"ticks\":\"\"}}}],\"scatterternary\":[{\"type\":\"scatterternary\",\"marker\":{\"colorbar\":{\"outlinewidth\":0,\"ticks\":\"\"}}}],\"scattercarpet\":[{\"type\":\"scattercarpet\",\"marker\":{\"colorbar\":{\"outlinewidth\":0,\"ticks\":\"\"}}}],\"carpet\":[{\"aaxis\":{\"endlinecolor\":\"#2a3f5f\",\"gridcolor\":\"white\",\"linecolor\":\"white\",\"minorgridcolor\":\"white\",\"startlinecolor\":\"#2a3f5f\"},\"baxis\":{\"endlinecolor\":\"#2a3f5f\",\"gridcolor\":\"white\",\"linecolor\":\"white\",\"minorgridcolor\":\"white\",\"startlinecolor\":\"#2a3f5f\"},\"type\":\"carpet\"}],\"table\":[{\"cells\":{\"fill\":{\"color\":\"#EBF0F8\"},\"line\":{\"color\":\"white\"}},\"header\":{\"fill\":{\"color\":\"#C8D4E3\"},\"line\":{\"color\":\"white\"}},\"type\":\"table\"}],\"barpolar\":[{\"marker\":{\"line\":{\"color\":\"#E5ECF6\",\"width\":0.5},\"pattern\":{\"fillmode\":\"overlay\",\"size\":10,\"solidity\":0.2}},\"type\":\"barpolar\"}],\"pie\":[{\"automargin\":true,\"type\":\"pie\"}]},\"layout\":{\"autotypenumbers\":\"strict\",\"colorway\":[\"#636efa\",\"#EF553B\",\"#00cc96\",\"#ab63fa\",\"#FFA15A\",\"#19d3f3\",\"#FF6692\",\"#B6E880\",\"#FF97FF\",\"#FECB52\"],\"font\":{\"color\":\"#2a3f5f\"},\"hovermode\":\"closest\",\"hoverlabel\":{\"align\":\"left\"},\"paper_bgcolor\":\"white\",\"plot_bgcolor\":\"#E5ECF6\",\"polar\":{\"bgcolor\":\"#E5ECF6\",\"angularaxis\":{\"gridcolor\":\"white\",\"linecolor\":\"white\",\"ticks\":\"\"},\"radialaxis\":{\"gridcolor\":\"white\",\"linecolor\":\"white\",\"ticks\":\"\"}},\"ternary\":{\"bgcolor\":\"#E5ECF6\",\"aaxis\":{\"gridcolor\":\"white\",\"linecolor\":\"white\",\"ticks\":\"\"},\"baxis\":{\"gridcolor\":\"white\",\"linecolor\":\"white\",\"ticks\":\"\"},\"caxis\":{\"gridcolor\":\"white\",\"linecolor\":\"white\",\"ticks\":\"\"}},\"coloraxis\":{\"colorbar\":{\"outlinewidth\":0,\"ticks\":\"\"}},\"colorscale\":{\"sequential\":[[0.0,\"#0d0887\"],[0.1111111111111111,\"#46039f\"],[0.2222222222222222,\"#7201a8\"],[0.3333333333333333,\"#9c179e\"],[0.4444444444444444,\"#bd3786\"],[0.5555555555555556,\"#d8576b\"],[0.6666666666666666,\"#ed7953\"],[0.7777777777777778,\"#fb9f3a\"],[0.8888888888888888,\"#fdca26\"],[1.0,\"#f0f921\"]],\"sequentialminus\":[[0.0,\"#0d0887\"],[0.1111111111111111,\"#46039f\"],[0.2222222222222222,\"#7201a8\"],[0.3333333333333333,\"#9c179e\"],[0.4444444444444444,\"#bd3786\"],[0.5555555555555556,\"#d8576b\"],[0.6666666666666666,\"#ed7953\"],[0.7777777777777778,\"#fb9f3a\"],[0.8888888888888888,\"#fdca26\"],[1.0,\"#f0f921\"]],\"diverging\":[[0,\"#8e0152\"],[0.1,\"#c51b7d\"],[0.2,\"#de77ae\"],[0.3,\"#f1b6da\"],[0.4,\"#fde0ef\"],[0.5,\"#f7f7f7\"],[0.6,\"#e6f5d0\"],[0.7,\"#b8e186\"],[0.8,\"#7fbc41\"],[0.9,\"#4d9221\"],[1,\"#276419\"]]},\"xaxis\":{\"gridcolor\":\"white\",\"linecolor\":\"white\",\"ticks\":\"\",\"title\":{\"standoff\":15},\"zerolinecolor\":\"white\",\"automargin\":true,\"zerolinewidth\":2},\"yaxis\":{\"gridcolor\":\"white\",\"linecolor\":\"white\",\"ticks\":\"\",\"title\":{\"standoff\":15},\"zerolinecolor\":\"white\",\"automargin\":true,\"zerolinewidth\":2},\"scene\":{\"xaxis\":{\"backgroundcolor\":\"#E5ECF6\",\"gridcolor\":\"white\",\"linecolor\":\"white\",\"showbackground\":true,\"ticks\":\"\",\"zerolinecolor\":\"white\",\"gridwidth\":2},\"yaxis\":{\"backgroundcolor\":\"#E5ECF6\",\"gridcolor\":\"white\",\"linecolor\":\"white\",\"showbackground\":true,\"ticks\":\"\",\"zerolinecolor\":\"white\",\"gridwidth\":2},\"zaxis\":{\"backgroundcolor\":\"#E5ECF6\",\"gridcolor\":\"white\",\"linecolor\":\"white\",\"showbackground\":true,\"ticks\":\"\",\"zerolinecolor\":\"white\",\"gridwidth\":2}},\"shapedefaults\":{\"line\":{\"color\":\"#2a3f5f\"}},\"annotationdefaults\":{\"arrowcolor\":\"#2a3f5f\",\"arrowhead\":0,\"arrowwidth\":1},\"geo\":{\"bgcolor\":\"white\",\"landcolor\":\"#E5ECF6\",\"subunitcolor\":\"white\",\"showland\":true,\"showlakes\":true,\"lakecolor\":\"white\"},\"title\":{\"x\":0.05},\"mapbox\":{\"style\":\"light\"}}},\"geo\":{\"domain\":{\"x\":[0.0,1.0],\"y\":[0.0,1.0]},\"center\":{},\"lonaxis\":{\"range\":[110,155],\"showgrid\":true,\"gridcolor\":\"gray\",\"gridwidth\":0.5,\"dtick\":5},\"lataxis\":{\"range\":[-45,-10],\"showgrid\":true,\"gridcolor\":\"gray\",\"gridwidth\":0.5,\"dtick\":5},\"resolution\":50,\"showcoastlines\":true,\"showland\":true,\"showocean\":true,\"oceancolor\":\"rgb(144, 195, 245)\",\"showcountries\":true,\"showframe\":true},\"legend\":{\"tracegroupgap\":0},\"margin\":{\"b\":0,\"l\":0,\"r\":0,\"t\":40},\"title\":{\"text\":\"a)\"},\"height\":350,\"width\":400},                        {\"responsive\": true}                    ).then(function(){\n",
       "                            \n",
       "var gd = document.getElementById('fcab5ddc-df4d-4c1c-910d-d436f2246da8');\n",
       "var x = new MutationObserver(function (mutations, observer) {{\n",
       "        var display = window.getComputedStyle(gd).display;\n",
       "        if (!display || display === 'none') {{\n",
       "            console.log([gd, 'removed!']);\n",
       "            Plotly.purge(gd);\n",
       "            observer.disconnect();\n",
       "        }}\n",
       "}});\n",
       "\n",
       "// Listen for the removal of the full notebook cells\n",
       "var notebookContainer = gd.closest('#notebook-container');\n",
       "if (notebookContainer) {{\n",
       "    x.observe(notebookContainer, {childList: true});\n",
       "}}\n",
       "\n",
       "// Listen for the clearing of the current output cell\n",
       "var outputEl = gd.closest('.output');\n",
       "if (outputEl) {{\n",
       "    x.observe(outputEl, {childList: true});\n",
       "}}\n",
       "\n",
       "                        })                };                });            </script>        </div>"
      ]
     },
     "metadata": {},
     "output_type": "display_data"
    }
   ],
   "source": [
    "df = pd.read_csv(\"data/aws_metadata/station_data.csv\")\n",
    "df = df[df[\"station_number\"].isin(official_max_exp.station_number.values)]\n",
    "\n",
    "\n",
    "fig = px.scatter_geo(\n",
    "    df, lat=\"LATITUDE\", lon=\"LONGITUDE\", color_discrete_sequence=[\"red\"]\n",
    ")\n",
    "\n",
    "fig.update_geos(\n",
    "    resolution=50,\n",
    "    lonaxis_range=[110, 155],\n",
    "    lataxis_range=[-45, -10],\n",
    "    showcoastlines=True,\n",
    "    showland=True,\n",
    "    showocean=True,\n",
    "    oceancolor=\"rgb(144, 195, 245)\",\n",
    "    showcountries=True,\n",
    "    showframe=True,\n",
    "    lonaxis=dict(showgrid=True, gridcolor=\"gray\", gridwidth=0.5, dtick=5),\n",
    "    lataxis=dict(showgrid=True, gridcolor=\"gray\", gridwidth=0.5, dtick=5),\n",
    ")\n",
    "\n",
    "fig.update_traces(marker={\"size\": 4})\n",
    "fig.update_layout(\n",
    "    title=\"a)\",\n",
    "    height=350,\n",
    "    width=400,\n",
    "    margin=go.layout.Margin(\n",
    "        l=0,  # left margin\n",
    "        r=0,  # right margin\n",
    "        b=0,  # bottom margin\n",
    "        t=40,  # top margin\n",
    "    ),\n",
    ")\n",
    "fig.show()"
   ]
  },
  {
   "cell_type": "code",
   "execution_count": 19,
   "metadata": {},
   "outputs": [],
   "source": [
    "fig.write_image(\"results/station_maps/a_wind_aus_stations.pdf\")"
   ]
  },
  {
   "cell_type": "markdown",
   "metadata": {},
   "source": [
    "### Statistical significance testing for wind max experiment"
   ]
  },
  {
   "cell_type": "code",
   "execution_count": 20,
   "metadata": {},
   "outputs": [],
   "source": [
    "official_max_exp_mse = mse(\n",
    "    official_max_exp, obs_max_exp, preserve_dims=[\"lead_day\", \"valid_start\"]\n",
    ")\n",
    "hindcast_max_exp_mse = mse(\n",
    "    hindcast_max_exp, obs_max_exp, preserve_dims=[\"lead_day\", \"valid_start\"]\n",
    ")\n",
    "autofcst_max_exp_mse = mse(\n",
    "    autofcst_max_exp, obs_max_exp, preserve_dims=[\"lead_day\", \"valid_start\"]\n",
    ")"
   ]
  },
  {
   "cell_type": "code",
   "execution_count": 21,
   "metadata": {},
   "outputs": [
    {
     "data": {
      "text/html": [
       "<div><svg style=\"position: absolute; width: 0; height: 0; overflow: hidden\">\n",
       "<defs>\n",
       "<symbol id=\"icon-database\" viewBox=\"0 0 32 32\">\n",
       "<path d=\"M16 0c-8.837 0-16 2.239-16 5v4c0 2.761 7.163 5 16 5s16-2.239 16-5v-4c0-2.761-7.163-5-16-5z\"></path>\n",
       "<path d=\"M16 17c-8.837 0-16-2.239-16-5v6c0 2.761 7.163 5 16 5s16-2.239 16-5v-6c0 2.761-7.163 5-16 5z\"></path>\n",
       "<path d=\"M16 26c-8.837 0-16-2.239-16-5v6c0 2.761 7.163 5 16 5s16-2.239 16-5v-6c0 2.761-7.163 5-16 5z\"></path>\n",
       "</symbol>\n",
       "<symbol id=\"icon-file-text2\" viewBox=\"0 0 32 32\">\n",
       "<path d=\"M28.681 7.159c-0.694-0.947-1.662-2.053-2.724-3.116s-2.169-2.030-3.116-2.724c-1.612-1.182-2.393-1.319-2.841-1.319h-15.5c-1.378 0-2.5 1.121-2.5 2.5v27c0 1.378 1.122 2.5 2.5 2.5h23c1.378 0 2.5-1.122 2.5-2.5v-19.5c0-0.448-0.137-1.23-1.319-2.841zM24.543 5.457c0.959 0.959 1.712 1.825 2.268 2.543h-4.811v-4.811c0.718 0.556 1.584 1.309 2.543 2.268zM28 29.5c0 0.271-0.229 0.5-0.5 0.5h-23c-0.271 0-0.5-0.229-0.5-0.5v-27c0-0.271 0.229-0.5 0.5-0.5 0 0 15.499-0 15.5 0v7c0 0.552 0.448 1 1 1h7v19.5z\"></path>\n",
       "<path d=\"M23 26h-14c-0.552 0-1-0.448-1-1s0.448-1 1-1h14c0.552 0 1 0.448 1 1s-0.448 1-1 1z\"></path>\n",
       "<path d=\"M23 22h-14c-0.552 0-1-0.448-1-1s0.448-1 1-1h14c0.552 0 1 0.448 1 1s-0.448 1-1 1z\"></path>\n",
       "<path d=\"M23 18h-14c-0.552 0-1-0.448-1-1s0.448-1 1-1h14c0.552 0 1 0.448 1 1s-0.448 1-1 1z\"></path>\n",
       "</symbol>\n",
       "</defs>\n",
       "</svg>\n",
       "<style>/* CSS stylesheet for displaying xarray objects in jupyterlab.\n",
       " *\n",
       " */\n",
       "\n",
       ":root {\n",
       "  --xr-font-color0: var(--jp-content-font-color0, rgba(0, 0, 0, 1));\n",
       "  --xr-font-color2: var(--jp-content-font-color2, rgba(0, 0, 0, 0.54));\n",
       "  --xr-font-color3: var(--jp-content-font-color3, rgba(0, 0, 0, 0.38));\n",
       "  --xr-border-color: var(--jp-border-color2, #e0e0e0);\n",
       "  --xr-disabled-color: var(--jp-layout-color3, #bdbdbd);\n",
       "  --xr-background-color: var(--jp-layout-color0, white);\n",
       "  --xr-background-color-row-even: var(--jp-layout-color1, white);\n",
       "  --xr-background-color-row-odd: var(--jp-layout-color2, #eeeeee);\n",
       "}\n",
       "\n",
       "html[theme=dark],\n",
       "body[data-theme=dark],\n",
       "body.vscode-dark {\n",
       "  --xr-font-color0: rgba(255, 255, 255, 1);\n",
       "  --xr-font-color2: rgba(255, 255, 255, 0.54);\n",
       "  --xr-font-color3: rgba(255, 255, 255, 0.38);\n",
       "  --xr-border-color: #1F1F1F;\n",
       "  --xr-disabled-color: #515151;\n",
       "  --xr-background-color: #111111;\n",
       "  --xr-background-color-row-even: #111111;\n",
       "  --xr-background-color-row-odd: #313131;\n",
       "}\n",
       "\n",
       ".xr-wrap {\n",
       "  display: block !important;\n",
       "  min-width: 300px;\n",
       "  max-width: 700px;\n",
       "}\n",
       "\n",
       ".xr-text-repr-fallback {\n",
       "  /* fallback to plain text repr when CSS is not injected (untrusted notebook) */\n",
       "  display: none;\n",
       "}\n",
       "\n",
       ".xr-header {\n",
       "  padding-top: 6px;\n",
       "  padding-bottom: 6px;\n",
       "  margin-bottom: 4px;\n",
       "  border-bottom: solid 1px var(--xr-border-color);\n",
       "}\n",
       "\n",
       ".xr-header > div,\n",
       ".xr-header > ul {\n",
       "  display: inline;\n",
       "  margin-top: 0;\n",
       "  margin-bottom: 0;\n",
       "}\n",
       "\n",
       ".xr-obj-type,\n",
       ".xr-array-name {\n",
       "  margin-left: 2px;\n",
       "  margin-right: 10px;\n",
       "}\n",
       "\n",
       ".xr-obj-type {\n",
       "  color: var(--xr-font-color2);\n",
       "}\n",
       "\n",
       ".xr-sections {\n",
       "  padding-left: 0 !important;\n",
       "  display: grid;\n",
       "  grid-template-columns: 150px auto auto 1fr 20px 20px;\n",
       "}\n",
       "\n",
       ".xr-section-item {\n",
       "  display: contents;\n",
       "}\n",
       "\n",
       ".xr-section-item input {\n",
       "  display: none;\n",
       "}\n",
       "\n",
       ".xr-section-item input + label {\n",
       "  color: var(--xr-disabled-color);\n",
       "}\n",
       "\n",
       ".xr-section-item input:enabled + label {\n",
       "  cursor: pointer;\n",
       "  color: var(--xr-font-color2);\n",
       "}\n",
       "\n",
       ".xr-section-item input:enabled + label:hover {\n",
       "  color: var(--xr-font-color0);\n",
       "}\n",
       "\n",
       ".xr-section-summary {\n",
       "  grid-column: 1;\n",
       "  color: var(--xr-font-color2);\n",
       "  font-weight: 500;\n",
       "}\n",
       "\n",
       ".xr-section-summary > span {\n",
       "  display: inline-block;\n",
       "  padding-left: 0.5em;\n",
       "}\n",
       "\n",
       ".xr-section-summary-in:disabled + label {\n",
       "  color: var(--xr-font-color2);\n",
       "}\n",
       "\n",
       ".xr-section-summary-in + label:before {\n",
       "  display: inline-block;\n",
       "  content: '►';\n",
       "  font-size: 11px;\n",
       "  width: 15px;\n",
       "  text-align: center;\n",
       "}\n",
       "\n",
       ".xr-section-summary-in:disabled + label:before {\n",
       "  color: var(--xr-disabled-color);\n",
       "}\n",
       "\n",
       ".xr-section-summary-in:checked + label:before {\n",
       "  content: '▼';\n",
       "}\n",
       "\n",
       ".xr-section-summary-in:checked + label > span {\n",
       "  display: none;\n",
       "}\n",
       "\n",
       ".xr-section-summary,\n",
       ".xr-section-inline-details {\n",
       "  padding-top: 4px;\n",
       "  padding-bottom: 4px;\n",
       "}\n",
       "\n",
       ".xr-section-inline-details {\n",
       "  grid-column: 2 / -1;\n",
       "}\n",
       "\n",
       ".xr-section-details {\n",
       "  display: none;\n",
       "  grid-column: 1 / -1;\n",
       "  margin-bottom: 5px;\n",
       "}\n",
       "\n",
       ".xr-section-summary-in:checked ~ .xr-section-details {\n",
       "  display: contents;\n",
       "}\n",
       "\n",
       ".xr-array-wrap {\n",
       "  grid-column: 1 / -1;\n",
       "  display: grid;\n",
       "  grid-template-columns: 20px auto;\n",
       "}\n",
       "\n",
       ".xr-array-wrap > label {\n",
       "  grid-column: 1;\n",
       "  vertical-align: top;\n",
       "}\n",
       "\n",
       ".xr-preview {\n",
       "  color: var(--xr-font-color3);\n",
       "}\n",
       "\n",
       ".xr-array-preview,\n",
       ".xr-array-data {\n",
       "  padding: 0 5px !important;\n",
       "  grid-column: 2;\n",
       "}\n",
       "\n",
       ".xr-array-data,\n",
       ".xr-array-in:checked ~ .xr-array-preview {\n",
       "  display: none;\n",
       "}\n",
       "\n",
       ".xr-array-in:checked ~ .xr-array-data,\n",
       ".xr-array-preview {\n",
       "  display: inline-block;\n",
       "}\n",
       "\n",
       ".xr-dim-list {\n",
       "  display: inline-block !important;\n",
       "  list-style: none;\n",
       "  padding: 0 !important;\n",
       "  margin: 0;\n",
       "}\n",
       "\n",
       ".xr-dim-list li {\n",
       "  display: inline-block;\n",
       "  padding: 0;\n",
       "  margin: 0;\n",
       "}\n",
       "\n",
       ".xr-dim-list:before {\n",
       "  content: '(';\n",
       "}\n",
       "\n",
       ".xr-dim-list:after {\n",
       "  content: ')';\n",
       "}\n",
       "\n",
       ".xr-dim-list li:not(:last-child):after {\n",
       "  content: ',';\n",
       "  padding-right: 5px;\n",
       "}\n",
       "\n",
       ".xr-has-index {\n",
       "  font-weight: bold;\n",
       "}\n",
       "\n",
       ".xr-var-list,\n",
       ".xr-var-item {\n",
       "  display: contents;\n",
       "}\n",
       "\n",
       ".xr-var-item > div,\n",
       ".xr-var-item label,\n",
       ".xr-var-item > .xr-var-name span {\n",
       "  background-color: var(--xr-background-color-row-even);\n",
       "  margin-bottom: 0;\n",
       "}\n",
       "\n",
       ".xr-var-item > .xr-var-name:hover span {\n",
       "  padding-right: 5px;\n",
       "}\n",
       "\n",
       ".xr-var-list > li:nth-child(odd) > div,\n",
       ".xr-var-list > li:nth-child(odd) > label,\n",
       ".xr-var-list > li:nth-child(odd) > .xr-var-name span {\n",
       "  background-color: var(--xr-background-color-row-odd);\n",
       "}\n",
       "\n",
       ".xr-var-name {\n",
       "  grid-column: 1;\n",
       "}\n",
       "\n",
       ".xr-var-dims {\n",
       "  grid-column: 2;\n",
       "}\n",
       "\n",
       ".xr-var-dtype {\n",
       "  grid-column: 3;\n",
       "  text-align: right;\n",
       "  color: var(--xr-font-color2);\n",
       "}\n",
       "\n",
       ".xr-var-preview {\n",
       "  grid-column: 4;\n",
       "}\n",
       "\n",
       ".xr-index-preview {\n",
       "  grid-column: 2 / 5;\n",
       "  color: var(--xr-font-color2);\n",
       "}\n",
       "\n",
       ".xr-var-name,\n",
       ".xr-var-dims,\n",
       ".xr-var-dtype,\n",
       ".xr-preview,\n",
       ".xr-attrs dt {\n",
       "  white-space: nowrap;\n",
       "  overflow: hidden;\n",
       "  text-overflow: ellipsis;\n",
       "  padding-right: 10px;\n",
       "}\n",
       "\n",
       ".xr-var-name:hover,\n",
       ".xr-var-dims:hover,\n",
       ".xr-var-dtype:hover,\n",
       ".xr-attrs dt:hover {\n",
       "  overflow: visible;\n",
       "  width: auto;\n",
       "  z-index: 1;\n",
       "}\n",
       "\n",
       ".xr-var-attrs,\n",
       ".xr-var-data,\n",
       ".xr-index-data {\n",
       "  display: none;\n",
       "  background-color: var(--xr-background-color) !important;\n",
       "  padding-bottom: 5px !important;\n",
       "}\n",
       "\n",
       ".xr-var-attrs-in:checked ~ .xr-var-attrs,\n",
       ".xr-var-data-in:checked ~ .xr-var-data,\n",
       ".xr-index-data-in:checked ~ .xr-index-data {\n",
       "  display: block;\n",
       "}\n",
       "\n",
       ".xr-var-data > table {\n",
       "  float: right;\n",
       "}\n",
       "\n",
       ".xr-var-name span,\n",
       ".xr-var-data,\n",
       ".xr-index-name div,\n",
       ".xr-index-data,\n",
       ".xr-attrs {\n",
       "  padding-left: 25px !important;\n",
       "}\n",
       "\n",
       ".xr-attrs,\n",
       ".xr-var-attrs,\n",
       ".xr-var-data,\n",
       ".xr-index-data {\n",
       "  grid-column: 1 / -1;\n",
       "}\n",
       "\n",
       "dl.xr-attrs {\n",
       "  padding: 0;\n",
       "  margin: 0;\n",
       "  display: grid;\n",
       "  grid-template-columns: 125px auto;\n",
       "}\n",
       "\n",
       ".xr-attrs dt,\n",
       ".xr-attrs dd {\n",
       "  padding: 0;\n",
       "  margin: 0;\n",
       "  float: left;\n",
       "  padding-right: 10px;\n",
       "  width: auto;\n",
       "}\n",
       "\n",
       ".xr-attrs dt {\n",
       "  font-weight: normal;\n",
       "  grid-column: 1;\n",
       "}\n",
       "\n",
       ".xr-attrs dt:hover span {\n",
       "  display: inline-block;\n",
       "  background: var(--xr-background-color);\n",
       "  padding-right: 10px;\n",
       "}\n",
       "\n",
       ".xr-attrs dd {\n",
       "  grid-column: 2;\n",
       "  white-space: pre-wrap;\n",
       "  word-break: break-all;\n",
       "}\n",
       "\n",
       ".xr-icon-database,\n",
       ".xr-icon-file-text2,\n",
       ".xr-no-icon {\n",
       "  display: inline-block;\n",
       "  vertical-align: middle;\n",
       "  width: 1em;\n",
       "  height: 1.5em !important;\n",
       "  stroke-width: 0;\n",
       "  stroke: currentColor;\n",
       "  fill: currentColor;\n",
       "}\n",
       "</style><pre class='xr-text-repr-fallback'>&lt;xarray.Dataset&gt;\n",
       "Dimensions:          (lead_day: 7)\n",
       "Coordinates:\n",
       "  * lead_day         (lead_day) int64 1 2 3 4 5 6 7\n",
       "Data variables:\n",
       "    mean             (lead_day) float64 2.561 3.068 1.978 ... 2.437 2.323 2.492\n",
       "    dm_test_stat     (lead_day) float64 18.58 19.77 13.85 ... 9.899 7.875 5.959\n",
       "    timeseries_len   (lead_day) int64 2184 2184 2184 2184 2184 2184 2184\n",
       "    confidence_gt_0  (lead_day) float64 1.0 1.0 1.0 1.0 1.0 1.0 1.0\n",
       "    ci_upper         (lead_day) float64 2.831 3.372 2.257 ... 2.919 2.902 3.312\n",
       "    ci_lower         (lead_day) float64 2.291 2.764 1.698 ... 1.954 1.745 1.673</pre><div class='xr-wrap' style='display:none'><div class='xr-header'><div class='xr-obj-type'>xarray.Dataset</div></div><ul class='xr-sections'><li class='xr-section-item'><input id='section-2edae3f1-ae19-469e-89d9-dca14171d766' class='xr-section-summary-in' type='checkbox' disabled ><label for='section-2edae3f1-ae19-469e-89d9-dca14171d766' class='xr-section-summary'  title='Expand/collapse section'>Dimensions:</label><div class='xr-section-inline-details'><ul class='xr-dim-list'><li><span class='xr-has-index'>lead_day</span>: 7</li></ul></div><div class='xr-section-details'></div></li><li class='xr-section-item'><input id='section-642d7c99-82e4-4601-8f0a-c9cea9af8438' class='xr-section-summary-in' type='checkbox'  checked><label for='section-642d7c99-82e4-4601-8f0a-c9cea9af8438' class='xr-section-summary' >Coordinates: <span>(1)</span></label><div class='xr-section-inline-details'></div><div class='xr-section-details'><ul class='xr-var-list'><li class='xr-var-item'><div class='xr-var-name'><span class='xr-has-index'>lead_day</span></div><div class='xr-var-dims'>(lead_day)</div><div class='xr-var-dtype'>int64</div><div class='xr-var-preview xr-preview'>1 2 3 4 5 6 7</div><input id='attrs-57a26571-fa1f-4c07-b4a0-a882cdcc9dab' class='xr-var-attrs-in' type='checkbox' disabled><label for='attrs-57a26571-fa1f-4c07-b4a0-a882cdcc9dab' title='Show/Hide attributes'><svg class='icon xr-icon-file-text2'><use xlink:href='#icon-file-text2'></use></svg></label><input id='data-93a31174-4c19-4a18-a272-0297d603e13c' class='xr-var-data-in' type='checkbox'><label for='data-93a31174-4c19-4a18-a272-0297d603e13c' title='Show/Hide data repr'><svg class='icon xr-icon-database'><use xlink:href='#icon-database'></use></svg></label><div class='xr-var-attrs'><dl class='xr-attrs'></dl></div><div class='xr-var-data'><pre>array([1, 2, 3, 4, 5, 6, 7])</pre></div></li></ul></div></li><li class='xr-section-item'><input id='section-43b91c8a-bf79-4db2-8991-9dcb9f2860a1' class='xr-section-summary-in' type='checkbox'  checked><label for='section-43b91c8a-bf79-4db2-8991-9dcb9f2860a1' class='xr-section-summary' >Data variables: <span>(6)</span></label><div class='xr-section-inline-details'></div><div class='xr-section-details'><ul class='xr-var-list'><li class='xr-var-item'><div class='xr-var-name'><span>mean</span></div><div class='xr-var-dims'>(lead_day)</div><div class='xr-var-dtype'>float64</div><div class='xr-var-preview xr-preview'>2.561 3.068 1.978 ... 2.323 2.492</div><input id='attrs-5ce3d26d-061f-415a-b468-09fba77592d8' class='xr-var-attrs-in' type='checkbox' disabled><label for='attrs-5ce3d26d-061f-415a-b468-09fba77592d8' title='Show/Hide attributes'><svg class='icon xr-icon-file-text2'><use xlink:href='#icon-file-text2'></use></svg></label><input id='data-cdf8b8f9-a56b-4799-9dae-a41bd5be45f4' class='xr-var-data-in' type='checkbox'><label for='data-cdf8b8f9-a56b-4799-9dae-a41bd5be45f4' title='Show/Hide data repr'><svg class='icon xr-icon-database'><use xlink:href='#icon-database'></use></svg></label><div class='xr-var-attrs'><dl class='xr-attrs'></dl></div><div class='xr-var-data'><pre>array([2.56115875, 3.06770498, 1.97762923, 2.15531261, 2.43690118,\n",
       "       2.3233115 , 2.49248286])</pre></div></li><li class='xr-var-item'><div class='xr-var-name'><span>dm_test_stat</span></div><div class='xr-var-dims'>(lead_day)</div><div class='xr-var-dtype'>float64</div><div class='xr-var-preview xr-preview'>18.58 19.77 13.85 ... 7.875 5.959</div><input id='attrs-2dfb25fd-a5ec-4bfb-8d73-8b369f7aafdc' class='xr-var-attrs-in' type='checkbox' disabled><label for='attrs-2dfb25fd-a5ec-4bfb-8d73-8b369f7aafdc' title='Show/Hide attributes'><svg class='icon xr-icon-file-text2'><use xlink:href='#icon-file-text2'></use></svg></label><input id='data-d7616f60-1366-41d7-8278-ec28e94089d6' class='xr-var-data-in' type='checkbox'><label for='data-d7616f60-1366-41d7-8278-ec28e94089d6' title='Show/Hide data repr'><svg class='icon xr-icon-database'><use xlink:href='#icon-database'></use></svg></label><div class='xr-var-attrs'><dl class='xr-attrs'></dl></div><div class='xr-var-data'><pre>array([18.57960367, 19.77037189, 13.8517139 , 11.16117763,  9.89868791,\n",
       "        7.87494642,  5.9587633 ])</pre></div></li><li class='xr-var-item'><div class='xr-var-name'><span>timeseries_len</span></div><div class='xr-var-dims'>(lead_day)</div><div class='xr-var-dtype'>int64</div><div class='xr-var-preview xr-preview'>2184 2184 2184 2184 2184 2184 2184</div><input id='attrs-751ca8f6-679f-4297-8c90-1c9705c9ef7e' class='xr-var-attrs-in' type='checkbox' disabled><label for='attrs-751ca8f6-679f-4297-8c90-1c9705c9ef7e' title='Show/Hide attributes'><svg class='icon xr-icon-file-text2'><use xlink:href='#icon-file-text2'></use></svg></label><input id='data-e09cd047-f41d-432e-9355-2a28e083cf36' class='xr-var-data-in' type='checkbox'><label for='data-e09cd047-f41d-432e-9355-2a28e083cf36' title='Show/Hide data repr'><svg class='icon xr-icon-database'><use xlink:href='#icon-database'></use></svg></label><div class='xr-var-attrs'><dl class='xr-attrs'></dl></div><div class='xr-var-data'><pre>array([2184, 2184, 2184, 2184, 2184, 2184, 2184])</pre></div></li><li class='xr-var-item'><div class='xr-var-name'><span>confidence_gt_0</span></div><div class='xr-var-dims'>(lead_day)</div><div class='xr-var-dtype'>float64</div><div class='xr-var-preview xr-preview'>1.0 1.0 1.0 1.0 1.0 1.0 1.0</div><input id='attrs-1b830326-ab6c-49ee-acc5-467a6da49d52' class='xr-var-attrs-in' type='checkbox' disabled><label for='attrs-1b830326-ab6c-49ee-acc5-467a6da49d52' title='Show/Hide attributes'><svg class='icon xr-icon-file-text2'><use xlink:href='#icon-file-text2'></use></svg></label><input id='data-52afb8d4-4899-44f4-84dd-4540bb79acb4' class='xr-var-data-in' type='checkbox'><label for='data-52afb8d4-4899-44f4-84dd-4540bb79acb4' title='Show/Hide data repr'><svg class='icon xr-icon-database'><use xlink:href='#icon-database'></use></svg></label><div class='xr-var-attrs'><dl class='xr-attrs'></dl></div><div class='xr-var-data'><pre>array([1., 1., 1., 1., 1., 1., 1.])</pre></div></li><li class='xr-var-item'><div class='xr-var-name'><span>ci_upper</span></div><div class='xr-var-dims'>(lead_day)</div><div class='xr-var-dtype'>float64</div><div class='xr-var-preview xr-preview'>2.831 3.372 2.257 ... 2.902 3.312</div><input id='attrs-36cb027a-5d5b-4d92-8be4-a3951ca1fd1d' class='xr-var-attrs-in' type='checkbox' disabled><label for='attrs-36cb027a-5d5b-4d92-8be4-a3951ca1fd1d' title='Show/Hide attributes'><svg class='icon xr-icon-file-text2'><use xlink:href='#icon-file-text2'></use></svg></label><input id='data-3e8c86aa-a4f5-4553-b5e6-134f142b168f' class='xr-var-data-in' type='checkbox'><label for='data-3e8c86aa-a4f5-4553-b5e6-134f142b168f' title='Show/Hide data repr'><svg class='icon xr-icon-database'><use xlink:href='#icon-database'></use></svg></label><div class='xr-var-attrs'><dl class='xr-attrs'></dl></div><div class='xr-var-data'><pre>array([2.83133561, 3.37182628, 2.25745612, 2.53379732, 2.91941346,\n",
       "       2.90155123, 3.31231349])</pre></div></li><li class='xr-var-item'><div class='xr-var-name'><span>ci_lower</span></div><div class='xr-var-dims'>(lead_day)</div><div class='xr-var-dtype'>float64</div><div class='xr-var-preview xr-preview'>2.291 2.764 1.698 ... 1.745 1.673</div><input id='attrs-817c2342-82d1-4c4f-83f7-5ac6b475e355' class='xr-var-attrs-in' type='checkbox' disabled><label for='attrs-817c2342-82d1-4c4f-83f7-5ac6b475e355' title='Show/Hide attributes'><svg class='icon xr-icon-file-text2'><use xlink:href='#icon-file-text2'></use></svg></label><input id='data-1229430c-e22b-4f2c-8e13-cd0be83d2f4f' class='xr-var-data-in' type='checkbox'><label for='data-1229430c-e22b-4f2c-8e13-cd0be83d2f4f' title='Show/Hide data repr'><svg class='icon xr-icon-database'><use xlink:href='#icon-database'></use></svg></label><div class='xr-var-attrs'><dl class='xr-attrs'></dl></div><div class='xr-var-data'><pre>array([2.29098189, 2.76358368, 1.69780233, 1.7768279 , 1.95438889,\n",
       "       1.74507178, 1.67265224])</pre></div></li></ul></div></li><li class='xr-section-item'><input id='section-bfb9a38b-272c-47c5-9fe0-9a3f3479e6d5' class='xr-section-summary-in' type='checkbox'  ><label for='section-bfb9a38b-272c-47c5-9fe0-9a3f3479e6d5' class='xr-section-summary' >Indexes: <span>(1)</span></label><div class='xr-section-inline-details'></div><div class='xr-section-details'><ul class='xr-var-list'><li class='xr-var-item'><div class='xr-index-name'><div>lead_day</div></div><div class='xr-index-preview'>PandasIndex</div><div></div><input id='index-29bc3cf5-011f-498e-a72e-9aa07d75310a' class='xr-index-data-in' type='checkbox'/><label for='index-29bc3cf5-011f-498e-a72e-9aa07d75310a' title='Show/Hide index repr'><svg class='icon xr-icon-database'><use xlink:href='#icon-database'></use></svg></label><div class='xr-index-data'><pre>PandasIndex(Int64Index([1, 2, 3, 4, 5, 6, 7], dtype=&#x27;int64&#x27;, name=&#x27;lead_day&#x27;))</pre></div></li></ul></div></li><li class='xr-section-item'><input id='section-c4658a33-c034-499d-a288-ba422e2c63bb' class='xr-section-summary-in' type='checkbox' disabled ><label for='section-c4658a33-c034-499d-a288-ba422e2c63bb' class='xr-section-summary'  title='Expand/collapse section'>Attributes: <span>(0)</span></label><div class='xr-section-inline-details'></div><div class='xr-section-details'><dl class='xr-attrs'></dl></div></li></ul></div></div>"
      ],
      "text/plain": [
       "<xarray.Dataset>\n",
       "Dimensions:          (lead_day: 7)\n",
       "Coordinates:\n",
       "  * lead_day         (lead_day) int64 1 2 3 4 5 6 7\n",
       "Data variables:\n",
       "    mean             (lead_day) float64 2.561 3.068 1.978 ... 2.437 2.323 2.492\n",
       "    dm_test_stat     (lead_day) float64 18.58 19.77 13.85 ... 9.899 7.875 5.959\n",
       "    timeseries_len   (lead_day) int64 2184 2184 2184 2184 2184 2184 2184\n",
       "    confidence_gt_0  (lead_day) float64 1.0 1.0 1.0 1.0 1.0 1.0 1.0\n",
       "    ci_upper         (lead_day) float64 2.831 3.372 2.257 ... 2.919 2.902 3.312\n",
       "    ci_lower         (lead_day) float64 2.291 2.764 1.698 ... 1.954 1.745 1.673"
      ]
     },
     "execution_count": 21,
     "metadata": {},
     "output_type": "execute_result"
    }
   ],
   "source": [
    "# Difference between Official and the hindcast\n",
    "diff_official_hindcast = official_max_exp_mse - hindcast_max_exp_mse\n",
    "diff_official_hindcast = diff_official_hindcast.assign_coords(\n",
    "    h=(\"lead_day\", [2, 3, 4, 5, 6, 7, 8])\n",
    ")\n",
    "dm_result = diebold_mariano(diff_official_hindcast, \"lead_day\", \"h\")\n",
    "dm_result"
   ]
  },
  {
   "cell_type": "code",
   "execution_count": 22,
   "metadata": {},
   "outputs": [
    {
     "data": {
      "text/html": [
       "<div><svg style=\"position: absolute; width: 0; height: 0; overflow: hidden\">\n",
       "<defs>\n",
       "<symbol id=\"icon-database\" viewBox=\"0 0 32 32\">\n",
       "<path d=\"M16 0c-8.837 0-16 2.239-16 5v4c0 2.761 7.163 5 16 5s16-2.239 16-5v-4c0-2.761-7.163-5-16-5z\"></path>\n",
       "<path d=\"M16 17c-8.837 0-16-2.239-16-5v6c0 2.761 7.163 5 16 5s16-2.239 16-5v-6c0 2.761-7.163 5-16 5z\"></path>\n",
       "<path d=\"M16 26c-8.837 0-16-2.239-16-5v6c0 2.761 7.163 5 16 5s16-2.239 16-5v-6c0 2.761-7.163 5-16 5z\"></path>\n",
       "</symbol>\n",
       "<symbol id=\"icon-file-text2\" viewBox=\"0 0 32 32\">\n",
       "<path d=\"M28.681 7.159c-0.694-0.947-1.662-2.053-2.724-3.116s-2.169-2.030-3.116-2.724c-1.612-1.182-2.393-1.319-2.841-1.319h-15.5c-1.378 0-2.5 1.121-2.5 2.5v27c0 1.378 1.122 2.5 2.5 2.5h23c1.378 0 2.5-1.122 2.5-2.5v-19.5c0-0.448-0.137-1.23-1.319-2.841zM24.543 5.457c0.959 0.959 1.712 1.825 2.268 2.543h-4.811v-4.811c0.718 0.556 1.584 1.309 2.543 2.268zM28 29.5c0 0.271-0.229 0.5-0.5 0.5h-23c-0.271 0-0.5-0.229-0.5-0.5v-27c0-0.271 0.229-0.5 0.5-0.5 0 0 15.499-0 15.5 0v7c0 0.552 0.448 1 1 1h7v19.5z\"></path>\n",
       "<path d=\"M23 26h-14c-0.552 0-1-0.448-1-1s0.448-1 1-1h14c0.552 0 1 0.448 1 1s-0.448 1-1 1z\"></path>\n",
       "<path d=\"M23 22h-14c-0.552 0-1-0.448-1-1s0.448-1 1-1h14c0.552 0 1 0.448 1 1s-0.448 1-1 1z\"></path>\n",
       "<path d=\"M23 18h-14c-0.552 0-1-0.448-1-1s0.448-1 1-1h14c0.552 0 1 0.448 1 1s-0.448 1-1 1z\"></path>\n",
       "</symbol>\n",
       "</defs>\n",
       "</svg>\n",
       "<style>/* CSS stylesheet for displaying xarray objects in jupyterlab.\n",
       " *\n",
       " */\n",
       "\n",
       ":root {\n",
       "  --xr-font-color0: var(--jp-content-font-color0, rgba(0, 0, 0, 1));\n",
       "  --xr-font-color2: var(--jp-content-font-color2, rgba(0, 0, 0, 0.54));\n",
       "  --xr-font-color3: var(--jp-content-font-color3, rgba(0, 0, 0, 0.38));\n",
       "  --xr-border-color: var(--jp-border-color2, #e0e0e0);\n",
       "  --xr-disabled-color: var(--jp-layout-color3, #bdbdbd);\n",
       "  --xr-background-color: var(--jp-layout-color0, white);\n",
       "  --xr-background-color-row-even: var(--jp-layout-color1, white);\n",
       "  --xr-background-color-row-odd: var(--jp-layout-color2, #eeeeee);\n",
       "}\n",
       "\n",
       "html[theme=dark],\n",
       "body[data-theme=dark],\n",
       "body.vscode-dark {\n",
       "  --xr-font-color0: rgba(255, 255, 255, 1);\n",
       "  --xr-font-color2: rgba(255, 255, 255, 0.54);\n",
       "  --xr-font-color3: rgba(255, 255, 255, 0.38);\n",
       "  --xr-border-color: #1F1F1F;\n",
       "  --xr-disabled-color: #515151;\n",
       "  --xr-background-color: #111111;\n",
       "  --xr-background-color-row-even: #111111;\n",
       "  --xr-background-color-row-odd: #313131;\n",
       "}\n",
       "\n",
       ".xr-wrap {\n",
       "  display: block !important;\n",
       "  min-width: 300px;\n",
       "  max-width: 700px;\n",
       "}\n",
       "\n",
       ".xr-text-repr-fallback {\n",
       "  /* fallback to plain text repr when CSS is not injected (untrusted notebook) */\n",
       "  display: none;\n",
       "}\n",
       "\n",
       ".xr-header {\n",
       "  padding-top: 6px;\n",
       "  padding-bottom: 6px;\n",
       "  margin-bottom: 4px;\n",
       "  border-bottom: solid 1px var(--xr-border-color);\n",
       "}\n",
       "\n",
       ".xr-header > div,\n",
       ".xr-header > ul {\n",
       "  display: inline;\n",
       "  margin-top: 0;\n",
       "  margin-bottom: 0;\n",
       "}\n",
       "\n",
       ".xr-obj-type,\n",
       ".xr-array-name {\n",
       "  margin-left: 2px;\n",
       "  margin-right: 10px;\n",
       "}\n",
       "\n",
       ".xr-obj-type {\n",
       "  color: var(--xr-font-color2);\n",
       "}\n",
       "\n",
       ".xr-sections {\n",
       "  padding-left: 0 !important;\n",
       "  display: grid;\n",
       "  grid-template-columns: 150px auto auto 1fr 20px 20px;\n",
       "}\n",
       "\n",
       ".xr-section-item {\n",
       "  display: contents;\n",
       "}\n",
       "\n",
       ".xr-section-item input {\n",
       "  display: none;\n",
       "}\n",
       "\n",
       ".xr-section-item input + label {\n",
       "  color: var(--xr-disabled-color);\n",
       "}\n",
       "\n",
       ".xr-section-item input:enabled + label {\n",
       "  cursor: pointer;\n",
       "  color: var(--xr-font-color2);\n",
       "}\n",
       "\n",
       ".xr-section-item input:enabled + label:hover {\n",
       "  color: var(--xr-font-color0);\n",
       "}\n",
       "\n",
       ".xr-section-summary {\n",
       "  grid-column: 1;\n",
       "  color: var(--xr-font-color2);\n",
       "  font-weight: 500;\n",
       "}\n",
       "\n",
       ".xr-section-summary > span {\n",
       "  display: inline-block;\n",
       "  padding-left: 0.5em;\n",
       "}\n",
       "\n",
       ".xr-section-summary-in:disabled + label {\n",
       "  color: var(--xr-font-color2);\n",
       "}\n",
       "\n",
       ".xr-section-summary-in + label:before {\n",
       "  display: inline-block;\n",
       "  content: '►';\n",
       "  font-size: 11px;\n",
       "  width: 15px;\n",
       "  text-align: center;\n",
       "}\n",
       "\n",
       ".xr-section-summary-in:disabled + label:before {\n",
       "  color: var(--xr-disabled-color);\n",
       "}\n",
       "\n",
       ".xr-section-summary-in:checked + label:before {\n",
       "  content: '▼';\n",
       "}\n",
       "\n",
       ".xr-section-summary-in:checked + label > span {\n",
       "  display: none;\n",
       "}\n",
       "\n",
       ".xr-section-summary,\n",
       ".xr-section-inline-details {\n",
       "  padding-top: 4px;\n",
       "  padding-bottom: 4px;\n",
       "}\n",
       "\n",
       ".xr-section-inline-details {\n",
       "  grid-column: 2 / -1;\n",
       "}\n",
       "\n",
       ".xr-section-details {\n",
       "  display: none;\n",
       "  grid-column: 1 / -1;\n",
       "  margin-bottom: 5px;\n",
       "}\n",
       "\n",
       ".xr-section-summary-in:checked ~ .xr-section-details {\n",
       "  display: contents;\n",
       "}\n",
       "\n",
       ".xr-array-wrap {\n",
       "  grid-column: 1 / -1;\n",
       "  display: grid;\n",
       "  grid-template-columns: 20px auto;\n",
       "}\n",
       "\n",
       ".xr-array-wrap > label {\n",
       "  grid-column: 1;\n",
       "  vertical-align: top;\n",
       "}\n",
       "\n",
       ".xr-preview {\n",
       "  color: var(--xr-font-color3);\n",
       "}\n",
       "\n",
       ".xr-array-preview,\n",
       ".xr-array-data {\n",
       "  padding: 0 5px !important;\n",
       "  grid-column: 2;\n",
       "}\n",
       "\n",
       ".xr-array-data,\n",
       ".xr-array-in:checked ~ .xr-array-preview {\n",
       "  display: none;\n",
       "}\n",
       "\n",
       ".xr-array-in:checked ~ .xr-array-data,\n",
       ".xr-array-preview {\n",
       "  display: inline-block;\n",
       "}\n",
       "\n",
       ".xr-dim-list {\n",
       "  display: inline-block !important;\n",
       "  list-style: none;\n",
       "  padding: 0 !important;\n",
       "  margin: 0;\n",
       "}\n",
       "\n",
       ".xr-dim-list li {\n",
       "  display: inline-block;\n",
       "  padding: 0;\n",
       "  margin: 0;\n",
       "}\n",
       "\n",
       ".xr-dim-list:before {\n",
       "  content: '(';\n",
       "}\n",
       "\n",
       ".xr-dim-list:after {\n",
       "  content: ')';\n",
       "}\n",
       "\n",
       ".xr-dim-list li:not(:last-child):after {\n",
       "  content: ',';\n",
       "  padding-right: 5px;\n",
       "}\n",
       "\n",
       ".xr-has-index {\n",
       "  font-weight: bold;\n",
       "}\n",
       "\n",
       ".xr-var-list,\n",
       ".xr-var-item {\n",
       "  display: contents;\n",
       "}\n",
       "\n",
       ".xr-var-item > div,\n",
       ".xr-var-item label,\n",
       ".xr-var-item > .xr-var-name span {\n",
       "  background-color: var(--xr-background-color-row-even);\n",
       "  margin-bottom: 0;\n",
       "}\n",
       "\n",
       ".xr-var-item > .xr-var-name:hover span {\n",
       "  padding-right: 5px;\n",
       "}\n",
       "\n",
       ".xr-var-list > li:nth-child(odd) > div,\n",
       ".xr-var-list > li:nth-child(odd) > label,\n",
       ".xr-var-list > li:nth-child(odd) > .xr-var-name span {\n",
       "  background-color: var(--xr-background-color-row-odd);\n",
       "}\n",
       "\n",
       ".xr-var-name {\n",
       "  grid-column: 1;\n",
       "}\n",
       "\n",
       ".xr-var-dims {\n",
       "  grid-column: 2;\n",
       "}\n",
       "\n",
       ".xr-var-dtype {\n",
       "  grid-column: 3;\n",
       "  text-align: right;\n",
       "  color: var(--xr-font-color2);\n",
       "}\n",
       "\n",
       ".xr-var-preview {\n",
       "  grid-column: 4;\n",
       "}\n",
       "\n",
       ".xr-index-preview {\n",
       "  grid-column: 2 / 5;\n",
       "  color: var(--xr-font-color2);\n",
       "}\n",
       "\n",
       ".xr-var-name,\n",
       ".xr-var-dims,\n",
       ".xr-var-dtype,\n",
       ".xr-preview,\n",
       ".xr-attrs dt {\n",
       "  white-space: nowrap;\n",
       "  overflow: hidden;\n",
       "  text-overflow: ellipsis;\n",
       "  padding-right: 10px;\n",
       "}\n",
       "\n",
       ".xr-var-name:hover,\n",
       ".xr-var-dims:hover,\n",
       ".xr-var-dtype:hover,\n",
       ".xr-attrs dt:hover {\n",
       "  overflow: visible;\n",
       "  width: auto;\n",
       "  z-index: 1;\n",
       "}\n",
       "\n",
       ".xr-var-attrs,\n",
       ".xr-var-data,\n",
       ".xr-index-data {\n",
       "  display: none;\n",
       "  background-color: var(--xr-background-color) !important;\n",
       "  padding-bottom: 5px !important;\n",
       "}\n",
       "\n",
       ".xr-var-attrs-in:checked ~ .xr-var-attrs,\n",
       ".xr-var-data-in:checked ~ .xr-var-data,\n",
       ".xr-index-data-in:checked ~ .xr-index-data {\n",
       "  display: block;\n",
       "}\n",
       "\n",
       ".xr-var-data > table {\n",
       "  float: right;\n",
       "}\n",
       "\n",
       ".xr-var-name span,\n",
       ".xr-var-data,\n",
       ".xr-index-name div,\n",
       ".xr-index-data,\n",
       ".xr-attrs {\n",
       "  padding-left: 25px !important;\n",
       "}\n",
       "\n",
       ".xr-attrs,\n",
       ".xr-var-attrs,\n",
       ".xr-var-data,\n",
       ".xr-index-data {\n",
       "  grid-column: 1 / -1;\n",
       "}\n",
       "\n",
       "dl.xr-attrs {\n",
       "  padding: 0;\n",
       "  margin: 0;\n",
       "  display: grid;\n",
       "  grid-template-columns: 125px auto;\n",
       "}\n",
       "\n",
       ".xr-attrs dt,\n",
       ".xr-attrs dd {\n",
       "  padding: 0;\n",
       "  margin: 0;\n",
       "  float: left;\n",
       "  padding-right: 10px;\n",
       "  width: auto;\n",
       "}\n",
       "\n",
       ".xr-attrs dt {\n",
       "  font-weight: normal;\n",
       "  grid-column: 1;\n",
       "}\n",
       "\n",
       ".xr-attrs dt:hover span {\n",
       "  display: inline-block;\n",
       "  background: var(--xr-background-color);\n",
       "  padding-right: 10px;\n",
       "}\n",
       "\n",
       ".xr-attrs dd {\n",
       "  grid-column: 2;\n",
       "  white-space: pre-wrap;\n",
       "  word-break: break-all;\n",
       "}\n",
       "\n",
       ".xr-icon-database,\n",
       ".xr-icon-file-text2,\n",
       ".xr-no-icon {\n",
       "  display: inline-block;\n",
       "  vertical-align: middle;\n",
       "  width: 1em;\n",
       "  height: 1.5em !important;\n",
       "  stroke-width: 0;\n",
       "  stroke: currentColor;\n",
       "  fill: currentColor;\n",
       "}\n",
       "</style><pre class='xr-text-repr-fallback'>&lt;xarray.Dataset&gt;\n",
       "Dimensions:          (lead_day: 7)\n",
       "Coordinates:\n",
       "  * lead_day         (lead_day) int64 1 2 3 4 5 6 7\n",
       "Data variables:\n",
       "    mean             (lead_day) float64 2.841 2.846 2.869 ... 2.915 2.804 2.708\n",
       "    dm_test_stat     (lead_day) float64 21.36 20.26 18.45 ... 10.99 8.707 6.401\n",
       "    timeseries_len   (lead_day) int64 2184 2184 2184 2184 2184 2184 2184\n",
       "    confidence_gt_0  (lead_day) float64 1.0 1.0 1.0 1.0 1.0 1.0 1.0\n",
       "    ci_upper         (lead_day) float64 3.102 3.121 3.173 ... 3.435 3.436 3.537\n",
       "    ci_lower         (lead_day) float64 2.581 2.57 2.564 2.49 2.395 2.173 1.879</pre><div class='xr-wrap' style='display:none'><div class='xr-header'><div class='xr-obj-type'>xarray.Dataset</div></div><ul class='xr-sections'><li class='xr-section-item'><input id='section-1bdcf2d6-cabd-476b-b92d-e71b142a9963' class='xr-section-summary-in' type='checkbox' disabled ><label for='section-1bdcf2d6-cabd-476b-b92d-e71b142a9963' class='xr-section-summary'  title='Expand/collapse section'>Dimensions:</label><div class='xr-section-inline-details'><ul class='xr-dim-list'><li><span class='xr-has-index'>lead_day</span>: 7</li></ul></div><div class='xr-section-details'></div></li><li class='xr-section-item'><input id='section-5bbb730a-4c18-4237-9c7c-08b41f9402e5' class='xr-section-summary-in' type='checkbox'  checked><label for='section-5bbb730a-4c18-4237-9c7c-08b41f9402e5' class='xr-section-summary' >Coordinates: <span>(1)</span></label><div class='xr-section-inline-details'></div><div class='xr-section-details'><ul class='xr-var-list'><li class='xr-var-item'><div class='xr-var-name'><span class='xr-has-index'>lead_day</span></div><div class='xr-var-dims'>(lead_day)</div><div class='xr-var-dtype'>int64</div><div class='xr-var-preview xr-preview'>1 2 3 4 5 6 7</div><input id='attrs-724df7dd-dc10-4df3-9691-59a10707745a' class='xr-var-attrs-in' type='checkbox' disabled><label for='attrs-724df7dd-dc10-4df3-9691-59a10707745a' title='Show/Hide attributes'><svg class='icon xr-icon-file-text2'><use xlink:href='#icon-file-text2'></use></svg></label><input id='data-8b3c7179-bce0-49a0-a80f-2593024b4ee4' class='xr-var-data-in' type='checkbox'><label for='data-8b3c7179-bce0-49a0-a80f-2593024b4ee4' title='Show/Hide data repr'><svg class='icon xr-icon-database'><use xlink:href='#icon-database'></use></svg></label><div class='xr-var-attrs'><dl class='xr-attrs'></dl></div><div class='xr-var-data'><pre>array([1, 2, 3, 4, 5, 6, 7])</pre></div></li></ul></div></li><li class='xr-section-item'><input id='section-214adaad-dfe1-4f3d-8d4c-39e32dbab472' class='xr-section-summary-in' type='checkbox'  checked><label for='section-214adaad-dfe1-4f3d-8d4c-39e32dbab472' class='xr-section-summary' >Data variables: <span>(6)</span></label><div class='xr-section-inline-details'></div><div class='xr-section-details'><ul class='xr-var-list'><li class='xr-var-item'><div class='xr-var-name'><span>mean</span></div><div class='xr-var-dims'>(lead_day)</div><div class='xr-var-dtype'>float64</div><div class='xr-var-preview xr-preview'>2.841 2.846 2.869 ... 2.804 2.708</div><input id='attrs-124f8e0b-ab34-4727-b680-786593b3ceb1' class='xr-var-attrs-in' type='checkbox' disabled><label for='attrs-124f8e0b-ab34-4727-b680-786593b3ceb1' title='Show/Hide attributes'><svg class='icon xr-icon-file-text2'><use xlink:href='#icon-file-text2'></use></svg></label><input id='data-b722228b-c4d5-49d2-9213-b2376f765d20' class='xr-var-data-in' type='checkbox'><label for='data-b722228b-c4d5-49d2-9213-b2376f765d20' title='Show/Hide data repr'><svg class='icon xr-icon-database'><use xlink:href='#icon-database'></use></svg></label><div class='xr-var-attrs'><dl class='xr-attrs'></dl></div><div class='xr-var-data'><pre>array([2.84128812, 2.84551857, 2.86859512, 2.88560676, 2.91494157,\n",
       "       2.80425394, 2.70776142])</pre></div></li><li class='xr-var-item'><div class='xr-var-name'><span>dm_test_stat</span></div><div class='xr-var-dims'>(lead_day)</div><div class='xr-var-dtype'>float64</div><div class='xr-var-preview xr-preview'>21.36 20.26 18.45 ... 8.707 6.401</div><input id='attrs-56fa6d63-4b11-49b2-96be-f9cb43862a0b' class='xr-var-attrs-in' type='checkbox' disabled><label for='attrs-56fa6d63-4b11-49b2-96be-f9cb43862a0b' title='Show/Hide attributes'><svg class='icon xr-icon-file-text2'><use xlink:href='#icon-file-text2'></use></svg></label><input id='data-5739a22f-cc63-43bf-a4a7-843d4ba82b6c' class='xr-var-data-in' type='checkbox'><label for='data-5739a22f-cc63-43bf-a4a7-843d4ba82b6c' title='Show/Hide data repr'><svg class='icon xr-icon-database'><use xlink:href='#icon-database'></use></svg></label><div class='xr-var-attrs'><dl class='xr-attrs'></dl></div><div class='xr-var-data'><pre>array([21.36441882, 20.25800996, 18.44904302, 14.29426268, 10.98855078,\n",
       "        8.70655638,  6.40130908])</pre></div></li><li class='xr-var-item'><div class='xr-var-name'><span>timeseries_len</span></div><div class='xr-var-dims'>(lead_day)</div><div class='xr-var-dtype'>int64</div><div class='xr-var-preview xr-preview'>2184 2184 2184 2184 2184 2184 2184</div><input id='attrs-230aa878-f060-44dc-9ce8-63998ade83c8' class='xr-var-attrs-in' type='checkbox' disabled><label for='attrs-230aa878-f060-44dc-9ce8-63998ade83c8' title='Show/Hide attributes'><svg class='icon xr-icon-file-text2'><use xlink:href='#icon-file-text2'></use></svg></label><input id='data-92146f74-565f-43ca-b84f-480786d0a30b' class='xr-var-data-in' type='checkbox'><label for='data-92146f74-565f-43ca-b84f-480786d0a30b' title='Show/Hide data repr'><svg class='icon xr-icon-database'><use xlink:href='#icon-database'></use></svg></label><div class='xr-var-attrs'><dl class='xr-attrs'></dl></div><div class='xr-var-data'><pre>array([2184, 2184, 2184, 2184, 2184, 2184, 2184])</pre></div></li><li class='xr-var-item'><div class='xr-var-name'><span>confidence_gt_0</span></div><div class='xr-var-dims'>(lead_day)</div><div class='xr-var-dtype'>float64</div><div class='xr-var-preview xr-preview'>1.0 1.0 1.0 1.0 1.0 1.0 1.0</div><input id='attrs-cc287682-fb59-4817-9346-bff4e5854340' class='xr-var-attrs-in' type='checkbox' disabled><label for='attrs-cc287682-fb59-4817-9346-bff4e5854340' title='Show/Hide attributes'><svg class='icon xr-icon-file-text2'><use xlink:href='#icon-file-text2'></use></svg></label><input id='data-35277197-ef91-4985-b885-9a5727d7acec' class='xr-var-data-in' type='checkbox'><label for='data-35277197-ef91-4985-b885-9a5727d7acec' title='Show/Hide data repr'><svg class='icon xr-icon-database'><use xlink:href='#icon-database'></use></svg></label><div class='xr-var-attrs'><dl class='xr-attrs'></dl></div><div class='xr-var-data'><pre>array([1., 1., 1., 1., 1., 1., 1.])</pre></div></li><li class='xr-var-item'><div class='xr-var-name'><span>ci_upper</span></div><div class='xr-var-dims'>(lead_day)</div><div class='xr-var-dtype'>float64</div><div class='xr-var-preview xr-preview'>3.102 3.121 3.173 ... 3.436 3.537</div><input id='attrs-5218a162-1288-43b0-82f0-6a9d7a0a61b1' class='xr-var-attrs-in' type='checkbox' disabled><label for='attrs-5218a162-1288-43b0-82f0-6a9d7a0a61b1' title='Show/Hide attributes'><svg class='icon xr-icon-file-text2'><use xlink:href='#icon-file-text2'></use></svg></label><input id='data-cfee4cc6-863d-4a23-96ed-f42bd0af687f' class='xr-var-data-in' type='checkbox'><label for='data-cfee4cc6-863d-4a23-96ed-f42bd0af687f' title='Show/Hide data repr'><svg class='icon xr-icon-database'><use xlink:href='#icon-database'></use></svg></label><div class='xr-var-attrs'><dl class='xr-attrs'></dl></div><div class='xr-var-data'><pre>array([3.10194685, 3.12082271, 3.17334497, 3.28126797, 3.43486277,\n",
       "       3.43552955, 3.53682854])</pre></div></li><li class='xr-var-item'><div class='xr-var-name'><span>ci_lower</span></div><div class='xr-var-dims'>(lead_day)</div><div class='xr-var-dtype'>float64</div><div class='xr-var-preview xr-preview'>2.581 2.57 2.564 ... 2.173 1.879</div><input id='attrs-390af9cb-f4dd-4dd1-b00d-30ff7f60b0ae' class='xr-var-attrs-in' type='checkbox' disabled><label for='attrs-390af9cb-f4dd-4dd1-b00d-30ff7f60b0ae' title='Show/Hide attributes'><svg class='icon xr-icon-file-text2'><use xlink:href='#icon-file-text2'></use></svg></label><input id='data-fdc8d589-6bae-42bf-b83a-da8857c75b36' class='xr-var-data-in' type='checkbox'><label for='data-fdc8d589-6bae-42bf-b83a-da8857c75b36' title='Show/Hide data repr'><svg class='icon xr-icon-database'><use xlink:href='#icon-database'></use></svg></label><div class='xr-var-attrs'><dl class='xr-attrs'></dl></div><div class='xr-var-data'><pre>array([2.58062938, 2.57021444, 2.56384527, 2.48994554, 2.39502037,\n",
       "       2.17297833, 1.8786943 ])</pre></div></li></ul></div></li><li class='xr-section-item'><input id='section-68baaf7b-c341-4283-848d-24bbb96ad2b9' class='xr-section-summary-in' type='checkbox'  ><label for='section-68baaf7b-c341-4283-848d-24bbb96ad2b9' class='xr-section-summary' >Indexes: <span>(1)</span></label><div class='xr-section-inline-details'></div><div class='xr-section-details'><ul class='xr-var-list'><li class='xr-var-item'><div class='xr-index-name'><div>lead_day</div></div><div class='xr-index-preview'>PandasIndex</div><div></div><input id='index-b650b443-3823-4216-894b-ab5f459cd2b7' class='xr-index-data-in' type='checkbox'/><label for='index-b650b443-3823-4216-894b-ab5f459cd2b7' title='Show/Hide index repr'><svg class='icon xr-icon-database'><use xlink:href='#icon-database'></use></svg></label><div class='xr-index-data'><pre>PandasIndex(Int64Index([1, 2, 3, 4, 5, 6, 7], dtype=&#x27;int64&#x27;, name=&#x27;lead_day&#x27;))</pre></div></li></ul></div></li><li class='xr-section-item'><input id='section-346f064c-9de3-4971-a635-22f984d8e6f9' class='xr-section-summary-in' type='checkbox' disabled ><label for='section-346f064c-9de3-4971-a635-22f984d8e6f9' class='xr-section-summary'  title='Expand/collapse section'>Attributes: <span>(0)</span></label><div class='xr-section-inline-details'></div><div class='xr-section-details'><dl class='xr-attrs'></dl></div></li></ul></div></div>"
      ],
      "text/plain": [
       "<xarray.Dataset>\n",
       "Dimensions:          (lead_day: 7)\n",
       "Coordinates:\n",
       "  * lead_day         (lead_day) int64 1 2 3 4 5 6 7\n",
       "Data variables:\n",
       "    mean             (lead_day) float64 2.841 2.846 2.869 ... 2.915 2.804 2.708\n",
       "    dm_test_stat     (lead_day) float64 21.36 20.26 18.45 ... 10.99 8.707 6.401\n",
       "    timeseries_len   (lead_day) int64 2184 2184 2184 2184 2184 2184 2184\n",
       "    confidence_gt_0  (lead_day) float64 1.0 1.0 1.0 1.0 1.0 1.0 1.0\n",
       "    ci_upper         (lead_day) float64 3.102 3.121 3.173 ... 3.435 3.436 3.537\n",
       "    ci_lower         (lead_day) float64 2.581 2.57 2.564 2.49 2.395 2.173 1.879"
      ]
     },
     "execution_count": 22,
     "metadata": {},
     "output_type": "execute_result"
    }
   ],
   "source": [
    "# Difference between the existing AutoFcst and the hindcast\n",
    "diff_autofcst_hindcast = autofcst_max_exp_mse - hindcast_max_exp_mse\n",
    "diff_autofcst_hindcast = diff_autofcst_hindcast.assign_coords(\n",
    "    h=(\"lead_day\", [2, 3, 4, 5, 6, 7, 8])\n",
    ")\n",
    "dm_result = diebold_mariano(diff_autofcst_hindcast, \"lead_day\", \"h\")\n",
    "dm_result"
   ]
  },
  {
   "cell_type": "code",
   "execution_count": 23,
   "metadata": {},
   "outputs": [
    {
     "data": {
      "text/html": [
       "<div><svg style=\"position: absolute; width: 0; height: 0; overflow: hidden\">\n",
       "<defs>\n",
       "<symbol id=\"icon-database\" viewBox=\"0 0 32 32\">\n",
       "<path d=\"M16 0c-8.837 0-16 2.239-16 5v4c0 2.761 7.163 5 16 5s16-2.239 16-5v-4c0-2.761-7.163-5-16-5z\"></path>\n",
       "<path d=\"M16 17c-8.837 0-16-2.239-16-5v6c0 2.761 7.163 5 16 5s16-2.239 16-5v-6c0 2.761-7.163 5-16 5z\"></path>\n",
       "<path d=\"M16 26c-8.837 0-16-2.239-16-5v6c0 2.761 7.163 5 16 5s16-2.239 16-5v-6c0 2.761-7.163 5-16 5z\"></path>\n",
       "</symbol>\n",
       "<symbol id=\"icon-file-text2\" viewBox=\"0 0 32 32\">\n",
       "<path d=\"M28.681 7.159c-0.694-0.947-1.662-2.053-2.724-3.116s-2.169-2.030-3.116-2.724c-1.612-1.182-2.393-1.319-2.841-1.319h-15.5c-1.378 0-2.5 1.121-2.5 2.5v27c0 1.378 1.122 2.5 2.5 2.5h23c1.378 0 2.5-1.122 2.5-2.5v-19.5c0-0.448-0.137-1.23-1.319-2.841zM24.543 5.457c0.959 0.959 1.712 1.825 2.268 2.543h-4.811v-4.811c0.718 0.556 1.584 1.309 2.543 2.268zM28 29.5c0 0.271-0.229 0.5-0.5 0.5h-23c-0.271 0-0.5-0.229-0.5-0.5v-27c0-0.271 0.229-0.5 0.5-0.5 0 0 15.499-0 15.5 0v7c0 0.552 0.448 1 1 1h7v19.5z\"></path>\n",
       "<path d=\"M23 26h-14c-0.552 0-1-0.448-1-1s0.448-1 1-1h14c0.552 0 1 0.448 1 1s-0.448 1-1 1z\"></path>\n",
       "<path d=\"M23 22h-14c-0.552 0-1-0.448-1-1s0.448-1 1-1h14c0.552 0 1 0.448 1 1s-0.448 1-1 1z\"></path>\n",
       "<path d=\"M23 18h-14c-0.552 0-1-0.448-1-1s0.448-1 1-1h14c0.552 0 1 0.448 1 1s-0.448 1-1 1z\"></path>\n",
       "</symbol>\n",
       "</defs>\n",
       "</svg>\n",
       "<style>/* CSS stylesheet for displaying xarray objects in jupyterlab.\n",
       " *\n",
       " */\n",
       "\n",
       ":root {\n",
       "  --xr-font-color0: var(--jp-content-font-color0, rgba(0, 0, 0, 1));\n",
       "  --xr-font-color2: var(--jp-content-font-color2, rgba(0, 0, 0, 0.54));\n",
       "  --xr-font-color3: var(--jp-content-font-color3, rgba(0, 0, 0, 0.38));\n",
       "  --xr-border-color: var(--jp-border-color2, #e0e0e0);\n",
       "  --xr-disabled-color: var(--jp-layout-color3, #bdbdbd);\n",
       "  --xr-background-color: var(--jp-layout-color0, white);\n",
       "  --xr-background-color-row-even: var(--jp-layout-color1, white);\n",
       "  --xr-background-color-row-odd: var(--jp-layout-color2, #eeeeee);\n",
       "}\n",
       "\n",
       "html[theme=dark],\n",
       "body[data-theme=dark],\n",
       "body.vscode-dark {\n",
       "  --xr-font-color0: rgba(255, 255, 255, 1);\n",
       "  --xr-font-color2: rgba(255, 255, 255, 0.54);\n",
       "  --xr-font-color3: rgba(255, 255, 255, 0.38);\n",
       "  --xr-border-color: #1F1F1F;\n",
       "  --xr-disabled-color: #515151;\n",
       "  --xr-background-color: #111111;\n",
       "  --xr-background-color-row-even: #111111;\n",
       "  --xr-background-color-row-odd: #313131;\n",
       "}\n",
       "\n",
       ".xr-wrap {\n",
       "  display: block !important;\n",
       "  min-width: 300px;\n",
       "  max-width: 700px;\n",
       "}\n",
       "\n",
       ".xr-text-repr-fallback {\n",
       "  /* fallback to plain text repr when CSS is not injected (untrusted notebook) */\n",
       "  display: none;\n",
       "}\n",
       "\n",
       ".xr-header {\n",
       "  padding-top: 6px;\n",
       "  padding-bottom: 6px;\n",
       "  margin-bottom: 4px;\n",
       "  border-bottom: solid 1px var(--xr-border-color);\n",
       "}\n",
       "\n",
       ".xr-header > div,\n",
       ".xr-header > ul {\n",
       "  display: inline;\n",
       "  margin-top: 0;\n",
       "  margin-bottom: 0;\n",
       "}\n",
       "\n",
       ".xr-obj-type,\n",
       ".xr-array-name {\n",
       "  margin-left: 2px;\n",
       "  margin-right: 10px;\n",
       "}\n",
       "\n",
       ".xr-obj-type {\n",
       "  color: var(--xr-font-color2);\n",
       "}\n",
       "\n",
       ".xr-sections {\n",
       "  padding-left: 0 !important;\n",
       "  display: grid;\n",
       "  grid-template-columns: 150px auto auto 1fr 20px 20px;\n",
       "}\n",
       "\n",
       ".xr-section-item {\n",
       "  display: contents;\n",
       "}\n",
       "\n",
       ".xr-section-item input {\n",
       "  display: none;\n",
       "}\n",
       "\n",
       ".xr-section-item input + label {\n",
       "  color: var(--xr-disabled-color);\n",
       "}\n",
       "\n",
       ".xr-section-item input:enabled + label {\n",
       "  cursor: pointer;\n",
       "  color: var(--xr-font-color2);\n",
       "}\n",
       "\n",
       ".xr-section-item input:enabled + label:hover {\n",
       "  color: var(--xr-font-color0);\n",
       "}\n",
       "\n",
       ".xr-section-summary {\n",
       "  grid-column: 1;\n",
       "  color: var(--xr-font-color2);\n",
       "  font-weight: 500;\n",
       "}\n",
       "\n",
       ".xr-section-summary > span {\n",
       "  display: inline-block;\n",
       "  padding-left: 0.5em;\n",
       "}\n",
       "\n",
       ".xr-section-summary-in:disabled + label {\n",
       "  color: var(--xr-font-color2);\n",
       "}\n",
       "\n",
       ".xr-section-summary-in + label:before {\n",
       "  display: inline-block;\n",
       "  content: '►';\n",
       "  font-size: 11px;\n",
       "  width: 15px;\n",
       "  text-align: center;\n",
       "}\n",
       "\n",
       ".xr-section-summary-in:disabled + label:before {\n",
       "  color: var(--xr-disabled-color);\n",
       "}\n",
       "\n",
       ".xr-section-summary-in:checked + label:before {\n",
       "  content: '▼';\n",
       "}\n",
       "\n",
       ".xr-section-summary-in:checked + label > span {\n",
       "  display: none;\n",
       "}\n",
       "\n",
       ".xr-section-summary,\n",
       ".xr-section-inline-details {\n",
       "  padding-top: 4px;\n",
       "  padding-bottom: 4px;\n",
       "}\n",
       "\n",
       ".xr-section-inline-details {\n",
       "  grid-column: 2 / -1;\n",
       "}\n",
       "\n",
       ".xr-section-details {\n",
       "  display: none;\n",
       "  grid-column: 1 / -1;\n",
       "  margin-bottom: 5px;\n",
       "}\n",
       "\n",
       ".xr-section-summary-in:checked ~ .xr-section-details {\n",
       "  display: contents;\n",
       "}\n",
       "\n",
       ".xr-array-wrap {\n",
       "  grid-column: 1 / -1;\n",
       "  display: grid;\n",
       "  grid-template-columns: 20px auto;\n",
       "}\n",
       "\n",
       ".xr-array-wrap > label {\n",
       "  grid-column: 1;\n",
       "  vertical-align: top;\n",
       "}\n",
       "\n",
       ".xr-preview {\n",
       "  color: var(--xr-font-color3);\n",
       "}\n",
       "\n",
       ".xr-array-preview,\n",
       ".xr-array-data {\n",
       "  padding: 0 5px !important;\n",
       "  grid-column: 2;\n",
       "}\n",
       "\n",
       ".xr-array-data,\n",
       ".xr-array-in:checked ~ .xr-array-preview {\n",
       "  display: none;\n",
       "}\n",
       "\n",
       ".xr-array-in:checked ~ .xr-array-data,\n",
       ".xr-array-preview {\n",
       "  display: inline-block;\n",
       "}\n",
       "\n",
       ".xr-dim-list {\n",
       "  display: inline-block !important;\n",
       "  list-style: none;\n",
       "  padding: 0 !important;\n",
       "  margin: 0;\n",
       "}\n",
       "\n",
       ".xr-dim-list li {\n",
       "  display: inline-block;\n",
       "  padding: 0;\n",
       "  margin: 0;\n",
       "}\n",
       "\n",
       ".xr-dim-list:before {\n",
       "  content: '(';\n",
       "}\n",
       "\n",
       ".xr-dim-list:after {\n",
       "  content: ')';\n",
       "}\n",
       "\n",
       ".xr-dim-list li:not(:last-child):after {\n",
       "  content: ',';\n",
       "  padding-right: 5px;\n",
       "}\n",
       "\n",
       ".xr-has-index {\n",
       "  font-weight: bold;\n",
       "}\n",
       "\n",
       ".xr-var-list,\n",
       ".xr-var-item {\n",
       "  display: contents;\n",
       "}\n",
       "\n",
       ".xr-var-item > div,\n",
       ".xr-var-item label,\n",
       ".xr-var-item > .xr-var-name span {\n",
       "  background-color: var(--xr-background-color-row-even);\n",
       "  margin-bottom: 0;\n",
       "}\n",
       "\n",
       ".xr-var-item > .xr-var-name:hover span {\n",
       "  padding-right: 5px;\n",
       "}\n",
       "\n",
       ".xr-var-list > li:nth-child(odd) > div,\n",
       ".xr-var-list > li:nth-child(odd) > label,\n",
       ".xr-var-list > li:nth-child(odd) > .xr-var-name span {\n",
       "  background-color: var(--xr-background-color-row-odd);\n",
       "}\n",
       "\n",
       ".xr-var-name {\n",
       "  grid-column: 1;\n",
       "}\n",
       "\n",
       ".xr-var-dims {\n",
       "  grid-column: 2;\n",
       "}\n",
       "\n",
       ".xr-var-dtype {\n",
       "  grid-column: 3;\n",
       "  text-align: right;\n",
       "  color: var(--xr-font-color2);\n",
       "}\n",
       "\n",
       ".xr-var-preview {\n",
       "  grid-column: 4;\n",
       "}\n",
       "\n",
       ".xr-index-preview {\n",
       "  grid-column: 2 / 5;\n",
       "  color: var(--xr-font-color2);\n",
       "}\n",
       "\n",
       ".xr-var-name,\n",
       ".xr-var-dims,\n",
       ".xr-var-dtype,\n",
       ".xr-preview,\n",
       ".xr-attrs dt {\n",
       "  white-space: nowrap;\n",
       "  overflow: hidden;\n",
       "  text-overflow: ellipsis;\n",
       "  padding-right: 10px;\n",
       "}\n",
       "\n",
       ".xr-var-name:hover,\n",
       ".xr-var-dims:hover,\n",
       ".xr-var-dtype:hover,\n",
       ".xr-attrs dt:hover {\n",
       "  overflow: visible;\n",
       "  width: auto;\n",
       "  z-index: 1;\n",
       "}\n",
       "\n",
       ".xr-var-attrs,\n",
       ".xr-var-data,\n",
       ".xr-index-data {\n",
       "  display: none;\n",
       "  background-color: var(--xr-background-color) !important;\n",
       "  padding-bottom: 5px !important;\n",
       "}\n",
       "\n",
       ".xr-var-attrs-in:checked ~ .xr-var-attrs,\n",
       ".xr-var-data-in:checked ~ .xr-var-data,\n",
       ".xr-index-data-in:checked ~ .xr-index-data {\n",
       "  display: block;\n",
       "}\n",
       "\n",
       ".xr-var-data > table {\n",
       "  float: right;\n",
       "}\n",
       "\n",
       ".xr-var-name span,\n",
       ".xr-var-data,\n",
       ".xr-index-name div,\n",
       ".xr-index-data,\n",
       ".xr-attrs {\n",
       "  padding-left: 25px !important;\n",
       "}\n",
       "\n",
       ".xr-attrs,\n",
       ".xr-var-attrs,\n",
       ".xr-var-data,\n",
       ".xr-index-data {\n",
       "  grid-column: 1 / -1;\n",
       "}\n",
       "\n",
       "dl.xr-attrs {\n",
       "  padding: 0;\n",
       "  margin: 0;\n",
       "  display: grid;\n",
       "  grid-template-columns: 125px auto;\n",
       "}\n",
       "\n",
       ".xr-attrs dt,\n",
       ".xr-attrs dd {\n",
       "  padding: 0;\n",
       "  margin: 0;\n",
       "  float: left;\n",
       "  padding-right: 10px;\n",
       "  width: auto;\n",
       "}\n",
       "\n",
       ".xr-attrs dt {\n",
       "  font-weight: normal;\n",
       "  grid-column: 1;\n",
       "}\n",
       "\n",
       ".xr-attrs dt:hover span {\n",
       "  display: inline-block;\n",
       "  background: var(--xr-background-color);\n",
       "  padding-right: 10px;\n",
       "}\n",
       "\n",
       ".xr-attrs dd {\n",
       "  grid-column: 2;\n",
       "  white-space: pre-wrap;\n",
       "  word-break: break-all;\n",
       "}\n",
       "\n",
       ".xr-icon-database,\n",
       ".xr-icon-file-text2,\n",
       ".xr-no-icon {\n",
       "  display: inline-block;\n",
       "  vertical-align: middle;\n",
       "  width: 1em;\n",
       "  height: 1.5em !important;\n",
       "  stroke-width: 0;\n",
       "  stroke: currentColor;\n",
       "  fill: currentColor;\n",
       "}\n",
       "</style><pre class='xr-text-repr-fallback'>&lt;xarray.Dataset&gt;\n",
       "Dimensions:          (lead_day: 7)\n",
       "Coordinates:\n",
       "  * lead_day         (lead_day) int64 1 2 3 4 5 6 7\n",
       "Data variables:\n",
       "    mean             (lead_day) float64 0.2801 -0.2222 0.891 ... 0.4809 0.2153\n",
       "    dm_test_stat     (lead_day) float64 2.11 -1.432 8.356 ... 4.776 3.862 1.837\n",
       "    timeseries_len   (lead_day) int64 2184 2184 2184 2184 2184 2184 2184\n",
       "    confidence_gt_0  (lead_day) float64 0.9826 0.07611 1.0 1.0 1.0 0.9999 0.9669\n",
       "    ci_upper         (lead_day) float64 0.5403 0.08197 1.1 ... 0.725 0.445\n",
       "    ci_lower         (lead_day) float64 0.01992 -0.5263 ... 0.2369 -0.01444</pre><div class='xr-wrap' style='display:none'><div class='xr-header'><div class='xr-obj-type'>xarray.Dataset</div></div><ul class='xr-sections'><li class='xr-section-item'><input id='section-5b5bd5ca-e0e5-4625-9c24-96a2ba6aa157' class='xr-section-summary-in' type='checkbox' disabled ><label for='section-5b5bd5ca-e0e5-4625-9c24-96a2ba6aa157' class='xr-section-summary'  title='Expand/collapse section'>Dimensions:</label><div class='xr-section-inline-details'><ul class='xr-dim-list'><li><span class='xr-has-index'>lead_day</span>: 7</li></ul></div><div class='xr-section-details'></div></li><li class='xr-section-item'><input id='section-0683ffc8-709a-4a51-bcf0-d005a7bacb32' class='xr-section-summary-in' type='checkbox'  checked><label for='section-0683ffc8-709a-4a51-bcf0-d005a7bacb32' class='xr-section-summary' >Coordinates: <span>(1)</span></label><div class='xr-section-inline-details'></div><div class='xr-section-details'><ul class='xr-var-list'><li class='xr-var-item'><div class='xr-var-name'><span class='xr-has-index'>lead_day</span></div><div class='xr-var-dims'>(lead_day)</div><div class='xr-var-dtype'>int64</div><div class='xr-var-preview xr-preview'>1 2 3 4 5 6 7</div><input id='attrs-0376bdc2-cb64-49bd-960e-933f947b66d1' class='xr-var-attrs-in' type='checkbox' disabled><label for='attrs-0376bdc2-cb64-49bd-960e-933f947b66d1' title='Show/Hide attributes'><svg class='icon xr-icon-file-text2'><use xlink:href='#icon-file-text2'></use></svg></label><input id='data-93c7a3c6-df16-4117-8781-ac2b4082bd48' class='xr-var-data-in' type='checkbox'><label for='data-93c7a3c6-df16-4117-8781-ac2b4082bd48' title='Show/Hide data repr'><svg class='icon xr-icon-database'><use xlink:href='#icon-database'></use></svg></label><div class='xr-var-attrs'><dl class='xr-attrs'></dl></div><div class='xr-var-data'><pre>array([1, 2, 3, 4, 5, 6, 7])</pre></div></li></ul></div></li><li class='xr-section-item'><input id='section-9a28480d-1b51-4169-9fb1-bdc4568e9760' class='xr-section-summary-in' type='checkbox'  checked><label for='section-9a28480d-1b51-4169-9fb1-bdc4568e9760' class='xr-section-summary' >Data variables: <span>(6)</span></label><div class='xr-section-inline-details'></div><div class='xr-section-details'><ul class='xr-var-list'><li class='xr-var-item'><div class='xr-var-name'><span>mean</span></div><div class='xr-var-dims'>(lead_day)</div><div class='xr-var-dtype'>float64</div><div class='xr-var-preview xr-preview'>0.2801 -0.2222 ... 0.4809 0.2153</div><input id='attrs-c0b8faf1-39db-48bd-8804-7a857f26e74b' class='xr-var-attrs-in' type='checkbox' disabled><label for='attrs-c0b8faf1-39db-48bd-8804-7a857f26e74b' title='Show/Hide attributes'><svg class='icon xr-icon-file-text2'><use xlink:href='#icon-file-text2'></use></svg></label><input id='data-826e1632-4cd5-40ad-8c10-009bd2a84583' class='xr-var-data-in' type='checkbox'><label for='data-826e1632-4cd5-40ad-8c10-009bd2a84583' title='Show/Hide data repr'><svg class='icon xr-icon-database'><use xlink:href='#icon-database'></use></svg></label><div class='xr-var-attrs'><dl class='xr-attrs'></dl></div><div class='xr-var-data'><pre>array([ 0.28012936, -0.2221864 ,  0.8909659 ,  0.73029414,  0.4780404 ,\n",
       "        0.48094244,  0.21527856])</pre></div></li><li class='xr-var-item'><div class='xr-var-name'><span>dm_test_stat</span></div><div class='xr-var-dims'>(lead_day)</div><div class='xr-var-dtype'>float64</div><div class='xr-var-preview xr-preview'>2.11 -1.432 8.356 ... 3.862 1.837</div><input id='attrs-d0ccefe8-45aa-4c2a-8ff3-87cc9f92f6a2' class='xr-var-attrs-in' type='checkbox' disabled><label for='attrs-d0ccefe8-45aa-4c2a-8ff3-87cc9f92f6a2' title='Show/Hide attributes'><svg class='icon xr-icon-file-text2'><use xlink:href='#icon-file-text2'></use></svg></label><input id='data-b5f20f64-cd4c-4c67-ab2c-7d717f533961' class='xr-var-data-in' type='checkbox'><label for='data-b5f20f64-cd4c-4c67-ab2c-7d717f533961' title='Show/Hide data repr'><svg class='icon xr-icon-database'><use xlink:href='#icon-database'></use></svg></label><div class='xr-var-attrs'><dl class='xr-attrs'></dl></div><div class='xr-var-data'><pre>array([ 2.11002002, -1.43175645,  8.35626687,  6.50322029,  4.77616331,\n",
       "        3.8622006 ,  1.83675227])</pre></div></li><li class='xr-var-item'><div class='xr-var-name'><span>timeseries_len</span></div><div class='xr-var-dims'>(lead_day)</div><div class='xr-var-dtype'>int64</div><div class='xr-var-preview xr-preview'>2184 2184 2184 2184 2184 2184 2184</div><input id='attrs-0d7aeaf2-7051-4849-9599-6675b5f0c9d0' class='xr-var-attrs-in' type='checkbox' disabled><label for='attrs-0d7aeaf2-7051-4849-9599-6675b5f0c9d0' title='Show/Hide attributes'><svg class='icon xr-icon-file-text2'><use xlink:href='#icon-file-text2'></use></svg></label><input id='data-050444ac-412e-4dab-b862-0ebfb9240f51' class='xr-var-data-in' type='checkbox'><label for='data-050444ac-412e-4dab-b862-0ebfb9240f51' title='Show/Hide data repr'><svg class='icon xr-icon-database'><use xlink:href='#icon-database'></use></svg></label><div class='xr-var-attrs'><dl class='xr-attrs'></dl></div><div class='xr-var-data'><pre>array([2184, 2184, 2184, 2184, 2184, 2184, 2184])</pre></div></li><li class='xr-var-item'><div class='xr-var-name'><span>confidence_gt_0</span></div><div class='xr-var-dims'>(lead_day)</div><div class='xr-var-dtype'>float64</div><div class='xr-var-preview xr-preview'>0.9826 0.07611 ... 0.9999 0.9669</div><input id='attrs-835bfe14-2060-40ae-aa90-69e07c4292b7' class='xr-var-attrs-in' type='checkbox' disabled><label for='attrs-835bfe14-2060-40ae-aa90-69e07c4292b7' title='Show/Hide attributes'><svg class='icon xr-icon-file-text2'><use xlink:href='#icon-file-text2'></use></svg></label><input id='data-595e5ca0-9beb-4ff5-93a0-511afc9bd04c' class='xr-var-data-in' type='checkbox'><label for='data-595e5ca0-9beb-4ff5-93a0-511afc9bd04c' title='Show/Hide data repr'><svg class='icon xr-icon-database'><use xlink:href='#icon-database'></use></svg></label><div class='xr-var-attrs'><dl class='xr-attrs'></dl></div><div class='xr-var-data'><pre>array([0.98257168, 0.07610677, 1.        , 1.        , 0.99999911,\n",
       "       0.99994381, 0.96687676])</pre></div></li><li class='xr-var-item'><div class='xr-var-name'><span>ci_upper</span></div><div class='xr-var-dims'>(lead_day)</div><div class='xr-var-dtype'>float64</div><div class='xr-var-preview xr-preview'>0.5403 0.08197 1.1 ... 0.725 0.445</div><input id='attrs-8aa79a61-de50-4959-8f33-78eefe7dcfd6' class='xr-var-attrs-in' type='checkbox' disabled><label for='attrs-8aa79a61-de50-4959-8f33-78eefe7dcfd6' title='Show/Hide attributes'><svg class='icon xr-icon-file-text2'><use xlink:href='#icon-file-text2'></use></svg></label><input id='data-f2a7a52e-5dd6-4817-b211-a5b39860f40b' class='xr-var-data-in' type='checkbox'><label for='data-f2a7a52e-5dd6-4817-b211-a5b39860f40b' title='Show/Hide data repr'><svg class='icon xr-icon-database'><use xlink:href='#icon-database'></use></svg></label><div class='xr-var-attrs'><dl class='xr-attrs'></dl></div><div class='xr-var-data'><pre>array([0.54033707, 0.08196962, 1.09994212, 0.95039283, 0.67421082,\n",
       "       0.72500792, 0.44499828])</pre></div></li><li class='xr-var-item'><div class='xr-var-name'><span>ci_lower</span></div><div class='xr-var-dims'>(lead_day)</div><div class='xr-var-dtype'>float64</div><div class='xr-var-preview xr-preview'>0.01992 -0.5263 ... 0.2369 -0.01444</div><input id='attrs-5bee2562-bbee-476d-b48f-831f79061ba7' class='xr-var-attrs-in' type='checkbox' disabled><label for='attrs-5bee2562-bbee-476d-b48f-831f79061ba7' title='Show/Hide attributes'><svg class='icon xr-icon-file-text2'><use xlink:href='#icon-file-text2'></use></svg></label><input id='data-681dadb8-310a-4d28-b5e1-681f21b7f314' class='xr-var-data-in' type='checkbox'><label for='data-681dadb8-310a-4d28-b5e1-681f21b7f314' title='Show/Hide data repr'><svg class='icon xr-icon-database'><use xlink:href='#icon-database'></use></svg></label><div class='xr-var-attrs'><dl class='xr-attrs'></dl></div><div class='xr-var-data'><pre>array([ 0.01992166, -0.52634243,  0.68198968,  0.51019546,  0.28186998,\n",
       "        0.23687695, -0.01444116])</pre></div></li></ul></div></li><li class='xr-section-item'><input id='section-265cfd8f-117b-475a-b7aa-e6df48f889b1' class='xr-section-summary-in' type='checkbox'  ><label for='section-265cfd8f-117b-475a-b7aa-e6df48f889b1' class='xr-section-summary' >Indexes: <span>(1)</span></label><div class='xr-section-inline-details'></div><div class='xr-section-details'><ul class='xr-var-list'><li class='xr-var-item'><div class='xr-index-name'><div>lead_day</div></div><div class='xr-index-preview'>PandasIndex</div><div></div><input id='index-acaa5272-8ac3-40e9-b472-9c46e757e4e2' class='xr-index-data-in' type='checkbox'/><label for='index-acaa5272-8ac3-40e9-b472-9c46e757e4e2' title='Show/Hide index repr'><svg class='icon xr-icon-database'><use xlink:href='#icon-database'></use></svg></label><div class='xr-index-data'><pre>PandasIndex(Int64Index([1, 2, 3, 4, 5, 6, 7], dtype=&#x27;int64&#x27;, name=&#x27;lead_day&#x27;))</pre></div></li></ul></div></li><li class='xr-section-item'><input id='section-718dd2fd-b0a3-4e7c-8b83-77ab1beae8b0' class='xr-section-summary-in' type='checkbox' disabled ><label for='section-718dd2fd-b0a3-4e7c-8b83-77ab1beae8b0' class='xr-section-summary'  title='Expand/collapse section'>Attributes: <span>(0)</span></label><div class='xr-section-inline-details'></div><div class='xr-section-details'><dl class='xr-attrs'></dl></div></li></ul></div></div>"
      ],
      "text/plain": [
       "<xarray.Dataset>\n",
       "Dimensions:          (lead_day: 7)\n",
       "Coordinates:\n",
       "  * lead_day         (lead_day) int64 1 2 3 4 5 6 7\n",
       "Data variables:\n",
       "    mean             (lead_day) float64 0.2801 -0.2222 0.891 ... 0.4809 0.2153\n",
       "    dm_test_stat     (lead_day) float64 2.11 -1.432 8.356 ... 4.776 3.862 1.837\n",
       "    timeseries_len   (lead_day) int64 2184 2184 2184 2184 2184 2184 2184\n",
       "    confidence_gt_0  (lead_day) float64 0.9826 0.07611 1.0 1.0 1.0 0.9999 0.9669\n",
       "    ci_upper         (lead_day) float64 0.5403 0.08197 1.1 ... 0.725 0.445\n",
       "    ci_lower         (lead_day) float64 0.01992 -0.5263 ... 0.2369 -0.01444"
      ]
     },
     "execution_count": 23,
     "metadata": {},
     "output_type": "execute_result"
    }
   ],
   "source": [
    "# Difference between the existing AutoFcst and the Official\n",
    "diff_autofcst_official = autofcst_max_exp_mse - official_max_exp_mse\n",
    "diff_autofcst_official = diff_autofcst_official.assign_coords(\n",
    "    h=(\"lead_day\", [2, 3, 4, 5, 6, 7, 8])\n",
    ")\n",
    "dm_result = diebold_mariano(diff_autofcst_official, \"lead_day\", \"h\")\n",
    "dm_result"
   ]
  }
 ],
 "metadata": {
  "kernelspec": {
   "display_name": "scoresenv",
   "language": "python",
   "name": "python3"
  },
  "language_info": {
   "codemirror_mode": {
    "name": "ipython",
    "version": 3
   },
   "file_extension": ".py",
   "mimetype": "text/x-python",
   "name": "python",
   "nbconvert_exporter": "python",
   "pygments_lexer": "ipython3",
   "version": "3.11.4"
  },
  "orig_nbformat": 4
 },
 "nbformat": 4,
 "nbformat_minor": 2
}
